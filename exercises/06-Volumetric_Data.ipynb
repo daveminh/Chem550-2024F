{
  "cells": [
    {
      "cell_type": "markdown",
      "metadata": {
        "id": "cI7nGHSKkBOK"
      },
      "source": [
        "# Visualizing Electron Density, Electrostatic Potential, and Orbitals\n",
        "\n",
        "This exercise is based on Lab 5 of [Computational Chemistry for Chemistry Educators](http://www.computationalscience.org/ccce/about/labs/labs.php)."
      ]
    },
    {
      "cell_type": "markdown",
      "metadata": {
        "id": "gGuaQW5-RKND"
      },
      "source": [
        "# Part 0 - Setting up the appropriate software"
      ]
    },
    {
      "cell_type": "code",
      "execution_count": null,
      "metadata": {
        "cellView": "form",
        "id": "WNVelFW1aGkr"
      },
      "outputs": [],
      "source": [
        "#@title Install packages with pip\n",
        "#@markdown pyscf (Python-based Simulations of Chemistry Framework), for QM electronic structure calculation \\\\\n",
        "#@markdown jsme_notebook, to sketch structures \\\\\n",
        "#@markdown pyberny, for optimization \\\\\n",
        "#@markdown geometric, for optimization \\\\\n",
        "#@markdown condacolab, to install other packages \\\\\n",
        "#@markdown\n",
        "#@markdown Installing condacolab will restart the kernel and you can continue with the next cell.\n",
        "\n",
        "!pip install pyscf\n",
        "!pip install git+https://github.com/pyscf/semiempirical\n",
        "!pip install -U pyberny\n",
        "!pip install geometric\n",
        "!pip install jsme_notebook\n",
        "\n",
        "try:\n",
        "    import google.colab\n",
        "    !pip install condacolab\n",
        "    import condacolab\n",
        "    condacolab.install_mambaforge()\n",
        "except ModuleNotFoundError:\n",
        "    pass"
      ]
    },
    {
      "cell_type": "code",
      "execution_count": null,
      "metadata": {
        "cellView": "form",
        "id": "65Gne_t9aPu2"
      },
      "outputs": [],
      "source": [
        "#@title Install packages with conda\n",
        "#@markdown rdkit, to generate initial structures from SMILES strings \\\\\n",
        "#@markdown py3Dmol, for visualization of structures \\\\\n",
        "\n",
        "try:\n",
        "    import condacolab\n",
        "    condacolab.check()\n",
        "    !mamba install --yes -c conda-forge rdkit py3Dmol\n",
        "except ModuleNotFoundError:\n",
        "    on_colab = False\n",
        "else:\n",
        "    #check if installation was succesful\n",
        "    try:\n",
        "        import rdkit\n",
        "        on_colab = True\n",
        "        from IPython.display import clear_output\n",
        "        clear_output()  # clear the excessive installation outputs\n",
        "        print(\"Dependencies successfully installed!\")\n",
        "    except ModuleNotFoundError:\n",
        "        print(\"Error while installing dependencies!\")"
      ]
    },
    {
      "cell_type": "markdown",
      "source": [
        "# SMILES string tool"
      ],
      "metadata": {
        "id": "Qhn7f0Y33YjG"
      }
    },
    {
      "cell_type": "code",
      "source": [
        "#@title You may use this widget to draw a molecule to get the SMILES string\n",
        "from jsme_notebook import JSMENotebook\n",
        "smiles = 'CCO'\n",
        "jsme = JSMENotebook(smiles)"
      ],
      "metadata": {
        "id": "g_14A2DRMoMK"
      },
      "execution_count": null,
      "outputs": []
    },
    {
      "cell_type": "code",
      "source": [
        "#@title Run cell to generate SMILES code from cell above\n",
        "jsme.smiles"
      ],
      "metadata": {
        "id": "i4EP3exWOTc3"
      },
      "execution_count": null,
      "outputs": []
    },
    {
      "cell_type": "markdown",
      "metadata": {
        "id": "kJ_NBQ6jKooY"
      },
      "source": [
        "# Part 1 - Visualizing different bond types\n",
        "\n",
        "Compare the electrostatic potential of H_2 (SMILES `[HH]`), HF (SMILES `F`), and Li-H (SMILES `[Li][H]`)"
      ]
    },
    {
      "cell_type": "code",
      "execution_count": null,
      "metadata": {
        "id": "C4bbmYg9gEsL",
        "cellView": "form"
      },
      "outputs": [],
      "source": [
        "#@title Isosurface of electron density colored by electrostatic potential\n",
        "#@markdown red is negative and blue is positive\n",
        "smiles = '[Li][OH]' #@param\n",
        "\n",
        "from rdkit import Chem\n",
        "from rdkit.Chem import AllChem\n",
        "\n",
        "rdkit_mol = Chem.AddHs(Chem.MolFromSmiles(smiles))\n",
        "AllChem.EmbedMolecule(rdkit_mol)\n",
        "\n",
        "from pyscf import gto, scf\n",
        "from pyscf.geomopt.berny_solver import optimize\n",
        "\n",
        "# Optimize the geometry\n",
        "gto_mol = gto.Mole() # Gaussian-type orbitals\n",
        "gto_mol.atom = Chem.MolToXYZBlock(rdkit_mol)[3:] # First two lines are number of atoms\n",
        "gto_mol.verbose = False\n",
        "gto_mol.basis = '631g' # Use a small basis set for faster convergence\n",
        "gto_mol.build()\n",
        "mf = scf.RHF(gto_mol).run()\n",
        "gto_mol_min = optimize(mf)\n",
        "mf_min = scf.RHF(gto_mol_min).run()\n",
        "\n",
        "# Write volumetric data\n",
        "from pyscf.tools import cubegen\n",
        "resolution = 0.25\n",
        "cubegen.density(gto_mol_min, 'density.cube', \\\n",
        "  mf_min.make_rdm1(), resolution=resolution); # density\n",
        "cubegen.mep(gto_mol_min, 'mep.cube', \\\n",
        "  mf_min.make_rdm1(), resolution=resolution); # molecular electrostatic potential\n",
        "cubegen.orbital(gto_mol_min, 'orbital_1.cube', \\\n",
        "  mf_min.mo_coeff[:,0], resolution=resolution); # 1st MO\n",
        "\n",
        "# Read volumetric data\n",
        "vol = {}\n",
        "for data_type in ['density','mep','orbital_1']:\n",
        "  vol[data_type] = open(data_type + \".cube\", \"r\").read()\n",
        "\n",
        "# Show isosurface of the electron density, colored by electrostatic potential\n",
        "v = py3Dmol.view()\n",
        "v.addVolumetricData(vol['density'], \"cube\", {'isoval': 0.01, 'opacity':.9,\n",
        "            'voldata': vol['mep'], 'volformat': 'cube',\n",
        "            'volscheme': {'gradient':'rwb', 'min':-.1, 'max':.1}});\n",
        "v.addModel(gto_mol_min.tostring('xyz'), 'xyz')\n",
        "v.setStyle({'stick':{}})\n",
        "v.zoomTo()\n",
        "v.show()"
      ]
    },
    {
      "cell_type": "markdown",
      "source": [
        "--> For each molecule, describe the shape of the isosurface and the colors of the electrostatic potential. Explain these properties in terms of the types of bonds between them and the electronegativity of the atoms."
      ],
      "metadata": {
        "id": "ZD4brdspxeHV"
      }
    },
    {
      "cell_type": "markdown",
      "metadata": {
        "id": "YMsGRE87zS62"
      },
      "source": [
        "# Part 2 - Charge Distribution in Aromatic Compounds\n",
        "\n",
        "Compare the charge distribution of benzene and pyridine."
      ]
    },
    {
      "cell_type": "code",
      "execution_count": null,
      "metadata": {
        "cellView": "form",
        "id": "3wKAF3vIzS62"
      },
      "outputs": [],
      "source": [
        "#@title Isosurface of electron density colored by electrostatic potential\n",
        "#@markdown red is negative and blue is positive\n",
        "smiles = 'c1ccncc1' #@param\n",
        "\n",
        "from rdkit import Chem\n",
        "from rdkit.Chem import AllChem\n",
        "\n",
        "rdkit_mol = Chem.AddHs(Chem.MolFromSmiles(smiles))\n",
        "AllChem.EmbedMolecule(rdkit_mol)\n",
        "\n",
        "from pyscf import gto, scf\n",
        "from pyscf.geomopt.berny_solver import optimize\n",
        "\n",
        "# Optimize the geometry\n",
        "gto_mol = gto.Mole() # Gaussian-type orbitals\n",
        "gto_mol.atom = Chem.MolToXYZBlock(rdkit_mol)[3:] # First two lines are number of atoms\n",
        "gto_mol.verbose = False\n",
        "gto_mol.basis = '321g' # Use a small basis set for faster convergence\n",
        "gto_mol.build()\n",
        "mf = scf.RHF(gto_mol).run()\n",
        "gto_mol_min = optimize(mf)\n",
        "mf_min = scf.RHF(gto_mol_min).run()\n",
        "\n",
        "# Write volumetric data\n",
        "from pyscf.tools import cubegen\n",
        "resolution = 0.25\n",
        "cubegen.density(gto_mol_min, 'density.cube', \\\n",
        "  mf_min.make_rdm1(), resolution=resolution); # density\n",
        "cubegen.mep(gto_mol_min, 'mep.cube', \\\n",
        "  mf_min.make_rdm1(), resolution=resolution); # molecular electrostatic potential\n",
        "cubegen.orbital(gto_mol_min, 'orbital_1.cube', \\\n",
        "  mf_min.mo_coeff[:,0], resolution=resolution); # 1st MO\n",
        "\n",
        "# Read volumetric data\n",
        "vol = {}\n",
        "for data_type in ['density','mep','orbital_1']:\n",
        "  vol[data_type] = open(data_type + \".cube\", \"r\").read()\n",
        "\n",
        "# Show isosurface of the electron density, colored by electrostatic potential\n",
        "v = py3Dmol.view()\n",
        "v.addVolumetricData(vol['density'], \"cube\", {'isoval': 0.01, 'opacity':.9,\n",
        "            'voldata': vol['mep'], 'volformat': 'cube',\n",
        "            'volscheme': {'gradient':'rwb', 'min':-.1, 'max':.1}});\n",
        "v.addModel(gto_mol_min.tostring('xyz'), 'xyz')\n",
        "v.setStyle({'stick':{}})\n",
        "v.zoomTo()\n",
        "v.show()"
      ]
    },
    {
      "cell_type": "markdown",
      "source": [
        "--> Describe the differences between the benzene and pyridine charge distribution. What causes this difference?"
      ],
      "metadata": {
        "id": "XIEy1RA7zS62"
      }
    },
    {
      "cell_type": "markdown",
      "source": [
        "--> Build models of benzene derivatives with (a) an electron-donating group or (b) an electron-withdrawing group. Take partial screenshots of density isosurfaces colored by electrostatic potential and paste them in the cell below. Describe how the functional groups affect the electron density and electrostatic potential of the aromatic ring."
      ],
      "metadata": {
        "id": "U0r14AZ10lb6"
      }
    },
    {
      "cell_type": "markdown",
      "source": [
        "# Part 3 - The Diels-Alder Reaction"
      ],
      "metadata": {
        "id": "0TsQOUk12AVD"
      }
    },
    {
      "cell_type": "markdown",
      "source": [
        "α,β-unsaturated carbonyl compounds undergo an exceedingly useful reaction with\n",
        "conjugated dienes known as the Diels-Alder reaction. In the cycloaddition reaction below, C-2 and C-5 of the conjugated diene become attached to the doubly-bonded carbons of the unsaturated carbonyl compound to form a six-membered ring. The reaction involves systems with 4π electrons (diene) and 2π electrons (dienophile), and is therefore a [4+2] cycloaddition.\n",
        "\n",
        "The frontier molecular orbital approach is a good way to understand this reaction. We will look at a simple Diels-Alder reaction involving 2,4-hexadiene and dimethyl maleate:\n",
        "\n",
        "![image.png](data:image/png;base64,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)"
      ],
      "metadata": {
        "id": "ChuKKGr52L2h"
      }
    },
    {
      "cell_type": "markdown",
      "source": [
        "--> What are the SMILES strings for 2,4-hexadiene and dimethyl maleate?"
      ],
      "metadata": {
        "id": "fgCwNv8_3vVB"
      }
    },
    {
      "cell_type": "markdown",
      "source": [
        "### HOMO and LUMO of 2,4-hexadiene"
      ],
      "metadata": {
        "id": "1Y6VCfhtDM1X"
      }
    },
    {
      "cell_type": "markdown",
      "source": [
        "--> Build an initial model of 2,4-hexadiene using the tool below."
      ],
      "metadata": {
        "id": "D-Q0ZmZN5UjK"
      }
    },
    {
      "cell_type": "code",
      "source": [
        "#@title Structure generation and visualization\n",
        "#@markdown rdkit is used to generate the structure and add hydrogen atoms \\\\\n",
        "#@markdown py3dmol is used to visualize the structure\n",
        "smiles = 'C' #@param\n",
        "\n",
        "from rdkit import Chem\n",
        "from rdkit.Chem import AllChem\n",
        "\n",
        "rdkit_mol = Chem.AddHs(Chem.MolFromSmiles(smiles))\n",
        "AllChem.EmbedMolecule(rdkit_mol)\n",
        "\n",
        "import py3Dmol\n",
        "view = py3Dmol.view()\n",
        "view.addModel(Chem.MolToMolBlock(rdkit_mol),'mol')\n",
        "view.setStyle({'model':0}, {'stick': {}})\n",
        "view.zoomTo()\n",
        "view.show()\n",
        "\n",
        "print(Chem.MolToXYZBlock(rdkit_mol))"
      ],
      "metadata": {
        "cellView": "form",
        "id": "OYq39EDs2CBR"
      },
      "execution_count": null,
      "outputs": []
    },
    {
      "cell_type": "code",
      "source": [
        "# Show a 2D representation of the molecule with indices labeled (starting 0)\n",
        "dopts = Chem.Draw.rdMolDraw2D.MolDrawOptions()\n",
        "dopts.addAtomIndices = True\n",
        "display(Chem.Draw.MolsToGridImage([rdkit_mol], subImgSize=(600,600), drawOptions=dopts))"
      ],
      "metadata": {
        "id": "E8BMNKLl4pH_"
      },
      "execution_count": null,
      "outputs": []
    },
    {
      "cell_type": "markdown",
      "source": [
        "You should end up with the molecule in the *transoid* form.\n",
        "\n",
        "--> Which dihedral atom (four atom indices) do you need to change to turn the molecule into the cisoid form shown above?"
      ],
      "metadata": {
        "id": "LZn6Kfo65FlG"
      }
    },
    {
      "cell_type": "markdown",
      "source": [
        "In the last notebook we set a bond angle using\n",
        "`Chem.rdMolTransforms.SetAngleDeg(rdkit_mol.GetConformer(), 1, 0, 2, angle)` Look up the `Chem.rdMolTransforms` module for a function that sets the dihedral angle.\n",
        "\n",
        "--> Modify the cell below to set the dihedral angle to 0 degrees."
      ],
      "metadata": {
        "id": "aMCbgPeg7jEv"
      }
    },
    {
      "cell_type": "code",
      "source": [
        "Chem.rdMolTransforms.SetDihedralDeg(rdkit_mol.GetConformer(), 1, 1, 1, 1, 0)\n",
        "\n",
        "import py3Dmol\n",
        "view = py3Dmol.view()\n",
        "view.addModel(Chem.MolToMolBlock(rdkit_mol),'mol')\n",
        "view.setStyle({'model':0}, {'stick': {}})\n",
        "view.zoomTo()\n",
        "view.show()\n",
        "\n",
        "print(Chem.MolToXYZBlock(rdkit_mol))"
      ],
      "metadata": {
        "id": "wDzuNb5f497D"
      },
      "execution_count": null,
      "outputs": []
    },
    {
      "cell_type": "code",
      "source": [
        "# Build the molecule\n",
        "gto_mol = gto.Mole() # Gaussian-type orbitals\n",
        "gto_mol.atom = Chem.MolToXYZBlock(rdkit_mol)[3:] # First two lines are number of atoms\n",
        "gto_mol.verbose = False\n",
        "gto_mol.basis = 'sto-3g' # Use a small basis set for faster convergence\n",
        "gto_mol.build()\n",
        "mf = scf.RHF(gto_mol).run()\n",
        "\n",
        "# Constrained optimization of the geometry\n",
        "params = {\"constraints\": \"constraints.txt\",}\n",
        "with open('constraints.txt','w') as F:\n",
        "  F.write(f\"$set\\ndihedral 2 3 4 5 0\\n\")\n",
        "gto_mol_min = mf.Gradients().optimizer(solver='geomeTRIC').kernel(params)\n",
        "mf_min = scf.RHF(gto_mol_min).run()"
      ],
      "metadata": {
        "id": "1AisCQqu8Rpi"
      },
      "execution_count": null,
      "outputs": []
    },
    {
      "cell_type": "code",
      "source": [
        "# Visualize energies of the molecular orbitals\n",
        "import matplotlib.pyplot as plt\n",
        "plt.plot(mf_min.mo_energy,'.-')\n",
        "plt.plot([0, mf_min.mo_coeff.shape[0]], [0, 0], 'k')\n",
        "plt.xlabel('Molecular orbital index')\n",
        "plt.ylabel('Energy');"
      ],
      "metadata": {
        "id": "aylC3rlx9UUy"
      },
      "execution_count": null,
      "outputs": []
    },
    {
      "cell_type": "markdown",
      "source": [
        "--> How many electrons are in the system? Which molecular orbital index is the HOMO? Which molecular orbital index is the LUMO? Modify the code below. Remember that for python lists, indicies start at 0."
      ],
      "metadata": {
        "id": "k7ju8xIv9JRw"
      }
    },
    {
      "cell_type": "code",
      "source": [
        "mo_index = {}\n",
        "mo_index['HOMO'] = 0\n",
        "mo_index['LUMO'] = 1\n",
        "print(f\"The energy of the HOMO is {mf_min.mo_energy[mo_index['HOMO']]}\" + \\\n",
        "      f\" and LUMO is {mf_min.mo_energy[mo_index['LUMO']]} Hartrees\")"
      ],
      "metadata": {
        "id": "zpQLmrYBDbDy"
      },
      "execution_count": null,
      "outputs": []
    },
    {
      "cell_type": "code",
      "source": [
        "# Write volumetric data\n",
        "from pyscf.tools import cubegen\n",
        "resolution = 0.25\n",
        "cubegen.orbital(gto_mol_min, 'HOMO.cube', \\\n",
        "  mf_min.mo_coeff[:,mo_index['HOMO']], resolution=resolution); # HOMO\n",
        "cubegen.orbital(gto_mol_min, 'LUMO.cube', \\\n",
        "  mf_min.mo_coeff[:,mo_index['LUMO']], resolution=resolution); # LUMO\n",
        "\n",
        "# Read volumetric data\n",
        "vol = {}\n",
        "for data_type in ['HOMO','LUMO']:\n",
        "  vol[data_type] = open(data_type + \".cube\", \"r\").read()"
      ],
      "metadata": {
        "id": "utJiwjcA66cC"
      },
      "execution_count": null,
      "outputs": []
    },
    {
      "cell_type": "code",
      "source": [
        "# Show isosurfaces of the electron density, colored by electrostatic potential\n",
        "v = py3Dmol.view(viewergrid=(1,2), linked=True)\n",
        "v.addVolumetricData(vol['HOMO'], \"cube\", {'isoval': -0.03, 'color': \"red\", 'opacity': 0.75}, viewer=(0,0))\n",
        "v.addVolumetricData(vol['HOMO'], \"cube\", {'isoval': 0.03, 'color': \"blue\", 'opacity': 0.75}, viewer=(0,0))\n",
        "v.addModel(gto_mol_min.tostring('xyz'), 'xyz', viewer=(0,0))\n",
        "v.setStyle({'stick':{}}, viewer=(0,0))\n",
        "v.addVolumetricData(vol['LUMO'], \"cube\", {'isoval': -0.03, 'color': \"red\", 'opacity': 0.75}, viewer=(0,1))\n",
        "v.addVolumetricData(vol['LUMO'], \"cube\", {'isoval': 0.03, 'color': \"blue\", 'opacity': 0.75}, viewer=(0,1))\n",
        "v.addModel(gto_mol_min.tostring('xyz'), 'xyz', viewer=(0,1))\n",
        "v.setStyle({'stick':{}}, viewer=(0,1))\n",
        "v.zoomTo()\n",
        "v.show()"
      ],
      "metadata": {
        "id": "u4KZyWNt67Qm"
      },
      "execution_count": null,
      "outputs": []
    },
    {
      "cell_type": "markdown",
      "source": [
        "### HOMO and LUMO of dimethyl maleate"
      ],
      "metadata": {
        "id": "jkDuPEefGEMf"
      }
    },
    {
      "cell_type": "markdown",
      "source": [
        "--> Build an initial model of dimethyl maleate using the tool below."
      ],
      "metadata": {
        "id": "IRBzdw8hGEMg"
      }
    },
    {
      "cell_type": "code",
      "source": [
        "#@title Structure generation and visualization\n",
        "#@markdown rdkit is used to generate the structure and add hydrogen atoms \\\\\n",
        "#@markdown py3dmol is used to visualize the structure\n",
        "smiles = 'C' #@param\n",
        "\n",
        "from rdkit import Chem\n",
        "from rdkit.Chem import AllChem\n",
        "\n",
        "rdkit_mol = Chem.AddHs(Chem.MolFromSmiles(smiles))\n",
        "AllChem.EmbedMolecule(rdkit_mol)\n",
        "\n",
        "import py3Dmol\n",
        "view = py3Dmol.view()\n",
        "view.addModel(Chem.MolToMolBlock(rdkit_mol),'mol')\n",
        "view.setStyle({'model':0}, {'stick': {}})\n",
        "view.zoomTo()\n",
        "view.show()\n",
        "\n",
        "print(Chem.MolToXYZBlock(rdkit_mol))"
      ],
      "metadata": {
        "cellView": "form",
        "id": "fAPhHkb8GEMg"
      },
      "execution_count": null,
      "outputs": []
    },
    {
      "cell_type": "code",
      "source": [
        "# Show a 2D representation of the molecule with indices labeled (starting 0)\n",
        "dopts = Chem.Draw.rdMolDraw2D.MolDrawOptions()\n",
        "dopts.addAtomIndices = True\n",
        "display(Chem.Draw.MolsToGridImage([rdkit_mol], subImgSize=(600,600), drawOptions=dopts))"
      ],
      "metadata": {
        "id": "TaBNVZedGEMg"
      },
      "execution_count": null,
      "outputs": []
    },
    {
      "cell_type": "markdown",
      "source": [
        "--> As before, rotate around the appropriate single bonds to achieve the structure shown below:\n",
        "\n",
        "![image.png](data:image/png;base64,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)"
      ],
      "metadata": {
        "id": "v9uSPdgYGEMg"
      }
    },
    {
      "cell_type": "code",
      "source": [
        "Chem.rdMolTransforms.SetDihedralDeg(rdkit_mol.GetConformer(), 0, 0, 0, 0, 180)\n",
        "\n",
        "import py3Dmol\n",
        "view = py3Dmol.view()\n",
        "view.addModel(Chem.MolToMolBlock(rdkit_mol),'mol')\n",
        "view.setStyle({'model':0}, {'stick': {}})\n",
        "view.zoomTo()\n",
        "view.show()\n",
        "\n",
        "print(Chem.MolToXYZBlock(rdkit_mol))"
      ],
      "metadata": {
        "id": "m8fjCPI4GEMg"
      },
      "execution_count": null,
      "outputs": []
    },
    {
      "cell_type": "code",
      "source": [
        "# Build the molecule\n",
        "gto_mol = gto.Mole() # Gaussian-type orbitals\n",
        "gto_mol.atom = Chem.MolToXYZBlock(rdkit_mol)[3:] # First two lines are number of atoms\n",
        "gto_mol.verbose = False\n",
        "gto_mol.basis = 'sto-3g' # Use a small basis set for faster convergence\n",
        "gto_mol.build()\n",
        "mf = scf.RHF(gto_mol).run()\n",
        "\n",
        "# Constrained optimization of the geometry\n",
        "params = {\"constraints\": \"constraints.txt\",}\n",
        "with open('constraints.txt','w') as F:\n",
        "  F.write(f\"$set\\ndihedral 0 0 0 0 180\\n\")\n",
        "gto_mol_min = mf.Gradients().optimizer(solver='geomeTRIC').kernel(params)\n",
        "mf_min = scf.RHF(gto_mol_min).run()"
      ],
      "metadata": {
        "id": "y-PDjCCvGEMh"
      },
      "execution_count": null,
      "outputs": []
    },
    {
      "cell_type": "code",
      "source": [
        "# Visualize energies of the molecular orbitals\n",
        "import matplotlib.pyplot as plt\n",
        "plt.plot(mf.mo_energy,'.-')\n",
        "plt.plot([0, mf.mo_coeff.shape[0]], [0, 0], 'k')\n",
        "plt.xlabel('Molecular orbital index')\n",
        "plt.ylabel('Energy');"
      ],
      "metadata": {
        "id": "aiprAv1EGEMh"
      },
      "execution_count": null,
      "outputs": []
    },
    {
      "cell_type": "code",
      "source": [
        "gto_mol.nelectron"
      ],
      "metadata": {
        "id": "F95OIOjwLwWK"
      },
      "execution_count": null,
      "outputs": []
    },
    {
      "cell_type": "markdown",
      "source": [
        "--> How many electrons are in the system? Which molecular orbital index is the HOMO? Which molecular orbital index is the LUMO? Modify the code below. Remember that for python lists, indicies start at 0."
      ],
      "metadata": {
        "id": "HIeRGEE3GEMh"
      }
    },
    {
      "cell_type": "code",
      "source": [
        "mo_index = {}\n",
        "mo_index['HOMO'] = 0\n",
        "mo_index['LUMO'] = 0\n",
        "print(f\"The energy of the HOMO is {mf_min.mo_energy[mo_index['HOMO']]}\" + \\\n",
        "      f\" and LUMO is {mf_min.mo_energy[mo_index['LUMO']]} Hartrees\")"
      ],
      "metadata": {
        "id": "_Sy8CygTGEMh"
      },
      "execution_count": null,
      "outputs": []
    },
    {
      "cell_type": "code",
      "source": [
        "# Write volumetric data\n",
        "from pyscf.tools import cubegen\n",
        "resolution = 0.25\n",
        "cubegen.orbital(gto_mol_min, 'HOMO.cube', \\\n",
        "  mf_min.mo_coeff[:,mo_index['HOMO']], resolution=resolution); # HOMO\n",
        "cubegen.orbital(gto_mol_min, 'LUMO.cube', \\\n",
        "  mf_min.mo_coeff[:,mo_index['LUMO']], resolution=resolution); # LUMO\n",
        "\n",
        "# Read volumetric data\n",
        "vol = {}\n",
        "for data_type in ['HOMO','LUMO']:\n",
        "  vol[data_type] = open(data_type + \".cube\", \"r\").read()"
      ],
      "metadata": {
        "id": "3v-3u4ezGEMh"
      },
      "execution_count": null,
      "outputs": []
    },
    {
      "cell_type": "code",
      "source": [
        "# Show isosurfaces of the electron density, colored by electrostatic potential\n",
        "v = py3Dmol.view(viewergrid=(1,2), linked=True)\n",
        "v.addVolumetricData(vol['HOMO'], \"cube\", {'isoval': -0.03, 'color': \"red\", 'opacity': 0.75}, viewer=(0,0))\n",
        "v.addVolumetricData(vol['HOMO'], \"cube\", {'isoval': 0.03, 'color': \"blue\", 'opacity': 0.75}, viewer=(0,0))\n",
        "v.addModel(gto_mol_min.tostring('xyz'), 'xyz', viewer=(0,0))\n",
        "v.setStyle({'stick':{}}, viewer=(0,0))\n",
        "v.addVolumetricData(vol['LUMO'], \"cube\", {'isoval': -0.03, 'color': \"red\", 'opacity': 0.75}, viewer=(0,1))\n",
        "v.addVolumetricData(vol['LUMO'], \"cube\", {'isoval': 0.03, 'color': \"blue\", 'opacity': 0.75}, viewer=(0,1))\n",
        "v.addModel(gto_mol_min.tostring('xyz'), 'xyz', viewer=(0,1))\n",
        "v.setStyle({'stick':{}}, viewer=(0,1))\n",
        "v.zoomTo()\n",
        "v.show()"
      ],
      "metadata": {
        "id": "G_9FpTE4GEMh"
      },
      "execution_count": null,
      "outputs": []
    },
    {
      "cell_type": "markdown",
      "source": [
        "## Reaction"
      ],
      "metadata": {
        "id": "67oNprsCIdCn"
      }
    },
    {
      "cell_type": "markdown",
      "source": [
        "--> The HOMO on one molecule nearest in energy to the LUMO of the other molecule are the orbitals that will be involved in the reaction. What two orbitals will interact on these molecules?"
      ],
      "metadata": {
        "id": "Pe79m92MIaMm"
      }
    },
    {
      "cell_type": "code",
      "source": [],
      "metadata": {
        "id": "OruytdgeIcKJ"
      },
      "execution_count": null,
      "outputs": []
    }
  ],
  "metadata": {
    "colab": {
      "toc_visible": true,
      "provenance": []
    },
    "kernelspec": {
      "display_name": "Python 3",
      "name": "python3"
    },
    "language_info": {
      "name": "python"
    }
  },
  "nbformat": 4,
  "nbformat_minor": 0
}