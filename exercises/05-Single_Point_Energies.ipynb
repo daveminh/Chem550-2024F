{
  "cells": [
    {
      "cell_type": "markdown",
      "metadata": {
        "id": "cI7nGHSKkBOK"
      },
      "source": [
        "# Single Point Energies and Geometry Optimizations\n",
        "\n",
        "In this exercise we will perform constrained optimizations of ethenol, water, and cyclohexane. This exercise is based on Lab 4 of [Computational Chemistry for Chemistry Educators](http://www.computationalscience.org/ccce/about/labs/labs.php)."
      ]
    },
    {
      "cell_type": "markdown",
      "metadata": {
        "id": "gGuaQW5-RKND"
      },
      "source": [
        "# Part 0 - Setting up the appropriate software"
      ]
    },
    {
      "cell_type": "code",
      "execution_count": null,
      "metadata": {
        "cellView": "form",
        "id": "WNVelFW1aGkr"
      },
      "outputs": [],
      "source": [
        "#@title Install packages with pip\n",
        "#@markdown pyscf (Python-based Simulations of Chemistry Framework), for QM electronic structure calculation \\\\\n",
        "#@markdown jsme_notebook, to sketch structures \\\\\n",
        "#@markdown pyberny, for optimization \\\\\n",
        "#@markdown geometric, for optimization \\\\\n",
        "#@markdown condacolab, to install other packages \\\\\n",
        "#@markdown\n",
        "#@markdown Installing condacolab will restart the kernel and you can continue with the next cell.\n",
        "\n",
        "!pip install pyscf\n",
        "!pip install git+https://github.com/pyscf/semiempirical\n",
        "!pip install -U pyberny\n",
        "!pip install geometric\n",
        "!pip install jsme_notebook\n",
        "\n",
        "try:\n",
        "    import google.colab\n",
        "    !pip install condacolab\n",
        "    import condacolab\n",
        "    condacolab.install_mambaforge()\n",
        "except ModuleNotFoundError:\n",
        "    pass"
      ]
    },
    {
      "cell_type": "code",
      "execution_count": null,
      "metadata": {
        "cellView": "form",
        "id": "65Gne_t9aPu2"
      },
      "outputs": [],
      "source": [
        "#@title Install packages with conda\n",
        "#@markdown rdkit, to generate initial structures from SMILES strings \\\\\n",
        "#@markdown py3Dmol, for visualization of structures \\\\\n",
        "\n",
        "try:\n",
        "    import condacolab\n",
        "    condacolab.check()\n",
        "    !mamba install --yes -c conda-forge rdkit py3Dmol\n",
        "except ModuleNotFoundError:\n",
        "    on_colab = False\n",
        "else:\n",
        "    #check if installation was succesful\n",
        "    try:\n",
        "        import rdkit\n",
        "        on_colab = True\n",
        "        from IPython.display import clear_output\n",
        "        clear_output()  # clear the excessive installation outputs\n",
        "        print(\"Dependencies successfully installed!\")\n",
        "    except ModuleNotFoundError:\n",
        "        print(\"Error while installing dependencies!\")"
      ]
    },
    {
      "cell_type": "markdown",
      "metadata": {
        "id": "kJ_NBQ6jKooY"
      },
      "source": [
        "# Part 1 - Determining the optimum structure for ethenol (vinyl alcohol)\n",
        "\n",
        "We will perform an optimization of ethenol with a constraint on the C=C-O-H dihedral. This is pretty similar to Part 3 of Exercise 3, so I'll take off the training wheels just a little bit."
      ]
    },
    {
      "cell_type": "markdown",
      "metadata": {
        "id": "6fsj-s9i-Pkk"
      },
      "source": [
        "![Vinyl-alcohol_Conformer3D_small.png](data:image/png;base64,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)"
      ]
    },
    {
      "cell_type": "markdown",
      "metadata": {
        "id": "CBol7niQncC8"
      },
      "source": [
        "## Obtaining a SMILES string"
      ]
    },
    {
      "cell_type": "code",
      "execution_count": null,
      "metadata": {
        "cellView": "form",
        "id": "g_14A2DRMoMK"
      },
      "outputs": [],
      "source": [
        "#@title You may use this widget to draw a molecule to get the SMILES string\n",
        "from jsme_notebook import JSMENotebook\n",
        "smiles = 'CCO'\n",
        "jsme = JSMENotebook(smiles)"
      ]
    },
    {
      "cell_type": "code",
      "execution_count": null,
      "metadata": {
        "cellView": "form",
        "id": "i4EP3exWOTc3"
      },
      "outputs": [],
      "source": [
        "#@title Run cell to generate SMILES code from cell above\n",
        "jsme.smiles"
      ]
    },
    {
      "cell_type": "markdown",
      "metadata": {
        "id": "MYa5NuLYOnas"
      },
      "source": [
        "Besides this widget there are several web servers that allow you to sketch a molecule to obtain a SMILES code, including at [the RCSB](https://www.rcsb.org/chemical-sketch) and [molview](https://molview.org/)."
      ]
    },
    {
      "cell_type": "markdown",
      "metadata": {
        "id": "Ok9l96Kcn8rr"
      },
      "source": [
        "## Building an initial model\n",
        "\n",
        "--> Enter the SMILES string of ethenol and run the cell below."
      ]
    },
    {
      "cell_type": "code",
      "execution_count": null,
      "metadata": {
        "cellView": "form",
        "id": "U9vxbt1ZPga2"
      },
      "outputs": [],
      "source": [
        "#@title Structure generation and visualization\n",
        "#@markdown rdkit is used to generate the structure and add hydrogen atoms \\\\\n",
        "#@markdown py3dmol is used to visualize the structure\n",
        "smiles = 'CCO' #@param\n",
        "\n",
        "from rdkit import Chem\n",
        "from rdkit.Chem import AllChem\n",
        "\n",
        "rdkit_mol = Chem.AddHs(Chem.MolFromSmiles(smiles))\n",
        "AllChem.EmbedMolecule(rdkit_mol)\n",
        "\n",
        "import py3Dmol\n",
        "view = py3Dmol.view()\n",
        "view.addModel(Chem.MolToMolBlock(rdkit_mol),'mol')\n",
        "view.setStyle({'model':0}, {'stick': {}})\n",
        "view.zoomTo()\n",
        "view.show()\n",
        "\n",
        "print(Chem.MolToXYZBlock(rdkit_mol))"
      ]
    },
    {
      "cell_type": "code",
      "execution_count": null,
      "metadata": {
        "id": "45t6-v0dDIJU"
      },
      "outputs": [],
      "source": [
        "# Show a 2D representation of the molecule with indices labeled (starting 0)\n",
        "dopts = Chem.Draw.rdMolDraw2D.MolDrawOptions()\n",
        "dopts.addAtomIndices = True\n",
        "display(Chem.Draw.MolsToGridImage([rdkit_mol], subImgSize=(600,600), drawOptions=dopts))"
      ]
    },
    {
      "cell_type": "markdown",
      "metadata": {
        "id": "LKUakrOzYVwx"
      },
      "source": [
        "## Dihedral angle scan\n",
        "\n",
        "Now we will compute the potential energy as a function of the dihedral angle. This is performed with a constrained minimization; the dihedral is set at a specific value at the rest of the system is allowed to relax to minimize the energy.\n",
        "\n",
        "--> Enter in the correct indices for the dihedral angle and perform a dihedral scan at 15 degree intervals. Remember that rdkit (used to draw the 2D structure above) starts atom indices at 0 and geomeTRIC (used for optimization) starts atom indices at 1. You may want to confirm that you have selected the correct angles with `dihedral_angles = [0, 120, 240]` before you spend more time on `dihedral_angles = np.linspace(0,360,25)[:-1]`."
      ]
    },
    {
      "cell_type": "code",
      "execution_count": null,
      "metadata": {
        "id": "zFK7QkntYMNP"
      },
      "outputs": [],
      "source": [
        "from pyscf import gto, scf\n",
        "from pyscf.geomopt.berny_solver import optimize\n",
        "\n",
        "# Define molecule and basis set\n",
        "gto_mol = gto.Mole() # Gaussian-type orbitals\n",
        "gto_mol.atom = Chem.MolToXYZBlock(rdkit_mol)[3:] # First two lines are number of atoms\n",
        "gto_mol.verbose = False\n",
        "gto_mol.basis = '321g' # Use a small basis set for faster convergence\n",
        "gto_mol.build()\n",
        "hf = scf.RHF(gto_mol).run()\n",
        "\n",
        "params = {\"constraints\": \"constraints.txt\",}\n",
        "\n",
        "import numpy as np\n",
        "dihedral_angles = [0, 120, 240]\n",
        "# dihedral_angles = np.linspace(0,360,25)[:-1]\n",
        "energies = []\n",
        "structures = []\n",
        "\n",
        "for dihedral_angle in dihedral_angles:\n",
        "  # Write a geomeTRIC input file\n",
        "  # https://geometric.readthedocs.io/en/latest/constraints.html#input-format\n",
        "  with open('constraints.txt','w') as F:\n",
        "    F.write(f\"$set\\ndihedral 1 2 3 4 {dihedral_angle}\\n\")\n",
        "  mol_eq = hf.Gradients().optimizer(solver='geomeTRIC').kernel(params)\n",
        "  energies.append(scf.RHF(mol_eq).run().e_tot)\n",
        "  structures.append(mol_eq.tostring('xyz'))"
      ]
    },
    {
      "cell_type": "code",
      "execution_count": null,
      "metadata": {
        "cellView": "form",
        "id": "XqX2pc4g-Ct-"
      },
      "outputs": [],
      "source": [
        "# @title Align the conformers and visualize the rotation\n",
        "\n",
        "# Align the conformers by C=C-O\n",
        "rdkit_mol = Chem.AddHs(Chem.MolFromSmiles(smiles))\n",
        "for (id,structure) in enumerate(structures):\n",
        "  rdkit_mol_struct = Chem.MolFromXYZBlock(structure)\n",
        "  conformer = rdkit_mol_struct.GetConformer(0)\n",
        "  conformer.SetId(id)\n",
        "  rdkit_mol.AddConformer(conformer)\n",
        "Chem.rdMolAlign.AlignMolConformers(rdkit_mol, atomIds=[0,1,2])\n",
        "structures = [Chem.MolToXYZBlock(rdkit_mol, confId=id).strip() \\\n",
        "              for id in range(len(structures))]\n",
        "\n",
        "import py3Dmol\n",
        "view = py3Dmol.view()\n",
        "view.addModelsAsFrames('\\n'.join(structures),'xyz')\n",
        "view.addLabel(\"0\",{'fontOpacity':1},{'index':'0'})\n",
        "view.addLabel(\"1\",{'fontOpacity':1},{'index':'1'})\n",
        "view.addLabel(\"2\",{'fontOpacity':1},{'index':'2'})\n",
        "view.setStyle({'model':0}, {'stick': {}})\n",
        "view.zoomTo()\n",
        "view.animate({'loop': \"forward\"})\n",
        "view.show()"
      ]
    },
    {
      "cell_type": "markdown",
      "metadata": {
        "id": "x9jjXanDI0lZ"
      },
      "source": [
        "--> How is the C=C-O bond angle affected by the C=C-O torsion angle?"
      ]
    },
    {
      "cell_type": "code",
      "execution_count": null,
      "metadata": {
        "id": "YLpGFMNKIhZ8"
      },
      "outputs": [],
      "source": [
        "import matplotlib.pyplot as plt\n",
        "plt.title('Dihedral scan')\n",
        "plt.plot(list(dihedral_angles) + [360], energies + [energies[0]], '.-')\n",
        "plt.xlabel('Dihedral angle')\n",
        "plt.ylabel('Energy (Hartrees)');"
      ]
    },
    {
      "cell_type": "markdown",
      "metadata": {
        "id": "7UaYgqC_JOgM"
      },
      "source": [
        "--> At what value of the dihedral angle does the system have the lowest energy?"
      ]
    },
    {
      "cell_type": "markdown",
      "metadata": {
        "id": "wSQdJPS-JVwO"
      },
      "source": [
        "# Part 2 - Performing a partial grid search of water"
      ]
    },
    {
      "cell_type": "markdown",
      "metadata": {
        "id": "renuFeaaJh0A"
      },
      "source": [
        "## Obtaining a SMILES string"
      ]
    },
    {
      "cell_type": "code",
      "execution_count": null,
      "metadata": {
        "cellView": "form",
        "id": "LGZoeKnGJh0A"
      },
      "outputs": [],
      "source": [
        "#@title You may use this widget to draw a molecule to get the SMILES string\n",
        "from jsme_notebook import JSMENotebook\n",
        "smiles = 'CCO'\n",
        "jsme = JSMENotebook(smiles)"
      ]
    },
    {
      "cell_type": "code",
      "execution_count": null,
      "metadata": {
        "cellView": "form",
        "id": "SZ4tjSmYJh0B"
      },
      "outputs": [],
      "source": [
        "#@title Run cell to generate SMILES code from cell above\n",
        "jsme.smiles"
      ]
    },
    {
      "cell_type": "markdown",
      "metadata": {
        "id": "m5qWGbA8Jh0B"
      },
      "source": [
        "Besides this widget there are several web servers that allow you to sketch a molecule to obtain a SMILES code, including at [the RCSB](https://www.rcsb.org/chemical-sketch) and [molview](https://molview.org/)."
      ]
    },
    {
      "cell_type": "markdown",
      "metadata": {
        "id": "_MlzJxFaJh0B"
      },
      "source": [
        "## Building an initial model\n",
        "\n",
        "--> Enter the SMILES string of water and run the cell below."
      ]
    },
    {
      "cell_type": "code",
      "execution_count": null,
      "metadata": {
        "cellView": "form",
        "id": "azL2c95eJh0B"
      },
      "outputs": [],
      "source": [
        "#@title Structure generation and visualization of water\n",
        "#@markdown rdkit is used to generate the structure and add hydrogen atoms \\\\\n",
        "#@markdown py3dmol is used to visualize the structure\n",
        "smiles = 'CC' #@param\n",
        "\n",
        "from rdkit import Chem\n",
        "from rdkit.Chem import AllChem\n",
        "\n",
        "rdkit_mol = Chem.AddHs(Chem.MolFromSmiles(smiles))\n",
        "AllChem.EmbedMolecule(rdkit_mol)\n",
        "\n",
        "import py3Dmol\n",
        "view = py3Dmol.view()\n",
        "view.addModel(Chem.MolToMolBlock(rdkit_mol),'mol')\n",
        "view.setStyle({'model':0}, {'stick': {}})\n",
        "view.zoomTo()\n",
        "view.show()\n",
        "\n",
        "print(Chem.MolToXYZBlock(rdkit_mol))"
      ]
    },
    {
      "cell_type": "code",
      "execution_count": null,
      "metadata": {
        "id": "eA2AU7rRJh0B"
      },
      "outputs": [],
      "source": [
        "# Show a 2D representation of the molecule with indices labeled (starting 0)\n",
        "dopts = Chem.Draw.rdMolDraw2D.MolDrawOptions()\n",
        "dopts.addAtomIndices = True\n",
        "display(Chem.Draw.MolsToGridImage([rdkit_mol], subImgSize=(600,600), drawOptions=dopts))"
      ]
    },
    {
      "cell_type": "markdown",
      "source": [
        "## Scanning bond distances and angles and computing energies"
      ],
      "metadata": {
        "id": "N4Kx8dTIuJY_"
      }
    },
    {
      "cell_type": "markdown",
      "source": [
        "--> Modify the code below to set both O-H bond distances to the same value"
      ],
      "metadata": {
        "id": "4F6-Gp9kvDRG"
      }
    },
    {
      "cell_type": "code",
      "source": [
        "from pyscf import gto, scf\n",
        "\n",
        "angles = np.linspace(90,120,31)\n",
        "distances = np.linspace(0.8,1.1,31)\n",
        "\n",
        "energies = []\n",
        "structures = []\n",
        "\n",
        "for angle in angles:\n",
        "  for distance in distances:\n",
        "    # Define structure\n",
        "    Chem.rdMolTransforms.SetBondLength(rdkit_mol.GetConformer(), 0, 1, distance)\n",
        "    Chem.rdMolTransforms.SetAngleDeg(rdkit_mol.GetConformer(), 1, 0, 2, angle)\n",
        "    structures.append(Chem.MolToXYZBlock(rdkit_mol))\n",
        "    # Calculate energy\n",
        "    gto_mol = gto.Mole() # Gaussian-type orbitals\n",
        "    gto_mol.atom = Chem.MolToXYZBlock(rdkit_mol)[3:] # First two lines are number of atoms\n",
        "    gto_mol.verbose = False\n",
        "    gto_mol.basis = '321g' # Use a small basis set for faster convergence\n",
        "    gto_mol.build()\n",
        "    mf = scf.RHF(gto_mol).run()\n",
        "    energies.append(mf.e_tot)\n",
        "    print(f\"Angle: {angle} degrees\\tDistance: {distance} Angstroms\\tEnergy: {mf.e_tot} Hartrees\")\n",
        "energies = np.reshape(energies, (31,31))"
      ],
      "metadata": {
        "id": "TPNjU5DVkKps"
      },
      "execution_count": null,
      "outputs": []
    },
    {
      "cell_type": "code",
      "execution_count": null,
      "metadata": {
        "id": "G9f6XvboJh0B",
        "cellView": "form"
      },
      "outputs": [],
      "source": [
        "# @title Align the conformers and visualize the rotation\n",
        "\n",
        "# Align the conformers by atoms 0 and 1\n",
        "rdkit_mol = Chem.AddHs(Chem.MolFromSmiles(smiles))\n",
        "for (id,structure) in enumerate(structures):\n",
        "  rdkit_mol_struct = Chem.MolFromXYZBlock(structure)\n",
        "  conformer = rdkit_mol_struct.GetConformer(0)\n",
        "  conformer.SetId(id)\n",
        "  rdkit_mol.AddConformer(conformer)\n",
        "Chem.rdMolAlign.AlignMolConformers(rdkit_mol, atomIds=[0,1, 2])\n",
        "structures = [Chem.MolToXYZBlock(rdkit_mol, confId=id).strip() \\\n",
        "              for id in range(len(structures))]\n",
        "\n",
        "import py3Dmol\n",
        "view = py3Dmol.view()\n",
        "view.addModelsAsFrames('\\n'.join(structures),'xyz')\n",
        "view.addLabel(\"1\",{'fontOpacity':1},{'index':'1'})\n",
        "view.setStyle({'model':0}, {'stick': {}})\n",
        "view.zoomTo()\n",
        "view.animate({'loop': \"forward\"})\n",
        "view.show()"
      ]
    },
    {
      "cell_type": "code",
      "execution_count": null,
      "metadata": {
        "id": "sz0TYq7PJh0C"
      },
      "outputs": [],
      "source": [
        "import matplotlib.pyplot as plt\n",
        "\n",
        "plt.contourf(angles, distances, energies)\n",
        "plt.title('Partial grid search of water energies')\n",
        "plt.xlabel('H-O-H Angle')\n",
        "plt.ylabel('O-H Distance');"
      ]
    },
    {
      "cell_type": "code",
      "source": [
        "(min_angle_ind, min_distance_ind) = np.unravel_index(np.argmin(energies), (31,31))\n",
        "print(f\"The minimum energy was found with angle {angles[min_angle_ind]:.2f} degrees and distance {distances[min_distance_ind]:.2f} Angstroms\")"
      ],
      "metadata": {
        "id": "Tn4aeEI2pK3D"
      },
      "execution_count": null,
      "outputs": []
    },
    {
      "cell_type": "markdown",
      "source": [
        "--> How does the H-O bond length (lit. value 0.958 A) and H-O-H angle bond angle (lit. value 104.51 degrees) compare with the literature values? How could the result be improved?"
      ],
      "metadata": {
        "id": "t2kqlFRzuSdh"
      }
    },
    {
      "cell_type": "markdown",
      "metadata": {
        "id": "RSeoqHOPwBht"
      },
      "source": [
        "# Part 3 - Comparing energies of cyclohexane geometries"
      ]
    },
    {
      "cell_type": "markdown",
      "metadata": {
        "id": "J8RLB38awBhu"
      },
      "source": [
        "## Obtaining a SMILES string"
      ]
    },
    {
      "cell_type": "code",
      "execution_count": null,
      "metadata": {
        "cellView": "form",
        "id": "OBdFCCEzwBhu"
      },
      "outputs": [],
      "source": [
        "#@title You may use this widget to draw a molecule to get the SMILES string\n",
        "from jsme_notebook import JSMENotebook\n",
        "smiles = 'CCO'\n",
        "jsme = JSMENotebook(smiles)"
      ]
    },
    {
      "cell_type": "code",
      "execution_count": null,
      "metadata": {
        "cellView": "form",
        "id": "9w6Gjy_lwBhu"
      },
      "outputs": [],
      "source": [
        "#@title Run cell to generate SMILES code from cell above\n",
        "jsme.smiles"
      ]
    },
    {
      "cell_type": "markdown",
      "metadata": {
        "id": "g-MsRWhLwBhv"
      },
      "source": [
        "Besides this widget there are several web servers that allow you to sketch a molecule to obtain a SMILES code, including at [the RCSB](https://www.rcsb.org/chemical-sketch) and [molview](https://molview.org/)."
      ]
    },
    {
      "cell_type": "markdown",
      "metadata": {
        "id": "rl2oRfoUwBhv"
      },
      "source": [
        "## Building an initial model\n",
        "\n",
        "--> Enter the SMILES string of cyclohexane and run the cell below."
      ]
    },
    {
      "cell_type": "code",
      "execution_count": null,
      "metadata": {
        "cellView": "form",
        "id": "dguo6xBjwBhv"
      },
      "outputs": [],
      "source": [
        "#@title Structure generation and visualization of water\n",
        "#@markdown rdkit is used to generate the structure and add hydrogen atoms \\\\\n",
        "#@markdown py3dmol is used to visualize the structure\n",
        "smiles = 'O' #@param\n",
        "\n",
        "from rdkit import Chem\n",
        "from rdkit.Chem import AllChem\n",
        "\n",
        "rdkit_mol = Chem.AddHs(Chem.MolFromSmiles(smiles))\n",
        "AllChem.EmbedMolecule(rdkit_mol)\n",
        "\n",
        "import py3Dmol\n",
        "view = py3Dmol.view()\n",
        "view.addModel(Chem.MolToMolBlock(rdkit_mol),'mol')\n",
        "view.setStyle({'model':0}, {'stick': {}})\n",
        "view.zoomTo()\n",
        "view.show()\n",
        "\n",
        "print(Chem.MolToXYZBlock(rdkit_mol))"
      ]
    },
    {
      "cell_type": "code",
      "execution_count": null,
      "metadata": {
        "id": "V9EBsOCfwBhv"
      },
      "outputs": [],
      "source": [
        "# Show a 2D representation of the molecule with indices labeled (starting 0)\n",
        "dopts = Chem.Draw.rdMolDraw2D.MolDrawOptions()\n",
        "dopts.addAtomIndices = True\n",
        "display(Chem.Draw.MolsToGridImage([rdkit_mol], subImgSize=(600,600), drawOptions=dopts))"
      ]
    },
    {
      "cell_type": "markdown",
      "metadata": {
        "id": "Vx6Nt4rZxU0I"
      },
      "source": [
        "## Dihedral angle scan\n",
        "\n",
        "Now we will compute the potential energy as a function of the dihedral angle. This is performed with a constrained minimization; the dihedral is set at a specific value at the rest of the system is allowed to relax to minimize the energy."
      ]
    },
    {
      "cell_type": "code",
      "execution_count": null,
      "metadata": {
        "id": "GFdJvRRJxU0J"
      },
      "outputs": [],
      "source": [
        "from pyscf import gto, scf\n",
        "from pyscf.geomopt.berny_solver import optimize\n",
        "\n",
        "# Define molecule and basis set\n",
        "gto_mol = gto.Mole() # Gaussian-type orbitals\n",
        "gto_mol.atom = Chem.MolToXYZBlock(rdkit_mol)[3:] # First two lines are number of atoms\n",
        "gto_mol.verbose = False\n",
        "gto_mol.basis = '321g' # Use a small basis set for faster convergence\n",
        "gto_mol.build()\n",
        "hf = scf.RHF(gto_mol).run()\n",
        "\n",
        "params = {\"constraints\": \"constraints.txt\",}\n",
        "\n",
        "import numpy as np\n",
        "dihedral_angles = np.linspace(-60,60,25)\n",
        "energies = []\n",
        "structures = []\n",
        "\n",
        "for dihedral_angle in dihedral_angles:\n",
        "  # Write a geomeTRIC input file\n",
        "  # https://geometric.readthedocs.io/en/latest/constraints.html#input-format\n",
        "  with open('constraints.txt','w') as F:\n",
        "    F.write(f\"$set\\ndihedral 1 2 3 4 {dihedral_angle}\\n\")\n",
        "  mol_eq = hf.Gradients().optimizer(solver='geomeTRIC').kernel(params)\n",
        "  energies.append(scf.RHF(mol_eq).run().e_tot)\n",
        "  structures.append(mol_eq.tostring('xyz'))"
      ]
    },
    {
      "cell_type": "code",
      "execution_count": null,
      "metadata": {
        "cellView": "form",
        "id": "GqPNonGaxU0J"
      },
      "outputs": [],
      "source": [
        "# @title Align the conformers and visualize the rotation\n",
        "# Align the conformers by C=C-O\n",
        "rdkit_mol = Chem.AddHs(Chem.MolFromSmiles(smiles))\n",
        "for (id,structure) in enumerate(structures):\n",
        "  rdkit_mol_struct = Chem.MolFromXYZBlock(structure)\n",
        "  conformer = rdkit_mol_struct.GetConformer(0)\n",
        "  conformer.SetId(id)\n",
        "  rdkit_mol.AddConformer(conformer)\n",
        "Chem.rdMolAlign.AlignMolConformers(rdkit_mol, atomIds=[0,1,2])\n",
        "structures = [Chem.MolToXYZBlock(rdkit_mol, confId=id).strip() \\\n",
        "              for id in range(len(structures))]\n",
        "\n",
        "import py3Dmol\n",
        "view = py3Dmol.view()\n",
        "view.addModelsAsFrames('\\n'.join(structures),'xyz')\n",
        "view.addLabel(\"0\",{'fontOpacity':1},{'index':'0'})\n",
        "view.addLabel(\"1\",{'fontOpacity':1},{'index':'1'})\n",
        "view.addLabel(\"2\",{'fontOpacity':1},{'index':'2'})\n",
        "view.setStyle({'model':0}, {'stick': {}})\n",
        "view.zoomTo()\n",
        "view.animate({'loop': \"forward\"})\n",
        "view.show()"
      ]
    },
    {
      "cell_type": "code",
      "execution_count": null,
      "metadata": {
        "id": "gKOsUCAbxU0J"
      },
      "outputs": [],
      "source": [
        "import matplotlib.pyplot as plt\n",
        "plt.title('Dihedral scan')\n",
        "plt.plot(dihedral_angles, energies, '.-')\n",
        "plt.xlabel('Dihedral angle')\n",
        "plt.ylabel('Energy (Hartrees)');"
      ]
    },
    {
      "cell_type": "markdown",
      "source": [
        "--> Record the energies of the chair (global minimum), half-chair (local minimum), twist-boat (local minimum), and boat conformer (second smaller peak). Convert from Hartrees to kcal/mol. Which conformer is most stable?\n",
        "\n",
        "--> What is the energy difference between the two most stable conformers, in kcal/mol. What is the potential barrier between the twist-boat and the boat conformers?"
      ],
      "metadata": {
        "id": "84QXuWzI2edf"
      }
    },
    {
      "cell_type": "code",
      "source": [],
      "metadata": {
        "id": "eabzhv3z3OH3"
      },
      "execution_count": null,
      "outputs": []
    }
  ],
  "metadata": {
    "colab": {
      "toc_visible": true,
      "provenance": []
    },
    "kernelspec": {
      "display_name": "Python 3",
      "name": "python3"
    },
    "language_info": {
      "name": "python"
    }
  },
  "nbformat": 4,
  "nbformat_minor": 0
}