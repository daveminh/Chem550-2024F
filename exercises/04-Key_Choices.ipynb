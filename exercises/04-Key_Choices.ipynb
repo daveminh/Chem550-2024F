{
  "cells": [
    {
      "cell_type": "markdown",
      "metadata": {
        "id": "cI7nGHSKkBOK"
      },
      "source": [
        "# Key Choices in QM Calculations\n",
        "\n",
        "Two key choices in QM calculations are the basis set and level of theory. Each choice leads to a different tradeoff between accuracy and computational cost.\n",
        "\n",
        "In this exercise, we will illustrate the impact of these choices by comparing radial distribution functions for different types of orbitals and energies computed using different levels of theory. This exercise is based on Labs 2 and 3 of [Computational Chemistry for Chemistry Educators](http://www.computationalscience.org/ccce/about/labs/labs.php)."
      ]
    },
    {
      "cell_type": "markdown",
      "metadata": {
        "id": "gGuaQW5-RKND"
      },
      "source": [
        "# Part 0 - Setting up the appropriate software"
      ]
    },
    {
      "cell_type": "code",
      "execution_count": null,
      "metadata": {
        "cellView": "form",
        "id": "WNVelFW1aGkr"
      },
      "outputs": [],
      "source": [
        "#@title Install packages with pip\n",
        "#@markdown pyscf (Python-based Simulations of Chemistry Framework), for QM electronic structure calculation \\\\\n",
        "#@markdown jsme_notebook, to sketch structures \\\\\n",
        "#@markdown pyberny, for optimization \\\\\n",
        "#@markdown geometric, for optimization \\\\\n",
        "#@markdown condacolab, to install other packages \\\\\n",
        "#@markdown\n",
        "#@markdown Installing condacolab will restart the kernel and you can continue with the next cell.\n",
        "\n",
        "!pip install pyscf\n",
        "!pip install git+https://github.com/pyscf/semiempirical\n",
        "!pip install -U pyberny\n",
        "!pip install geometric\n",
        "!pip install jsme_notebook\n",
        "\n",
        "try:\n",
        "    import google.colab\n",
        "    !pip install condacolab\n",
        "    import condacolab\n",
        "    condacolab.install_mambaforge()\n",
        "except ModuleNotFoundError:\n",
        "    pass"
      ]
    },
    {
      "cell_type": "code",
      "execution_count": null,
      "metadata": {
        "cellView": "form",
        "id": "65Gne_t9aPu2"
      },
      "outputs": [],
      "source": [
        "#@title Install packages with conda\n",
        "#@markdown rdkit, to generate initial structures from SMILES strings \\\\\n",
        "#@markdown py3Dmol, for visualization of structures \\\\\n",
        "\n",
        "try:\n",
        "    import condacolab\n",
        "    condacolab.check()\n",
        "    !mamba install --yes -c conda-forge rdkit py3Dmol\n",
        "except ModuleNotFoundError:\n",
        "    on_colab = False\n",
        "else:\n",
        "    #check if installation was succesful\n",
        "    try:\n",
        "        import rdkit\n",
        "        on_colab = True\n",
        "        from IPython.display import clear_output\n",
        "        clear_output()  # clear the excessive installation outputs\n",
        "        print(\"Dependencies successfully installed!\")\n",
        "    except ModuleNotFoundError:\n",
        "        print(\"Error while installing dependencies!\")"
      ]
    },
    {
      "cell_type": "markdown",
      "metadata": {
        "id": "QT1_gc4xQAdF"
      },
      "source": [
        "# Part 1 - Hydrogen Orbitals\n",
        "\n",
        "The Bohr model of an atom involves visualizing the electrons as fixed in \"orbits\", moving at a constant radius around the nucleus. During the early part of the 20th century, serious chemical and physical errors were found in that model, and a new idea took its place. Electrons do not move in fixed orbits, with a constant radius, the theory says, but in random paths, only maintaining some semblance of organization. This theory fits with other quantum theory by saying that we cannot predict the behavior of an individual electron precisely, but we can know general properties about it, and we can know certain things about the behavior of a group of electrons. The form that electrons take around the nucleus is a sort of \"cloud\". That is, we cannot know the individual locations and movements of certain electrons, but we know where they will spend a percentage of their time. This is the same as saying that if we could take a snapshot of the atom, the cloud is the region where the electrons would appear in almost every one of the snapshots. This cloud is called an \"orbital\".\n",
        "\n",
        "The orbital can be represented mathematically by a wave function. This is a\n",
        "mathematical abstraction which has no exact physical meaning. If the wave function is squared and multiplied by some factors, it represents the actual probability of the presence of the electron at a given place and time. However, examining the graph of the wave function can help us understand how electron clouds are handled computationally.\n",
        "\n",
        "The orbital representations that we will be working with are called Slater type\n",
        "orbitals (STOs) and Gaussian type orbitals (GTOs). These two are about equally hard to compute for hydrogen, but the STOs increase in mathematical complexity too much to be useful once several electrons are introduced. GTOs are used as the next best approximation of the actual wave function. These approximations are used in ab initio and DFT methods to mathematically calculate the appearance of electron clouds and orbitals. However, once a molecule begins to be complex, (approximately more than 50 heavy atoms), even the GTO approximation is quite computationally expensive to be used.\n",
        "\n",
        "The formulas for the STO wave function and the GTO wave function are shown\n",
        "below. Notice the similarities and differences in the two equations. Both are functions of the radius, squared in the case of the GTO equation. Both have constant terms with $\\pi$ in the denominator.\n",
        "\n",
        "STO = $\\left( \\frac{\\zeta^3}{\\pi} \\right)^{0.5} e^{-\\zeta r}$\n",
        "\n",
        "GTO = $\\left( \\frac{2\\alpha}{\\pi} \\right)^{0.75} e^{-\\alpha r^2}$"
      ]
    },
    {
      "cell_type": "markdown",
      "metadata": {
        "id": "NEJQI0-XT4YA"
      },
      "source": [
        "## Comparing STO and GTO\n",
        "\n",
        "We will be modeling the simplest of atoms, hydrogen. As you know, the most common form of hydrogen has only one proton as its nucleus and a single electron in the orbital. However, even this basic form requires complex calculations for a realistic model! To model the electron cloud(s), several numerical constants are needed. The set of constants that are used for a given atom, with a given level of complexity in the mathematical representation, is called the basis set. The name of the basis set is often indicative of how\n",
        "it is constructed. For example, STO-3G is an approximation of a Slater type orbital using three Gaussian functions in the approximation. Gaussian functions are similar in shape to the bell curve, or normal distribution, which you have seen. A number of these curves are combined, or superimposed, to create another, more precise, approximation. You will investigate how the Gaussian functions are computed, combined, and how the number of Gaussians affects the accuracy of the combined model."
      ]
    },
    {
      "cell_type": "markdown",
      "metadata": {
        "id": "2A43mWVAXEB0"
      },
      "source": [
        "--> Modify the code below to plot a STO and a GTO for hydrogen with the given ζ and α values."
      ]
    },
    {
      "cell_type": "code",
      "execution_count": null,
      "metadata": {
        "id": "YnUzrcJrVO5R"
      },
      "outputs": [],
      "source": [
        "ζ = 1.24 # For STO\n",
        "α = 0.36957 # For GTO\n",
        "\n",
        "import numpy as np\n",
        "r = np.linspace(0,6,601)\n",
        "\n",
        "STO = lambda r, ζ: np.sqrt(ζ**3/np.pi)*np.exp(-ζ)\n",
        "GTO = lambda r, α: (α/np.pi)**0.75*np.exp(-α*r)\n",
        "\n",
        "import matplotlib.pyplot as plt\n",
        "plt.plot(r, STO(r, ζ), label='STO')\n",
        "plt.plot(r, GTO(r, α), label='GTO')\n",
        "plt.title('Comparison of Orbitals')\n",
        "plt.xlabel('Radius (Å)')\n",
        "plt.ylabel('Ψ (Å)')\n",
        "plt.legend();"
      ]
    },
    {
      "cell_type": "markdown",
      "metadata": {
        "id": "IbojoXNRXeMI"
      },
      "source": [
        "--> How do the STO and GTO wavefunctions compare?"
      ]
    },
    {
      "cell_type": "markdown",
      "metadata": {
        "id": "Z8OyDz-YZ-Ki"
      },
      "source": [
        "## Comparing STO and STO-3G\n",
        "\n",
        "For this next part, you will create an approximation to the STO wave function\n",
        "by combining three GTO orbitals. This basis set is known as an STO-3G basis set, since it is constructed by adding together three GTOs. The next task is to create three new GTO wave functions. Each of these GTOs has its own value for α.\n",
        "\n",
        "pySCF has these values stored in a database. The following code will show the values for hydrogen in a format [described in the documentation](https://pyscf.org/user/gto.html#basis-format). In addition to α values τhe code will provide contraction coefficients so that the wavefunction is normalized. In total the wavefunction is,\n",
        "\n",
        "LCAO = c$_1$GTO$_1$ + c$_2$GTO$_2$ + c$_3$GTO$_3$"
      ]
    },
    {
      "cell_type": "code",
      "execution_count": null,
      "metadata": {
        "id": "h2K0AylAZdPS"
      },
      "outputs": [],
      "source": [
        "import pyscf\n",
        "from pyscf import gto\n",
        "sto3g_H = gto.basis.load('sto3g', 'H')\n",
        "print(sto3g_H)"
      ]
    },
    {
      "cell_type": "markdown",
      "metadata": {
        "id": "-iSMBTktejlB"
      },
      "source": [
        "--> Modify the code below to plot a STO and STO-3G with the appropriate α values for hydrogen."
      ]
    },
    {
      "cell_type": "code",
      "execution_count": null,
      "metadata": {
        "id": "9dWjVxoucDkP"
      },
      "outputs": [],
      "source": [
        "import matplotlib.pyplot as plt\n",
        "plt.plot(r, STO(r, ζ), label='STO')\n",
        "plt.plot(r, sto3g_H[0][1][1]*GTO(r, sto3g_H[0][1][0]) + \\\n",
        "            sto3g_H[0][3][1]*GTO(r, sto3g_H[0][3][0]), label='STO-3G')\n",
        "plt.title('Comparison of Orbitals')\n",
        "plt.xlabel('Radius (Å)')\n",
        "plt.ylabel('Ψ (Å)')\n",
        "plt.legend();"
      ]
    },
    {
      "cell_type": "markdown",
      "metadata": {
        "id": "z7QChn8Jez3D"
      },
      "source": [
        "--> Is STO-3G more similar to STO than GTO?"
      ]
    },
    {
      "cell_type": "markdown",
      "metadata": {
        "id": "kJ_NBQ6jKooY"
      },
      "source": [
        "# Part 2 - Proton Affinity for Pyridine\n",
        "\n",
        "We will compute the enthalpy of the protonaton of pyridine,\n",
        "\n",
        "![image.png](data:image/png;base64,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)"
      ]
    },
    {
      "cell_type": "markdown",
      "metadata": {
        "id": "Wg0S_-sXnBCw"
      },
      "source": [
        "We will compare results from different levels of theory: semi-empirical, Hartree-Fock, and density functional theory (DFT)."
      ]
    },
    {
      "cell_type": "markdown",
      "metadata": {
        "id": "zJXdEsKMd7kZ"
      },
      "source": [
        "## Levels of Theory"
      ]
    },
    {
      "cell_type": "markdown",
      "metadata": {
        "id": "IlSRIJRtd1-k"
      },
      "source": [
        "\n",
        "\n",
        "![image.png](data:image/png;base64,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)       \n",
        "Figure 2: QM Theory levels. (Source: Article on quantum chemistry simulations. [Link](https://www.chemistryworld.com/news/quantum-chemistry-simulations-offers-beguiling-possibility-of-solving-chemistry/4011541.article)  )"
      ]
    },
    {
      "cell_type": "markdown",
      "metadata": {
        "id": "CBol7niQncC8"
      },
      "source": [
        "## Obtaining a SMILES string"
      ]
    },
    {
      "cell_type": "code",
      "execution_count": null,
      "metadata": {
        "cellView": "form",
        "id": "g_14A2DRMoMK"
      },
      "outputs": [],
      "source": [
        "#@title You may use this widget to draw a molecule to get the SMILES string\n",
        "from jsme_notebook import JSMENotebook\n",
        "smiles = 'CCO'\n",
        "jsme = JSMENotebook(smiles)"
      ]
    },
    {
      "cell_type": "code",
      "execution_count": null,
      "metadata": {
        "cellView": "form",
        "id": "i4EP3exWOTc3"
      },
      "outputs": [],
      "source": [
        "#@title Run cell to generate SMILES code from cell above\n",
        "jsme.smiles"
      ]
    },
    {
      "cell_type": "markdown",
      "metadata": {
        "id": "MYa5NuLYOnas"
      },
      "source": [
        "Besides this widget there are several web servers that allow you to sketch a molecule to obtain a SMILES code, including at [the RCSB](https://www.rcsb.org/chemical-sketch) and [molview](https://molview.org/)."
      ]
    },
    {
      "cell_type": "markdown",
      "metadata": {
        "id": "Ok9l96Kcn8rr"
      },
      "source": [
        "## QM calculations of pyridine\n",
        "\n",
        "--> Enter the SMILES string of pyridine and run the cell below."
      ]
    },
    {
      "cell_type": "code",
      "execution_count": null,
      "metadata": {
        "cellView": "form",
        "id": "U9vxbt1ZPga2"
      },
      "outputs": [],
      "source": [
        "#@title Structure generation and visualization of pyridine\n",
        "#@markdown rdkit is used to generate the structure and add hydrogen atoms \\\\\n",
        "#@markdown py3dmol is used to visualize the structure\n",
        "smiles = 'CC' #@param\n",
        "\n",
        "from rdkit import Chem\n",
        "from rdkit.Chem import AllChem\n",
        "\n",
        "rdkit_mol = Chem.AddHs(Chem.MolFromSmiles(smiles))\n",
        "AllChem.EmbedMolecule(rdkit_mol)\n",
        "\n",
        "import py3Dmol\n",
        "view = py3Dmol.view()\n",
        "view.addModel(Chem.MolToMolBlock(rdkit_mol),'mol')\n",
        "view.setStyle({'model':0}, {'stick': {}})\n",
        "view.zoomTo()\n",
        "view.show()\n",
        "\n",
        "print(Chem.MolToXYZBlock(rdkit_mol))"
      ]
    },
    {
      "cell_type": "code",
      "execution_count": null,
      "metadata": {
        "id": "UOxf38Pkncsj"
      },
      "outputs": [],
      "source": [
        "from pyscf import gto, scf\n",
        "from pyscf.geomopt.berny_solver import optimize\n",
        "\n",
        "# Define molecule and basis set\n",
        "gto_mol = gto.Mole() # Gaussian-type orbitals\n",
        "gto_mol.atom = Chem.MolToXYZBlock(rdkit_mol)[3:] # First two lines are number of atoms\n",
        "gto_mol.verbose = False\n",
        "gto_mol.basis = '631g*'\n",
        "gto_mol.build();"
      ]
    },
    {
      "cell_type": "markdown",
      "metadata": {
        "id": "OM35X0vNoteA"
      },
      "source": [
        "### Minimize the Hartree-Fock energy"
      ]
    },
    {
      "cell_type": "code",
      "execution_count": null,
      "metadata": {
        "id": "LOXrVZVm-8iS"
      },
      "outputs": [],
      "source": [
        "mf = scf.RHF(gto_mol)\n",
        "E_mf = mf.run().e_tot\n",
        "\n",
        "gto_mol_min = optimize(mf)\n",
        "E_mf_min = scf.RHF(gto_mol_min).run().e_tot\n",
        "\n",
        "print (f'HF energy: {E_mf_min:.5f} Hartrees')\n",
        "print('The coordinates of the minimized molecule are:')\n",
        "print(gto_mol_min.tostring('xyz'))"
      ]
    },
    {
      "cell_type": "markdown",
      "metadata": {
        "id": "Gca0vQE4q3E4"
      },
      "source": [
        "### Compute the energy using other levels of theory"
      ]
    },
    {
      "cell_type": "code",
      "execution_count": null,
      "metadata": {
        "id": "4uFoog-wntGJ"
      },
      "outputs": [],
      "source": [
        "mf_MP2 = mf.MP2().run()\n",
        "print(f'MP2 energy: {mf_MP2.e_tot:.5f} Hartrees')\n",
        "\n",
        "mf_CISD = mf.CISD().run()\n",
        "print(f'CISD energy: {mf_CISD.e_tot:.5f} Hartrees')\n",
        "\n",
        "from pyscf import dft\n",
        "mf = dft.RKS(gto_mol_min)\n",
        "mf_DFT = mf.kernel()\n",
        "print (f'DFT energy: {mf_DFT:.5f} Hartrees')"
      ]
    },
    {
      "cell_type": "markdown",
      "metadata": {
        "id": "XqPJ1SfdrXJZ"
      },
      "source": [
        "## QM calculations of the pyridinium ion\n",
        "\n",
        "--> Enter the SMILES string of the pyridinium ion (positive charge on nitrogen) and run the cell below."
      ]
    },
    {
      "cell_type": "code",
      "execution_count": null,
      "metadata": {
        "cellView": "form",
        "id": "q4M7o9FtrXJa"
      },
      "outputs": [],
      "source": [
        "#@title Structure generation and visualization of the pyridinium ion\n",
        "#@markdown rdkit is used to generate the structure and add hydrogen atoms \\\\\n",
        "#@markdown py3dmol is used to visualize the structure\n",
        "smiles = 'CC' #@param\n",
        "\n",
        "from rdkit import Chem\n",
        "from rdkit.Chem import AllChem\n",
        "\n",
        "rdkit_mol = Chem.AddHs(Chem.MolFromSmiles(smiles))\n",
        "AllChem.EmbedMolecule(rdkit_mol)\n",
        "\n",
        "import py3Dmol\n",
        "view = py3Dmol.view()\n",
        "view.addModel(Chem.MolToMolBlock(rdkit_mol),'mol')\n",
        "view.setStyle({'model':0}, {'stick': {}})\n",
        "view.zoomTo()\n",
        "view.show()\n",
        "\n",
        "print(Chem.MolToXYZBlock(rdkit_mol))"
      ]
    },
    {
      "cell_type": "markdown",
      "metadata": {
        "id": "ogstUhXerXJb"
      },
      "source": [
        "### Minimize the Hartree-Fock energy\n",
        "\n",
        "The code below has an important difference from the pyridine code: we specify a charge of 1."
      ]
    },
    {
      "cell_type": "code",
      "execution_count": null,
      "metadata": {
        "id": "qOXn8M08rXJb"
      },
      "outputs": [],
      "source": [
        "# Define molecule and basis set\n",
        "gto_mol = gto.Mole() # Gaussian-type orbitals\n",
        "gto_mol.atom = Chem.MolToXYZBlock(rdkit_mol)[3:] # First two lines are number of atoms\n",
        "gto_mol.charge = 1\n",
        "gto_mol.verbose = False\n",
        "gto_mol.basis = '631g*'\n",
        "gto_mol.build()\n",
        "\n",
        "mf = scf.RHF(gto_mol)\n",
        "E_mf = mf.run().e_tot\n",
        "\n",
        "gto_mol_min = optimize(mf)\n",
        "E_mf_min = scf.RHF(gto_mol_min).run().e_tot\n",
        "\n",
        "print (f'HF energy: {E_mf_min:.5f} Hartrees')\n",
        "print('The coordinates of the minimized molecule are:')\n",
        "print(gto_mol_min.tostring('xyz'))"
      ]
    },
    {
      "cell_type": "markdown",
      "metadata": {
        "id": "e3w2Zb6Tsycz"
      },
      "source": [
        "### Compute the energy using other levels of theory"
      ]
    },
    {
      "cell_type": "code",
      "execution_count": null,
      "metadata": {
        "id": "bJ32TuAlsyc0"
      },
      "outputs": [],
      "source": [
        "mf_MP2 = mf.MP2().run()\n",
        "print(f'MP2 energy: {mf_MP2.e_tot:.5f} Hartrees')\n",
        "\n",
        "mf_CISD = mf.CISD().run()\n",
        "print(f'CISD energy: {mf_CISD.e_tot:.5f} Hartrees')\n",
        "\n",
        "from pyscf import dft\n",
        "mf = dft.RKS(gto_mol_min)\n",
        "mf_DFT = mf.kernel()\n",
        "print (f'DFT energy: {mf_DFT:.5f} Hartrees')"
      ]
    },
    {
      "cell_type": "markdown",
      "metadata": {
        "id": "Na2hR9TvtBFi"
      },
      "source": [
        "## Affinity estimation"
      ]
    },
    {
      "cell_type": "markdown",
      "metadata": {
        "id": "TGqoZz6K8OnR"
      },
      "source": [
        "--> Complete the table below. For every level of theory, estimate the affinity of a proton for pyridine based on the difference between energies of the pyridinium ion and pyridine. Given that the literature value is -219.2 kcal/mol = -0.3493 Hartrees, compute the percent error."
      ]
    },
    {
      "cell_type": "markdown",
      "metadata": {
        "id": "MkuIquNSu1Pr"
      },
      "source": [
        "| Level | Pyridine   | Pyridinium | Difference | % Error |\n",
        "| ----- | ---------- | ---------- | ---------- | ------- |\n",
        "| HF    |  |  |  |  |\n",
        "| MP2   |  |  |  |  |\n",
        "| MP2   |  |  |  |  |\n",
        "| CISD  |  |  |  |  |\n",
        "| DFT   |  |  |  |  |"
      ]
    }
  ],
  "metadata": {
    "colab": {
      "provenance": [],
      "toc_visible": true
    },
    "kernelspec": {
      "display_name": "Python 3",
      "name": "python3"
    },
    "language_info": {
      "name": "python"
    }
  },
  "nbformat": 4,
  "nbformat_minor": 0
}
