{
  "cells": [
    {
      "cell_type": "code",
      "source": [
        "import numpy as np\n",
        "import scipy\n",
        "\n",
        "import matplotlib.pyplot as plt\n",
        "import matplotlib as mpl\n",
        "\n",
        "import ipywidgets as widgets\n",
        "from ipywidgets import interact, interactive, fixed, interact_manual\n",
        "\n",
        "## Finite difference numerical derivatives\n",
        "Δ = 1E-7\n",
        "dfdx = lambda f, x: (f(x + Δ) - f(x - Δ))/(2*Δ)\n",
        "d2fdx2 = lambda f, x: (f(x + Δ) - 2*f(x) + f(x - Δ))/(Δ*Δ)"
      ],
      "metadata": {
        "id": "BErnZSxCcGt8"
      },
      "execution_count": null,
      "outputs": []
    },
    {
      "cell_type": "code",
      "source": [
        "def matrix_elements(Ψ_b, Ahat, xmin, xmax):\n",
        "  \"\"\" Numerical integration in 1D to calculate matrix elements for a set of basis wavefunctions\n",
        "\n",
        "  Parameters\n",
        "  ----------\n",
        "  Ψ_b: list of functions\n",
        "    Basis wavefunctions.\n",
        "  Ahat: function,\n",
        "    Operator. Use `lambda f, x:f(x)` for overlap integral.\n",
        "  xmin: float\n",
        "    Minumum of integration range\n",
        "  xmax: float\n",
        "    Maximum of integration range\n",
        "\n",
        "  Returns\n",
        "  -------\n",
        "  np.array\n",
        "    Matrix elements of the Ahat operator\n",
        "  \"\"\"\n",
        "  nfunctions = len(Ψ_b)\n",
        "  A = np.zeros((nfunctions,nfunctions))\n",
        "  for n in range(nfunctions):\n",
        "    for m in range(n, nfunctions):\n",
        "      A[n,m] = scipy.integrate.quad(lambda x:Ψ_b[n](x)*Ahat(Ψ_b[m],x), \\\n",
        "                                    xmin, xmax, full_output=True)[0]\n",
        "      if n!=m:\n",
        "        A[m,n] = A[n,m]\n",
        "  return A"
      ],
      "metadata": {
        "id": "xEZLnq79_eXV"
      },
      "execution_count": null,
      "outputs": []
    },
    {
      "cell_type": "markdown",
      "source": [
        "# Perturbation Theory Approximation of Perturbed Particle in a Box"
      ],
      "metadata": {
        "id": "qOI2MjQN3vYL"
      }
    },
    {
      "cell_type": "code",
      "source": [
        "h = 6.62607015E-34 # J⋅Hz−1, Plank's constant\n",
        "hbar = h/(2*np.pi)\n",
        "Hartrees_to_Joules = 4.3597447222060E-18\n",
        "m = 9.1093837E-31 # kg, Mass of an electron\n",
        "\n",
        "L = 1E-9 # m, Length of the box\n",
        "\n",
        "# Ground state basis functions and energies\n",
        "Ψ_b = [lambda x: np.sqrt(2/L)*np.sin(1*np.pi*x/L), \\\n",
        "       lambda x: np.sqrt(2/L)*np.sin(2*np.pi*x/L), \\\n",
        "       lambda x: np.sqrt(2/L)*np.sin(3*np.pi*x/L), \\\n",
        "       lambda x: np.sqrt(2/L)*np.sin(4*np.pi*x/L), \\\n",
        "       lambda x: np.sqrt(2/L)*np.sin(5*np.pi*x/L), \\\n",
        "       lambda x: np.sqrt(2/L)*np.sin(6*np.pi*x/L), \\\n",
        "       lambda x: np.sqrt(2/L)*np.sin(7*np.pi*x/L), \\\n",
        "       lambda x: np.sqrt(2/L)*np.sin(8*np.pi*x/L)]\n",
        "E_k = np.array([1,2,3,4,5,6,7,8])**2*np.square(h)/(8*m*np.square(L))"
      ],
      "metadata": {
        "id": "0a0Yglqs81Ft"
      },
      "execution_count": null,
      "outputs": []
    },
    {
      "cell_type": "markdown",
      "source": [
        "## Potential energy step function within the a box"
      ],
      "metadata": {
        "id": "ihSvpOqv82oT"
      }
    },
    {
      "cell_type": "code",
      "source": [
        "def render(ε = 0.25, a = 0.1, mid = 0.5):\n",
        "  \"\"\"Computes and displays perturbed wavefunction for a step in the middle of a box\n",
        "\n",
        "  Parameters\n",
        "  ----------\n",
        "  ε: float\n",
        "    Hartrees, size of step in the potential energy\n",
        "  a: float\n",
        "    width of step, as a fraction of the box\n",
        "  mid: float\n",
        "    center of the step, as a fraction of box\n",
        "  \"\"\"\n",
        "  ε_J = ε*Hartrees_to_Joules # Convert to Joules\n",
        "\n",
        "  # This is a step in the middle of the box\n",
        "  H1 = lambda f, x: ε_J*(np.abs(x - mid*L) < a*L/2.)*f(x)\n",
        "\n",
        "  H = matrix_elements(Ψ_b, H1, 0, L)\n",
        "  c_k = H[1:,0]/(E_k[0] - E_k[1:])\n",
        "  c_k = [1.] + list(c_k)\n",
        "\n",
        "  x = np.linspace(0,L,100)\n",
        "\n",
        "  plt.figure(figsize=(12,3))\n",
        "\n",
        "  plt.subplot(1,3,1)\n",
        "  plt.title('Perturbation (Hartrees)')\n",
        "  plt.plot(x, H1(lambda x:1, x)/Hartrees_to_Joules)\n",
        "  plt.xlabel('Position');\n",
        "\n",
        "  plt.subplot(1,3,2)\n",
        "  plt.title('Wavefunction')\n",
        "  for i in range(len(c_k)):\n",
        "    plt.plot(x, c_k[i]*Ψ_b[i](x),'--')\n",
        "  plt.plot(x, np.sum([c_k[i]*Ψ_b[i](x) for i in range(len(c_k))],0),'-k')\n",
        "  plt.yticks([])\n",
        "  plt.xlabel('Position');\n",
        "\n",
        "  plt.subplot(1,3,3)\n",
        "  plt.title('Probability')\n",
        "  plt.plot(x, np.square(np.sum([c_k[i]*Ψ_b[i](x) for i in range(len(c_k))],0)),'-k')\n",
        "  plt.xlabel('Position');\n",
        "  plt.show()\n",
        "\n",
        "  print('Energies (Hartrees): ', ', '.join([f'{x:.3e}' for x in E_k/Hartrees_to_Joules]))\n",
        "  print('Hamiltonian matrix elements (Hartrees):')\n",
        "  print('\\n'.join([', '.join([f'{val:+.3e}' for val in row]) for row in H/Hartrees_to_Joules]))\n",
        "  print('Coefficients       : ', ', '.join([f'{x:.7f}' for x in c_k]))\n",
        "\n",
        "interactive(render, \\\n",
        "  ε = widgets.FloatSlider(min=-1, max=1, value=0.25,\\\n",
        "                          description='Height (Hartrees)'), \\\n",
        "  a = widgets.FloatSlider(min=0., max=1, value=0.1, \\\n",
        "                          description='Width (as fraction of box)'), \\\n",
        "  mid = widgets.FloatSlider(min=0., max=1., value=0.5,\\\n",
        "                          description=\"Center (as fraction of box)\"))"
      ],
      "metadata": {
        "colab": {
          "base_uri": "https://localhost:8080/",
          "height": 620,
          "referenced_widgets": [
            "4f039596c1b34b5cb1980136f026d397",
            "116ac23665be42518d74e585b9a17019",
            "d339ee7b30394115b76576b97f4317e4",
            "22ad2e76484949a68c0fb21db710d3e7",
            "829782c39ba04f7abdda1b44127ed7f6",
            "a0154c9058f14298a9902742d7290402",
            "9109b23844c546808da547e4fc03e9a1",
            "5549db4632564274b8846ef2a208b956",
            "cc8cce7d85534fb3960459c22da5ef73",
            "fc29f463224e4cbaa067c8e98c23548a",
            "3b66b2bbee634c37b5bd535cc8fa36cc",
            "b0d20a356cdf4d738e35ce0ee2e72032",
            "72619aac3b3646f592207fc986a642b3"
          ]
        },
        "id": "RKxBfzKx43zo",
        "outputId": "f376556d-9ca7-4f6d-d90b-b1487aee1f70"
      },
      "execution_count": null,
      "outputs": [
        {
          "output_type": "display_data",
          "data": {
            "text/plain": [
              "interactive(children=(FloatSlider(value=0.25, description='Height (Hartrees)', max=1.0, min=-1.0), FloatSlider…"
            ],
            "application/vnd.jupyter.widget-view+json": {
              "version_major": 2,
              "version_minor": 0,
              "model_id": "4f039596c1b34b5cb1980136f026d397"
            }
          },
          "metadata": {}
        }
      ]
    },
    {
      "cell_type": "markdown",
      "source": [
        "Start with the default settings (ε = 0.25 Hartrees; a = 0.1; mid = 0.5).\n",
        "\n",
        "--> What happens to the probability density as you increase the height of the barrier? What if you make it negative (a well)?\n",
        "\n",
        "--> Are there coefficients that are zero? Why?\n",
        "\n",
        "Now move the center of the perturbation to the right?\n",
        "\n",
        "--> How are the coefficient affected?\n",
        "\n",
        "--> How is the probability affected?"
      ],
      "metadata": {
        "id": "rn8SQU2Lkqs4"
      }
    },
    {
      "cell_type": "markdown",
      "source": [
        "## Sinusoial perturbation"
      ],
      "metadata": {
        "id": "MGXIRwy3-iUB"
      }
    },
    {
      "cell_type": "code",
      "source": [
        "def render(ε = 0.25, n = 1):\n",
        "  \"\"\"Computes and displays perturbed wavefunction for a sinusoial perturbation\n",
        "\n",
        "  Parameters\n",
        "  ----------\n",
        "  ε: float\n",
        "    Hartrees, scaling factor for the sinusoidal perturbation\n",
        "  n: int\n",
        "    the number of half period\n",
        "  \"\"\"\n",
        "  ε_J = ε*Hartrees_to_Joules # Convert to Joules\n",
        "\n",
        "  # This is a step in the middle of the box\n",
        "  H1 = lambda f, x: ε_J*(np.sin(n*np.pi*x/L))*f(x)\n",
        "\n",
        "  H = matrix_elements(Ψ_b, H1, 0, L)\n",
        "  c_k = H[1:,0]/(E_k[0] - E_k[1:])\n",
        "  c_k = [1.] + list(c_k)\n",
        "\n",
        "  x = np.linspace(0,L,100)\n",
        "\n",
        "  plt.figure(figsize=(12,3))\n",
        "\n",
        "  plt.subplot(1,3,1)\n",
        "  plt.title('Perturbation (Hartrees)')\n",
        "  plt.plot(x, H1(lambda x:1, x)/Hartrees_to_Joules)\n",
        "  plt.xlabel('Position');\n",
        "\n",
        "  plt.subplot(1,3,2)\n",
        "  plt.title('Wavefunction')\n",
        "  for i in range(len(c_k)):\n",
        "    plt.plot(x, c_k[i]*Ψ_b[i](x),'--')\n",
        "  plt.plot(x, np.sum([c_k[i]*Ψ_b[i](x) for i in range(len(c_k))],0),'-k')\n",
        "  plt.yticks([])\n",
        "  plt.xlabel('Position');\n",
        "\n",
        "  plt.subplot(1,3,3)\n",
        "  plt.title('Probability')\n",
        "  plt.plot(x, np.square(np.sum([c_k[i]*Ψ_b[i](x) for i in range(len(c_k))],0)),'-k')\n",
        "  plt.xlabel('Position');\n",
        "  plt.show()\n",
        "\n",
        "  print('Energies (Hartrees): ', ', '.join([f'{x:.3e}' for x in E_k/Hartrees_to_Joules]))\n",
        "  print('Hamiltonian matrix elements (Hartrees):')\n",
        "  print('\\n'.join([', '.join([f'{val:+.3e}' for val in row]) for row in H/Hartrees_to_Joules]))\n",
        "  print('Coefficients       : ', ', '.join([f'{x:.7f}' for x in c_k]))\n",
        "\n",
        "interactive(render, \\\n",
        "  ε = widgets.FloatSlider(min=-1, max=1, value=0.25,\\\n",
        "                          description='Height (Hartrees)'), \\\n",
        "  n = widgets.IntSlider(min=0, max=10, value=1, \\\n",
        "                          description='Half periods'))"
      ],
      "metadata": {
        "colab": {
          "base_uri": "https://localhost:8080/",
          "height": 588,
          "referenced_widgets": [
            "972d47162812423891a6fb87636600e4",
            "d9031e5dc7ed4e97b824771c67a191bc",
            "fa8862141048407182174ed0108f8d39",
            "fe59812d78aa4b1481c7b3e6783c27d8",
            "fd10c1d26ea44b28bfdce3565ad06953",
            "fcc935ac61f3419d8dfe9b57c21eac6a",
            "40dc4800b6424865b00a298841f53be8",
            "329dd602babf48cdb7c68fc533279d33",
            "a22696241e114a5b869b79505f9adee3",
            "141c62ea5e1743d7b1a0347bf6b05b80"
          ]
        },
        "outputId": "6b74398b-f078-4341-81a2-eeade200e72c",
        "id": "sLL_HmLi-dxy"
      },
      "execution_count": null,
      "outputs": [
        {
          "output_type": "display_data",
          "data": {
            "text/plain": [
              "interactive(children=(FloatSlider(value=0.25, description='Height (Hartrees)', max=1.0, min=-1.0), IntSlider(v…"
            ],
            "application/vnd.jupyter.widget-view+json": {
              "version_major": 2,
              "version_minor": 0,
              "model_id": "972d47162812423891a6fb87636600e4"
            }
          },
          "metadata": {}
        }
      ]
    },
    {
      "cell_type": "markdown",
      "source": [
        "Start with the default settings (ε = 0.25 Hartrees; n = 1).\n",
        "\n",
        "--> What happens to the probability density as you increase the height of the barrier? What if you make it negative (a well)?\n",
        "\n",
        "--> Are there coefficients that are zero? Why?\n",
        "\n",
        "Now increase the number of half periods.\n",
        "\n",
        "--> How are the coefficients affected?\n",
        "\n",
        "--> How is the probability affected?"
      ],
      "metadata": {
        "id": "r4Kw77GD_925"
      }
    },
    {
      "cell_type": "markdown",
      "source": [
        "# Perturbation Theory Approximation of Perturbed Harmonic Oscillator"
      ],
      "metadata": {
        "id": "VID1Ozo4AiYh"
      }
    },
    {
      "cell_type": "code",
      "source": [
        "# Constants\n",
        "k_f = 313.8 # N.m^{-1}, Spring constant\n",
        "\n",
        "α = (m*k_f/np.square(hbar))**(1/4.)\n",
        "α2 = α*α\n",
        "ω = np.sqrt(k_f/m)\n",
        "L = 0.75E-9 # m, Limit of integration"
      ],
      "metadata": {
        "id": "xogo7mdCBiTO"
      },
      "execution_count": null,
      "outputs": []
    },
    {
      "cell_type": "code",
      "source": [
        "# Ground state basis functions and energies\n",
        "import math\n",
        "N_ν = lambda ν: np.sqrt(α/(2**ν*math.factorial(ν)*np.sqrt(np.pi)))\n",
        "Ψ_b = [lambda x: N_ν(0)*np.polynomial.hermite.Hermite((1.))(α*x)*np.exp(-α2*x*x/2), \\\n",
        "       lambda x: N_ν(1)*np.polynomial.hermite.Hermite((0,1.))(α*x)*np.exp(-α2*x*x/2), \\\n",
        "       lambda x: N_ν(2)*np.polynomial.hermite.Hermite((0,0,1.))(α*x)*np.exp(-α2*x*x/2), \\\n",
        "       lambda x: N_ν(3)*np.polynomial.hermite.Hermite((0,0,0,1.))(α*x)*np.exp(-α2*x*x/2), \\\n",
        "       lambda x: N_ν(4)*np.polynomial.hermite.Hermite((0,0,0,0,1.))(α*x)*np.exp(-α2*x*x/2), \\\n",
        "       lambda x: N_ν(5)*np.polynomial.hermite.Hermite((0,0,0,0,0,1.))(α*x)*np.exp(-α2*x*x/2)]\n",
        "E_k = (np.array([0,1,2,3,4,5])+0.5)*hbar*ω"
      ],
      "metadata": {
        "id": "epmfIlZEAn7e"
      },
      "execution_count": null,
      "outputs": []
    },
    {
      "cell_type": "markdown",
      "source": [
        "## Potential energy step function"
      ],
      "metadata": {
        "id": "Isfv_eRlIkQQ"
      }
    },
    {
      "cell_type": "code",
      "source": [
        "def render(ε = 0.25, a = 0.1, mid = 0.5):\n",
        "  \"\"\"Computes and displays perturbed wavefunction for a step in the middle of a integration range\n",
        "\n",
        "  Parameters\n",
        "  ----------\n",
        "  ε: float\n",
        "    Hartrees, size of step in the potential energy\n",
        "  a: float\n",
        "    width of step, as a fraction of the integration range\n",
        "  mid: float\n",
        "    center of the step, as a fraction of integration range\n",
        "  \"\"\"\n",
        "  ε_J = ε*Hartrees_to_Joules # Convert to Joules\n",
        "\n",
        "  # This is a step in the middle of the range\n",
        "  H1 = lambda f, x: ε_J*(np.abs(x - mid*L) < a*L)*f(x)\n",
        "\n",
        "  H = matrix_elements(Ψ_b, H1, -L, L)\n",
        "  c_k = H[1:,0]/(E_k[0] - E_k[1:])\n",
        "  c_k = [1.] + list(c_k)\n",
        "\n",
        "  x = np.linspace(-L,L,100)\n",
        "\n",
        "  plt.figure(figsize=(12,3))\n",
        "\n",
        "  plt.subplot(1,3,1)\n",
        "  plt.title('Perturbation (Hartrees)')\n",
        "  plt.plot(x, H1(lambda x:1, x)/Hartrees_to_Joules)\n",
        "  plt.xlabel('Position');\n",
        "\n",
        "  plt.subplot(1,3,2)\n",
        "  plt.title('Wavefunction')\n",
        "  for i in range(len(c_k)):\n",
        "    plt.plot(x, c_k[i]*Ψ_b[i](x),'--')\n",
        "  plt.plot(x, np.sum([c_k[i]*Ψ_b[i](x) for i in range(len(c_k))],0),'-k')\n",
        "  plt.yticks([])\n",
        "  plt.xlabel('Position');\n",
        "\n",
        "  plt.subplot(1,3,3)\n",
        "  plt.title('Probability')\n",
        "  plt.plot(x, np.square(np.sum([c_k[i]*Ψ_b[i](x) for i in range(len(c_k))],0)),'-k')\n",
        "  plt.xlabel('Position');\n",
        "  plt.show()\n",
        "\n",
        "  print('Energies (Hartrees): ', ', '.join([f'{x:.3e}' for x in E_k/Hartrees_to_Joules]))\n",
        "  print('Hamiltonian matrix elements (Hartrees):')\n",
        "  print('\\n'.join([', '.join([f'{val:+.3e}' for val in row]) for row in H/Hartrees_to_Joules]))\n",
        "  print('Coefficients       : ', ', '.join([f'{x:.7f}' for x in c_k]))\n",
        "\n",
        "interactive(render, \\\n",
        "  ε = widgets.FloatSlider(min=-10, max=10, value=2.,\\\n",
        "                          description='Height (Hartrees)'), \\\n",
        "  a = widgets.FloatSlider(min=0., max=1, value=0.1, \\\n",
        "                          description='Width (as fraction of range)'), \\\n",
        "  mid = widgets.FloatSlider(min=-1., max=1., value=0,\\\n",
        "                          description=\"Center (as fraction of range)\"))"
      ],
      "metadata": {
        "colab": {
          "base_uri": "https://localhost:8080/",
          "height": 585,
          "referenced_widgets": [
            "ac9de6b36db24e9daf879c9b4ae514e3",
            "0ef99d7b34d542f0aea085ee1aa02b74",
            "6dbefacc57a14d05b5bafd6faf793c96",
            "0120707eb8324abd920ef06ab10310a7",
            "08f1a7ccd0f049abbe4471259b1b73d7",
            "64a4e5f0268b4faaa5462c33e991c85b",
            "86f60d72c4a04e85a8275d026dc66833",
            "ebaa37ff0b8e458e8cf998ee77307d83",
            "042de38e87814cb6b69093b86d0f987e",
            "a8d05d00f0e74b299bdb850478f465e0",
            "16aa3736f14243949aa27d1c9837c20e",
            "0dbfcae067604928b822da44cf6f15bb",
            "edea0221e0b044a99c9d2d30de0f4ba4"
          ]
        },
        "outputId": "f568317f-d627-4ed8-c734-473ee8bc093b",
        "id": "23bDzKfZIkQQ"
      },
      "execution_count": null,
      "outputs": [
        {
          "output_type": "display_data",
          "data": {
            "text/plain": [
              "interactive(children=(FloatSlider(value=2.0, description='Height (Hartrees)', max=10.0, min=-10.0), FloatSlide…"
            ],
            "application/vnd.jupyter.widget-view+json": {
              "version_major": 2,
              "version_minor": 0,
              "model_id": "ac9de6b36db24e9daf879c9b4ae514e3"
            }
          },
          "metadata": {}
        }
      ]
    },
    {
      "cell_type": "markdown",
      "source": [
        "Start with the default settings (ε = 2 Hartrees; Width = 0.1; Center = 0).\n",
        "\n",
        "--> How does the probability density compare to when there is no perturbation?\n",
        "\n",
        "--> Are there coefficients that are zero? Why?\n",
        "\n",
        "--> How can you shift the probability density to the right?"
      ],
      "metadata": {
        "id": "S7heL8DlRIkn"
      }
    },
    {
      "cell_type": "markdown",
      "source": [
        "# Variation Theory Approximation of a Hydrogenic Atom"
      ],
      "metadata": {
        "id": "Q-SZexJA9w2B"
      }
    },
    {
      "cell_type": "code",
      "source": [
        "a = 5.291772E-11 # m, Bohr radius\n",
        "ε_0 = 8.8541878188 # F.m^{-1}, Permittivity of free space\n",
        "e = 1.602176E-19 # C, Elementary charge\n",
        "\n",
        "# Wavefunctions\n",
        "Ψ_g = lambda r: (1/a)**(3/2.)*np.exp(-r/a)\n",
        "Ψ_t = lambda r, α: np.exp(-α*r*r/a**2)\n",
        "\n",
        "R = 10*a\n",
        "r = np.linspace(0,R,100)\n",
        "\n",
        "S_g = scipy.integrate.quad(lambda r:Ψ_g(r)*Ψ_g(r), 0, R)[0]\n",
        "\n",
        "def render(α):\n",
        "  S_t = scipy.integrate.quad(lambda r:Ψ_t(r, α)*Ψ_t(r, α), 0, R)[0]\n",
        "\n",
        "  plt.figure(1)\n",
        "  plt.plot(r, Ψ_g(r)/np.sqrt(S_g))\n",
        "  plt.plot(r, Ψ_t(r, α)/np.sqrt(S_t))\n",
        "  plt.legend(['Ground state', 'Ψ$_t$'])\n",
        "  plt.show()\n",
        "\n",
        "interactive(render, α=(0.1, 3.))"
      ],
      "metadata": {
        "colab": {
          "base_uri": "https://localhost:8080/",
          "height": 480,
          "referenced_widgets": [
            "aeb80d7086d34c098110144fac3974d1",
            "3da5a8a8f95a4cbd9452954479e6242b",
            "f5152ea61e46445496372b12ca8f98ab",
            "53f6d3d6ec584ac88d40efbb5bd1c50d",
            "ba2d1523b9a84952a80fa79a1c80096f",
            "4c6f20f3697a4daa82a0199571ea4958",
            "4d5ff78334ad4bf2a3632139ab1556be"
          ]
        },
        "id": "UgEDswLf90Vo",
        "outputId": "7e178cce-a2dc-4e60-bf5d-1365414f45cc"
      },
      "execution_count": null,
      "outputs": [
        {
          "output_type": "display_data",
          "data": {
            "text/plain": [
              "interactive(children=(FloatSlider(value=1.55, description='α', max=3.0, min=0.1), Output()), _dom_classes=('wi…"
            ],
            "application/vnd.jupyter.widget-view+json": {
              "version_major": 2,
              "version_minor": 0,
              "model_id": "aeb80d7086d34c098110144fac3974d1"
            }
          },
          "metadata": {}
        }
      ]
    },
    {
      "cell_type": "markdown",
      "source": [
        "# Rayleigh-Ritz Approximation to a Particle in a Box"
      ],
      "metadata": {
        "id": "neurhoux1AGV"
      }
    },
    {
      "cell_type": "markdown",
      "source": [
        "We will approximate the ground state of a particle in a box using a test wavefunction that is the linear combination of two arbitrary functions."
      ],
      "metadata": {
        "id": "y0Nw8Nvs8d6-"
      }
    },
    {
      "cell_type": "code",
      "source": [
        "# This pertains to the true solution\n",
        "\n",
        "# Constants\n",
        "# n = 1\n",
        "# hbar = 1.05457160E-34 # J.s\n",
        "# m = 9.10938E-31 kg, for an electron\n",
        "# E_o = n**2*np.pi**2*hbar**2/(2*m*L**2)\n",
        "L = 1 # m\n",
        "\n",
        "Ψ_g = lambda x: np.sqrt(2/L)*np.sin(np.pi*x/L)\n",
        "E_o = np.pi**2/2"
      ],
      "metadata": {
        "id": "H9sf0T-68juf"
      },
      "execution_count": null,
      "outputs": []
    },
    {
      "cell_type": "markdown",
      "source": [
        "The functions are defined and matrix elements computed here"
      ],
      "metadata": {
        "id": "xtsFD_ZE-PEk"
      }
    },
    {
      "cell_type": "code",
      "source": [
        "# Basis wavefunctions\n",
        "Ψ_b = [lambda x: x*(1-x), lambda x: x**2*(1-x)**2]\n",
        "\n",
        "# Here are some basis functions that can be tried\n",
        "# Ψ_b[0] = lambda x: x*(1-x)\n",
        "# Ψ_b[1] = lambda x: x**2*(1-x)**2\n",
        "# Ψ_b[0] = lambda x: x*(1-x)*np.exp(-x)\n",
        "# Ψ_b[1] = lambda x: x**2*(1-x)**2*np.exp(x)\n",
        "\n",
        "# Matrix elements\n",
        "## Overlap integrals\n",
        "S = matrix_elements(Ψ_b, lambda f, x:f(x), 0, L)\n",
        "print(f'S = \\t{S[0,0]:.5f}\\t{S[0,1]:.5f}\\n \\t{S[1,0]:.5f}\\t{S[1,1]:.5f}\\n')\n",
        "\n",
        "## Hamiltonian\n",
        "Hhat = lambda f, x: -d2fdx2(f, x)/2\n",
        "H = matrix_elements(Ψ_b, Hhat, 0, L)\n",
        "print(f'H = \\t{H[0,0]:.5f}\\t{H[0,1]:.5f}\\n \\t{H[0,1]:.5f}\\t{H[1,1]:.5f}')"
      ],
      "metadata": {
        "colab": {
          "base_uri": "https://localhost:8080/"
        },
        "id": "ilVWZqB-5zZB",
        "outputId": "5f200886-90bc-4d86-d8f5-e2a1fbbbaa3b"
      },
      "execution_count": null,
      "outputs": [
        {
          "output_type": "stream",
          "name": "stdout",
          "text": [
            "S = \t0.03333\t0.00714\n",
            " \t0.00714\t0.00159\n",
            "\n",
            "H = \t0.16666\t0.03333\n",
            " \t0.03333\t0.00952\n"
          ]
        }
      ]
    },
    {
      "cell_type": "markdown",
      "source": [
        "Here we can manually adjust the coefficient that the wavefunctions are multiplied by."
      ],
      "metadata": {
        "id": "y4wKs_jK-Vwe"
      }
    },
    {
      "cell_type": "code",
      "source": [
        "x = np.linspace(0,L,100)\n",
        "\n",
        "def render(c_1):\n",
        "  # Solve for c_2 that normalizes the wavefunction\n",
        "  # S[1,1]*c_2*c_2 + 2*c_1*S[0,1]*c_2 + (c_1*c_1*S[0,0] - 1) = 0\n",
        "  a = S[1,1]\n",
        "  b = 2*c_1*S[0,1]\n",
        "  c = (c_1*c_1*S[0,0] - 1)\n",
        "  c_2 = (-b + np.sqrt(np.square(b) - 4*a*c))/(2*a)\n",
        "\n",
        "  E = c_1*c_1*H[0,0] + 2*c_1*c_2*H[0,1] + c_2*c_2*H[1,1]\n",
        "\n",
        "  plt.figure(1)\n",
        "  plt.plot(x, Ψ_g(x))\n",
        "  plt.plot(x, c_1*Ψ_b[0](x),'--')\n",
        "  plt.plot(x, c_2*Ψ_b[1](x),'--')\n",
        "  plt.plot(x, (c_1*Ψ_b[0](x) + c_2*Ψ_b[1](x)))\n",
        "  plt.legend(['Ground state', 'c$_1$*Ψ$_1$', 'c$_2$*Ψ$_2$', 'Ψ$_t$'])\n",
        "  plt.show()\n",
        "\n",
        "  print(f'c_2: \\t{c_2:.3f}')\n",
        "  print(f'E: \\t{E:.5f} hbar**2/m')\n",
        "  print(f'E_o: \\t{E_o:.5f} hbar**2/m')\n",
        "\n",
        "interactive(render, c_1=(0., np.sqrt(1/S[0,0])))"
      ],
      "metadata": {
        "colab": {
          "base_uri": "https://localhost:8080/",
          "height": 517,
          "referenced_widgets": [
            "1f3c5844129947729f495eb66eb205a7",
            "ad91b58893c94f038d0999b61bd7d360",
            "1b58ab1e7f3646ec849b2144efed89e3",
            "d4b099e3af1847228844272858485fd7",
            "89f39fc2fcd44e65b73a07db4cecdd62",
            "f1894aaceb254d839adee79d401e8835",
            "8c405ef3f57b4b9d93f2e748a07bb992"
          ]
        },
        "id": "-DKBdFr6axxB",
        "outputId": "5fe4c44d-ffb3-4bd5-f197-38cff256e86b"
      },
      "execution_count": null,
      "outputs": [
        {
          "output_type": "display_data",
          "data": {
            "text/plain": [
              "interactive(children=(FloatSlider(value=2.7386127875258306, description='c_1', max=5.477225575051661), Output(…"
            ],
            "application/vnd.jupyter.widget-view+json": {
              "version_major": 2,
              "version_minor": 0,
              "model_id": "1f3c5844129947729f495eb66eb205a7"
            }
          },
          "metadata": {}
        }
      ]
    },
    {
      "cell_type": "markdown",
      "source": [
        "The code below finds and plots the optimal solution."
      ],
      "metadata": {
        "id": "H3rBIVzy89xz"
      }
    },
    {
      "cell_type": "code",
      "source": [
        "# det|H - ES|\n",
        "# = (H[0,0] - E*S[0,0])(H[1,1] - E*S[1,1]) - (H[0,1] - E*S[0,1])**2\n",
        "#   H[0,0]*H[1,1] - (H[1,1]*S[0,0] + H[0,0]*S[1,1])*E + S[0,1]*S[1,1]*E**2\n",
        "# -(H[0,1]**2   - 2*H[0,1]*S[0,1]*E             + S[0,1]*S[0,1]*E**2)\n",
        "a = S[0,0]*S[1,1] - S[0,1]*S[0,1]\n",
        "b = -H[1,1]*S[0,0] - H[0,0]*S[1,1] + 2*H[0,1]*S[0,1]\n",
        "c = H[0,0]*H[1,1] - H[0,1]*H[0,1]\n",
        "E = (-b - np.sqrt(np.square(b) - 4*a*c))/(2*a)\n",
        "c2_over_c1 = -(H[0,0] - E*S[0,0])/(H[0,1] - E*S[0,1])\n",
        "c_1 = 1/np.sqrt((S[1,1]*c2_over_c1*c2_over_c1 + 2*S[0,1]*c2_over_c1 + S[0,0]))\n",
        "c_2 = c2_over_c1*c_1\n",
        "\n",
        "print(f'E_o: {E_o:.5f} hbar**2/m')\n",
        "print(f'Optimal E: {E:0.5f} hbar**2/m')\n",
        "print(f'Optimal c_1: {c_1:0.5f}; c_2: {c_2:0.5f}')\n",
        "\n",
        "plt.plot(x, Ψ_g(x))\n",
        "plt.plot(x, (c_1*Ψ_b[0](x) + c_2*Ψ_b[1](x)))\n",
        "plt.legend(['Ground state', 'Ψ$_t$']);"
      ],
      "metadata": {
        "colab": {
          "base_uri": "https://localhost:8080/",
          "height": 482
        },
        "id": "2Evws-k01Oym",
        "outputId": "543120ba-7bae-4795-9558-de8af941be09"
      },
      "execution_count": null,
      "outputs": [
        {
          "output_type": "stream",
          "name": "stdout",
          "text": [
            "E_o: 4.93480 hbar**2/m\n",
            "Optimal E: 4.93450 hbar**2/m\n",
            "Optimal c_1: 4.40227; c_2: 4.99835\n"
          ]
        },
        {
          "output_type": "display_data",
          "data": {
            "text/plain": [
              "<Figure size 640x480 with 1 Axes>"
            ],
            "image/png": "[encoded data removed]"
          },
          "metadata": {}
        }
      ]
    },
    {
      "cell_type": "markdown",
      "source": [
        "--> Replace the basis functions with these below:\n",
        "\n",
        "`Ψ_b = [lambda x: x**2*(1-x), lambda x: x*(1-x)**2]`\n",
        "\n",
        "What are the optimal energy and coefficients?"
      ],
      "metadata": {
        "id": "9sI28puu-jBt"
      }
    },
    {
      "cell_type": "markdown",
      "source": [
        "--> Try another pair of basis wavefunctions and add your code below. What are the optimal energy and coefficients? Remember that your functions should satisfy the boundary conditions (0 at x = 0 and x = 1)."
      ],
      "metadata": {
        "id": "jpOHghzM_hL2"
      }
    }
  ],
  "metadata": {
    "colab": {
      "provenance": [],
      "toc_visible": true
    },
    "kernelspec": {
      "display_name": "Python 3",
      "name": "python3"
    },
    "widgets": {
      "application/vnd.jupyter.widget-state+json": {
        "4f039596c1b34b5cb1980136f026d397": {
          "model_module": "@jupyter-widgets/controls",
          "model_name": "VBoxModel",
          "model_module_version": "1.5.0",
          "state": {
            "_dom_classes": [
              "widget-interact"
            ],
            "_model_module": "@jupyter-widgets/controls",
            "_model_module_version": "1.5.0",
            "_model_name": "VBoxModel",
            "_view_count": null,
            "_view_module": "@jupyter-widgets/controls",
            "_view_module_version": "1.5.0",
            "_view_name": "VBoxView",
            "box_style": "",
            "children": [
              "IPY_MODEL_116ac23665be42518d74e585b9a17019",
              "IPY_MODEL_d339ee7b30394115b76576b97f4317e4",
              "IPY_MODEL_22ad2e76484949a68c0fb21db710d3e7",
              "IPY_MODEL_829782c39ba04f7abdda1b44127ed7f6"
            ],
            "layout": "IPY_MODEL_a0154c9058f14298a9902742d7290402"
          }
        },
        "116ac23665be42518d74e585b9a17019": {
          "model_module": "@jupyter-widgets/controls",
          "model_name": "FloatSliderModel",
          "model_module_version": "1.5.0",
          "state": {
            "_dom_classes": [],
            "_model_module": "@jupyter-widgets/controls",
            "_model_module_version": "1.5.0",
            "_model_name": "FloatSliderModel",
            "_view_count": null,
            "_view_module": "@jupyter-widgets/controls",
            "_view_module_version": "1.5.0",
            "_view_name": "FloatSliderView",
            "continuous_update": true,
            "description": "Height (Hartrees)",
            "description_tooltip": null,
            "disabled": false,
            "layout": "IPY_MODEL_9109b23844c546808da547e4fc03e9a1",
            "max": 1,
            "min": -1,
            "orientation": "horizontal",
            "readout": true,
            "readout_format": ".2f",
            "step": 0.1,
            "style": "IPY_MODEL_5549db4632564274b8846ef2a208b956",
            "value": 0.25
          }
        },
        "d339ee7b30394115b76576b97f4317e4": {
          "model_module": "@jupyter-widgets/controls",
          "model_name": "FloatSliderModel",
          "model_module_version": "1.5.0",
          "state": {
            "_dom_classes": [],
            "_model_module": "@jupyter-widgets/controls",
            "_model_module_version": "1.5.0",
            "_model_name": "FloatSliderModel",
            "_view_count": null,
            "_view_module": "@jupyter-widgets/controls",
            "_view_module_version": "1.5.0",
            "_view_name": "FloatSliderView",
            "continuous_update": true,
            "description": "Width (as fraction of box)",
            "description_tooltip": null,
            "disabled": false,
            "layout": "IPY_MODEL_cc8cce7d85534fb3960459c22da5ef73",
            "max": 1,
            "min": 0,
            "orientation": "horizontal",
            "readout": true,
            "readout_format": ".2f",
            "step": 0.1,
            "style": "IPY_MODEL_fc29f463224e4cbaa067c8e98c23548a",
            "value": 0.1
          }
        },
        "22ad2e76484949a68c0fb21db710d3e7": {
          "model_module": "@jupyter-widgets/controls",
          "model_name": "FloatSliderModel",
          "model_module_version": "1.5.0",
          "state": {
            "_dom_classes": [],
            "_model_module": "@jupyter-widgets/controls",
            "_model_module_version": "1.5.0",
            "_model_name": "FloatSliderModel",
            "_view_count": null,
            "_view_module": "@jupyter-widgets/controls",
            "_view_module_version": "1.5.0",
            "_view_name": "FloatSliderView",
            "continuous_update": true,
            "description": "Center (as fraction of box)",
            "description_tooltip": null,
            "disabled": false,
            "layout": "IPY_MODEL_3b66b2bbee634c37b5bd535cc8fa36cc",
            "max": 1,
            "min": 0,
            "orientation": "horizontal",
            "readout": true,
            "readout_format": ".2f",
            "step": 0.1,
            "style": "IPY_MODEL_b0d20a356cdf4d738e35ce0ee2e72032",
            "value": 0.5
          }
        },
        "829782c39ba04f7abdda1b44127ed7f6": {
          "model_module": "@jupyter-widgets/output",
          "model_name": "OutputModel",
          "model_module_version": "1.0.0",
          "state": {
            "_dom_classes": [],
            "_model_module": "@jupyter-widgets/output",
            "_model_module_version": "1.0.0",
            "_model_name": "OutputModel",
            "_view_count": null,
            "_view_module": "@jupyter-widgets/output",
            "_view_module_version": "1.0.0",
            "_view_name": "OutputView",
            "layout": "IPY_MODEL_72619aac3b3646f592207fc986a642b3",
            "msg_id": "",
            "outputs": [
              {
                "output_type": "display_data",
                "data": {
                  "text/plain": "<Figure size 1200x300 with 3 Axes>",
                  "image/png": "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\n"
                },
                "metadata": {}
              },
              {
                "output_type": "stream",
                "name": "stdout",
                "text": [
                  "Energies (Hartrees):  1.382e-02, 5.528e-02, 1.244e-01, 2.211e-01, 3.455e-01, 4.975e-01, 6.771e-01, 8.844e-01\n",
                  "Hamiltonian matrix elements (Hartrees):\n",
                  "+4.326e-02, +2.071e-18, -4.225e-02, -3.451e-18, +4.027e-02, -9.663e-18, -3.740e-02, -9.663e-18\n",
                  "+2.071e-18, +1.008e-03, -2.071e-18, -1.977e-03, +2.071e-18, +2.870e-03, -2.416e-18, -3.651e-03\n",
                  "-4.225e-02, -2.071e-18, +4.128e-02, +3.451e-18, -3.938e-02, +6.902e-18, +3.662e-02, +6.902e-18\n",
                  "-3.451e-18, -1.977e-03, +3.451e-18, +3.878e-03, -4.141e-18, -5.628e-03, +4.832e-18, +7.162e-03\n",
                  "+4.027e-02, +2.071e-18, -3.938e-02, -4.141e-18, +3.763e-02, -5.522e-18, -3.509e-02, -6.902e-18\n",
                  "-9.663e-18, +2.870e-03, +6.902e-18, -5.628e-03, -5.522e-18, +8.170e-03, +6.902e-18, -1.040e-02\n",
                  "-3.740e-02, -2.416e-18, +3.662e-02, +4.832e-18, -3.509e-02, +6.902e-18, +3.286e-02, +8.283e-18\n",
                  "-9.663e-18, -3.651e-03, +6.902e-18, +7.162e-03, -6.902e-18, -1.040e-02, +8.283e-18, +1.324e-02\n",
                  "Coefficients       :  1.0000000, -0.0000000, 0.3821718, 0.0000000, -0.1214290, 0.0000000, 0.0563883, 0.0000000\n"
                ]
              }
            ]
          }
        },
        "a0154c9058f14298a9902742d7290402": {
          "model_module": "@jupyter-widgets/base",
          "model_name": "LayoutModel",
          "model_module_version": "1.2.0",
          "state": {
            "_model_module": "@jupyter-widgets/base",
            "_model_module_version": "1.2.0",
            "_model_name": "LayoutModel",
            "_view_count": null,
            "_view_module": "@jupyter-widgets/base",
            "_view_module_version": "1.2.0",
            "_view_name": "LayoutView",
            "align_content": null,
            "align_items": null,
            "align_self": null,
            "border": null,
            "bottom": null,
            "display": null,
            "flex": null,
            "flex_flow": null,
            "grid_area": null,
            "grid_auto_columns": null,
            "grid_auto_flow": null,
            "grid_auto_rows": null,
            "grid_column": null,
            "grid_gap": null,
            "grid_row": null,
            "grid_template_areas": null,
            "grid_template_columns": null,
            "grid_template_rows": null,
            "height": null,
            "justify_content": null,
            "justify_items": null,
            "left": null,
            "margin": null,
            "max_height": null,
            "max_width": null,
            "min_height": null,
            "min_width": null,
            "object_fit": null,
            "object_position": null,
            "order": null,
            "overflow": null,
            "overflow_x": null,
            "overflow_y": null,
            "padding": null,
            "right": null,
            "top": null,
            "visibility": null,
            "width": null
          }
        },
        "9109b23844c546808da547e4fc03e9a1": {
          "model_module": "@jupyter-widgets/base",
          "model_name": "LayoutModel",
          "model_module_version": "1.2.0",
          "state": {
            "_model_module": "@jupyter-widgets/base",
            "_model_module_version": "1.2.0",
            "_model_name": "LayoutModel",
            "_view_count": null,
            "_view_module": "@jupyter-widgets/base",
            "_view_module_version": "1.2.0",
            "_view_name": "LayoutView",
            "align_content": null,
            "align_items": null,
            "align_self": null,
            "border": null,
            "bottom": null,
            "display": null,
            "flex": null,
            "flex_flow": null,
            "grid_area": null,
            "grid_auto_columns": null,
            "grid_auto_flow": null,
            "grid_auto_rows": null,
            "grid_column": null,
            "grid_gap": null,
            "grid_row": null,
            "grid_template_areas": null,
            "grid_template_columns": null,
            "grid_template_rows": null,
            "height": null,
            "justify_content": null,
            "justify_items": null,
            "left": null,
            "margin": null,
            "max_height": null,
            "max_width": null,
            "min_height": null,
            "min_width": null,
            "object_fit": null,
            "object_position": null,
            "order": null,
            "overflow": null,
            "overflow_x": null,
            "overflow_y": null,
            "padding": null,
            "right": null,
            "top": null,
            "visibility": null,
            "width": null
          }
        },
        "5549db4632564274b8846ef2a208b956": {
          "model_module": "@jupyter-widgets/controls",
          "model_name": "SliderStyleModel",
          "model_module_version": "1.5.0",
          "state": {
            "_model_module": "@jupyter-widgets/controls",
            "_model_module_version": "1.5.0",
            "_model_name": "SliderStyleModel",
            "_view_count": null,
            "_view_module": "@jupyter-widgets/base",
            "_view_module_version": "1.2.0",
            "_view_name": "StyleView",
            "description_width": "",
            "handle_color": null
          }
        },
        "cc8cce7d85534fb3960459c22da5ef73": {
          "model_module": "@jupyter-widgets/base",
          "model_name": "LayoutModel",
          "model_module_version": "1.2.0",
          "state": {
            "_model_module": "@jupyter-widgets/base",
            "_model_module_version": "1.2.0",
            "_model_name": "LayoutModel",
            "_view_count": null,
            "_view_module": "@jupyter-widgets/base",
            "_view_module_version": "1.2.0",
            "_view_name": "LayoutView",
            "align_content": null,
            "align_items": null,
            "align_self": null,
            "border": null,
            "bottom": null,
            "display": null,
            "flex": null,
            "flex_flow": null,
            "grid_area": null,
            "grid_auto_columns": null,
            "grid_auto_flow": null,
            "grid_auto_rows": null,
            "grid_column": null,
            "grid_gap": null,
            "grid_row": null,
            "grid_template_areas": null,
            "grid_template_columns": null,
            "grid_template_rows": null,
            "height": null,
            "justify_content": null,
            "justify_items": null,
            "left": null,
            "margin": null,
            "max_height": null,
            "max_width": null,
            "min_height": null,
            "min_width": null,
            "object_fit": null,
            "object_position": null,
            "order": null,
            "overflow": null,
            "overflow_x": null,
            "overflow_y": null,
            "padding": null,
            "right": null,
            "top": null,
            "visibility": null,
            "width": null
          }
        },
        "fc29f463224e4cbaa067c8e98c23548a": {
          "model_module": "@jupyter-widgets/controls",
          "model_name": "SliderStyleModel",
          "model_module_version": "1.5.0",
          "state": {
            "_model_module": "@jupyter-widgets/controls",
            "_model_module_version": "1.5.0",
            "_model_name": "SliderStyleModel",
            "_view_count": null,
            "_view_module": "@jupyter-widgets/base",
            "_view_module_version": "1.2.0",
            "_view_name": "StyleView",
            "description_width": "",
            "handle_color": null
          }
        },
        "3b66b2bbee634c37b5bd535cc8fa36cc": {
          "model_module": "@jupyter-widgets/base",
          "model_name": "LayoutModel",
          "model_module_version": "1.2.0",
          "state": {
            "_model_module": "@jupyter-widgets/base",
            "_model_module_version": "1.2.0",
            "_model_name": "LayoutModel",
            "_view_count": null,
            "_view_module": "@jupyter-widgets/base",
            "_view_module_version": "1.2.0",
            "_view_name": "LayoutView",
            "align_content": null,
            "align_items": null,
            "align_self": null,
            "border": null,
            "bottom": null,
            "display": null,
            "flex": null,
            "flex_flow": null,
            "grid_area": null,
            "grid_auto_columns": null,
            "grid_auto_flow": null,
            "grid_auto_rows": null,
            "grid_column": null,
            "grid_gap": null,
            "grid_row": null,
            "grid_template_areas": null,
            "grid_template_columns": null,
            "grid_template_rows": null,
            "height": null,
            "justify_content": null,
            "justify_items": null,
            "left": null,
            "margin": null,
            "max_height": null,
            "max_width": null,
            "min_height": null,
            "min_width": null,
            "object_fit": null,
            "object_position": null,
            "order": null,
            "overflow": null,
            "overflow_x": null,
            "overflow_y": null,
            "padding": null,
            "right": null,
            "top": null,
            "visibility": null,
            "width": null
          }
        },
        "b0d20a356cdf4d738e35ce0ee2e72032": {
          "model_module": "@jupyter-widgets/controls",
          "model_name": "SliderStyleModel",
          "model_module_version": "1.5.0",
          "state": {
            "_model_module": "@jupyter-widgets/controls",
            "_model_module_version": "1.5.0",
            "_model_name": "SliderStyleModel",
            "_view_count": null,
            "_view_module": "@jupyter-widgets/base",
            "_view_module_version": "1.2.0",
            "_view_name": "StyleView",
            "description_width": "",
            "handle_color": null
          }
        },
        "72619aac3b3646f592207fc986a642b3": {
          "model_module": "@jupyter-widgets/base",
          "model_name": "LayoutModel",
          "model_module_version": "1.2.0",
          "state": {
            "_model_module": "@jupyter-widgets/base",
            "_model_module_version": "1.2.0",
            "_model_name": "LayoutModel",
            "_view_count": null,
            "_view_module": "@jupyter-widgets/base",
            "_view_module_version": "1.2.0",
            "_view_name": "LayoutView",
            "align_content": null,
            "align_items": null,
            "align_self": null,
            "border": null,
            "bottom": null,
            "display": null,
            "flex": null,
            "flex_flow": null,
            "grid_area": null,
            "grid_auto_columns": null,
            "grid_auto_flow": null,
            "grid_auto_rows": null,
            "grid_column": null,
            "grid_gap": null,
            "grid_row": null,
            "grid_template_areas": null,
            "grid_template_columns": null,
            "grid_template_rows": null,
            "height": null,
            "justify_content": null,
            "justify_items": null,
            "left": null,
            "margin": null,
            "max_height": null,
            "max_width": null,
            "min_height": null,
            "min_width": null,
            "object_fit": null,
            "object_position": null,
            "order": null,
            "overflow": null,
            "overflow_x": null,
            "overflow_y": null,
            "padding": null,
            "right": null,
            "top": null,
            "visibility": null,
            "width": null
          }
        },
        "972d47162812423891a6fb87636600e4": {
          "model_module": "@jupyter-widgets/controls",
          "model_name": "VBoxModel",
          "model_module_version": "1.5.0",
          "state": {
            "_dom_classes": [
              "widget-interact"
            ],
            "_model_module": "@jupyter-widgets/controls",
            "_model_module_version": "1.5.0",
            "_model_name": "VBoxModel",
            "_view_count": null,
            "_view_module": "@jupyter-widgets/controls",
            "_view_module_version": "1.5.0",
            "_view_name": "VBoxView",
            "box_style": "",
            "children": [
              "IPY_MODEL_d9031e5dc7ed4e97b824771c67a191bc",
              "IPY_MODEL_fa8862141048407182174ed0108f8d39",
              "IPY_MODEL_fe59812d78aa4b1481c7b3e6783c27d8"
            ],
            "layout": "IPY_MODEL_fd10c1d26ea44b28bfdce3565ad06953"
          }
        },
        "d9031e5dc7ed4e97b824771c67a191bc": {
          "model_module": "@jupyter-widgets/controls",
          "model_name": "FloatSliderModel",
          "model_module_version": "1.5.0",
          "state": {
            "_dom_classes": [],
            "_model_module": "@jupyter-widgets/controls",
            "_model_module_version": "1.5.0",
            "_model_name": "FloatSliderModel",
            "_view_count": null,
            "_view_module": "@jupyter-widgets/controls",
            "_view_module_version": "1.5.0",
            "_view_name": "FloatSliderView",
            "continuous_update": true,
            "description": "Height (Hartrees)",
            "description_tooltip": null,
            "disabled": false,
            "layout": "IPY_MODEL_fcc935ac61f3419d8dfe9b57c21eac6a",
            "max": 1,
            "min": -1,
            "orientation": "horizontal",
            "readout": true,
            "readout_format": ".2f",
            "step": 0.1,
            "style": "IPY_MODEL_40dc4800b6424865b00a298841f53be8",
            "value": 0.25
          }
        },
        "fa8862141048407182174ed0108f8d39": {
          "model_module": "@jupyter-widgets/controls",
          "model_name": "IntSliderModel",
          "model_module_version": "1.5.0",
          "state": {
            "_dom_classes": [],
            "_model_module": "@jupyter-widgets/controls",
            "_model_module_version": "1.5.0",
            "_model_name": "IntSliderModel",
            "_view_count": null,
            "_view_module": "@jupyter-widgets/controls",
            "_view_module_version": "1.5.0",
            "_view_name": "IntSliderView",
            "continuous_update": true,
            "description": "Half periods",
            "description_tooltip": null,
            "disabled": false,
            "layout": "IPY_MODEL_329dd602babf48cdb7c68fc533279d33",
            "max": 10,
            "min": 0,
            "orientation": "horizontal",
            "readout": true,
            "readout_format": "d",
            "step": 1,
            "style": "IPY_MODEL_a22696241e114a5b869b79505f9adee3",
            "value": 1
          }
        },
        "fe59812d78aa4b1481c7b3e6783c27d8": {
          "model_module": "@jupyter-widgets/output",
          "model_name": "OutputModel",
          "model_module_version": "1.0.0",
          "state": {
            "_dom_classes": [],
            "_model_module": "@jupyter-widgets/output",
            "_model_module_version": "1.0.0",
            "_model_name": "OutputModel",
            "_view_count": null,
            "_view_module": "@jupyter-widgets/output",
            "_view_module_version": "1.0.0",
            "_view_name": "OutputView",
            "layout": "IPY_MODEL_141c62ea5e1743d7b1a0347bf6b05b80",
            "msg_id": "",
            "outputs": [
              {
                "output_type": "display_data",
                "data": {
                  "text/plain": "<Figure size 1200x300 with 3 Axes>",
                  "image/png": "iVBORw0KGgoAAAANSUhEUgAAA94AAAE8CAYAAAA2fmmLAAAAOXRFWHRTb2Z0d2FyZQBNYXRwbG90bGliIHZlcnNpb24zLjcuMSwgaHR0cHM6Ly9tYXRwbG90bGliLm9yZy/bCgiHAAAACXBIWXMAAA9hAAAPYQGoP6dpAADRxUlEQVR4nOzdd1xT1/vA8U8S9gZBEFnugYq4t7j3tu466qhau+zUtlpbW2tr1d/XWq1at9ZZ95a6xS2KeyMqU2Xv5P7+oIlSHIAJF8J5v168WpJ773mCyc197jnnOQpJkiQEQRAEQRAEQRAEQTAIpdwBCIIgCIIgCIIgCIIxE4m3IAiCIAiCIAiCIBiQSLwFQRAEQRAEQRAEwYBE4i0IgiAIgiAIgiAIBiQSb0EQBEEQBEEQBEEwIJF4C4IgCIIgCIIgCIIBicRbEARBEARBEARBEAxIJN6CIAiCIAiCIAiCYEAi8RYEQRAEQRAEQRAEAxKJt5BvCoWCcePGFUhbAQEBBAQEFEhbL7Ju3TqcnJxITEyULYai5MqVK5iYmHDp0iW5QxGEYm/FihVUrlwZU1NTHBwc5A7nhe7du4dCoWDp0qVyhyIIgpHR9/Xq0qVLUSgUnDlz5rXb/vf69UXnum+//RaFQqG3+ITCSyTeBUz7YdX+WFhYULFiRcaNG0dkZKRe2/r999+L1EXMlStX+Pbbb7l3757coWSjVquZPHky77//PjY2NrrHfXx86Ny58wv3OXjwIAqFgg0bNug1luPHj/Ptt98SGxur1+PqW9WqVenUqROTJk2SOxRB0It169ahUCjYtGlTjuf8/PxQKBQcOHAgx3NeXl40atSoIEJ8oWvXrjF06FDKlSvHwoULWbBggWyxAKxevZrZs2fLGoMgCIVDQV4TFzU//vgjmzdvljsMQc9E4i2T7777jhUrVvDbb7/RqFEj5s2bR8OGDUlOTtZbG0Ux8Z4yZcoLE++9e/eyd+/egg8K2LZtG9evX2fUqFGytP+848ePM2XKlEKfeAOMHj2aTZs2cfv2bblDEYQ31qRJEwCOHj2a7fH4+HguXbqEiYkJx44dy/ZcWFgYYWFhun3lcPDgQTQaDf/3f//H0KFD6dOnj2yxwMsTb29vb1JSUnj77bcLPihBEGRVENfEcsnN9evXX39NSkpKtsdE4m2cROItkw4dOjBo0CBGjBjB0qVL+eijj7h79y5btmx542Mb8kQlSVKOk0NBMDMzw8zMrMDbBViyZAmNGzemdOnSsrQPkJSUlOd9NBoNqampBogmd1q3bo2joyPLli2TLQZB0Bd3d3fKlCmTI/EOCgpCkiTeeuutHM9pf5cz8Y6KigIotEPMtbS9XSqVSu5QBEEoYHm9Js7PNZFccnP9amJigoWFRQFFJMhJJN6FRMuWLQG4e/eu7rGVK1dSu3ZtLC0tcXJyol+/foSFhWXbLyAggGrVqnH27FmaNWuGlZUVEydOxMfHh8uXL3Po0CHdEB7tHJOXzSXRDvl5vsdZO5x6z5491KlTB0tLS/74449s+61atYpKlSphYWFB7dq1OXz4cLbnQ0NDGTt2LJUqVcLS0pISJUrw1ltvZWtn6dKlvPXWWwC0aNFCF/PBgwd1r/O/c7yjoqIYPnw4rq6uWFhY4OfnlyPJ086lmTFjBgsWLKBcuXKYm5tTt25dTp8+/eJ/jOekpqaye/duWrdu/dptXyc3fwd49u9w6NAhxo4dS8mSJfHw8ODbb7/ls88+A6BMmTK6v5F2f+0cplWrVuHr64u5uTm7d+8G4OHDh7zzzju4urpibm6Or68vixcvzhFjWloakydPpnz58pibm+Pp6cnnn39OWlpatu327dtHkyZNcHBwwMbGhkqVKjFx4sRs25iamhIQEKCXm0mCUBg0adKE8+fPZ7v5eOzYMXx9fenQoQMnTpxAo9Fke06hUNC4cWOWLFlCy5YtKVmyJObm5lStWpV58+ZlO37nzp0pW7bsC9tu2LAhderUyfbY674jfHx8mDx5MgAuLi4oFAq+/fZbgGz//zwfHx+GDh2q+117Pjp27Bjjx4/HxcUFa2trevToQXR0dI79d+3aRfPmzbG1tcXOzo66deuyevVqIOs8vmPHDkJDQ3XnLx8fH+Dlc7z/+ecfmjZtirW1NQ4ODnTr1o2rV69m20b7nXbr1i2GDh2Kg4MD9vb2DBs2zCh6zAShuHn+mnjo0KHY2Nhw+/ZtOnbsiK2tLQMHDgSyEvBPPvkET09PzM3NqVSpEjNmzECSpBceVx/Xq89LTk7m3XffpUSJEtjZ2TF48GCePn2abZvc1Cj673W5QqEgKSmJZcuW6c6VQ4cO5cCBAy+d8rR69WoUCgVBQUGvbEuQl4ncAQhZtMNxS5QoAcAPP/zAN998Q58+fRgxYgTR0dHMmTOHZs2acf78+Wy9F48fP6ZDhw7069ePQYMG4erqSkBAgG5O8ldffQWAq6trvmK7fv06/fv3591332XkyJFUqlRJ99yhQ4dYu3YtH3zwAebm5vz++++0b9+eU6dOUa1aNQBOnz7N8ePH6devHx4eHty7d4958+YREBDAlStXsLKyolmzZnzwwQf873//Y+LEiVSpUgVA99//SklJISAggFu3bjFu3DjKlCnD+vXrGTp0KLGxsXz44YfZtl+9ejUJCQm8++67KBQKfv75Z3r27MmdO3cwNTV96Ws/e/Ys6enp1KpV64XPZ2RkEBMTk+PxuLi4HI/l5u/wvLFjx+Li4sKkSZNISkqiQ4cO3Lhxg7/++otZs2bh7OwMZF1Qa/3zzz+sW7eOcePG4ezsjI+PD5GRkTRo0ECXmLu4uLBr1y6GDx9OfHw8H330EZDVQ961a1eOHj3KqFGjqFKlCiEhIcyaNYsbN27ohjxdvnyZzp07U6NGDb777jvMzc25detWjmG2ALVr12bLli3Ex8djZ2f30r+zIBQFTZo0YcWKFZw8eVJ3IXXs2DEaNWpEo0aNiIuL49KlS9SoUUP3XOXKlSlRogTz5s3D19eXrl27YmJiwrZt2xg7diwajYb33nsPgL59+zJ48GBOnz5N3bp1de2GhoZy4sQJfvnlF91jufmOmD17NsuXL2fTpk3MmzcPGxsbXWx59f777+Po6MjkyZO5d+8es2fPZty4caxdu1a3zdKlS3nnnXfw9fVlwoQJODg4cP78eXbv3s2AAQP46quviIuL48GDB8yaNQsgW92M/9q/fz8dOnSgbNmyfPvtt6SkpDBnzhwaN27MuXPndEm7Vp8+fShTpgzTpk3j3LlzLFq0iJIlSzJ9+vR8vWZBEOTx32vizMxM2rVrR5MmTZgxYwZWVlZIkkTXrl05cOAAw4cPp2bNmuzZs4fPPvuMhw8f6s4xWvq6Xn3euHHjcHBw4Ntvv+X69evMmzeP0NBQXZ2f/FqxYgUjRoygXr16ummO5cqVo0GDBnh6erJq1Sp69OiRbZ9Vq1ZRrlw5GjZsmO92hQIgCQVqyZIlEiDt379fio6OlsLCwqQ1a9ZIJUqUkCwtLaUHDx5I9+7dk1QqlfTDDz9k2zckJEQyMTHJ9njz5s0lQJo/f36Otnx9faXmzZvneHzy5MnSi/7ptbHdvXtX95i3t7cESLt3786xPSAB0pkzZ3SPhYaGShYWFlKPHj10jyUnJ+fYNygoSAKk5cuX6x5bv369BEgHDhzIsX3z5s2zvZbZs2dLgLRy5UrdY+np6VLDhg0lGxsbKT4+XpIkSbp7964ESCVKlJCePHmi23bLli0SIG3bti1HW89btGiRBEghISE5ntP+bV71s379+jz/HbT/Dk2aNJEyMzOzbf/LL7/k+DfSAiSlUildvnw52+PDhw+XSpUqJcXExGR7vF+/fpK9vb0urhUrVkhKpVI6cuRItu3mz58vAdKxY8ckSZKkWbNmSYAUHR39oj9ZNqtXr5YA6eTJk6/dVhAKu8uXL0uA9P3330uSJEkZGRmStbW1tGzZMkmSJMnV1VWaO3euJEmSFB8fL6lUKmnkyJGSJL3489+uXTupbNmyut/j4uIkc3Nz6ZNPPsm23c8//ywpFAopNDRUkiQpT98R2vP9fz+vgDR58uQcMXl7e0tDhgzR/a49H7Vu3VrSaDS6xz/++GNJpVJJsbGxkiRJUmxsrGRrayvVr19fSklJyXbM5/fr1KmT5O3tnaNd7bl6yZIlusdq1qwplSxZUnr8+LHusQsXLkhKpVIaPHhwjtf4zjvvZDtmjx49pBIlSuRoSxCEwiE318RDhgyRAOnLL7/Mtu/mzZslQJo6dWq2x3v37i0pFArp1q1busf0fb2qjbt27dpSenq67vGff/5ZAqQtW7boHvvv9euLznUvui63trbOdi7WmjBhgmRubq4790qSJEVFRUkmJiYvPKcLhYsYai6T1q1b4+LigqenJ/369cPGxoZNmzZRunRp/v77bzQaDX369CEmJkb34+bmRoUKFXJUzjU3N2fYsGEGi7VMmTK0a9fuhc81bNiQ2rVr63738vKiW7du7NmzB7VaDYClpaXu+YyMDB4/fkz58uVxcHDg3Llz+Ypp586duLm50b9/f91jpqamfPDBByQmJnLo0KFs2/ft2xdHR0fd702bNgXgzp07r2zn8ePHANn2fV79+vXZt29fjp8ZM2bk2Davf4eRI0fmeb5j8+bNqVq1qu53SZLYuHEjXbp0QZKkbO+ndu3aERcXp2t7/fr1VKlShcqVK2fbTjvkS/u+04622LJlS7ZhtS+i/bu9aFSAIBQ1VapUoUSJErq52xcuXCApKUlXtbxRo0a6kR9BQUGo1Wrd/O7nP/9xcXHExMTQvHlz7ty5oxshY2dnR4cOHVi3bl22oZJr166lQYMGeHl5AeT5O0IfRo0ala0Hp2nTpqjVakJDQ4Gs6ScJCQl8+eWXOeYq5qfnJzw8nODgYIYOHYqTk5Pu8Ro1atCmTRt27tyZY5/Ro0dn+71p06Y8fvyY+Pj4PLcvCELBedU1sdaYMWOy7bNz505UKhUffPBBtsc/+eQTJEli165d2R43xPXqqFGjso2aHDNmDCYmJi88P+nL4MGDSUtLy7Zqztq1a8nMzGTQoEEGa1fQDzHUXCZz586lYsWKmJiY4OrqSqVKlVAqs+6D3Lx5E0mSqFChwgv3/e/Q6NKlSxu08FiZMmVe+tyLYqxYsSLJyclER0fj5uZGSkoK06ZNY8mSJTx8+DDbBeWLhmTnRmhoKBUqVND9zbS0Q9O1F4Na2gtWLW1C+N+5OC8jvWS+kLOz8wvnf5uY5Pxo5fXv8Kq/+8v8d5/o6GhiY2NZsGDBS5cR0hZfunnzJlevXs02dP1F2/Xt25dFixYxYsQIvvzyS1q1akXPnj3p3bt3jn8P7WsU61MKxkChUNCoUSMOHz6MRqPh2LFjlCxZkvLlywNZifdvv/0GoEvAtYn3sWPHmDx5MkFBQTnmHcfFxWFvbw9kfb42b95MUFAQjRo14vbt25w9ezZbJfC8fkfow+vOodqhodohm29Kew5/fmqTVpUqVdizZw9JSUlYW1vnKkYx1UXIjcOHD/PLL79w9uxZwsPD2bRpE927d8/TMdatW8ePP/7IjRs3cHFxYdy4cbr6LMKLveqaGLKuqTw8PLLtExoairu7O7a2ttkef9l1oCGuV/97TBsbG0qVKmXQZXErV65M3bp1WbVqFcOHDweyhpk3aNBA910kFF4i8ZZJvXr1chTK0dJoNCgUCnbt2vXCHs//zol7/g5dbrwsCdLe8fuvvB7/v95//32WLFnCRx99RMOGDbG3t0ehUNCvX7/X9pjqy8t6jl+WUGtp5xc9ffo0x0k/r/L6d8jP3/2/+2iPO2jQIIYMGfLCfbRzPjUaDdWrV2fmzJkv3M7T01PXxuHDhzlw4AA7duxg9+7drF27lpYtW7J3795sf2vtRbl2ProgFHVNmjRh27ZthISE6OZ3azVq1Eg3v/Do0aO4u7tTtmxZbt++TatWrahcuTIzZ87E09MTMzMzdu7cyaxZs7J9/rt06YKVlRXr1q2jUaNGrFu3DqVSqSs+CXn/jsiLl30P5PccWpCKQoxC4ZaUlISfnx/vvPMOPXv2zPP+u3btYuDAgcyZM4e2bdty9epVRo4ciaWlJePGjTNAxMbhVdfEkDWy87839g2hMFyv5sbgwYP58MMPefDgAWlpaZw4cUJ301co3ETiXQiVK1cOSZIoU6YMFStWzPdxXpZga3sBYmNjsxVp++/dwdy4efNmjsdu3LiBlZWVrud0w4YNDBkyhF9//VW3TWpqao61qPPSK+rt7c3FixfRaDTZTsbXrl3TPa8PlStXBrIqa1avXv2NjpXbv8Or5LXn2MXFBVtbW9Rq9Wsrs5crV44LFy7QqlWr17ajVCpp1aoVrVq1YubMmfz444989dVXHDhwIFs7d+/eRalUvtH7WBAKk+fX8z527JiuOCFkFRM0Nzfn4MGDnDx5ko4dOwKwbds20tLS2Lp1a7Ze2RcNCbe2tqZz586sX7+emTNnsnbtWpo2bYq7u7tuG318Rzg6OuY496SnpxMeHp6v45UrVw6AS5cuvbLXJbfnMO05/Pr16zmeu3btGs7Oztl6uwVBHzp06ECHDh1e+nxaWhpfffUVf/31F7GxsVSrVo3p06frii2uWLGC7t2766Y9lC1blgkTJjB9+nTee+89MfpLj7y9vdm/fz8JCQnZer1fdh2oz+vV54/ZokUL3e+JiYmEh4frzv1v4lXvlX79+jF+/Hj++usvUlJSMDU1pW/fvm/cpmB4Yo53IdSzZ09UKhVTpkzJcadekiTdvOPXsba2fuHJQnuB9PwyCtplC/IqKCgo27yXsLAwtmzZQtu2bXW9DyqVKsfrmDNnTo6eFe1FVG4S0Y4dOxIREZGtom5mZiZz5szBxsaG5s2b5/m1vEjt2rUxMzPjzJkzb3ys3P4dXiUvfyNtm7169WLjxo1cunQpx/PPLwfUp08fHj58yMKFC3Nsl5KSols388mTJzmer1mzJkCOZcfOnj2Lr6+vbhitIBR1derUwcLCglWrVvHw4cNsPd7m5ubUqlWLuXPnkpSUpEvStefC/w5bXLJkyQvb6Nu3L48ePWLRokVcuHAhxwWVPr4jypUrl2MpnQULFuTpfPS8tm3bYmtry7Rp00hNTc0Rk5a1tXWuphiVKlWKmjVrsmzZsmznu0uXLrF37169XNgKQl6NGzeOoKAg1qxZw8WLF3nrrbdo3769LqlLS0vLUePA0tKSBw8e5KtzQ3i5jh07olarc/T0zpo1C4VCkeMGij6vV7UWLFhARkaG7vd58+aRmZn5yps3ufWya3jIGkXYoUMHVq5cyapVq2jfvr0YWVhEiB7vQqhcuXJMnTqVCRMmcO/ePbp3746trS13795l06ZNjBo1ik8//fS1x6lduzbz5s1j6tSplC9fnpIlS9KyZUvatm2Ll5cXw4cP57PPPkOlUrF48WJcXFy4f/9+nmKtVq0a7dq1y7Y8A8CUKVN023Tu3JkVK1Zgb29P1apVCQoKYv/+/bph3Fo1a9ZEpVIxffp04uLiMDc31617+1+jRo3ijz/+YOjQoZw9exYfHx82bNjAsWPHmD17do45P/llYWFB27Zt2b9/P999990bHSu3f4dX0RYG+eqrr+jXrx+mpqZ06dLllT0/P/30EwcOHKB+/fqMHDmSqlWr8uTJE86dO8f+/ft1ifTbb7/NunXrGD16NAcOHKBx48ao1WquXbvGunXrdGu5f/fddxw+fJhOnTrh7e1NVFQUv//+Ox4eHrpEA7IKk2jXIhcEY2FmZkbdunU5cuQI5ubm2Yr1QNZwc21vifbz0LZtW8zMzOjSpQvvvvsuiYmJLFy4kJIlS76wh1m7Vu2nn36qu3n2PH18R4wYMYLRo0fTq1cv2rRpw4ULF9izZ0++L97s7OyYNWsWI0aMoG7dugwYMABHR0cuXLhAcnKy7sZu7dq1Wbt2LePHj6du3brY2NjQpUuXFx7zl19+oUOHDjRs2JDhw4frlhOzt7d/4RrkgmBI9+/fZ8mSJdy/f183AuXTTz9l9+7dLFmyhB9//JF27drx8ccfM3ToUFq0aMGtW7d054Pw8PAcS+AJ+delSxdatGjBV199xb179/Dz82Pv3r1s2bKFjz76SNfJpKXP61Wt9PR0WrVqRZ8+fbh+/Tq///47TZo0oWvXrm/8+mrXrs3+/fuZOXMm7u7ulClThvr16+ueHzx4ML179wbg+++/f+P2hAJSYPXTBUmSni1BcPr06dduu3HjRqlJkyaStbW1ZG1tLVWuXFl67733pOvXr+u2ad68ueTr6/vC/SMiIqROnTpJtra2EpBtOYOzZ89K9evXl8zMzCQvLy9p5syZL11OrFOnTi88PiC999570sqVK6UKFSpI5ubmkr+/f47lwJ4+fSoNGzZMcnZ2lmxsbKR27dpJ165dy7FsjSRJ0sKFC6WyZctKKpUq29Ji/12OQZIkKTIyUndcMzMzqXr16tmWZ5CkZ8s2/PLLLy+MPzdLL/z999+SQqGQ7t+/n+3xV/1tDhw4kGM5sdz+HV73Hvn++++l0qVLS0qlMtu/l/bf40UiIyOl9957T/L09JRMTU0lNzc3qVWrVtKCBQuybZeeni5Nnz5d8vX1lczNzSVHR0epdu3a0pQpU6S4uDhJkiQpMDBQ6tatm+Tu7i6ZmZlJ7u7uUv/+/aUbN25kO9auXbskQLp58+YLYxKEomrChAkSIDVq1CjHc3///bcESLa2ttmWA9y6datUo0YNycLCQvLx8ZGmT58uLV68+KXLAw4cOFC3jNfL5OY74mXLianVaumLL76QnJ2dJSsrK6ldu3bSrVu3cn0+0p7j/nu+37p1q9SoUSPJ0tJSsrOzk+rVqyf99ddfuucTExOlAQMGSA4ODhKgW1rsRUvsSJIk7d+/X2rcuLHueF26dJGuXLmSbZuXvcYXfacJQm4B0qZNm3S/b9++XQJ0nzftj4mJidSnTx9JkrKWzvv8888lCwsLSaVSSY6OjtK3334rAdKJEydkeiWFV26uiYcMGSJZW1u/8LmEhATp448/ltzd3SVTU1OpQoUK0i+//JJtCUNJ0v/1qjbuQ4cOSaNGjZIcHR0lGxsbaeDAgdmWP5Sk/C8ndu3aNalZs2aSpaWlBOS4Xk5LS5McHR0le3v7HEs4CoWXQpJE1RFBeBW1Wk3VqlXp06ePuKuYB927d0ehULBp0ya5QxEEQRCEPNF+f2mrmq9du5aBAwdy+fLlHIX8bGxscHNz0/2uVquJiIjAxcWFwMBAOnbsSFRU1EtXDRGEvMrMzMTd3Z0uXbrw559/yh2OkEtiqLkgvIZKpeK7775jzJgxfPHFF29UMbi4uHr1Ktu3byc4OFjuUARBEAThjfn7+6NWq4mKiqJp06av3FalUunWoP7rr79o2LChSLoFvdq8eTPR0dEMHjxY7lCEPBA93oIgCIIgCEKxl5iYyK1bt4CsRHvmzJm0aNECJycnvLy8GDRoEMeOHePXX3/F39+f6OhoAgMDqVGjBp06dSImJoYNGzYQEBBAamoqS5YsYcGCBRw6dIh69erJ/OoEY3Dy5EkuXrzI999/j7Ozc7aCcULhJxJvQRAEQRAEodg7ePBgtuWhtIYMGcLSpUvJyMhg6tSpLF++nIcPH+Ls7EyDBg2YMmUK1atXJyYmhi5duhASEoIkSTRs2JAffvghW1EsQXgTQ4cOZeXKldSsWZOlS5dSrVo1uUMS8kAk3oIgCIIgCIIgCIJgQGIdb0EQBEEQBEEQBEEwIJF4C4IgCIIgCIIgCIIBGUVVc41Gw6NHj7C1tUWhUMgdjiAIRZAkSSQkJODu7o5SaVz3JMU5UhCENyHOj4IgCC+Wl/OjUSTejx49wtPTU+4wBEEwAmFhYXh4eMgdhl6Jc6QgCPogzo+CIAgvlpvzo1Ek3ra2tkDWC7azs5M5GkEQiqL4+Hg8PT115xNjIs6RgiC8CXF+FARBeLG8nB+NIvHWDg2ys7MTJ01BEN6IMQ41FOdIQRD0QZwfBUEQXiw350fjmqgjCIIgCIIgCIIgCIWMSLwFQRAEQRAEQRAEwYBE4i0IgiAIgiAIgiAIBpSvxHvu3Ln4+PhgYWFB/fr1OXXq1Eu3XbhwIU2bNsXR0RFHR0dat26dY/uhQ4eiUCiy/bRv3z4/oQmCIAiCIAiCIAhCoZLnxHvt2rWMHz+eyZMnc+7cOfz8/GjXrh1RUVEv3P7gwYP079+fAwcOEBQUhKenJ23btuXhw4fZtmvfvj3h4eG6n7/++it/r0gQBEEQBEEQBEEQCpE8J94zZ85k5MiRDBs2jKpVqzJ//nysrKxYvHjxC7dftWoVY8eOpWbNmlSuXJlFixah0WgIDAzMtp25uTlubm66H0dHx/y9IkEQBEEQBEEQBEEoRPK0nFh6ejpnz55lwoQJuseUSiWtW7cmKCgoV8dITk4mIyMDJyenbI8fPHiQkiVL4ujoSMuWLZk6dSolSpR44THS0tJIS0vT/R4fH5+XlyEYsYi4VC4/iuNGZCJ3YxKJSUzncVI6aRlqIKvUv4OlKSVszHB3sKRCSRsqudlSpZQdpipR8kAQBOOk1kiolFlLnYTHpTBt5zWeJqeTkJpJ6r/nRwBLMxVtqroyNqC87rGzoU8p72KDvZVpgcctCELBevLkCTt27GDr1q1ER0fToEEDmjRpQps2bTA3N5c7PEEGly5dYv/+/Rw9epTo6GhatWpFt27dqFGjhlEuMWhIeUq8Y2JiUKvVuLq6Znvc1dWVa9eu5eoYX3zxBe7u7rRu3Vr3WPv27enZsydlypTh9u3bTJw4kQ4dOhAUFIRKpcpxjGnTpjFlypS8hC4YqfRMDUdvRbPvSiRBtx9z73Fyvo5jZaaitrcjzSq40KG6Gx6OVnqOVBAEoeDci0ni6K0YTt59wpl7T+juX5ov2lcGQKVUsPXCo5fuW7XUs7WM41Mz6DXvOAClHSypV8aJemWcaFLeGU8ncZ4UBGOycOFCxo0bR3p6uu6xQ4cOMX36dHx9fVm7di2+vr4yRigUpLS0NL788ktmz56d7fHDhw8zefJk2rZty7p167C3t5cnwCIoT4n3m/rpp59Ys2YNBw8exMLCQvd4v379dP9fvXp1atSoQbly5Th48CCtWrXKcZwJEyYwfvx43e/x8fF4enoaNnihULn0MI4VQaHsuhROfGqm7nGlAiqUtKWimy3lXWxwtTPHydoMK7Ost3qmRkNcSgYxiencf5zEjchErkbEE5ucwZGbMRy5GcMPO6/i7+VAnzqedKvprttXEAShMLvyKJ6tFx6x70oEt6OTsj13NfzZyDBna3O+6lgFR2sz7CxMsDRToUCBhERyuhp3e0vdtlHxqZR2sORhbAoPY1PYdP4hm85n1Wip7GbLO03K0KeO+P4VhKJMkiQmTZrE1KlTAahWrRrdu3fHx8eHoKAgtmzZwuXLl6lbty5z5sxh+PDhMkcsGNrt27fp06cP586dA6Bdu3Y0b96cEiVKsGPHDvbs2cPevXtp2rQpO3fuxMPDQ+aIi4Y8ZRTOzs6oVCoiIyOzPR4ZGYmbm9sr950xYwY//fQT+/fvp0aNGq/ctmzZsjg7O3Pr1q0XJt7m5uZiuEsxpNFI7L0SyR+Hb3P+fqzu8ZK25nSo5kazii7ULeOEnUXehkNqNBI3ohI4fusxe69EcPLuE87fj+X8/Vh+3HmVfnU9GdmsLCVtLV5/MEEQBBmkpKvpPf84yelZw8ZNlArq+DjSoGwJ6pVxonrpZz0SSqWCkc3K5uq45UvacuzLlsSlZHDxQSyn7z4h6M5jzoY+5VpEAumZGt22qRlqMjUSNubiZqUgFCVjx45l/vz5AEyePJnJkyfrhhAPHz6cH374gcGDB7N3715GjBiBWq1m1KhRcoYsGFB4eDgBAQE8ePAAJycnli1bRufOnXXPjxo1inPnztGpUydCQkJo2LAhx44dw8vLS8aoi4Y8fTuamZlRu3ZtAgMD6d69O4CuUNq4ceNeut/PP//MDz/8wJ49e6hTp85r23nw4AGPHz+mVKlSeQlPMFKSJLHvSiSz9t/U9dqYqhR0rF6K/vW8qOfjhFKZ/zkmSqWCym52VHaz450mZYhKSGXL+UesPBlK6ONkFh65y4oToQyq782YgHKUsBE3fQRBkNfdmCR2XQrXzcW2NFPRpYY7cSkZdKxRiuYVXbC31N+cbHtLU5pWcKFpBRcAnialc+B6FC0rl9Rts/HcA6btvEbv2h4Mb1JGDEUXhCJg/fr1zJ8/H6VSyYIFC17Ym+3q6squXbv46quv+Omnn3jvvfcoX748LVu2lCFiwZBSUlLo1q0bDx48oFKlSuzfv/+Fvdm1atUiKCiIDh06cO3aNYYNG8a+fftQKkW9pFdRSJIk5WWHtWvXMmTIEP744w/q1avH7NmzWbduHdeuXcPV1ZXBgwdTunRppk2bBsD06dOZNGkSq1evpnHjxrrj2NjYYGNjQ2JiIlOmTKFXr164ublx+/ZtPv/8cxISEggJCclVz3Z8fDz29vbExcVhZ2f32u2FouN6RAJTtl3m+O3HANiYmzC0kQ9DGvngYmvYBFijkTh4I4o5/9zS9bDbWZjwcZuKDGrgLYqxGRljPo8Y82vLi1u3brF582aOHDlCWFgYDx8+RKFQ4OLiQqlSpWjYsCGtWrWiQYMGmJmZyR3uC92MTGDOP7fYfvERGgm2jWtCdY+s3mxJkmQtdDNq+Rn2XskaEWeiVNDdvzTvtShPGWdr2WJ6ldTUVI4fP84///zDiRMniIiIIDo6GoVCQenSpfHy8iIgIIBu3brh4+Mjd7iyMuZziDG/tteJiorC19eXmJgYvvnmG7777rtXbi9JEoMGDWL16tU4ODhw8uRJKlasWEDRCoYmSRL9+vVj3bp1ODk5cfLkScqXL//KfW7dukWNGjVISUlh7ty5jB07toCiLTzycg7Jc+IN8Ntvv/HLL78QERFBzZo1+d///kf9+vUBCAgIwMfHh6VLlwLg4+NDaGhojmNMnjyZb7/9lpSUFLp378758+eJjY3F3d2dtm3b8v333+co4vYyxfmkaaxSM9TM2neDRUfvotZImJkoGdGkDKOalcXBqmAviCVJ4vDNGKbvusaVf3vcK7na8nPvGvh5OhRoLILhGPN5xJhf2+tIksTWrVuZMmUK58+fz9U+zs7OjBgxgtGjR+Pt7W3gCHPnUWwKs/bdYOO5B2j+/dZuWbkkX3aoTEVXW3mD+5dGI3H0VgwLDt/h6K0YICsB71fPkw9aVSg003Vu3brFvHnzWLx4MbGxsbnap379+kyZMoW2bdsWyyq+xnwOMebX9iqSJNGrVy82bdpEjRo1OH36dK5uOKamphIQEMDJkyfx9/fn1KlTmJiI6SXGYP78+YwZMwZTU1P27dtH8+bNc7XfnDlz+OCDD7CysiIkJISyZXM3lclYGDzxLmyK60nTWJ27/5RP11/gzr/Fgdr7uvFVpyqyD1tUayTWnL7PjD3XeZqcgUqp4N1mZfmwdQXMTXJW3xeKFmM+jxjza3uV06dP8/7773Py5EkATExMCAgIoFOnTlSoUIHSpUsDWSt23LlzhwMHDhAYGEh0dDSQtVzmiBEj+P777ylZsuRL2zGk1Aw1vx+8zR+HbpP273zqdr6uvN+yAtVKF95KsufvP+V/gTc5cD3rb9moXAlWj2wga0wPHz5k4sSJrFixAu2lT6lSpWjVqpWu08DZ2RmNRsPDhw+5du0a27dv58iRI2g0WX/7Zs2aMWfOnNfWqjE2xnwOMebX9iqbNm2iZ8+emJiYcPr0aWrWrJnrfcPDw/H19eXp06f8+uuv2QoeC0VTeHg4VapUIS4ujpkzZ/Lxxx/nel+NRkOrVq04ePAgrVu3Zt++fQaMtPDJ0zlEMgJxcXESIMXFxckdivAG1GqNNCfwhlTmy+2S9xfbpTpT90n7LkfIHVYOjxPTpHGrz0neX2TF2fH/Dkt3oxPlDkt4Q8Z8HjHm1/YiGo1GmjVrlmRqaioBkpWVlTRx4kQpJibmtftmZGRIf//9t9SyZUsJkADJ1tZWmjFjhpSZmVkA0WeXmJohNfhxv+T9xXbprfnHpXOhTwo8hjdx4naM1PP3Y9KFsKe6xzQaTYHGkJ6eLn3//feSlZWV7t+0Q4cO0o4dOyS1Wv3a/SMiIqTx48dL5ubmEiBZWFhICxYsKPDXISdjPocY82t7GY1GI/n5+UmANGHChHwdY+HChbrz67179/QcoVDQ+vTpIwFSnTp18vVdd/v2bd137tGjRw0QYeGVl3OISLyFQiE6IVUatOiELpn94K9z0tOkNLnDeqVdIY+kmlP2SN5fbJd8J+2Wtl14KHdIwhsw5vOIMb+2/0pKSpJ69OihS7B69eolhYeH5+tYhw8flurUqaM7VtOmTaW7d+/qN+AXiE1Kz5bUBV6NkHZefGQ0id6ve69Ln6+/IMUmpxu8rWvXrkl169bV/Rs2btxYOnXqVL6OFRYWJnXs2FF3rEGDBklpaYX7e0pfjPkcYsyv7WV27NghAZK1tXWubki+iFqtlpo2bSoBUufOnY3m/FQcad8PKpVKOnfuXL6PM3z4cAmQOnXqpMfoCr+8nENEdShBdlcexdPtt2McuRmDhamSn3vXYHbfmgU+lzuv2lcrxc4Pm1LH25HEtEzGrT7P9N3X0GgnYAqCUKCSkpLo3LkzmzZtwszMjN9++43169e/drnLl2natCknT55k4cKF2NjYcOTIEWrUqMHGjRv1HPkzey9H0PLXg6w/+0D3WMvKrnSoXsoo5hZHxacy/+Bt1p4Jo+2sQxy+EW2wtpYvX46/vz+nT5/G0dGRVatWceTIEerWrZuv43l4eLBt2zamT5+OSqVi5cqV9OrVi7S0ND1HLgiGI0kSP/zwAwBjxoyhRIkS+TqOUqnkjz/+wNTUlO3bt7N79259hikUkIyMDD744AMAPvroI/z9/fN9rC+++AKlUsmOHTsIDg7WU4TGRSTegqx2X4qg17zjPIxNoYyzNVvea0KfOp5F5gKzlL0la0Y14N1/18Sdd/A2o1acJTEtU+bIBKF4SUxMpGPHjhw4cABbW1sCAwN577333vhcop3nfeHCBRo3bkxCQgK9e/dm0qRJunm/+pCcnsmEv0MYteIsj5PS2XDmgW4esjEpaWfByhH1KeNsTWR8GoMXn+L77VdIy1TrrY3MzEzGjx/PkCFDSElJoXXr1oSEhDBgwAC9vB8+//xzdu7ciYWFBdu3b6dHjx6kpqbqKXpBMKwjR45w/PhxzM3N33hudpUqVXRJ29dff22U5yxjt2zZMm7fvo2LiwvffvvtGx2rQoUK9OnTB4CffvpJD9EZH5F4C7JZcuwuo1eeJSVDTZPyzmwe25hKboWjOm9emKiUTOhYhVl9/TAzUbL/aiT9FgQRnSB6QQShIGRmZtKrVy8OHz6MnZ0de/fupUmTJnpto2zZshw8eFBXcOb777+nd+/epKSkvPGxb0Ym0PW3Y/x16j4A7zYry4oR9YrMDci8qlfGiV0fNuXtBlkV4/88epcec48T+jjpjY+dkJBA586dmTVrFgCTJk1iz549ukJ6+tK2bVu2b9+OpaUlu3btYtCgQXq9ESMIhvLjjz8C8M4771CqVKk3Pt4XX3yBjY0N586dY/PmzW98PKHgpKWl6ZaQmzBhAjY2Nm98zAkTJgCwbt06bt68+cbHMzYi8RYKnCRJ/LLnGlO2XQFgUAMvlg6ri72VqcyRvZke/h6sHdWAEtZmXHoYT+/5x7n/OFnusATB6H3++efs3bsXKysr9u3bR4MGhqmebWJiwsyZM1m6dClmZmZs2rSJdu3a5XpJqhfZEvyQbnOPcSsqkZK25qwaUZ8JHasY/UoJFqYqvu9ejT+H1MHJ2owr4fH0mhdEcnr+RwtFR0fTokUL9uzZg5WVFevXr2fKlCkolYa51GnVqhU7duzAzMyMjRs3MnXqVIO0Iwj6cvfuXfbs2YNCoeCzzz7TyzFdXFz46KOPAPjmm29Qq/U3ekUwrIULFxIWFoa7uzujR4/WyzFr1KhBx44dkSSJRYsW6eWYxkQk3kKB0mgkvt58ibkHbgPwaduKfN+tGiYq43gr+ns5smFMIzwcLQl9nEzPece5EZkgd1iCYLSWLVum691ctmwZ9erVM3ibQ4YMYf/+/djZ2XHkyBGaN29OREREno9zLSKeD9cEk5yupnH5Euz8sCmNyzsbIOLCq1UVV3Z80ITa3o6Mb1MRK7P8rQd8//59mjRpwtmzZ3F2dubQoUP07t1bz9Hm1KJFC+bNmwfA5MmT2bRpk8HbFIT8WrFiBZB106hMmTJ6O+4nn3yCg4MDly9fZt26dXo7rmA4ycnJurn+X3/9NZaWlno79vDhwwFYuXKluBHzH8aR7QhFgkYjMeHvEFadvI9CAdN6VmdcywpGN5yyjLM1f49pRGU3W2IS0+i/4ATXIuLlDksQjM7Fixd59913gayeloJItLSaNm3K4cOHcXV15eLFi7Ro0YLw8PA8HaOymx3j21TkvRblWP5OfZxtzA0UbeFWyt6StaMa0L+ep+6x0MdJJOWyVkZoaCjNmzfnxo0beHl5cfToUerUqWOocHN45513dPNc3377bW7dulVgbQtCbkmSxPLly4Gsm4f65ODgwKeffgrA1KlTxVzvIuDPP/8kIiICHx8fXaKsL506dcLJyYlHjx4RGBio12MXdSLxFgqERiPx+caLrD0ThlIBs/rUpH89L7nDMpiSdhasGdWAaqXteJyUzoCFJ7kaLpJvQdCX9PR0Bg8eTFpaGp06dXrjojD54efnx7Fjx/D09OTatWu0bNnytcl32JNkouKfFeL6oFUFPmtXGZXSuG5A5pWJSqm7CfskKZ1Bf57krflBRMa/umhZaGgoAQEB3Lt3j/Lly3Ps2DEqVapUECFn8+uvv9K8eXOSkpIYOnSo6OURCp3jx49z+/ZtbGxs6NGjh96PP27cOGxtbbly5Qp79uzR+/EF/VGr1cyePRuAzz77DDMz/a4iZG5uTr9+/QB0N3uELCLxFgxOkiQmbb3EhrMPUCkV/F8/f7r767fQTWHkYGXGquENqOFhz5OkdN7+8yR3ohPlDksQjMLUqVO5cOECJUqU4M8//zTYPN7XKVeuHAcPHsyWfEdHv3iJrIsPYunx+zHeWXY61725xVF4XAop6WquhMfTY+6xl07XefDgQbak++DBg3h4eBRwtFlMTExYunQptra2HDt2THdRKwiFxbJlywDo3bs31tbWej++vb09I0aMALJuRAmF15YtW7hz5w5OTk56H/2gpT3u33//TXy86HjSEom3YHA/77nOyhNZw8tn9a1JFz93uUMqMPZWpqwYXh9fdztiEtMZtOgkD2PfvAqyIBRnp0+f1lXmnTdvHq6urrLGo614rk2+27dvT1xcXLZtDl6Pou8fJ4hJTEetgaQ3KCJm7Hzd7dk0tjFlXax5FJdKr3nHOXnncbZtoqOjadOmTbakW9+Vy/PKx8eHmTNnAvDVV19x5coVWeMRBK2UlBTWrl0LwODBgw3WzgcffIBSqWT//v1cvHjRYO0Ib0Z7nho9erRBbsIA1K1bl0qVKpGSksKGDRsM0kZRJBJvwaD+OHSbeQezCqn92KM6XYtR0q1lb2nK8nfqUe7fi8hBi07yOFEsNSYI+aFWqxk5ciRqtZp+/frx1ltvyR0SkJV879+/HxcXF86dO0eXLl1ITs5a1WDbhUeMWHaGlAw1TSs4s+7dBpS0tZA54sLN08mKjaMbUdfHkYTUTAYvPsU/1yIBiI+Pp0OHDly7dg1PT08CAwNlT7q1hg8fTocOHUhLS+Pdd98Vc12FQmHbtm3Ex8fj5eVF8+bNDdaOj4+PrtaGNrkTCpeTJ09y7NgxTE1NGTdunMHaUSgUul5vMdz8GZF4CwazJfgh03ZdA2BCh8pGPaf7dUrYmLNyRH1KO1hyNyaJ4cvOkJIu5gAKQl79+eefXLhwAQcHB/73v//JHU42FStWZM+ePdjb23PkyBH69evHyuN3+GDNeTI1El383PlzSF1sLYr20okFxdHajBXD69O6SknSMjWMWn6W3Rfv0717d86ePYuLiwv79u3Dy6vwfLcoFAr++OMPrKysOHr0qKjwLBQKf//9NwD9+/c3+LSc8ePHA7B69eo8F5wUDE97Q2TAgAF6Wcf9VQYMGADAkSNHiImJMWhbRYVIvAWDOHHnMZ+tzxpmNKJJGd5tXk7miORXyt6S5cPr4WBlSnBYLB+uOY9aI3pDBCG3YmNj+eqrrwCYMmUKLi4uMkeUk7+/P9u3b8fCwoJt27YxZuxYNBqJgfW9mN23JmYm4ms3LyxMVcwbVJvuNd3xcrTgj+8+5cCBA9ja2rJnzx5ZCqm9jqenJ19++SWQVbhIO/JBEOSQkZHB7t27AejWrZvB26tfvz6NGjUiIyODP//80+DtCbkXHh6uuwnz8ccfG7w9b29v/Pz80Gg07Ny50+DtFQXiCkDQu9vRiYxafoZ0tYaO1d2Y2LGK3CEVGuVcbFg4uA5mJkr2Xonkhx1X5Q5JEIqMKVOmEBMTQ9WqVRkzZozc4bxUkyZN+Ouvv1AqlSRe2EP5h7uZ2r1asa9cnl+mKiUz+9SkSthWNm9cj6mpKZs2bcLf31/u0F7q008/xdvbm7CwMH7++We5wxGKsSNHjhAXF4eLiwv16tUrkDa15+cFCxaICv+FyOLFi8nMzKRRo0b4+fkVSJtdunQBsqY7CCLxFvQsLjmDkcvOEJ+aSW1vR2b2qYlSXGxmU9fHiZl9sk54i4/dZe3p+zJHJAiF382bN/ntt98AmD17NqamhXu4dvfu3XXx/rNqrpjj9obmzv2N3+f8HwBLlizhsX3FQn3utLS0ZMaMGQBMnz6dhw8fyhyRUFxpE57OnTujUqkKpM3evXvj5OREWFgYu3btKpA2hVdTq9UsWLAAyCqqVlC6du0KwO7du0lLE/WNROIt6E2mWsO4v85xJyaJ0g6W/PF2bSxMC+YkX9R0ruHOx60rAvD15kucvvdE5ogEoXD77rvvyMzMpGPHjrRp00bucF5q9cn7HLgeBWT1+kyYMAGAESNG8M8//8gZWpG1detWPvroIwCmTZtG1aYd+WLjRb78O4TN5wtvQturVy+aNGlCamoq06ZNkzscoRiSJImtW7cCz3oeC4KFhQVDhw4F4I8//iiwdoWX27NnD/fv38fR0VFXAK8g1K5dGzc3NxITEzl06FCBtVtYicRb0Jufdl3jyM0YLE1VLBhcG2cbc7lDKtTeb1mejtXdyFBLjF5xlkdimTFBeKFr166xevVqAL7//nuZo3m5DWcfMHFTCKOWn+F6RNba01OnTqVv375kZmbSs2dPscRUHp09e5b+/fuj0WgYOXIkX3zxBTU9HRhQzwtJgk/WX2BXSOEs4KRQKHTv14ULFxIWFiZzREJxc/XqVe7cuYOZmVmB37AcNWoUADt27CA0NLRA2xZymj9/PgBDhw7F0tKywNpVKpV07twZEMPNQSTegp7suBjOoqN3AZjZxw9fd3uZIyr8lEoFM97yo2opOx4npTN21TnSMzVyhyUIhc53332HRqOhW7du1KpVS+5wXmj3pXA+33ABgIH1vanoagNkXXQsXbqUxo0bExcXR+fOnYmOjpYz1CLjwYMHumXZ2rZty9y5c1EoFFkJbbdq9K7tgVoj8cGa8xy+UTj/pgEBAQQEBJCenq5be14QCoo20WnVqhU2NjYF2nalSpVo2bIlkiSxaNGiAm1byC4sLIwdO3YA8O677xZ4+9rh5lu3bi32SyyKxFt4Y7eiEnQXnGMCytGhumGXJzAmVmYm/PF2bewsTAgOi+WHHaI3TBCed/nyZdasWQPAt99+K28wL3H8dgwf/BWMRoK+dTyZ3KUqCsWz2hYWFhZs3ryZcuXKcffuXbp3705qaqqMERd+iYmJdOnShfDwcKpVq8b69euzzetXKhVM71WDTtVLZY0aWnmW8/efyhjxy02ZMgXIWgpP9PwJBUmbeBfkMPPnaZO8JUuWiCJrMlq6dCkajYaAgABZVoJo1aoVFhYW3L9/n5CQkAJvvzARibfwRpLSMhm98hxJ6Woali3BJ20qyh1SkePpZMXsfjUBWBYUypbgwjtnURAK2tSpU5EkiZ49e1KzZk25w8nh0sM4Ri0/S7paQztfV37oUS1b0q3l7OzM9u3bcXBw4Pjx4wwfPrzY3/l/GbVazYABAwgODqZkyZJs374dOzu7HNuplApm9vWjaQVnktPVDFt6ulBO2WnWrBmtWrUiIyNDzPUWCkxsbCxBQUEAuqG+Ba1bt244OTnx8OFD9u/fL0sMxZ1Go2Hp0qUAvPPOO7LEYGVlRevWrQGKfbE9kXgLb2TSlsvcikrE1c6c//X3x0Ql3lL50bKyK++3LA/AhL9DuBuTJHNEgiC/e/fusW7dOgC++eYbmaPJKSIulWFLT5OYlknDsiX4v36vPgdWrlyZDRs2YGJiwurVq5k6dWoBRlt0fPHFF2zbtg0LCwu2bNmCt7f3S7c1N1Exf1Bt/P6d913K3qIAI829SZMmAbBs2TIx1UAoEIcPH0aj0VCpUiU8PT1licHc3JwBAwYAWb3eQsE7evQod+7cwdbWlp49e8oWhzbxPnDggGwxFAYiSxLybdP5B2w89wClAv7Xzx8XW1FM7U181Loi9cs4kZyu5v2/zpGWKYZlCcXb//73PzQaDa1bty6Uvd0lbMwIqOhCZTdb/hicu1UcWrVqxbx584CsZGzt2rWGDrNIWbhwIb/++iuQNTyyQYMGr93H2tyEde824PP2lV842qAwaNq0KXXr1iU1NVX37y8IhqRdRaFly5ayxqGtbr5582aePi2c00GMmfaGR58+fbC2tpYtDu378MiRI6Snp8sWh9xE4i3ky92YJL7edAmAD1pVoH7ZEjJHVPSplAr+r58/jlamXHoYz/Rd1+UOSRBkExcXpyvIM378eJmjeTFTlZKfe9dg7bsNsbPI/briI0aM4JNPPgFgyJAhnDhxwlAhFimBgYGMHTsWyCqo17dv31zva27y7KZHaoaaeQdvk6kuPMUqFQqF7n08d+5cMcdfMLjCknjXqlWL6tWrk5aWpqvXIRSMxMRE1q9fD8CwYcNkjcXX1xcXFxeSk5M5deqUrLHISSTeQp5lqDV8uOY8Selq6pdx4v2WFeQOyWi42Vsw4y0/ABYfu6tbD1gQiptFixaRkJBA1apVad++vdzh6EiSxJbgh6g1WfOzFQoF9pa5T7q1pk+fTpcuXUhLS6Nbt27cu3dPz5EWLVevXqVXr15kZmYyYMAAvv7663wdR5IkRi4/w/Td1/h+e+EqVtm7d2+8vLyIiopi5cqVcocjGLGoqChdEauAgABZY1EoFLqkTww3L1gbNmwgKSmJChUq0KhRI1ljUSqVtGjRAnh2U6g4Eom3kGdzAm9y8UEc9pamzO5XE5WycA7tK6paVXFlaCMfAD7fcJEnScV3SI5QPGVkZPB///d/QFZvd2EaPvz7wdt8uCaYd1ecfaPiaCqVitWrV1OzZk2ioqLo3LkzcXFxeoy06IiOjta9/kaNGvHnn3/m+99coVAwsL4XkFWscnnQPT1G+mZMTEz48MMPAZg5cyYaTeHpkReMy8GDBwHw8/PD2dlZ3mCAgQMHYmJiwunTp7l8+bLc4RQb2qJqQ4cOLRTfo9rRFyLxFoRcOhv6lN8O3ALghx7VKGVvKXNExunLDpWpUNKG6IQ0Jvx9UVQ/FoqVLVu2EBYWhouLCwMHDpQ7HJ3dl8L5ZU/WFJDmlVze+ELGxsaGbdu2UapUKS5fvkzfvn3JyMjQR6hFRmpqKj169ODOnTuUKVOGzZs3Y2HxZgXS2lcrxefts5bMmbLtSqFa43v48OHY2tpy9epVAgMD5Q5HMFLaxEbbwyi3kiVL0rFjRwAx2qOAhIaGcujQIRQKBW+//bbc4QDPEu+goCCSk5NljkYeIvEWci0pLZPx67LWqu3hX5rONdzlDsloWZiqmNW3JqYqBXsuR7Lh7AO5QxKEAvPHH38AMHLkyDdOwvTlang849ddAGBoIx/ebvDyStt54eHhwbZt27CysmLPnj289957xeZGm0ajYejQoRw7dgx7e3t27NiBi4uLXo49pnk5etXyQK2RGLf6HPcKyUoR9vb2DB48GHj2PhcEfSss87ufp03+Vq1aJUZ7FIDVq1cDWTdf5Kpq/1/ly5fHw8OD9PR0jh8/Lnc4shCJt5Br03dfI/RxMu72Fkzp5it3OEavWml7Pv53XfTvtl0hPK7wrU8rCPp269Yt9u/fj0KhYOTIkXKHA8DTpHRGrThDcrqaJuWd+bpTFb0ev3bt2vz1118olUoWLlzITz/9pNfjF1YTJ05k7dq1mJqa8vfff1Oliv7+rgqFgh97VsPfy4H41ExGLD9DQmrhGE3w7rvvAllVnsPDw2WORjA2YWFh3Lx5E6VSSbNmzeQOR6dz587Y2dkRFhbGkSNH5A7HqEmSxIoVKwAYNGiQzNE8o1Aoiv1wc5F4C7kSdPsxy4NCAfjlLb88VfAV8u/dZuXw93IgIS2TCX+HFJueMKH4WrBgAQDt27fHx8dH3mCATLWGcX+dI+xJCl5OVvw24NVrdedX165ddfPaJ06cyKpVq/TeRmEyf/58pk+fDmQV0jNEz5y5iYo/BtXG1c6cmMQ07sUUjqGN1atXp1GjRqjVahYvXix3OIKR0SY0derUwd7eXuZonrGwsOCtt94CxHBzQzt//jxXr17FwsJC1rW7X0Qk3oLwGsnpmXy+MWuI5YD6XjQuL3+hjuJCpVTwS+8amJkoOXg9Wgw5F4xaWlqaruqttldQblfDEzgb+hQrMxULB9fBwcrMYG2NGzdOt8zYsGHD2Ldvn8HaktOmTZt47733AJgyZYpu6LUhlLSz4M8hddn6XhOqexSeJET7/l64cCFqtVrmaARjcvToUUD+auYvou19Xb9+vVhSz4C0Nza6du1aqG6+wLP35dmzZ4vlPO98Jd5z587Fx8cHCwsL6tev/8r12BYuXEjTpk1xdHTE0dGR1q1b59hekiQmTZpEqVKlsLS0pHXr1ty8eTM/oQkG8PPu64Q9ScHd3oIJHSrLHU6xU76kLeO1Q863XyEiTnxZCcZp06ZNxMTEULp0aTp16iR3OABU97Dn7zGN+W2AP5XcbA3e3s8//6wrstazZ0/Onj1r8DYL0uHDh+nfvz8ajYZRo0bxzTffGLzNaqXt8Sphpfu9MKzv/dZbb+Ho6EhoaCh79+6VO5xC4/Dhw3Tp0gV3d3cUCgWbN29+5fYHDx5EoVDk+ImIiCiYgAsh7dzZxo0byxxJTs2aNcPDw4O4uDi2b98udzhGKTMzk7/++gsoXMPMtby8vChdujSZmZmcOXNG7nAKXJ4T77Vr1zJ+/HgmT57MuXPn8PPzo127dkRFvXi94YMHD9K/f38OHDhAUFAQnp6etG3blocPH+q2+fnnn/nf//7H/PnzOXnyJNbW1rRr107cDSsEzoY+Zdm/y7H81KsGtmKIuSxGNCmDn6cDCamZTN56Se5wBMEgtMPMR4wYgYmJiczRPFPV3Y6WlV0LpC2lUsmyZcto1aoViYmJdOzYkRs3bhRI24Z24cIFunbtqlu7fO7cuQW+xE3g1UhazzzEg6fy9rRYWloyZMgQ4Nn7XoCkpCT8/PyYO3dunva7fv064eHhup+SJUsaKMLC7enTp1y5krV+fcOGDWWOJielUqlbqUIMNzeMwMBAIiIiKFGiBO3atZM7nBwUCoVuTfFjx47JHI0MpDyqV6+e9N577+l+V6vVkru7uzRt2rRc7Z+ZmSnZ2tpKy5YtkyRJkjQajeTm5ib98ssvum1iY2Mlc3Nz6a+//srVMePi4iRAiouLy8MrEV4nLUMttZ15SPL+Yrv08drzcodT7F0Nj5PKTdgheX+xXdoVEi53OEbHmM8jReG13bt3TwIkQLp3756ssSSlZUhDF5+UzoY+kS2GuLg4yd/fXwIkT09P2f8mb+ratWtSyZIlJUBq3LixlJycXOAxqNUaqetvRyXvL7ZLXX87KqVlqAs8huddunRJAiRTU1MpOjpa1lheR45zCCBt2rTpldscOHBAAqSnT5/mu52icH7MrZ07d0qAVKFCBblDeamQkBDd+/7JE/nOscZq8ODBEiCNGTNG7lBeatasWRIgde7cWe5Q9CIv55A89Xinp6dz9uxZWrdurXtMqVTSunVrgoKCcnWM5ORkMjIycHJyAuDu3btERERkO6a9vT3169d/6THT0tKIj4/P9iPo34LDt7kemYCTtRlfd6oqdzjFXmU3O95tXhaASVsuEV9IKvQKgj5oi4m1aNECb2/9LNWVX99svsyB69G8v/o86ZnyDEu2s7Nj9+7dVKpUibCwMFq3bl1kh8+GhobSunVroqKi8Pf3Z/v27VhaWhZ4HEqlgrkD/LG3NOVCWCzTdl0t8Bie5+vrS61atcjIyGDt2rWyxlLU1axZk1KlStGmTZvX9qIZ8zWkdpi5tkexMKpWrRrVq1cnIyODv//+W+5wjEpKSgqbNm0CYMCAATJH83La9+fx48eLXdHgPCXeMTExqNVqXF2zD7lzdXXN9QXBF198gbu7uy7R1u6Xl2NOmzYNe3t73U9hWZ/OmNyNSeJ//9wCYFLnqjhZG66gkJB777esQBlna6IS0vh59zW5wxEEvZAkieXLlwPP1nqVy7ozYWw89wClAn7t44eZiXw1SEuWLMn+/fvx9vbm1q1btGzZssgl36GhobRo0YIHDx5QuXJl9uzZg4ODg2zxeDhaMbOPHwBLjt1jV4i8y3lp3+/a97+QN6VKlWL+/Pls3LiRjRs34unpSUBAAOfOnXvpPsZ8DVkUEm+A/v37A8/Wmhb0Y8eOHSQkJODl5VWo3wM1a9bEwsKCJ0+eGM1Uqtwq0CuKn376iTVr1rBp0yYsLCzyfZwJEyYQFxen+wkLC9NjlIIkSUzacon0TA3NKrrQraa73CEJ/7IwVfFDj2oArDp5nwthsfIGJAh6cObMGa5fv46lpSW9evWSLY4bkQlM2pJVQ+GTtpVoULaEbLFoeXh4EBgYiIeHB1evXqVFixZFZu3ne/fuERAQwN27dylXrhz79+/HxcVF7rBoVcVVN3ro8w0Xuf9Yvvne/fv3R6VScerUKa5fvy5bHEVVpUqVePfdd6lduzaNGjVi8eLFNGrUiFmzZr10H2O9hszMzOTkyZNA4U+8+/XrB8CBAwd49OiRzNEYD+2NjP79+6NUFt6Fq8zMzKhbty7w7GZRcZGnfxVnZ2dUKhWRkZHZHo+MjMTNze2V+86YMYOffvqJvXv3UqNGDd3j2v3yckxzc3Ps7Oyy/Qj6syMknCM3YzAzUfJ9N98CL34jvFqjcs708C+NJMHXmy+h1hSvYTqC8dH29vXo0UO283lqhppxq8+RmpF1w3FM83KyxPEi5cqV4+DBg3h6enLt2jUCAgK4f/++3GG90s2bN2nevDn37t2jQoUKHDp0iNKlS8sdls6nbStRx9uRhLRMPlhzngyZKp27urrSvn17AFasWCFLDMamXr163Lp166XPG+s15MWLF0lKSsLe3p6qVQv39MAyZcrQqFEjJEli3bp1codjFGJjY9m5cyfwbERBYfb8cPPiJE+Jt5mZGbVr1yYwMFD3mEajITAw8JXVE3/++We+//57du/eTZ06dbI9V6ZMGdzc3LIdMz4+npMnTxbKiozGLiE1g++2ZVXEHBtQDu8S1jJHJLzIhI6VsbUwIeRhHKtPhsodjiDkW3p6um7pE0Ou5/w632+/wo3IRJxtzPn1LT+UysJ1w1GbfHt5eXHjxg0aN27M1avyzlF+mXPnztG4cWPu379PxYoVOXDgQKFKugFMVUpm96uJnYUJVd3tZL2BqX3fr1ixAo1G/qXOirrg4GBKlSoldxgFTpvANGzYsFD3dmpp5yCL4eb6sWnTJtLS0qhatWq2Ds7CSiTeuTR+/HgWLlzIsmXLuHr1KmPGjCEpKYlhw4YBWV8gEyZM0G0/ffp0vvnmGxYvXoyPjw8RERFERESQmJgIZJWV/+ijj5g6dSpbt24lJCSEwYMH4+7uTvfu3fXzKoVcm73/JlEJaXiXsGJ0IerxEbIraWvBZ+0qAfDznutEJ6TJHJEg5M+ePXt4/Pgxbm5utGrVSpYYMtQaIuOzPkOz+vrhYmsuSxyvU7ZsWY4ePUrlypV58OABTZo0yXVh04ISGBhIQEAA0dHR+Pv7c+TIkUKXdGt5OFqxf3xzfuxRHQtTlWxxdO3aFXt7e+7fv8/Ro0dli6MwSExMJDg4mODgYCCrAG9wcLBuhMeECROy3aCbPXs2W7Zs4datW1y6dImPPvqIf/75h/fee0+O8GVVVOZ3a7311luoVCpOnz79yhEKQu5ob2D379+/SIxU1XauXrlyhSdPnsgcTcHJc+Ldt29fZsyYwaRJk6hZsybBwcHs3r1bVxzt/v372eafzZs3j/T0dHr37k2pUqV0PzNmzNBt8/nnn/P+++8zatQo6tatS2JiIrt3736jeeBC3t2MTGDp8XsATOnqK+uFiPB6A+t7U620HQmpmfyyRxRaE4om7TDDvn37yrZ2t6lKycLBtdk4piFNK8g/B/lVPD09OXLkCPXq1ePJkye0aNGi0AxRnjdvHu3btychIYEWLVpw8ODBQr+eckm7Z9cZGo1EUlpmgcdgYWFBjx49AIr9sNszZ87g7++Pv78/kNXZ4+/vz6RJkwAIDw/PNs0iPT2dTz75hOrVq9O8eXMuXLjA/v37ZbuJJ6eilniXLFlSV2hZmzQK+RMREaEbOVwUhpkDuLi4UKFCBYBCdwPZoAy8tFmBMKY1GOWi0WikAQuDJO8vtksjl52WOxwhl87ceyJ5f7Fd8v5iu3T+/lO5wynSjPk8UlhfW0pKimRraysB0vHjxwu8fY1GU+Bt6ktCQoLUrVs33drnn3/+uZSRkSFLLGlpadLYsWN1sQwYMEBKSUmRJZb8iohLkQYuPCGNWHZalvfFrl27JEBydXWVMjMzC7z91yms5xB9MIbXFhERIQGSQqGQ4uPj5Q4n15YuXSoBUpUqVYr0+Vhuc+bMkQCpXr16coeSJ9o1xydNmiR3KG/EYOt4C8Zrz+VIjt16jJmJUqzZXYTU9nakZ62sYZzfbr2MRhRaE4qQ3bt3k5CQgKenJ/Xr1y/w9hccvsPHa4OJT80o8LbflI2NDX///TcTJ04EsmqpyFF07ebNmzRq1Ijff/8dhULBtGnTWLlyZZEbsRaTmMbJu4/ZdyWSNacLvsp1q1atcHJyIjIyksOHDxd4+0LRdubMGQCqVKmCra2tzNHkXvfu3TE3N+fq1auEhITIHU6RpR0xoK0WX1RoK5tr37/FgUi8BVIz1EzdkVVQ7d1mZfEqYSVzREJefNm+MtZmKoLDYtl47oHc4QhCrq1duxaAPn36FHgxoCuP4pmx9zqbzj9k3+XI1+9QCCmVSn744QfWrl2Lra0tx44dw8/Pj9WrVyNJhr0Jp9FoWLRoEbVq1eLs2bM4OTmxZcsWvvzyyyIxv/C/fN3tdXUzvtt2hbsxSQXavqmpKT179gSefS4EIbdOnz4NkKOAcWFnb29Px44dATHcPL9CQ0M5fvw4CoWCvn37yh1Onmjfr6dPnzb4d1ZhIRJvgUVH7vDgaQql7C0YEyAKqhU1Je0s+KBV1jyZn/dcJ1GGOYqCkFfJycls27YNyEq8C1Japprx64LJUEu0qeqqGzVSVPXp04fg4GDq1atHbGwsAwcOpF27dgYrWHT58mWaN2/OyJEjSUxM1M2t7dKli0HaKygjmpSlUbkSpGRkvT8yC3iJMe3nYOPGjWRmivO4kHvaHkNtD2JRop2TvGbNmmKTfOnTmjVrAGjevDnu7u4yR5M3fn5+mJiYEB0dTVhYwY80koNIvIu5qIRUfj94G4AvO1TGykye4kbCmxnWuAzeJayITkjjj0O35Q5HEF5r586dJCUl4ePjU+AXizP33eBaRAIlrM2Y1rN6keyh/S9txfPvv/8ec3Nz9u3bR9WqVXnvvfd48EA/I2Hu3r3L8OHD8fPz4+jRo1hbW/Prr78SGBiIh4eHXtqQk1Kp4Je3/LA1N+H8/Vj+OHynQNtv0aIFzs7OxMTEcODAgQJtWyi6JEkqsj3eAJ07d8bGxoZ79+5x4sQJucMpcp6vZl7UWFpaUq1aNeDZqA1jJxLvYu7XPTdITldT09OBrn5F606Z8IyZiZIJHaoAWfNWH8amyByRILyatnpznz59CjTxPXX3CQv+Taim9ayOs03hXDosP0xNTfn666+5dOkS7dq1IyMjg99//51y5coxbNgwjh49muceJY1Gwz///MPAgQOpWLEiixcvRq1W061bN65cucL48eNRqYxnBYzSDpZ829UXgFn7bnDpYVyBtW1iYkKvXr0AUd1cyL0HDx4QFRWFiYkJfn5+coeTZ5aWlrrlg7W9t0LuXL16lQsXLmQ7dxQ1xW2et0i8i7HLj+JYdzZraMc3nasaRa9PcdbO15X6ZZxIy9Tw826xvJhQeKWkpLBz504gay3XgpKcnsmn6y8gSfBWbQ/a+roVWNsFqXz58uzevZsDBw7QrFkz0tPTWbp0KU2bNqV8+fKMGTOG9evXc+PGDdLS0rLtm5qayrVr11izZg0jR46kTJkytGrVitWrV5OZmUnbtm05fvw4mzdvxsvLS6ZXaFg9a5Wmva8b3jLUO9F+HrZs2YJarS7w9oWiR9tTWK1aNSwtLWWOJn+0RcHWrl0rplnkgfZGRdu2bSlRooTM0eTP8/O8iwMxrriYkiSJH3ZcRZKgc41S1PZ2lDsk4Q0pFAq+6VyVLr8dZUvwI4Y1LkNNTwe5wxKEHAIDA0lKSsLDw4PatWsXWLt3Y5JITlfjbm/BN12Mf/WGgIAADh48SFBQEH/++Sdr167lzp07zJ8/n/nz5wNZ5w0nJyeUSiVqtZonT57kOI6dnR0DBgxg+PDhRXIoa14pFAqm966BuYkSC9OC7c1v1qwZjo6OREdHc/z4cZo2bVqg7QtFT1Ge363Vpk0bXVX/gwcP6tb3Fl5OkiRWr14NwIABA2SOJv+e7/GWJMnoOwFFj3cxdfBGNMdvP8ZMpeSL9pXlDkfQk2ql7enpnzXX8sedV0WhEqFQ2rRpE5C1lExBfsn6utuz7+NmLBhcBzsL0wJrV04KhYJGjRrx559/EhERwZYtW/jwww+pWbMmVlZWSJLE48ePiY6O1iXdNjY21K5dm08++YQdO3YQHh7OvHnzikXSrWVvaZot6VYX0FKNpqamdO7cGXj2ORGEVynK87u1zMzMdKM9RHXz3Dl79iy3bt3C0tKSbt26yR1OvlWrVg1zc3Pi4uIMVhC0MBGJdzGk1kj8tDNrKPLQxj54Oonlw4zJJ20rYm6i5NTdJwRejZI7HEHIRq1Ws3XrVgB69OhR4O07WptRrbR9gbdbGNjY2NC1a1dmz57N+fPnSUxMJDIykpCQEN1PdHQ08fHxnDlzhhkzZtCxY0esrIrvd4RaI/HHodt0/e0oqRkFM/Rb+7nYvHmzuHkqvJIkSUbR4w3PioNt3LgxxxQYISftDYouXbpgY2MjczT5Z2pqSs2aNYHiMc9bJN7F0MZzD7gemYC9pSnvBZSXOxxBz9wdLHmnSRkAftp9rcCXxBGEVzl+/DgxMTE4OjoW2DDaGXuus/n8Q5HE/IdCoaBkyZJUq1ZN9+Ps7Gz0Q/3yIiE1g4VH7nL5UTxz/rlZIG22bdsWCwsL7t69S0hISIG0KRRNt2/fJjY2FnNzc1116KKqadOmlC5dmri4OHbt2iV3OIWaWq3Wze8uysPMtYrTPG+ReBczKelqZu69AcB7Lcphb1U8hlsWN6Obl8PBypRbUYmsP6ufpYQEQR+0w2e7dOmCqanhzz8n7zzmtwO3+GhtMJcfxRu8PcG4OFiZMbV7VpXz+YfuFEiVc2tra9q1aweI4ebCq2l7CGvWrFkg51NDUiqV9O3bFxDDzV/nyJEjPHr0CAcHB9q3by93OG+sOFU2F4l3MbP0+D0i4lMp7WDJ4IY+cocjGIi9pSnvt6wAZC2Jk5IuquMK8pMkic2bNwPolo8xpJR0NV9svAhA/3qexXaIufBm2lcrRafqpVBrJD7fcJGMAhhFpP18aD8vgvAi2kSlIItUGpK293bbtm0kJCTIHE3hpb0x0bNnT8zNi/6SmNoe73Pnzhn9ag4i8S5G4pIzmHcwq3DBx20qFni1VqFgDWrgRWkHS6IS0lgWdE/ucASBkJAQ7t69i4WFBW3btjV4e7P23+De42Tc7CyY0LGKwdsTjNe3XX1xtDLlSng8fxy6bfD2OnfujFKpJDg4mHv37hm8PaFoCg4OBqBWrVryBqIntWrVokKFCqSkpLBlyxa5wymU0tPT2bBhA/BsXnxRV6lSJSwsLEhKSuL2bcOfX+UkEu9i5I/Dt4lPzaSiqw09/EvLHY5gYOYmKj5uUxGAeQdvE5eSIXNEQnG3bds2IGvpGGtra4O2FfIgjkVH7gDwQ49qxaaKuWAYLrbmfNs1a8j5/wJvcSsq0aDtOTs762ogbN++3aBtCUWTJEmcP38eAH9/f5mj0Q+FQqHr9V61apXM0RROu3fv5smTJ5QqVYoWLVrIHY5emJiYUKNGDQDde9pYicS7mIiKT2XJsXsAfNq2EiqlKJ5THPTwL02FkjbEpWSw4LBx30UUCr8dO3YA6JZLMpQMtYYvNl5EI0EXP3daVXE1aHtC8dDVz52ASi4AhDyMNXh7nTp1Ap59bgTheWFhYTx58gQTExN8fX3lDkdvBg4cCMC+ffuIihIrs/yX9oZEv379UKmMZ+SqtrK5dhSHsRKJdzEx559bpGSo8fdyoE1VcRFaXKiUCj5tVwmAxUfvEZWQKnNEQnEVHR3NiRMngGcJhaEcuxXDlfB4HKxMmdylqkHbEooPhULBjz2qs/PDJvTw9zB4e9rPyYEDB0hKSjJ4e0LRok1QqlatahTzfLUqVKhA3bp1UavVrF27Vu5wCpX4+HjdcpzaGxTGQjtqQ/R4C0Xeg6fJrDl9H4DP2lUSS8UUM22rulLT04GUDDW/HxC93oI8du/ejSRJ1KxZk9KlDTvVJaBSSdaMasD0XjVwtjGeC1JBfu4OlpQvaVsgbVWpUgUfHx/S0tIIDAwskDaFokOboGh7Co2JNqkUw82z27RpE6mpqVSqVMlo5vVraRNv0eMtFHlzAm+RoZZoXL4Ejco5yx2OUMAUCgWfts3q9V598j7hcSkyRyQUR9rhsobu7dZqULYE7XzdCqQtoXi6EBbLjD3XDXZ8hUKhm5YhhpsL/2Vs87uf17dvX5RKJSdPnuTWrVtyh1NoaG9EDBw40Og60apXr45SqSQyMpLw8HC5wzEYkXgbuXsxSWw4l7WO8/g2lWSORpBL4/IlqFfGiXS1ht/+EV9iQsHKyMhg9+7dgGHndx+/HUPYk2SDHV8QtKISUnlrfhC/HbhF4NVIg7Xz/DxvSZIM1o5Q9Gh7Bo0x8XZzc6N169YArF69WuZoCoeIiAjdyBdtATpjYmVlRaVKWXmKMQ83F4m3kfu/wJuoNRItKrlQ29tR7nAEmSgUCj75t8L52tNhIjkRCtTx48eJi4vD2dmZunXrGqSN2OR03l99nrazDnPu/lODtCEIWiVtLRjW2AeASVsuk5yeaZB2AgICsLKy4uHDh1y4cMEgbQhFz5MnTwgNDQXAz89P5mgMQzvcfOXKleKmE1lrd2s0GurXr0+5cuXkDscgisNwc5F4G7FbUQlsCX4IiN5uAeqXLUHTCs5kaiT+F3hT7nCEYkQ7TLZDhw4Gq8I6ffc1Hiel4+FoSTV3e4O0IQjP+7B1BUo7WPIwNoVZ+24YpA0LCwtatWoFiOHmwjPamzBlypTBwcFB3mAMpGfPnlhZWXHz5k1OnToldziyW7FiBQBvv/22zJEYjrZegejxFoqk/wXeQiNlFdeq7iEuRAUY/2+v99/nHxL6WFTJFQqGoed3nw19wl+nwgD4sWd1zEzEV5tgeFZmJkztXg2AxcfucTU83iDtiHnewn8Zc2E1LRsbG3r27AnA8uXLZY5GXiEhIZw/fx5TU1P69esndzgGI3q8hSLrVlQi2y4+ArLuygsCgL+XIwGVXFBrJDHXWygQYWFhXLlyBaVSSdu2bfV+/Ey1hq82XQKgTx0P6vo46b0NQXiZFpVL0qGaG2qNxNebL6HR6H9IbPv27QE4efIkT5+KaRSCcRdWe97gwYOBrGHWaWlpMkcjH+2Nh86dO1OiRAmZozEc7Y2kW7duER9vmBuZchOJt5Ga889NpH97u33FsEvhOR+2yroRI3q9hYKwd+9eAOrXr4+jo/7rTCw9fo9rEQk4WJnyZYcqej++ILzOpC5VsTZTcTb0KXuvROj9+F5eXlSpUgWNRiOWFROAZz2CxtzjDdCyZUtKly7N06dPi+2Ij8zMTFauXAk8uxFhrJydnfHw8ADg4sWLMkdjGCLxNkK3ohLZeiGrt/uDVqK3W8jO38uR5hWzer3nHhC93oJh7dmzB4B27drp/djhcSnM/Hdu7YQOlXGyNtN7G4LwOqXsLfmqU1Wm9axO26qGWcJO+/nRfp6E4is1NZWrV68Cxp94q1QqBg0aBBTf4eaBgYFERETg5OREx44d5Q7H4LSjOIx1nrdIvI3Qb8/1dlcrLXq7hZy00w82nnvI/ceiwrlgGJmZmezbtw8wTOLtYGnG8CZlaFSuBG/V9tT78QUhtwbU96J/PS+USsOsrav9/OzevVtUeC7mrl69ilqtxsnJSdc7aMy0xcR27NhBTEyMzNEUPO0Nh/79+2NmZvw3l7VV+kNCQmSOxDBE4m1k7sYkid5u4bVqeTnS7N9e73mHRK+3YBinT58mNjYWR0dHgywjZmmm4pO2lVg5vL7BEh5ByKvk9Ey9L9nYrFkzzM3NefDgga63UyietENwa9SogUJh/Oc9X19fateuTWZmZrFb0zsuLo5NmzYBxj/MXKtGjRqAGGouFBG/H8iqZN6qcknR2y280gctywOw4ewDHsamyByNYIy0w2LbtGmj12XEMtQa1M8VsRJJt1BYBIfF0vrXQ4xddS7be/RNWVlZ0bx5c0AMNy/unk+8i4uhQ4cC8OeffxarER9r1qwhJSWFqlWrGuTmdWGkfV+HhISg0Whkjkb/ROJtRMKeJLPpfNa63eP+TaoE4WXq+DjRsGwJMtQSCw7dljscwQgZan73wiN36D73GBfCYvV6XEF4U6UdLElIyyTkYRyrT93X67HFPG8BimfiPXDgQMzNzbl48SLnzp2TO5wC8+effwIwfPjwYjG6AaB8+fJYWFiQnJzMnTt35A5H70TibUTmH7pNpkaiaQVn/L30Xz1YMD7v/3uD5q/TYUQlpMocjWBMnjx5wqlTpwD0uoxYeFwKcwJvEfIwjltRiXo7riDog4utOZ+2rQTAjD3XeZKUrrdjaxPvQ4cOkZIiRikVV8Ux8XZ0dNSt6b148WKZoykYISEhnD59GhMTE12BueJApVJRrVo1wDiHm4vE20hExKWy/swDAMa1EL3dQu40LFeCWl4OpGdqWHjY+O4sCvIJDAxEo9Hg6+ur1wJAP+68RkqGmjrejvSsVVpvxxUEfRlY34vKbrbEpWQwY+91vR23atWqeHh4kJqayuHDh/V2XKHoiIyMJCoqCoVCga+vr9zhFKh33nkHgFWrVhWLG0/aGwxdu3alZMmSMkdTsIx5nne+Eu+5c+fi4+ODhYUF9evX1/VqvMjly5fp1asXPj4+KBQKZs+enWObb7/9FoVCke2ncuXK+Qmt2Fpw+A7pag31fJyoX7aE3OEIRYRCoeD9f4vwrTp5n6d67J0Rirf9+/cD+u3tDrr9mG0XHqFUwJRuvsVm6J1QtJiolHzXLavH5q9T9wl5EKeX4yoUCtq0aQMg1vMuprSJSIUKFbCyspI5moLVsmVLvL29sxUcM1bp6emsWLECeHbDoTipXr06IBJvANauXcv48eOZPHky586dw8/Pj3bt2hEVFfXC7ZOTkylbtiw//fQTbm4vX9/S19eX8PBw3c/Ro0fzGlqx9SQpnb/+nUv2npjbLeRRQEUXqpayIzldzdLj9+QORzAS2sS7VatWejleplrDlG2Xgaylm3zdRfFIofCqV8aJbjXdkSSYvPUSGj0VWmvdujXw7PMlFC/FcZi5llKpZNiwYQAsWrRI5mgMa+vWrTx+/JhSpUoZZCnOwk70eD9n5syZjBw5kmHDhlG1alXmz5+PlZXVS+dc1K1bl19++YV+/fphbm7+0uOamJjg5uam+3F2ds5raMXW0uP3SMlQ4+tuR7MK4u8m5I1CoWBsi3JA1nspKS1T5oiEou7OnTvcuXMHExMTmjVrppdjrjp5n2sRCThYmfJJm0p6OaYgGNLEjlWwNlPhamdBcoZaL8fU3sg6f/58sVzTuLgrzok3wLBhw1AqlRw4cIAbN27IHY7B/PHHH0BWNXcTExOZoyl42h7v27dvk5hoXLVc8pR4p6enc/bsWd0dV8i6A9W6dWuCgoLeKJCbN2/i7u5O2bJlGThwIPfvv7waaFpaGvHx8dl+iqvEtEyW/dtLOTagvBh6KeRLh2qlKONsTVxKhm70hCDkl3YYbIMGDbC1tdXLMf+5ljWq6tO2lXC0NtPLMQXBkFztLAj8JIB5g2pjY66fi2dXV1fdRek///yjl2MKRUdxT7y9vLzo2LEj8Cw5NTY3b95k//79KBQKRo0aJXc4snBxcaFUqVIAXLp0SeZo9CtPiXdMTAxqtRpXV9dsj7u6uhIREZHvIOrXr8/SpUvZvXs38+bN4+7duzRt2pSEhIQXbj9t2jTs7e11P56envluu6j76+R94lIyKOtsTftqLx/KLwivolIqGN28LJC1VFNapn56Z4TiSTsM9vmbtG9qydC6zB1Qi/71vPR2TEEwNDd7C70fUww3L54yMjK4cuUKUHwTb4DRo0cDsHTpUqMssqa9odCxY0d8fHzkDUZGxjrcvFBUNe/QoQNvvfUWNWrUoF27duzcuZPY2FjWrVv3wu0nTJhAXFyc7icsLKyAIy4c0jLVLDySVYl6dPNyqJSit1vIvx7+HrjZWRAZn8amcw/lDkcoojQaja4nTp+Jt1KpoFONUuI8JxRJkfGpfLLuAvdikt74WNrPlSiwVrzcuHGD9PR0bG1t8fb2ljsc2bRv3x5vb2+ePHnC+vXr5Q5Hr1JSUliyZAnw7AZDcSUSb8DZ2RmVSkVkZGS2xyMjI19ZOC2vHBwcqFixIrdu3Xrh8+bm5tjZ2WX7KY62nH9EVEIabnYWdPcXy+oIb8bMRMmIpmWArCr5+ioGJBQvFy9eJCYmBhsbG+rVq/dGx5IkiTWn7pOcLuoOCEXbN5svsfHcA6buuPrGx2rWrBkmJia6WgpC8aBNQKpXr45SWSj6zWShUql0Q7Dnz58vczT6tWHDBp48eYKXlxcdOnSQOxxZicQbMDMzo3bt2tnusmo0GgIDA2nYsKHegkpMTOT27du68f1CThqNxPzDtwEY3qQMZibF9yQs6E+/el7YWZhwJyaJvVciX7+DIPyHdvhrQEAApqamb3SsPZcj+PLvEDr+3xEy1Bp9hCcIsvi8fSVUSgX7r0Zy9OabFUWzsbHRXXOJXu/iIyQkBHhWeKo4Gz58OCYmJgQFBREcHCx3OHozb948AEaNGoVKpZI5Gnk9n3hLkvF0BOU5Wxs/fjwLFy5k2bJlXL16lTFjxpCUlKQr8T948GAmTJig2z49PZ3g4GCCg4NJT0/n4cOHBAcHZ+vN/vTTTzl06BD37t3j+PHj9OjRA5VKRf/+/fXwEo3T/quR3IlOwtbChH71iu8cd0G/bMxNeLth1hC2+YduG9XJTigY+lpGLDVDzQ87s3oHu/q5Y6oSNxeFoqt8SVvebpB1bv1++xUy3/BGkvbztW/fvjeOTSgatIl3cZ7freXq6kqvXr0AmDNnjszR6Mfp06cJCgrC1NSU4cOHyx2O7CpXroyJiQlxcXE8ePBA7nD0Js9XMn379mXGjBlMmjSJmjVrEhwczO7du3UF1+7fv094eLhu+0ePHuHv74+/vz/h4eHMmDEDf39/RowYodvmwYMH9O/fn0qVKtGnTx9KlCjBiRMncHFx0cNLND6SJDH/UFZv99sNvLG1eLNeJUF43tBGWSMogsNiOXX3idzhCEVIeno6R44cAd488V587C5hT1JwtTPn3ebl9BGeIMjqo9YVcLAy5XpkAmtOv1ltGu0874MHD6LRiNEgxYG2unO1atVkjqRw+PDDDwFYtWoVUVFRMkfz5mbPng1Av3799Dp9t6gyMzOjYsWKgHFVNs9XF8K4ceMIDQ0lLS2NkydPUr9+fd1zBw8eZOnSpbrffXx8kCQpx8/Bgwd126xZs4ZHjx6RlpbGgwcPWLNmDeXKiQutlzkT+pRz92MxUykZ2thH7nAEI+Nia07v2h4Auhs8gpAbp06dIjk5GRcXlze6OIxKSGXuP1mjor5oXxlrPS3FJAhycrAy4+PWWReSv+69TlxKRr6PVbduXaysrIiOjuby5cv6ClEopBISErh37x4gEm+tBg0aUK9ePdLS0or8XO+HDx/qCkp/9NFH8gZTiGjf68U+8RbkteBwVjGVXrVLU9JW/0uVCMLIpmVRKODA9WhuRr54WT9B+K8DBw4AWfO7FYr8Vx//dc8NktLV+Hk60L2mKBwpGI+B9b2oUNKGp8kZLDyc/8JoZmZmNGnSBHj2uROMl/bmiru7O05OTjJHUzgoFAo+/vhjAH7//XfS0tJkjij/5s6dS2ZmJs2aNaNWrVpyh1NoaOsZaKdZGAOReBcxt6MT2X81q+jViKZlZY5GMFZlnK1pVzVrqNOiI3dljkYoKrQJQIsWLfJ9jMuP4lh3NmsY7qTOVVC+YPmw6ORozkSc4VHio3y3Iwj6JEkSofGhnI44zemI05yNPEtCes6bliYqJd90rsro5uUY1fzNvsO1nzOReBs/Mcz8xXr16oWHhweRkZGsWbNG7nDyJTk5Wbd2t+jtzs4Ye7zF+L0i5s+jd5EkaF2lJOVcbOQORzBiI5uVYfflCDadf8gn7SqK0RXCK6WmpnL8+HHgzRJvByszOlYvhQKo7Z3VsyNJEqciTrHx5kbORZ4jMjnr5uN7Nd9jtF/WWqdPU5/yzbFv6FquKy28WmCqFLUvBMNKV6ezL3Qf2+5sIyQ6hPj0+GzPL263mLpudQHIUGdgojRBoVDQrKILzSq+eQ0b7efs0KFDaDSaYr3ElLETifeLmZqaMm7cOL788ktmzpzJ4MGD32i0lRyWL1/OkydPKFOmDF27dpU7nEJF+36/cuUKarXaKCq9i7N0EfI4MY2NZ7Mq+40Uvd2CgdX2dqKWlwPpag3Lj4fKHY5QyAUFBZGWloabmxuVKlXK93FKO1gyd0AtZvWtiSRJbL+znW5bujFi7wh23d1FZHIkSoUST1tPHM0ddftdirnEoQeH+OTQJ7Tf0J5ll5eRocn/HFpBeJ055+fw5ZEvOfbwGPHp8ZgpzfCx86GsfVm8bL2oWqKqbtv5F+fTe1tv9ofuz7ZahCRJPE7M3xDZ2rVrY2try9OnT7lw4cIbv57C4PDhw3Tp0gV3d3cUCgWbN29+7T4HDx6kVq1amJubU758+Wx1hoyFWErs5UaOHImNjQ0XL15k586dcoeTJ5mZmfz8889AVm+3MSSW+lS2bFksLS1JS0vLthpWUSYS7yJkxYlQ0jI1+HnYU6+MmOMjGN6oZlk3eFacCCU5PVPmaITC7Plh5vrocTBVKYlMjuTb499yN+4uViZW9K3Ul8XtFhPUP4idPXfSt3Jf3fYVHCswqsYonCyciEqJYsaZGfTd3pfgqOA3jkUQtNQate7/u5fvTkmrkoytOZZ1nddxYuAJtvXYxpbuW9jRcwfWptZAVnK9484Objy9wccHP+b9f97nUeIj7sYk0Xt+EEOWnEKjyfvSjSYmJjRt2hQwnuHmSUlJ+Pn5MXfu3Fxtf/fuXTp16kSLFi0IDg7mo48+YsSIEezZs8fAkRYs0eP9ck5OTowenTXy6YcffihSy6CuWbOGu3fv4uLikm21JyGLUqnE19cXMJ7h5iLxLiJSM9SsCMrqdRzZrGyRG0ojFE1tqrrhXcKKuJQM1p8xnnUUBf3TXvi3bNkyX/svD7rHh2vO8+Bpsu4xN2s33vd/n3E1xxH4ViBfN/iaum51sTK1yrG/dtv9vfczpdEUHMwduPn0Jm/vept5F+YVqYsxofBRa9TMPDOTyccn6x4r51COvb32MsZvDFVKVHnp9AaFQsHazmsZWX0kJkoTDj04RPct3bnw+Ag3IhK49DCezcEP8xWX9vNmLIl3hw4dmDp1Kj169MjV9vPnz6dMmTL8+uuvVKlShXHjxtG7d29mzZpl4EgLTlRUFFFRUSgUCqpWrfr6HYqh8ePHY25uTlBQEIcOHZI7nFzRaDRMmzYNgI8//hgrq5zfa4LxzfMWiXcRsfn8Qx4npVPawZL2vmJ9P6FgqJQKhjcpA8CSY3dR56NXRjB+SUlJnDx5Esjf/O64lAxm7bvBluAHfHd0JteeXNM9N8R3CO/6vYuNWe5qWpiqTOlZoSdbu2+la7ms+XInHp0gUyNGbAj5k5CewLh/xrHk8hK23N5CaPyzqTcqZe6Ghtqb2/NBrQ/Y2GUj/iX9SclM4ZsTn1HP/xwg8cue66Skq197nP96fp53Zmbxe48HBQXp1jTXateuHUFBQS/dJy0tjfj4+Gw/hZk24ShXrpxIzl6iVKlSDB8+HMjq9S4KtmzZwpUrV7C3t2fs2LFyh1NoGVtlc5F4FwGSJPHn0azK0sMa+2CiEv9sQsHpVcsDOwsT7j1OJvDfivqC8Lzjx4+TkZGBp6cnZcvmvf7E7wdu8TQ5Feey6wh6spYP/vmAlMyUN4rJ0cKRH5r8wI9NfmRmwExMVaLYmpB3j1MeM3jXYI4+PIqFyoJfmv2Ct513vo9X1qEsf7b7kwGVBwBwNn4tbi7RhMel8ufRvC8v5ufnh4ODAwkJCZw7dy7fcRVVERERuLq6ZnvM1dWV+Ph4UlJefA6ZNm0a9vb2uh9PT8+CCDXfxDDz3Pnss89QqVTs379fdyO4sJIkSXeDYNy4cdjb28scUeEleryFAnf4Zgw3oxKxMTehT93C/QUhGB9rcxMG1M+60NTeABKE5x08eBDI3/rdYU+SWXLsNhal15BmHoyZ0oyPan2EpYmlXmLrUq4LJSxL6H7fdntbjurTgvAiT1KfMGLvCG7F3qKkZUmWdlhK+zLt3/i4pkpTJtSfwLcNv+WX5r8woVVbAOYdvE1UQmqejqVSqWjWrBlAkRliK7cJEyYQFxen+wkLC5M7pFcSiXfu+Pj48PbbbwPw9ddfyxzNq23evJmzZ89ibW3Nhx9+KHc4hZr2fX/z5k1SU/N2fiyMROJdBCw6knUXvE8dT+wsRK+NUPCGNPLGRKng5N0nXHoYJ3c4QiGjveBv3rx5nvedvvsqSte/MLULwVRpyuwWs+lYtqO+QwRg5ZWVTDw6kdH7RpOYnmiQNgTj8DT1abake0n7JfiW8NVrG70q9qKNdxu6+rnj5+lAsjqeWfuu5/k42s9dcUy83dzciIzMPhIrMjISOzs7LC1ffPPO3NwcOzu7bD+FmahonnuTJ0/G1NSU/fv3s3//frnDeaHMzEwmTpwIZM1Nd3F586UFjVmpUqVwcnJCo9Fw9epVucN5YyLxLuRuRCZw5GYMSkXWMHNBkEMpe0s61SgFPLsRJAgAycnJnDp1Csh74h0cFsu+yIWY2l9EpTBhVsAsmno0NUSYANR1q4u9uT0hMSF8euhTMe9beKkT4Se49fQWLpYu/NnuT7zsvAzWlkKhYHRLJ6x85nI4ejXpmZo87a/93B05cgS1Ou/zxIuyhg0bEhgYmO2xffv20bBhQ5ki0i9Jkrh8+TIgerxzw8fHhzFjxgBZIxsKY1HN5cuXc+3aNUqUKMEnn3widziFnkKh0L33jWGet0i8C7nF/w7tbefrhqeTKKohyEdbZG37xXAi44v+cB9BP06cOEFGRgalS5emXLlyedr3uwPLMXM6BsD0Zj/R3DPvPeZ5UcmpEn+0+QMLlQXHHh3j1zO/GrQ9oejqUKYD/2v5Pxa2XYiPvY/B21Ob30Zp9oR4i50EhuVtKayaNWtiZ2dHfHx8kV/POzExkeDgYIKDg4Gs5cKCg4O5f/8+kJVMDR48WLf96NGjuXPnDp9//jnXrl3j999/Z926dXz88cdyhK939+/fJyEhAVNTUypUqCB3OEXCV199hbW1NWfOnOHvv/+WO5xsUlNTmTw5a2WEiRMnirnduaRNvLU3oYoykXgXYk+S0tl0PmuJkXf+TXoEQS41PByo4+1IpkZi5YnQ1+8gFAvPDzPP6/zuOd0H4Gbmy5DKo2nn084Q4eXgW8KXH5v+CMDKqytZd31dgbQrFA3P95AFeAZQziFvN5Pyq3PZzgz1HQrA10e/5mL0xVzvq1KpdOt5a+stFFVnzpzB398ff39/IGsorr+/P5MmTQIgPDxcl4QDlClThh07drBv3z78/Pz49ddfWbRoEe3aFcz5xNC087srV66MqamYapgbJUuW1PUkT5gwgbS0NJkjeuZ///sfDx48wMPDQ1QyzwNjKrAmEu9C7K9T90nL1FC9tD11vB3lDkcQdDeAVp28T2pG8RrSKLzYm8zvLm3nzM6+K/ikXsFegLTxbsP7/u8DMO3UNC4/Lvp30YU3dzriNAN3DuR+/P3Xb2wAH9X6iOYezUnXpDNm70c8TYnN9b7GMs87ICAASZJy/CxduhSApUuX5ri5EBAQwPnz50lLS+P27dsMHTq0wOM2FFFYLX8++eQTXF1duXnzZqFZ0/3Bgwd89913AEydOhULCwuZIyo6RI+3YHAZag3Lg+4BWXO789qTJAiG0LaqK6UdLHmSlM7W4EdyhyPILDU1lRMnTgC5T7w1koYt1w/oehZNlaaynN9GVh9JK69WZGoyORNxpsDbFwqXp6lP+fLIl4TEhLD8ynJZYlApVfzY5CdUahfiM6MZveeLXM9RfX6et0aTtzniQuGlTTR8ffVb2M/Y2dnZ8csvvwDw/fffZxslIZdPP/2UpKQkGjVqpKu+LuSO9v0fGhpKfHzRXpVEJN6F1M6QcCLj03C2MdcVtRIEuZmolAxumLW02OJjdwtl4RKh4Jw6dYq0tDRcXV2pWLFirvaZH7yQr098QJNFH/Io9s3W6n4TCoWCKY2m8EfrPxjiO0S2OAT5SZLEN8e+ISo5Ch87H8bXHi9bLHbmNnQt9TmSpOJK3HH+upa7qRC1atXCxsaGp0+fGkUBIiGL6PHOv0GDBtGkSROSk5MZP16+zzRAYGAga9euRalUMnfuXJRKkX7lhZOTE6VKZeVCV65ckTmaNyP+5QupJcfuAfB2A2/MTVTyBiMIz+lX1wtLUxXXIhI4ceeJ3OEIMsrr/O6Q6BDmX/wdAHWqO8425gaN73Xsze1pVLqRrDEI8ltzfQ2HHhzCTGnGL81/wcpU3kKmX7ZqjWlcFzKTyhETmbs55iYmJjRu3Bgo+sPNhSxqtVqXZIjEO+8UCgVz585FpVKxceNGdu7cKUscqampjBs3DoCxY8dSs2ZNWeIo6oxlnrdIvAuh4LBYgsNiMVMpGVDfcEuYCEJ+2FuZ0qt2aQCWHr8rczSCnPIyvztdnc7Eo18joSEjzo+vmr2NmUnh+QoKSwjjowMfEZMSI3coQgF6kPCAWWez5oCOrzOeyk6VZY4IrMxM+LT+CFLuD2fJ4SfEp2bkaj9jmectZLl9+zZpaWlYWlpSpowosJsfNWrU4MMPPwRgxIgRPH78uMBjmDhxIteuXcPV1ZXvv/++wNs3FsYyz7vwXPUIOsuO3wOgs18pXGzl7REShBcZ0tAHgH1XInnwNFneYARZZGRkEBQUBECzZs1eu/2Ciwu4F38HTaYN5ZWD6FzD3dAh5snXR78m8H4gP578Ue5QhAIiSRLfBn1LSmYKtV1r079yf7lD0ulb15NyLrY8Tc5g/sHbRCRFvHaf5+d5i2lARZ82wahataoYmvwGpk6dSuXKlQkPD2f06NEF+tkIDAzUFXdbvHgxDg4OBda2sdHO8xY93oJeRSWksv1iVtGqoY185A1GEF6igqstTco7o5FghVharFg6d+4cycnJlChRgqpVq75y22tPrrEoZBEAaRHd+Lpj3UJXMHJi/YmYKEzYF7qPvff2yh2OUADi0uJISE/AXGXOlEZTUCoKzyWRiUrJF+0rgyKTZTd+pvOmzoTGv/pcW6dOHSwsLIiOjub69esFFKlgKGJ+t35YWlqyYsUKTExM2LBhA6tWrSqQdmNjY3UV9kePHk3Hjh0LpF1jJYaaCwax+uR9MtQStbwcqOHhIHc4gvBSQ/69MbTmVBgp6WJpseLm8OHDADRp0uSVvTEaScPk45NRS2oy4qvT1L0lDcqWKKgwc62SUyVG1BgBwA8nfyA+vWhXThVez8HCgVUdV7Gk3RK87bzlDieHNlVdqePtjKN9MmnqNKYETXllb52ZmRkNGjQAnn0+haJLJN76U6dOHSZPngzAmDFjDJ68qdVq3n77bR48eED58uWZMWOGQdsrDrQ3+CMiImSZMqAvIvEuRNIzNaw6mbXkwRDR2y0Uci0rl8TD0ZK4lAy2BD+UOxyhgB05cgSApk2bvnI7BQqGVR2JqdqD9MiufNFB/jm0LzOq+ijK2JfhSeoTfjv/m9zhCAXARGlCdZfqcofxQgqFgpXDG7C2169YqCw4HXGaXXd3vXIf7edR+/kUii5tciiWEtOPL7/8khYtWpCYmEiXLl2Ijo42WFsTJ05k+/btWFhY8Ndff2FtbW2wtooLW1tbvL2zbpAW5XneIvEuRHZdCic6IY2StuZ0qCaWEBMKN5VSoZvrvfT4PTGnsBjRaDQcPXoUeP38boVCQfuyrTk9ZAfrR7ajsptdQYSYL6YqUybWnwjA2utrufbkmswRCYZwPuo8vwf/TmpmqtyhvJaFqYrSNqUZWWMkADPOzCAxPfGl24vE2zikp6dz48YNQPR464uJiQnr16+nbNmy3Lt3j169epGenq73dpYvX87PP/8MZM3rrlOnjt7bKK6MYbi5SLwLkeVBWfO3BtT3KlTVfgXhZfrU8cTCVMm1iARO33sqdzhCAbl8+TJPnz7F2toaf3//l26XkvlsnW6VSkltb8eCCO+NNCjVgHY+7dBIGpZeXip3OIKeZWoymXpiKvMuzGPehXlyh5NrbUv3xUrhSnRKNPMvzH/pdg0bNkSlUhEaGsr9+/cLMEJBn27cuEFmZiZ2dnZ4eHjIHY7RKFGiBNu2bcPOzo4jR47w1ltvkZaWprfjb9y4keHDhwPw1Vdf0b9/4SnYaAyMobK5yO4KiUsP4zgb+hRTlUIsISYUGfZWpvTwz1pabFnQPXmDEQqMtjetUaNGmJiYvHCbSzGXaLuhLZ/unk9yemZBhvfGPq3zKR/W+pDvGn0ndyiCnq27vo4bT29gb27PUN+hcoeTawsO3ycmNKs408qrK7kde/uF29nY2FCrVi1A9HoXZc8PMy9shSiLuqpVq7JhwwbMzc3ZunUr3bt3JyUl5fU7vsbq1avp27cvmZmZDBw4kO++E98f+mYMlc1F4l1IrPi3t7t9tVKUtLWQORpByL23G/gAsOdSBBFxhX/opvDmXje/W5Ikfjn9C7FpsWy/fpwuc46i1hSdqQhu1m6MqD4CM5WZ3KEIehSfHq/r5X6/5vs4WhT+ERhaH7SsgElaFTISqmCpsuVR4qOXbiuGmxd9Yn63YbVp04YdO3ZgaWnJ7t27adeuHQ8f5q9WjUajYcaMGQwaNAi1Ws3QoUNZtmyZWALOAJ4fal5UpzeKd0UhEJuczuZ/i1MNaVj4KqsKwqtUdbejro8jmRqJ1afE0EZjJ0mSrmLyyxLvf+7/w7mocyCZkhbdnp61PFApi2avTaYmk6uPr8odhqAHiy4uIjYtlnL25ehVsZfc4eSJm70FwxqXIS2iBzZRX9PIvclLt9V+LkVl86JLO5S2evXCWfjPGLRq1Yo9e/Zga2vLkSNH8PPzY/v27Xk6RmRkJJ06deKzzz5DkiRGjx7Nn3/+iUqlMlDUxVvlypVRKpU8efKEyMhIucPJF5F4FwLrzoSRlqmhaim7IjEHUhD+a/C/Rdb+OnWf9EyNvMEIBnX37l0ePXqEqakp9evXz/F8hjqDmWdnApD2uAkuliUZ1tingKPUj+jkaHpv7c3Q3UOJSYmROxzhDTxMfMjKqysBGF9nPCbKF0+RKMzGNC+HrYkTNyMz2Xz+5b1zTZpkJeVXr14lJka8b4sisZRYwWjatClnzpzB39+fx48f06VLF7p27crp06dfuV9sbCzfffcdVapUYffu3VhYWDB//nx+//130dNtQJaWlpQvXx4ousPNxbtDZhqNxMoTWb2Egxt6i7k8QpHUztcNF1tzohPS2HUpXO5wBAPSDl+tW7culpaWOZ5fd2Md9xPug9qG9McBfNCqAlZmRS/JAShhWQJLE0uSM5OZF1x0CnEJOc05P4cMTQb1S9WnaelXL4FXWNlbmTK2RdZF56/7rrP99k4C7wfm2M7Z2Vm35q129QGh6EhOTub27aw5/CLxNryKFSsSFBTERx99hEKhYNu2bdSrV48GDRowYcIEtm7dSmBgIPv372fOnDm89dZbeHl5MXnyZJ4+fUr16tU5ffo07777rriGLwBFvbK5SLxlduhmNPefJGNnYUK3mqXlDkcQ8sXMREn/ellFAVedEMPNjZn2Qv5Fw8yTMpL448IfAKRGtcbH0ZG+dT0LND59UiqUfFLnEwA23tzIvbh78gYk5NtYv7G08W7Dp3U+LdIXx0Ma+uBqZ06UdJQJR79g+qnppKtzLomk/XyKxLvouXr1KpIk4eLiQsmSJeUOp1gwNzdn1qxZXL16lSFDhqBSqTh58iQ//fQT3bp1o3Xr1rRp04YPPviADRs2kJCQQLVq1VizZg3nz58XN0gKkEi8hTey8t+iam/V8cTSTMwJEYquAfW8UCkVnLr3hGsR8XKHIxiI9kJeO5z1eUGPgohNi0VKdyYjti6ftK2Eqapof83UcatDc4/mqCU1vwf/Lnc4Qj552XkxM2AmlZ0qyx3KG7E0U/FZu8oMq9kdF8uShCeFs/7G+hzbaT+fIvEuesQwc/lUqlSJpUuXcvfuXRYvXszQoUPx8/OjWrVqVKtWjXbt2vHDDz9w5MgRLly4QN++fcV87gJWLBPvuXPn4uPjg4WFBfXr1+fUqVMv3fby5cv06tULHx8fFAoFs2fPfuNjGouwJ8n8cz0KgIFiCTGhiHOzt6BtVVcAVp4IlTkawRCio6O5du0akLWU2H+19m7N/Bar8LMcSfXSTnSqXqqgQzSI9/3fB2DXvV1cf3Jd5miEvMjQZMgdgt71ru3BVx38GFNzNAALLi4gOSM52zbaxPvs2bMkJyfnOIZQeInEW36enp4MGzaMJUuWEBwcTEhICCEhIezevZuJEyfSpEkTMZdbJs+v5a3RFL2aQnl+16xdu5bx48czefJkzp07h5+fH+3atSMqKuqF2ycnJ1O2bFl++ukn3Nzc9HJMY7Hq5H0kCZpWcKasi43c4QjCG3u7QVZV/k3nHpKQanwXvMXdsWPHgKwlbpycnF64TSOv6qwaNID1oxuiLKKVzP+rklMlOvh0ALLmCgtFgyRJjNo7iolHJhKZVDQr4L5K9/Ld8bT15EnqE1ZfW53tOW9vbzw8PMjMzCwWHRnGRCwlJggvV758eUxNTUlMTOT+/aI3tTHPiffMmTMZOXIkw4YNo2rVqsyfPx8rKysWL178wu3r1q3LL7/8Qr9+/TA3N9fLMY1BaoaadWfCABjUQCwhJhiHhuVKUNbFmqR09Sur7gpF08uGmT9OeUxYfFi2xyxMjWv43diaY1EpVCSkJ5CSmSJ3OEIuHHt0jDORZ9hzb4/coRjEtUfJZD5uA8DiS4uJS4vTPadQKHSfU7Ged9EierwF4eVMTU2pXDlrylBRHG6ep8Q7PT2ds2fP0rp162cHUCpp3bo1QUFB+QogP8dMS0sjPj4+209Rs+tSOE+S0nG3t6BVZVE8QzAOCoVC1+u94kQokiTJHJGgTy9LvBeFLKLL5i70Wj2NsCfGOazVx96HDV02sLT9UixNclZzFwoXSZKYe34uAP0q98PV2lXmiPTvaXI6N26XR5PmRkJ6gm65NC0xz7voiYuL48GDB4Do8RaElynK87zzlHjHxMSgVqtxdc3+Bebq6kpERES+AsjPMadNm4a9vb3ux9Oz6FXN1S4h1r+eFyZFvPiQIDyvV20PLE1V3IhM5PS9p3KHI+hJUlISZ8+eBbJXNI9Ojmb9jfWoJTXBty35cedVuUI0uPKO5Yt0Rezi5OjDo1x6fAlLE0veqfaO3OEYRNMKzjQs60JadCvslWXxd/HP9rw28T5+/DiZmZlyhCjk0eXLlwHw8PDAwcFB3mAEoZAqNol3YTFhwgTi4uJ0P2FhYa/fqRC5Gh7P2dCnmCgVRXqpHUF4ETsLU7rVdAdEkTVjcurUKTIzM/Hw8MDL61kxyMWXFpOmTkOd7I0muTwft6koY5QFIy4tjk03N8kdhvASkiQx70LWuut9K/WlhGUJmSMyDIVCwWftK5GZUI1HV0biYlI92/PVqlXDzs6OxMREQkJCZIpSyAsxzFwQXq/YJN7Ozs6oVCoiI7MXKYmMjHxp4TRDHNPc3Bw7O7tsP0XJqpNZyUhbX1dK2lnIHI0g6N/A+lnDzXddCicmMU3maAR9eH6YubbXV9vbDZAW04oe/h5UdLWVLcaCkJyRTKdNnZh0fBLBUcFyhyO8wLFHxwiJCcFCZcEQ3yFyh2NQtbwcaVPVDY2k4Ne9N7I9p1KpaNy4MSCGmxcVIvEWhNfTfj6uXr1a5Ebz5CnxNjMzo3bt2gQGBuoe02g0BAYG0rBhw3wFYIhjFmaJaZlsOpdVdGpQfVFUTTBO1T3s8fOwJ0Mtsf7MA7nDEfTgRfO7n/V2e6FMrcjHrY2/t9vK1IrWXlk1SbS9qkLhsuLKCgD6VOqDs6WzzNEY3qdtK6FQwO6r9/j28GyWX16ue07M8y5aROItCK/n4+ODlZUV6enp3Lp1S+5w8iTPQ83Hjx/PwoULWbZsGVevXmXMmDEkJSUxbNgwAAYPHsyECRN026enpxMcHExwcDDp6f/f3p2HN1WlfwD/3uxJd0p3SkvL1kKhpQi0LgxYBVEBRUBQQB5xhRkVx1FcQMaZwQUVx0EdmRHUnwqCiAoMqBVQdigUylbZy9KFQvct2/n9EZJSaKEtTW6afj/Pkweanty8p03e5r3n3HOMOHPmDDIzM+v8oK51TE/yXeYZVBgtiGnvhZRYz5z+RgTUjnp/uf0krFYustaamc1mx2KX9hG081Xnsez3ZQCAmsI0jO8Xhch2BtlidKUpCVOgklTYfHYzss5xCq+7mTtwLv6Y9EdM7ul5nyHq0y3UB/ckRkDl9Tu+Of5ffLT3I5QbywGgzsrmXOzS/bHwJro2hULhWHywtU03b3LhPXbsWMydOxczZ85EYmIiMjMzsWbNGsfiaDk5OcjNzXW0P3v2LJKSkpCUlITc3FzMnTsXSUlJmDJlSqOP6SmEEPji4qJq4/t35CI95NHu7h0OX50Kpy5UYcPhc3KHQ9chKysLZWVl8PX1RUKC7TrSQxcOQQgFLFUdoDF2x7TBXWSO0nU6+HTAsJhhAIAFWQtkjoYu56PxwaO9Hm0To912z9zWFf8YMh7RvtEoM5bh69+/BmDb0lWtViM3NxcnTpyQN0i6qoKCApw7dw6SJCEuLk7ucIjcmv3kVGtbv6JZi6tNmzYNJ0+eRE1NDbZt24b+/fs7vrd+/XosWrTI8XV0dDSEEFfc1q9f3+hjeorMU8U4kFsKrUqB+5I7yB0OkVPpNUqMuvg6/3JbjszR0PXYtGkTACAlJQVKpW1/7hsjbsSKEatxX+SfMW1wFwT5aOUM0eWmJEyBBAnrTq3D70W/X/sB5HTlxvI2O6ob2c6AMX2jMCXBNqjx2f7PUG2uhl6vR3JyMoDa9zG5p7179wIAYmNjYTC0jdlDRM3VWhdYa5WrmrdWX1wsPu7sFQZ/g0bmaIic74H+ttWvfzlUgNySKpmjoeayXx9qn2Zu18E3EH+981ZMHdRZjrBk1cmvE26Lug0A8N+s/8ocDQHAX379C8avGo8D5w/IHYpshsUMQ7hXOM5Xn8fyw8sBgAustRL2kbtevXrJHAmR+7O/T+wnrFoLFt4uUlJlwsq9ZwHUFiNEnq5zsA/6RbeDxSqwZEfr2vaPatlHym688UZUmiqx9ew2WK1WmaOS35SEKVApVNCr9G12pNVdHDx/EL+d+Q0HLhyAt9pb7nBkc+BMBc6fSQUALNy3ECaLyVF4c8TbvdkLb/vlPETUMPv75OjRo6ioqJA5msZj4e0i3+46jWqTFd1DfdCnY4Dc4RC5zAMDbCealuw4BbOFxVprk5OTg9OnT0OpVKJ///5Yfng5HvlpCm78ZAq2H78gd3iyiguMQ/rodLya+irX7JDZf/fZZh0MiR6Cjr5t9+R2dKAXaoqTYTX7IK8yDyuPrXQU3vv27UNRUZHMEVJDWHgTNV5ISAiCgoIghMCBA61nlhMLbxcQQjimmXNRNWprhvYMRYBBjdySaqzP5iJrrY19empSUhI0eg0W7f8UAFBY2AGH8krlDM0ttNO1kzuENi+nNAc/nfwJAPBwz4dljkZefgY1Hr+lO4yFA6Gp6ocegb0QHByMLl1six/adycg92KxWLB//34ALLyJGsv+XmlNC6yx8HaBnSeLcLigHHq1EiOTIuQOh8iltCqlYzHBL7dzkbXWxj499aabbsL/jv8P+ZV5sJq9ESzdiPtvaLsji5f7veh3rDmxRu4w2qRF+xfBKqy4KeImdGvXTe5wZDf5xmj4mQbj/Il7sf13FQDu5+3ujh07hqqqKuj1esTGxsodDlGrYL/Om4U31fHVxdHuu3uHwVenljkaItcb189WoK3LLsCZYi6y1prYP6inpKbgP3s/AQCYLtyEZ9J6QKPinxAAyCzIxKjvR2H25tkoM5bJHU6bUlhViO+OfAeAo912Bo0K0y4uePj+L4dRbbLwOm83Z18gKj4+3rFzBBFdHUe86QrFlUaszLLtaz6+f5TM0RDJIybIGykxgRAC+JqLrLUaJSUljj9oqk4qHC89CmHRooNqMO7h7B2HXkG9EOsXi3JTOb7O/lrucNqU749+D6PViF5BvZAckix3OG5jXP+OiPDX41x1DiZ8/wz8u/kDALZv3w6j0ShvcHQFXt9N1HQsvOkK3+4+A6PZirgwX/Tu4Cd3OESyGXdxNf+vd3KRtdZi69atEEIgJiYGy/K+BQAYiwbgL7clQqngWhV2CkmByT0nAwD+7+D/wWhhYeMqk+In4d0/vIun+zzN9VMuoVUp8VRaF6jbbcah8nX4uepnBAYGorq6GhkZGXKHR5fhVmJETdejRw9IkoSCggIUFBTIHU6jsPB2IiEEvrp4Tev4fpH8UEBt2pAeIWjnpUFuSTU2/M5F1loD+zTzGwbcgJMl+RBCiVjtUAzpESpzZO5nWKdhCDGEoLCqECuPrZQ7nDZDqVAiLSoNN4TeIHcobufepAj8846nIUHCxrMbkdgvEQCnm7sjjngTNZ3BYHCsidBaRr1ZeDvRrpwi/J5fDp1agRGclklt3KWLrH3FRdZaBfsH9EG3DMK6savxZNd5mDUshScR66FWqjEhfgKA2sW+yHlMVhNqLDVyh+HWVEoFhnTribSoNACAiLLtNc/C271UVlbiyJEjAFh4EzWVfZaIfZ0Ed8fC24m+3Ga7lvXuXuFcVI0IwP03RAIAfjlUgNwSLrLmzkwmE7Zt2wYAuPHGG6FRqfBk6h8wICZQ5sjc16guo+Ct9sbxkuP49fSvcofj0dYcX4Mhy4ZgyaElcofi9h7q8RAAICfQdsJz06ZNEELIGBFdav/+/RBCICgoCCEhIXKHQ9SqtLbrvFl4O0lJlQkr954FUHttK1FbFxPkjQEx7WAVwBIusubW9uzZg8rKSnj7+iC8U7Tc4bQK3hpvjO42GoG6QFSYKuQOx2MJIbBw/0Kcrz6PUiP3kr8WL8TAWtUJmigNlGolzp075xhhJflxmjlR87HwJgDAit1nUGO2oluID5Ii/eUOh8ht2LcW+3rHKVisHHVxV/bpqFK0hIFLbseKvQdkjqh1eDThUay9by3ujLlT7lA81uazm3G46DD0Kj3GdBsjdzhuL6a9Fzoo7oBCo4AuSg+A083dCQtvouazv2/2798Pi8UiczTXxsLbCS5dVO1+LqpGVMeQHqHwN6hxtqQavx7mImvuyv7BXN9ZB4vRH7HtwmWOqHXw1nhDq9TKHYZHW7R/EQDb1H4/LXcLuRZJkjBz8H0wV8RAE9EdAAtvd7Jnzx4AQO/evWWOhKj1iY2NhcFgQFVVVauYycPC2wn2nC7BobwyaFUK7nVLdBmdWul4XyzmImtuSQiBjZtsK5obuhjQw2s4Ejr4yxtUK2OxWpCek47TZaflDsWjHLpwCFtzt0IpKR2L2dG13dg5CH21L0IVOBQAC293IYRAZmYmACAxMVHWWIhaI6VS6Vhgzf5ecmcquQPwRPZiYlhCGPwNGpmjIXI/4/p1xMJNJ5B+sAAFZdUI9tHJHRJd4uTJk8g9mwsoAV2HCPzt9nHXfIzVYkVFiREVxTUoL6pBVZkRlWVG+LXXo3tKGADbh8xv5+6CxWyF9eJlBgqFBIVSglKtRHBHH6SO6uw4Zva2PKjUChj8tPAO0MLLTwOFsnWcL35t62v45vA3GNttLF4e8LLLn7+myozyC9WoKK5BRUkNqspMiO0TBL8gAwDg5L7zyFhzAhazgLjkkg9JIUGlViDp9o6ITmgPACgtrMKRjALofTTw8tfAy18Ln3Y6aHSu/wjx6f5PAQC3R9+OcO/WMQvD/t4ov1CNihIjLCYLug0Ic3x/8/IjKDhZBovJAqtFXPbeUODe5/o4Zs5lb81Fybkq6H00MPjafhfeAToY/DRQKK4+u+7Pt3fD+j1HAQAHDx7EhQsX0K5dOyf1mhrj1KlTKCoqgkqlQnx8vNzhELVKvXv3xtatW5GZmYmxY8fKHc5VsfBuYeU1Zny/x7aomn0FZyKqq2uID/p09MeunGIsyziNJ//Q+doPIpf57bffAAD6jnr0bDcC3UJs03mFVaD0fDUsZivahXkBAExGCxb/dRvKLtTUKeDsonoGOgpvSZJwLqcMZlP9W21dflXOb1//jpoKc+33FRK8A7TwC9IjNMYP/YfHOL4nhHCry3qGdRqGbw5/g++OfIepiVMRoAto8eeoqTJDqZSg0igBAMcyz2HHquMoO1+NmkrzFe39gvSOwttYbUbukZIGj93jltqitvBUObZ8e/SKNlovFXwD9eg7LBoxiUEAAPPF4tEZRXlRdRHWnFgDAJjUY1KLH/96XP762/b9MeQeLUbJuSpUFNXg0kXENXpVncK78FQZzmQX1XtcpVpR57hHMgpwIuv8Fe0USgk+7XQY+3I/qLW210NRXgWUagV8AnSQFBJ6R/pjaHJnfNq+PUyFhdi0aRPuvvvu6+06XQf7NPO4uDhotbxEhag57LNF7O8nd8bCu4Wt3HMWlUYLYoK80K8TzyQTNeT+fh2xK6cYi7efwuO3xF5ztIZcZ8GKLwAA0aGxeKSsP9Lf/Q1lRUZUF5sBi0BgBwNum3ELAECtUcKvshwBKkApARqtAmqdEmq1Aiq1BIOm7l7LAwd4QTIK24VOCgni4q/dAgGNd+1otrAKhIVLqKqQUFFuQnmZGRYrUHK+CiXni2ExlgOXFN6LZqRDo5MQEKSFf7Du4r9aePmooVAo4R1Ru7tERf4ZWE2mBvvv0yG6wbbCKiDMAjBZISwCft07Q7r42i05cBzmwioIi0Ankx5TSu9BUeUFbPnye/QNTET7O3pCcbFILtp+BMbT5baDSrabJEmA0naCwf+mLlD72hbCKtp/EsVHi1BaakJpqQklxUaUXDCirMKMm0dGoNvgeKjUakAABTkXAMl2YkOjU8Dgq4bBWwW9twqoKYSlxg9KrRZhsf4YND4Swlxle+9JAARgtQpYzQK+3qWw1ARAqdXC4KdBTJIvKosrUFluRmWpCcYaK6oqgKqKclSc08BUZYBa74VTBy7gfx/sgr+vBL8ALfwC1PD1U8PHRw0vbxUUkOAdFw5dqO1ERMWxXFRkFdi2txK2GOr8LnqFwdDZtsWSJr8GXxjewYnKHITsEihU7YeklCApJUAlwdAxGLow299dY0kpqs8XAirJ8fu5lMbHD1o/Wwym8jJUF19ZzNbX1lhRjsLjZ1FcUIOiczUoPleNooIaGKssGP1UV2i8faH1b4eCk2U4deg8INleOwqFBB9fFQx6Fby8gAuZ2dAF+sMQGYKk26PQNbEdcLrA9lKw2l5nsAKwChSsyISuYwB8+0Qhuld76A0K6E9dgMlkhanGgpoaK6wCUFSYUbzuANShPvBPjMbmb47g2N5zCNJZoPdXwztAjRE6C9Z19MfRwkIsXbvULQvv+fPn46233kJeXh569+6N999/H/369au37aJFizB58uQ692m1WlRXV7si1OvGaeZE18++PgKnmrdBX13cImlsXy6qRnQ1d/UKw19/OICcC5XYevw8UmPbyx0SXZSVsRsA0LNDHDbn/mK7UwHg4rnEsHJfALc42u/x2QKLdFnFZLHdgnO80QO1H5qXZ6+BUVH/yqOBFi90GWn7AyopJOwr3oAqpRkwwHa7hKlMC+BmAEB1uQkFys2oghU4B9vtEjqLAi+8NtPx9Qfz/o0Kbf1T1jVWBWa8+oqjWPvPvP+iSFv/CL1KKPDiiy9C0tr+lP7f51/inPbSgl4BoD225xzH9pzjeGVQd+Bi4b1k+VfI0zW8AutTHccjoGdXHMs8hzVffY0C/WXbk3nbbku3AI+oyxEx+EaExvpB67sNZ70u+11U2m7b1wIPnuuDzsOHwztAi63fLUCOz2U/2EuMio1BwoSJCI3xQ+GRb3DUSwsoAVw2eP/NJuCu7HD0nfYoSs9XQ+19CL97FQFGAPkXb5e4bWcgbnzuj6gsNWLVvxfggL7+ny8ADNzvi0GvTAcApH/8b+xS2/q2/ejxK9qmCm/cPvvPAIBf3p2HrWj4uMkmFe7+u+0SgF/ffxe/1TTctme1Gfe9/jf8uvh37Nu0HgWBZ+s2UADwAt7+z2bEVwqMeXM2eg3qAE3FNmyprm17DrCdWCgHtq0AulVpMO6NFxEZ1w5ZGSvxzZFj9QdwCui8RYsH+8xAj5sjoCvfic9P7rb9Li57b2zfCnSq1mNS4vMQAJSKMhwKuDgKVGz7Jz4iDkd3HcGWLVsa7LNclixZgunTp+Ojjz5C//79MW/ePAwZMgTZ2dkIDg6u9zG+vr7Izs52fN2aPntxYTWi65eQkABJkpCbm4uCgoIGc4U7aB0Xy7USB3NLsedUMVQKCaOSO8gdDpFbM2hUGJ5om87KPb3dR3V1NdSVtuImMrL+y2Ws1rqj2EJcOcXczmipWzBaRcPFpkU0PAp9OUlSOv6vNaiguuTry6mk2rU2jNVmKJX6BtsqJCWEubYIk6Sr/5kUl0ybt1qvEf/F69NNNRYYLTVXbWofGfcL0sOCa2yRorIVGgZfDdTXKjrMtd9XKhouum2B1v5MFdI11iu5OHWh9+BI+CgvXKOprT+Hd+Qjv8b76m2Vtp+TyWKCgPEax73059/w6wEAFBfHHWqqzKipafj1AAAqyRajJAGKax1Xsh0rqmcgAgOunO5/WcSXhHv1rRVN1vJLnuTqRzVffM/dNbU3RkwKueL7HTvaZn8YC42wWhs+4SCHd955B4888ggmT56M+Ph4fPTRRzAYDPjkk08afIwkSQgNDXXcQkKu7LO74og30fXz9vZG5862Sxbdfbo5R7xbkL14uC0+BO29ea0O0bXcf0MkvtyWg//ty8PsSiMXI3QDOp0OeXl52L1uHbp0jal39Eh52bWIzzz6UIPHU6jVdb5+6rHGt536+ERYrRbAZJveLcxW278mAUnUxiUpJEweNgqWUhNgEY5pulazFdUVZiiUtW1LCqoQVdIHXgrJNrP54oxeAcAiBEKivRyj3dXlJsSHDIZWDaj1SqgNCii1Sih1Sqi0EnzaaaH0tr1mjdVmpA0bB2N1NUw1FpiNAjVVFhzMO4pj506jMjgPksFWtJWcq4RUehMCy64setRqCT1vbA/vmCgAQECoAeOfnAiN8sqiUwgBmAUMEbUnSO57cgpM+aWAWUBYbDf7/2EV8OtfOz3/3okPozK7sJ5fhG3quX9KJ8ddIx99DFXHL9imbislSCrJdm2BSoKklmDoGOpoe8+LT8FYXnpFrNUVZmj1KhgujkaYaixQWxMQmFf/CYu7H45BRFwETBYTnvjgBXTXJKFvcCR8vPXQ6pVQaSSotUqoVBLCor3gE2I7bnF+JWLveAARRcWwVFthrrbAXGmFqdoCc5UZ3ZPawa+z7Zr0bSuO4kxeIpI1AhJsNa10cea9QpLQJdEP7ZNtJwh7DY5Elx7DgN/zba8pBWzT3BW10911Ef6O+HuNn4DY47mQVBIklQKS+uLP6+J7SuPt62gbf+/9iD6XW+/P4fK20X8Yimd7NDxCqtTXnlAJ7dsPz3aouwid1WrF5HvuQZ/Bg91qdNhoNCIjIwMzZsxw3KdQKJCWlnbV0fny8nJERUXBarWiT58++Mc//oEePXo02L6mpgY1NbUnvkpLSxts60ylpaU4etS2dgJHvImuT2JiIg4fPozMzEzcdtttcofTIBbeLaTaZMG3u88AsF27SkTXlhDhh/gwXxzILcW3u89g8o2drv0gcjqFQoHkW29tdPtLr4luybaXXpd9Le1SuzeqXVBHHwx/Ow3F+ZUoyqtAcX4VSgoqUVxQhbLzVYhK6AhJZRtSLC+uQfbBhq8V7TOkIzpc/LxcWWLEL1+dqadVCKIQgrPt9uFC9QW017eHTzsd2oX6wy9ID98gPQJCDPAPNSAgxAte/po6xZBCqUBgVONX7/aJDgeiG9feJyESPgmNWwTUq3M4vDo37rha/3bQ+l+5xonvZV/3HRaN5DuiUF5Ug+K8ShTlV6A4rxIlhVUoKahCaHws1F5q/HD0B6jOe0OfF46TuRYA5Vcce/yrsVB72xb8O7g5F7vWnmwwvoSxUTB08LHFFKSH0lePmkAd/IMN8AvWwz/EgHZhXvAL1kOlrh3hti1Opwd6hjV06Do0Pj7Q9PJpVFulVtvo90aT2qpU9bZN7hhzZWOZFRYWwmKxXDFiHRISgkOHDtX7mG7duuGTTz5Br169UFJSgrlz5yI1NRX79+9Hhw71zzycM2cOZs+e3eLxN1VWVhYAICIiAu3b81IrouuRmJiIpUuXcsS7rVi7Pw8lVSZE+OtxU2cmUKLGkCQJ9/eLxMzv9mPx9lN4KDXarUZgyDOpNUoERfogKPLKoujSafN6HzVS7+2MyjIjaipNMFaZYay2wGy0wGKywuBXO/Kv1ikR0skXKo0Caq0Kaq0SOm81dF5qGDWVGNUlGe31ttXhtQY1Hpg9wPkdbQUkybYat087HSLjryzWhRD4dP+nKGpfjcQu8ejjewOqK8yorjDBVGOBqdoMs8kKtbb244yXvxbBUT5QqhVQaZTQ6FTQ6pXQGtTQ+2qg96mdWdP71kgkpvFkeWuVkpKClJQUx9epqamIi4vDv//9b7z22mv1PmbGjBmYPn264+vS0tIGL6txJk4zJ2o5rWWBNRbeLWTxdts089F9O0DJ1ZmJGm1E7wj8fdVBZOeXYc/pEiRG+ssdErVhl5748fLTIun2xhVlXn5a3Pd8X2eF1WZtzd2K7KJs6AP0GHffUPhp/a75mF6DOqDXoMats8ITfe6jffv2UCqVyM+vuxpffn4+QkNDG3hUXWq1GklJSThy5EiDbbRarVts3WUvEDjNnOj62U9gHTp0CNXV1dDpdPIG1AAurtYCTp6vwJZj5yFJwOi+3LubqCn8DGoMS7BN3VyyI0fmaIicp8xYhvScdLnDaFUW7V8EALin8z2NKrqp9dJoNEhOTkZ6eu17xGq1Ij09vc6o9tVYLBZkZWUhLKxxlwPIyT4lliPeRNcvPDwcgYGBsFgs2L9/v9zhNIiFdwv4eqdttPvmLkGI8L/66qhEdKWxN9hOWP2wJxeVxmutBEzU+hRVF+H2Zbdj+vrpOFXGVfwbI/tCNjaf3QyFpMCE+Alyh0MuMH36dCxYsACffvopDh48iCeeeAIVFRWOvbonTpxYZ/G1v/71r/jxxx9x7Ngx7Nq1Cw8++CBOnjyJKVOmyNWFRjGbzY5rvFl4E10/SZIc7yV3nm7Owvs6mS1WLMs4DcC2dzcRNV3/Tu0QHWhAeY0Zq/Y2vLIvUWsVoAtA7+DesAorPtv/mdzhtAqfH/gcAHB71O3o4MMtOtuCsWPHYu7cuZg5cyYSExORmZmJNWvWOBZcy8nJQW5u7d+IoqIiPPLII4iLi8OwYcNQWlqKzZs3Iz4+Xq4uNEp2djaqq6vh5eWF2NhYucMh8gj2wnvXrl3yBnIVvMb7Om34/RzyS2vQzkuDtHj33bCdyJ1JkoTRfSPx1tpsLNlxipdskEea3GMyNp3ZhBVHVuDJxCcRoAuQOyS39ue+f0YHnw4Y2GGg3KGQC02bNg3Tpk2r93vr16+v8/W7776Ld9991wVRtaydO3cCAPr06QOFgmNgRC0hOTkZAJCRkSFzJA3ju/062ffuvicpAlqV8hqtiagh9yV3gEICdp4swpGCK7cLImrt+oX2Q1y7OFRbqrE4e7Hc4bg9f50/Hu/9OOIC4+QOhahF2Qvvvn25ICNRS7G/nzIzM2EymWSOpn4svK/DubIa/HKoAEDtNapE1DwhvjoM7m6bNbJ0J6+BJc8jSRIm97Rdq/rVwa9QbW54j/C2zGK1yB0CkVPZR+TsI3REdP1iY2Ph6+uLmpoaHDhwQO5w6sXC+zos33UaZqtAYqQ/uoZcuR8sETXNmItTzL/ZdRomi1XmaIha3m1RtyHCOwJFNUVYcWSF3OG4pYX7F2LC6gnYkbdD7lCIWpzZbHYs/sQRb6KWo1AoHCez7LNK3E2zCu/58+cjOjoaOp0O/fv3x/bt26/afunSpejevTt0Oh0SEhKwevXqOt9/6KGHIElSndvQoUObE5rLCCGw5OKoHEe7iVrGoO7BaO+tRWG50TGbhMiTqBQqTOoxCUpJidwKLiR4uWpzNT4/8Dkyz2UiryJP7nCIWtzBgwdRVVUFHx8fdOnSRe5wiDyKu1/n3eTCe8mSJZg+fTpmzZqFXbt2oXfv3hgyZAgKCur/kLx582aMGzcODz/8MHbv3o2RI0di5MiR2LdvX512Q4cORW5uruP21VdfNa9HLrIrpwjHzlVAr1birl7uv18kUWugViowKjkCAKebk+ca2XkkVt27Cs8kPyN3KG7n+6Pf40L1BYR5hWFoJ/c+AU/UHFxYjch57LNIPGbE+5133sEjjzyCyZMnIz4+Hh999BEMBgM++eSTetu/9957GDp0KJ577jnExcXhtddeQ58+ffCvf/2rTjutVovQ0FDHLSDAvVd7tS+qNiwhDD46tczREHmO0cm2GSTrss+hoJTXwJLn0av0iPCOkDsMt2O2mrFw30IAwKQek6BW8G8reR77SBynmRO1PPv7au/evTAajTJHc6UmFd5GoxEZGRlIS0urPYBCgbS0NGzZsqXex2zZsqVOewAYMmTIFe3Xr1+P4OBgdOvWDU888QTOnz/fYBw1NTUoLS2tc3OlihozVl7ca5jTzIlaVudgb/SNCoDFKvDNrjNyh0PkVMeKjyH7QrbcYbiFn0/+jNPlp+Gv9cc9ne+ROxwip7CPxHFhNaKWFxMTA39/f9TU1GD//v1yh3OFJhXehYWFsFgsCAkJqXN/SEgI8vLqvxYrLy/vmu2HDh2Kzz77DOnp6XjjjTewYcMG3HHHHbBY6l/ZdM6cOfDz83PcIiNdW/yu2puLSqMFndp74YZo9x6ZJ2qNxlw8obV05ykIIWSOhsg5vj38LUZ8NwKvb39d7lBkJ4TAf7L+AwAY130cDGqDzBERtTyTyYQ9e/YA4Ig3kTNIkuTW13m7xcUl999/P4YPH46EhASMHDkSK1euxI4dO7B+/fp628+YMQMlJSWO26lTrr0W9OuL156O7tsBkiS59LmJ2oI7E8LgpVHiWGEFdp4skjscIqdICU+BSqHCzvyd2F2wW+5wZLXl7BZkF2VDr9JjfPfxcodD5BQHDhxAdXU1fH19ERsbK3c4RB7JnVc2b1Lh3b59eyiVSuTn59e5Pz8/H6GhofU+JjQ0tEntAds0gfbt2+PIkSP1fl+r1cLX17fOzVWOnivHzpNFUEjAqD4dXPa8RG2Jl1aFu3qFA6hdT4HI04R6hWJE7AgAwMd7P5Y5Gnn1D+uPt255C0/1eQr+On+5wyFyikunmXNhNSLncOcF1pr0rtdoNEhOTkZ6errjPqvVivT0dKSkpNT7mJSUlDrtAeCnn35qsD0AnD59GufPn0dYmPutFr5052kAwKBuwQjx1ckcDZHnGnOD7cTWqr25KK8xyxwNkXM83PNhKCQFNp7ZiAPnD8gdjmyUCiWGdhqKB+IekDsUIqfh9d1Ezmd/f+3duxc1NTUyR1NXk0+3TZ8+HQsWLMCnn36KgwcP4oknnkBFRQUmT54MAJg4cSJmzJjhaP/UU09hzZo1ePvtt3Ho0CG8+uqr2LlzJ6ZNmwYAKC8vx3PPPYetW7fixIkTSE9Px4gRI9C5c2cMGTKkhbrZMswWK77ZZSu8R/flompEztSnYwBigrxQZbJg1d6zcodD5BSRvpEYGm3bNst+jXNbY7Ka5A6ByCXsCwsPGDBA5kiIPFenTp0QFBQEk8mEXbt2yR1OHU0uvMeOHYu5c+di5syZSExMRGZmJtasWeNYQC0nJwe5ubmO9qmpqfjyyy/x8ccfo3fv3li2bBlWrFiBnj17AgCUSiX27t2L4cOHo2vXrnj44YeRnJyM3377DVqttoW62TI2/H4O58pqEOilweDuwXKHQ+TRJEnCmIsnuL6+ONOEyBNNSZgCwLaq99HiozJH41p7z+3F0GVD8cXBL+QOhcipSktLkZWVBQBXnfVJRNdHkiSkpqYCADZv3ixzNHWpmvOgadOmOUasL1ffgmijR4/G6NGj622v1+uxdu3a5oThcvZF1e5JioBGxWtziJzt3qQIvLU2Gxkni3CkoBydg73lDomoxXUJ6IK0jmnYmb8TOaU5iPVvO4sufbjnQxRUFeDQhUNyh0LkVNu3b4fVakVUVBTCw8PlDofIo6WkpOC7777D5s2b8eyzz8odjgOrx0YqLK9B+sECAJxmTuQqwb46DOoWBABYmsFF1shzzeg/A2tHrcWgjoPkDsVlss5lYeOZjVBKSjya8Kjc4RA5lX2auX0kjoic59IRb3falpaFdyOt2H0GZqtA70h/dAv1kTscojbjvmTbia5vMs7AZLHKHA2RcwQbgtvc3tUf7vkQAHBXzF2I9OUJbfJs9imvLLyJnK9v375QqVTIy8vDyZMn5Q7HgYV3IwghavfuTuYWYkSuNLh7MAK9NCgsr8GG7HNyh0PkVEIIpOek40TJCblDcap9hfvw25nfbKPdvTjaTZ7NarVyxJvIhfR6Pfr06QPAva7zZuHdCHtPl+D3/HJoVQoMT+R1OUSupFEpcE9SBABONyfP99bOt/D0uqfxQeYHcofiVPMz5wMA7oy5Ex19O8ocDZFzHTp0CCUlJTAYDOjVq5fc4RC1CfZFDO0nvdwBC+9GsI9239EzFL46tczRELU99nUV0g8WoLDcvfZkJGpJI2JHAAD+d+J/yL6QLXM0znGs5Jjj2u7Hej0mdzhETmcfcevXrx9Uqmata0xETeSOK5uz8L6GapMF3++x7SE8houqEcmiW6gPenfwg9kqsGL3GbnDIXKabu26Ofb1/tfuf8kcjXPE+MXg67u+xgv9XuBoN7UJvL6byPXs77c9e/agvLxc5mhsWHhfw9r9eSirNqNDgB4DYgLlDoeozbrv4omvpTtPu9UKlUQtbWriVCglJdafXo/Mgky5w3GKuMA43N/9frnDIHIJFt5ErtehQwdERkbCYrFgx44dcocDgIX3NS3deRoAcF9yBygUkszRELVdw3uHQ6tSIDu/DFlnSuQOh8hpov2iMaKzbcr5+7vflzmaliOEQF5FntxhELnU+fPnkZ1tu2xkwIABMkdD1LbYr/PetGmTzJHYsPC+itNFldh0tBAAMKoPVzMnkpOfXo0hPUIB1K67QOSpHu/1ONQKNbbnbcfGMxvlDqdFrD2xFncsvwPvZrwrdyhELrNu3ToAQI8ePRAYyJmTRK50yy23AKh9H8qNhfdVfJNxBkIAqbGBiGzXtvZXJXJHo/vaToB9n3kW1SaLzNEQOU+YdxjGdR+HbgHd4K32ljuc62a0GDFv1zyYrWboVDq5wyFymZ9//hkAkJaWJnMkRG2P/X23adMmVFVVyRwNC+8GWa0Cy3Zd3Lu7L0e7idxBamx7hPvpUFptxo8H8uUOh8ip/pj0Ryy5awkSgxPlDuW6fXnwS5wpP4NgfTAmxU+SOxwil0lPTwcA3HrrrTJHQtT2dO3aFREREaipqXGL6eYsvBuw7fgFnLpQBR+tCkN7hMkdDhEBUCokjEq2nQhbyunm5OF0Kh2UCqXcYVy34upifLz3YwDAH/v8EQY1Z5BR23Dy5EkcOXIESqUSAwcOlDscojZHkiTHqLd99omcWHg3wP6h/q7e4dBrWv8HHyJPcd/FwnvjkUKcLZZ/2hCRs1WZq/Dx3o/x36z/yh1Ks3y450OUmcrQLaAb7o65W+5wiFzGPtrdr18/+Pr6yhwNUdtkn21ifz/KiYV3PcqqTVi9LxcAp5kTuZuoQC/079QOQgDLd52WOxwip9tydgve3/0+Psj8AKdKW9dMj+wL2VicvRgA8Ocb/uwRI/hEjcXru4nkZy+8MzIycOHCBVljYeFdj1V7c1FtsiI2yAtJkf5yh0NElxlt39M7g3t6k+cbFDkIA8IGwGg14o0db8gdTpOcKD0BnVKH26Juw4AwbqVEbYcQgtd3E7mB8PBwxMXFQQgh++rmLLzrsTTDNoo2um8kJIl7dxO5m2EJofDSKHHyfCV2nCiSOxwip5IkCTP6z4BKocKG0xuw/tR6uUNqtCHRQ/DDPT9gRr8ZcodC5FL79u1DQUEBDAYD9+8mkpl91onc081ZeF/m6LlyZJwsglIh4d6kCLnDIaJ6GDQq3NnLtughF1mjtiDGLwYT4ycCAF7f/jqqzK1nfYNgQzCCDEFyh0HkUvZp5jfffDO0Wq3M0RC1bfZZJ3IvsMbC+zLfXBztHtg1CMG+3GuUyF3Zp5uvyspFRY1Z5miInO+xXo8hxBCCM+VnMH/3fLnDuap/7f4XNp/ZLHcYRLJZtWoVAF7fTeQO/vCHP0ClUuHw4cM4fPiwbHGw8L6ExSqwfNcZALUrJxORe+obFYDoQAMqjRb8b1+e3OEQOZ1BbcArA14BACz9fSmKqt3zMovNZzfj33v/jcd/fhwnS0/KHQ6RyxUWFmL9+vUAgHvuuUfeYIgIfn5+GDx4MADgm2++kS0OFt6X+O3wOeSVVsPfoMatccFyh0NEVyFJkuMEGaebU1sxMHIgpidPx7K7lyFAFyB3OFeoNFVi9ubZAID7u9+PKN8omSMicr3vvvsOFosFiYmJiI2NlTscIgJw3333AQCWLVsmWwwsvC9hX1RtZGIEtCpueULk7u7t0wGSBGw7fgE55yvlDofIJSb3nIxI30i5w6jXOxnv4GzFWYR7hePpPk/LHQ6RLOwf7O0f9IlIfiNHjoRCoUBGRgaOHz8uSwwsvC8qqTThp/35ADjNnKi1CPfX46bO7QEAyzI46k1tz9bcrdiRt0PuMAAA6SfTsSR7CQDg1dRXYVAbZI6IyPWKioocCzix8CZyH0FBQRg4cCAA+aabs/C+6Ps9Z2C0WNE91Ac9wn3lDoeIGsl+ouybXWdgtXJPb2o7fsn5BY/++Cj+8utfcL7qvKyx5JbnYubmmQCAh3o8hJTwFFnjIZLLDz/8ALPZjJ49e6Jbt25yh0NEl7CfDGPhLTPu3U3UOg3pEQofnQpniquw5Zi8xQeRK6WEpyDGLwaFVYV4edPLsAqrbLGsPbEWpcZS9AzsiT8l/Um2OIjkZp9mPmrUKJkjIaLL3XPPPZAkCVu3bsWpU66fKcnCG0B2Xhn2ni6BSiFhZGK43OEQURPo1EoM72173y67eAKNqC3Qq/R4a+Bb0Cq12HhmI/61+1+yxfJQz4fw+s2v482Bb0KtVMsWB5GciouLsXbtWgCcZk7kjsLCwnDTTTcBAJYuXery52fhjdprQwd3D0agt1bmaIioqezTzf+3Lxel1SaZoyFynS4BXTAzxTbFe0HWAvxw9AeXPr8QtZd33BlzJyJ93HPRNyJX+M9//gOj0YiePXuiR48ecodDRPUYN24cAODDDz+ExWJx6XO3+cLbZLHi291nAdimmRNR65MY6Y/Owd6oNlmxem+u3OEQudTw2OF4uOfDAIBZm2dhd8Fulzzv5jOb8ciPj7jtfuJErmQymfDee+8BAJ555hletkjkpiZOnIiAgAAcOXIEP/zg2pPVbb7w3pB9DoXlNWjvrcEfugXJHQ4RNUOdPb053ZzaoD/1+RMGRw6GyWrCttxtTn++HXk78NS6p7AtbxsW7l/o9OcjcnfLli3D6dOnERwcjPHjx8sdDhE1wMvLC4899hgA4J133nHpc7f5wnvpxWnmIxMjoFa2+R8HUat1b1IElAoJGSeLcPRcudzhELmUQlJgzs1zMDt1Nh7r9ZhTnysjPwNT06ei2lKNG8NvxLTEaU59PiJ3J4RwfICfOnUqdDqdzBER0dVMmzYNKpUKv/32G3bscN2WnG260jxfXoP0gwUAgPv6cu9uotYs2FeHgV1ts1a+4ag3tUEGtQH3drnXMcW1pKYEGfkZLfocv57+FU/+/CSqzFVIDU/Fe4Pfg0apadHnIGptNm7ciJ07d0Kn0+GJJ56QOxwiuoaIiAjHtd7vvvuuy563TRfe32WehdkqkBDhh+6h3LubqLWzTzdfvusMLNzTm9ows9WM5399Hg+vfRiLDy2+7uMJIfDJvk8wLX0aKs2VGBA2AO8Neg9aJRckpbbNZDLhueeeA2C7djQoiJctErUGzzzzDABgyZIl2Lx5s0ues1mF9/z58xEdHQ2dTof+/ftj+/btV22/dOlSdO/eHTqdDgkJCVi9enWd7wshMHPmTISFhUGv1yMtLQ2HDx9uTmhNssyxdzdHu4k8wa1xwfA3qJFXWo2NRwrlDodINhZhgb/OHxZhwd+3/R3P//o8zlc1f5/7ClMFvs7+GgIC93W9Dx/c+gF0Kk6npZbX0p8xne2VV17Btm3b4O/vj5deesmlz01EzZeUlIQHH3wQVqsV48aNQ1GR8xcKbXLhvWTJEkyfPh2zZs3Crl270Lt3bwwZMgQFBQX1tt+8eTPGjRuHhx9+GLt378bIkSMxcuRI7Nu3z9HmzTffxD//+U989NFH2LZtG7y8vDBkyBBUV1c3v2fXsP9sCQ7klkKjVDj2ACai1k2rUmLExffz0p2nZI6GSD5apRZzbpqDZ5KfgQQJq4+vxvAVw/F19tcwWoyNOkaVuQplxjIAgLfGG+8Pfh8v938ZMwfM5F7d5BTO+IzpTD/99BPeeOMNALatxDp27OiS5yWilvHBBx8gNjYWOTk5eOSRR+pskekUoon69esnpk6d6vjaYrGI8PBwMWfOnHrbjxkzRtx555117uvfv7947LHHhBBCWK1WERoaKt566y3H94uLi4VWqxVfffVVo2IqKSkRAERJSUmj+/Hq9/tE1PMrxZP/l9HoxxCR+8s6XSyinl8pury0WhRXGBv9uObkkdbCk/tG17a3YK+47/v7RM9FPUXPRT3FLYtvEceLj9fbttpcLTILMsVb298SqV+mivcy3nNtsOSWXJVDWvozZmM0p2+lpaXi7bffFu3atRMAmvR8ROReduzYIdRqtQAg7r//frF3794mPb4pOaRJI95GoxEZGRlIS0tz3KdQKJCWloYtW7bU+5gtW7bUaQ8AQ4YMcbQ/fvw48vLy6rTx8/ND//79GzxmTU0NSktL69ya1A+zFd9l2vbutl8TSkSeoUe4L7qH+sBotuL7vWflDodIdglBCfjqzq/w/A3PI8QQAr1Kj0ifSMf3Z2+ZjXu/vxcjVozAgC8G4MHVD+LTA5+i1FiKbbnbnD8CQATnfMasz/V8hhQXL42MjIzEs88+iwsXLiApKcmlizMRUcvq27cv3n77bQDA4sWL0atXL9xxxx1Ouey5SYV3YWEhLBYLQkJC6twfEhKCvLy8eh+Tl5d31fb2f5tyzDlz5sDPz89xi4yMrLddQ7YeO48LFUYE+2hxc5f2TXosEbm3S/f0Xr03V+ZoiNyDSqHCg/EPYs2oNfj4to+hVCgB2AqJ9JPpOFx0GMdKjsEszGina4fBkYPxr8H/wmd3fOZYJZ3ImZzxGbM+1/MZUpIkHD16FCUlJejWrRsWLFiAzZs3Q6/XN/oYROR+/vjHP2LHjh0YM2YMFAoF1q1bB1/fll94W9XiR3SBGTNmYPr06Y6vS0tLm5Q4b+kahNV/uhlni6ug4t7dRB5nZFIEAr01GNojTO5QiNyKSqFCR9/a61Ctwoo3brFdoypJEiJ9IhHuFc5imzzW9X6GfOmllzBmzBjcfffdUCj4GZLIU/Tt2xdLlizB0aNHsX379itO6rWEJhXe7du3h1KpRH5+fp378/PzERoaWu9jQkNDr9re/m9+fj7CwsLqtElMTKz3mFqtFlrt9W1hEh/ui/hwbiFG5Inae2txTxIvIyG6FqVCiZTwFLnDIHLKZ8z6XO9nyPj4eMTHxzf78UTk3mJjYxEbG+uUYzfpVJ1Go0FycjLS09Md91mtVqSnpyMlpf4/3CkpKXXaA7ZVIO3tO3XqhNDQ0DptSktLsW3btgaPSURERESewxmfMYmI3EmTp5pPnz4dkyZNQt++fdGvXz/MmzcPFRUVmDx5MgBg4sSJiIiIwJw5cwAATz31FAYOHIi3334bd955JxYvXoydO3fi448/BmCb2vb000/jb3/7G7p06YJOnTrhlVdeQXh4OEaOHNlyPSUiIiIit9XSnzGJiNxJkwvvsWPH4ty5c5g5cyby8vKQmJiINWvWOObB5+Tk1LnmJTU1FV9++SVefvllvPjii+jSpQtWrFiBnj17Otr85S9/QUVFBR599FEUFxfjpptuwpo1a6DT6Vqgi0RERETk7pzxGZOIyF1IwgP2CSktLYWfnx9KSkqcsgIdEXk+T84jntw3InI+T84hntw3InK+puQQLsdIRERERERE5EQsvImIiIiIiIiciIU3ERERERERkRM1eXE1d2S/TL20tFTmSIiotbLnDw9Y9uIKzJFEdD2YH4mI6teU/OgRhXdZWRkAIDIyUuZIiKi1Kysrg5+fn9xhtCjmSCJqCcyPRET1a0x+9IhVza1WK86ePQsfHx9IktSox5SWliIyMhKnTp1q1atYekI/PKEPAPvhbpraDyEEysrKEB4eXme7Gk/Q1BzZVl8D7soT+uEJfQDabj+YH2u11deAu2I/3Icn9AFwbn70iBFvhUKBDh06NOuxvr6+rfrFYecJ/fCEPgDsh7tpSj88bSTHrrk5si2+BtyZJ/TDE/oAtM1+MD/W1RZfA+6M/XAfntAHwDn50bNOWxIRERERERG5GRbeRERERERERE7UZgtvrVaLWbNmQavVyh3KdfGEfnhCHwD2w914Sj/k4Ck/O/bDfXhCHwD2gzznZ8d+uBdP6Icn9AFwbj88YnE1IiIiIiIiInfVZke8iYiIiIiIiFyBhTcRERERERGRE7HwJiIiIiIiInIiFt5ERERERERETuTRhff8+fMRHR0NnU6H/v37Y/v27Vdtv3TpUnTv3h06nQ4JCQlYvXq1iyK9uqb0Y8GCBbj55psREBCAgIAApKWlXbPfrtDU34Xd4sWLIUkSRo4c6dwAG6mp/SguLsbUqVMRFhYGrVaLrl27usXrqqn9mDdvHrp16wa9Xo/IyEg888wzqK6udlG0V/r1119x9913Izw8HJIkYcWKFdd8zPr169GnTx9otVp07twZixYtcnqc7oz50X3yI+AZOZL5kfnRUzA/Mj+2NOZH98iPgMw5UnioxYsXC41GIz755BOxf/9+8cgjjwh/f3+Rn59fb/tNmzYJpVIp3nzzTXHgwAHx8ssvC7VaLbKyslwceV1N7cf48ePF/Pnzxe7du8XBgwfFQw89JPz8/MTp06ddHHmtpvbB7vjx4yIiIkLcfPPNYsSIEa4J9iqa2o+amhrRt29fMWzYMLFx40Zx/PhxsX79epGZmeniyOtqaj+++OILodVqxRdffCGOHz8u1q5dK8LCwsQzzzzj4shrrV69Wrz00kti+fLlAoD49ttvr9r+2LFjwmAwiOnTp4sDBw6I999/XyiVSrFmzRrXBOxmmB/dJz8K4Rk5kvmR+dFTMD8yP7Y05kf3yY9CyJsjPbbw7tevn5g6darja4vFIsLDw8WcOXPqbT9mzBhx55131rmvf//+4rHHHnNqnNfS1H5czmw2Cx8fH/Hpp586K8Rrak4fzGazSE1NFf/5z3/EpEmTZE+aQjS9Hx9++KGIiYkRRqPRVSE2SlP7MXXqVDF48OA6902fPl3ceOONTo2zsRqTNP/yl7+IHj161Llv7NixYsiQIU6MzH0xP9q4Q34UwjNyJPNjLebH1o350Yb5seUwP9Zyp/wohOtzpEdONTcajcjIyEBaWprjPoVCgbS0NGzZsqXex2zZsqVOewAYMmRIg+1doTn9uFxlZSVMJhPatWvnrDCvqrl9+Otf/4rg4GA8/PDDrgjzmprTj++//x4pKSmYOnUqQkJC0LNnT/zjH/+AxWJxVdhXaE4/UlNTkZGR4ZhOdOzYMaxevRrDhg1zScwtwR3f33Jhfqwld34EPCNHMj8yP3oK5sdazI8tg/mxdedHoGXf46qWCsqdFBYWwmKxICQkpM79ISEhOHToUL2PycvLq7d9Xl6e0+K8lub043LPP/88wsPDr3jBuEpz+rBx40b897//RWZmpgsibJzm9OPYsWP45Zdf8MADD2D16tU4cuQInnzySZhMJsyaNcsVYV+hOf0YP348CgsLcdNNN0EIAbPZjMcffxwvvviiK0JuEQ29v0tLS1FVVQW9Xi9TZK7H/FhL7vwIeEaOZH5kfvQUzI+1mB9bBvNj686PQMvmSI8c8Sab119/HYsXL8a3334LnU4ndziNUlZWhgkTJmDBggVo37693OFcF6vViuDgYHz88cdITk7G2LFj8dJLL+Gjjz6SO7QmWb9+Pf7xj3/ggw8+wK5du7B8+XKsWrUKr732mtyhETVba8yPgOfkSOZHIvfF/Cgv5kfP5ZEj3u3bt4dSqUR+fn6d+/Pz8xEaGlrvY0JDQ5vU3hWa0w+7uXPn4vXXX8fPP/+MXr16OTPMq2pqH44ePYoTJ07g7rvvdtxntVoBACqVCtnZ2YiNjXVu0PVozu8iLCwMarUaSqXScV9cXBzy8vJgNBqh0WicGnN9mtOPV155BRMmTMCUKVMAAAkJCaioqMCjjz6Kl156CQqF+5+/a+j97evr26ZGcwDmR8B98iPgGTmS+ZH50VMwPzI/tjTmx9adH4GWzZGto8dNpNFokJycjPT0dMd9VqsV6enpSElJqfcxKSkpddoDwE8//dRge1doTj8A4M0338Rrr72GNWvWoG/fvq4ItUFN7UP37t2RlZWFzMxMx2348OEYNGgQMjMzERkZ6crwHZrzu7jxxhtx5MgRR9IHgN9//x1hYWGyJE2gef2orKy8Ijna/xjY1qVwf+74/pYL86P75EfAM3Ik8yPzo6dgfmR+bGnMj607PwIt/B5v8nJsrcTixYuFVqsVixYtEgcOHBCPPvqo8Pf3F3l5eUIIISZMmCBeeOEFR/tNmzYJlUol5s6dKw4ePChmzZrlNttBNKUfr7/+utBoNGLZsmUiNzfXcSsrK5OrC03uw+XcYUVKIZrej5ycHOHj4yOmTZsmsrOzxcqVK0VwcLD429/+JlcXhBBN78esWbOEj4+P+Oqrr8SxY8fEjz/+KGJjY8WYMWPk6oIoKysTu3fvFrt37xYAxDvvvCN2794tTp48KYQQ4oUXXhATJkxwtLdvBfHcc8+JgwcPivnz57f57XKYH90jPwrhGTmS+ZH50VMwPzI/tjTmR/fJj0LImyM9tvAWQoj3339fdOzYUWg0GtGvXz+xdetWx/cGDhwoJk2aVKf9119/Lbp27So0Go3o0aOHWLVqlYsjrl9T+hEVFSUAXHGbNWuW6wO/RFN/F5dyh6Rp19R+bN68WfTv319otVoRExMj/v73vwuz2eziqK/UlH6YTCbx6quvitjYWKHT6URkZKR48sknRVFRkesDv2jdunX1vs7tcU+aNEkMHDjwisckJiYKjUYjYmJixMKFC10etzthfnSf/CiEZ+RI5kfmR0/B/Mj82NKYH90jPwohb46UhGhFY/1ERERERERErYxHXuNNRERERERE5C5YeBMRERERERE5EQtvIiIiIiIiIidi4U1ERERERETkRCy8iYiIiIiIiJyIhTcRERERERGRE7HwJiIiIiIiInIiFt5EJJtff/0Vd999N8LDwyFJElasWOHU5ysrK8PTTz+NqKgo6PV6pKamYseOHU59TiKi5mB+JCKqX2vNjyy8yaOtX78ekiShuLj4qu2io6Mxb948l8REtSoqKtC7d2/Mnz/fJc83ZcoU/PTTT/j888+RlZWF22+/HWlpaThz5oxLnp/InTA/ujfmRyL5MD+6t1abHwWRG5g0aZIAIAAItVotYmNjxezZs4XJZLqu49bU1Ijc3FxhtVqFEEIsXLhQ+Pn5XdGuoKBAVFRUXNdz0fUBIL799ts691VXV4tnn31WhIeHC4PBIPr16yfWrVvXrONXVlYKpVIpVq5cWef+Pn36iJdeeqmZURM5H/MjMT8S1Y/5kVpTflS16OkAouswdOhQLFy4EDU1NVi9ejWmTp0KtVqNGTNmNPuYGo0GoaGh12wXFBTU7Ocg55k2bRoOHDiAxYsXIzw8HN9++y2GDh2KrKwsdOnSpUnHMpvNsFgs0Ol0de7X6/XYuHFjS4ZN1OKYH+lyzI9ENsyPdDm3zY/NKv2JWtikSZPEiBEj6tx32223iQEDBogLFy6ICRMmCH9/f6HX68XQoUPF77//7mh34sQJcddddwl/f39hMBhEfHy8WLVqlRBCiHXr1gkAoqioyPH/S2+zZs0SQggRFRUl3n33XccxT548KYYPHy68vLyEj4+PGD16tMjLy3N8f9asWaJ3797is88+E1FRUcLX11eMHTtWlJaWOu1n5Olw2RnLkydPCqVSKc6cOVOn3a233ipmzJjRrOdISUkRAwcOFGfOnBFms1l8/vnnQqFQiK5du15P6EROxfxIzI9E9WN+pNaUH3mNN7ktvV4Po9GIhx56CDt37sT333+PLVu2QAiBYcOGwWQyAQCmTp2Kmpoa/Prrr8jKysIbb7wBb2/vK46XmpqKefPmwdfXF7m5ucjNzcWf//znK9pZrVaMGDECFy5cwIYNG/DTTz/h2LFjGDt2bJ12R48exYoVK7By5UqsXLkSGzZswOuvv+6cH0YblJWVBYvFgq5du8Lb29tx27BhA44ePQoAOHToECRJuurthRdecBzz888/hxACERER0Gq1+Oc//4lx48ZBoWAqpNaF+bFtY34kahjzY9vmzvmRU83J7QghkJ6ejrVr1+KOO+7AihUrsGnTJqSmpgIAvvjiC0RGRmLFihUYPXo0cnJyMGrUKCQkJAAAYmJi6j2uRqOBn58fJEm66vSh9PR0ZGVl4fjx44iMjAQAfPbZZ+jRowd27NiBG264AYAtwS5atAg+Pj4AgAkTJiA9PR1///vfW+xn0ZaVl5dDqVQiIyMDSqWyzvfsfxhjYmJw8ODBqx4nMDDQ8f/Y2Fhs2LABFRUVKC0tRVhYGMaOHdvga4bI3TA/EsD8SFQf5kcC3Ds/svAmt7Fy5Up4e3vDZDLBarVi/PjxuPfee7Fy5Ur079/f0S4wMBDdunVzvGH+9Kc/4YknnsCPP/6ItLQ0jBo1Cr169Wp2HAcPHkRkZKQjaQJAfHw8/P39cfDgQUfijI6OdiRNAAgLC0NBQUGzn5fqSkpKgsViQUFBAW6++eZ622g0GnTv3r3Jx/by8oKXlxeKioqwdu1avPnmm9cbLpFTMT/SpZgfiWoxP9Kl3Dk/cv4QuY1BgwYhMzMThw8fRlVVFT799FNIknTNx02ZMgXHjh3DhAkTkJWVhb59++L99993erxqtbrO15IkwWq1Ov15PUl5eTkyMzORmZkJADh+/DgyMzORk5ODrl274oEHHsDEiROxfPlyHD9+HNu3b8ecOXOwatWqZj3f2rVrsWbNGhw/fhw//fQTBg0ahO7du2Py5Mkt2Cuilsf82PYwPxI1DvNj29Na8yMLb3IbXl5e6Ny5Mzp27AiVyjYZIy4uDmazGdu2bXO0O3/+PLKzsxEfH++4LzIyEo8//jiWL1+OZ599FgsWLKj3OTQaDSwWy1XjiIuLw6lTp3Dq1CnHfQcOHEBxcXGd56Trt3PnTiQlJSEpKQkAMH36dCQlJWHmzJkAgIULF2LixIl49tln0a1bN4wcORI7duxAx44dm/V8JSUlmDp1Krp3746JEyfipptuwtq1a6/4I0jkbpgf2x7mR6LGYX5se1prfuRUc3JrXbp0wYgRI/DII4/g3//+N3x8fPDCCy8gIiICI0aMAAA8/fTTuOOOO9C1a1cUFRVh3bp1iIuLq/d40dHRKC8vR3p6Onr37g2DwQCDwVCnTVpaGhISEvDAAw9g3rx5MJvNePLJJzFw4ED07dvX6X1uS/7whz/AtiBl/dRqNWbPno3Zs2e3yPONGTMGY8aMaZFjEcmN+dGzMT8SNR/zo2drrfmRI97k9hYuXIjk5GTcddddSElJgRACq1evdpxlslgsmDp1KuLi4jB06FB07doVH3zwQb3HSk1NxeOPP46xY8ciKCio3mszJEnCd999h4CAANxyyy1IS0tDTEwMlixZ4tR+EhE1FfMjEVH9mB/J3UjiaqcLiIiIiIiIiOi6cMSbiIiIiIiIyIlYeBMRERERERE5EQtvIiIiIiIiIidi4U1ERERERETkRCy8iYiIiIiIiJyIhTcRERERERGRE7HwJiIiIiIiInIiFt5ERERERERETsTCm4iIiIiIiMiJWHgTERERERERORELbyIiIiIiIiIn+n8ZgS3evvG7xwAAAABJRU5ErkJggg==\n"
                },
                "metadata": {}
              },
              {
                "output_type": "stream",
                "name": "stdout",
                "text": [
                  "Energies (Hartrees):  1.382e-02, 5.528e-02, 1.244e-01, 2.211e-01, 3.455e-01, 4.975e-01, 6.771e-01, 8.844e-01\n",
                  "Hamiltonian matrix elements (Hartrees):\n",
                  "+2.122e-01, +2.019e-18, -4.244e-02, -4.125e-18, -6.063e-03, +4.213e-17, -2.021e-03, +5.596e-17\n",
                  "+2.019e-18, +1.698e-01, -6.097e-17, -4.850e-02, -1.764e-17, -8.084e-03, +4.938e-17, -2.940e-03\n",
                  "-4.244e-02, -6.097e-17, +1.637e-01, +2.239e-17, -5.053e-02, -1.077e-17, -9.003e-03, +1.168e-18\n",
                  "-4.125e-18, -4.850e-02, +2.239e-17, +1.617e-01, -4.071e-17, -5.144e-02, -3.764e-17, -9.497e-03\n",
                  "-6.063e-03, -1.764e-17, -5.053e-02, -4.071e-17, +1.608e-01, -7.577e-18, -5.194e-02, -8.665e-17\n",
                  "+4.213e-17, -8.084e-03, -1.077e-17, -5.144e-02, -7.577e-18, +1.603e-01, -4.209e-18, -5.224e-02\n",
                  "-2.021e-03, +4.938e-17, -9.003e-03, -3.764e-17, -5.194e-02, -4.209e-18, +1.600e-01, +5.316e-17\n",
                  "+5.596e-17, -2.940e-03, +1.168e-18, -9.497e-03, -8.665e-17, -5.224e-02, +5.316e-17, +1.598e-01\n",
                  "Coefficients       :  1.0000000, -0.0000000, 0.3839077, 0.0000000, 0.0182813, -0.0000000, 0.0030469, -0.0000000\n"
                ]
              }
            ]
          }
        },
        "fd10c1d26ea44b28bfdce3565ad06953": {
          "model_module": "@jupyter-widgets/base",
          "model_name": "LayoutModel",
          "model_module_version": "1.2.0",
          "state": {
            "_model_module": "@jupyter-widgets/base",
            "_model_module_version": "1.2.0",
            "_model_name": "LayoutModel",
            "_view_count": null,
            "_view_module": "@jupyter-widgets/base",
            "_view_module_version": "1.2.0",
            "_view_name": "LayoutView",
            "align_content": null,
            "align_items": null,
            "align_self": null,
            "border": null,
            "bottom": null,
            "display": null,
            "flex": null,
            "flex_flow": null,
            "grid_area": null,
            "grid_auto_columns": null,
            "grid_auto_flow": null,
            "grid_auto_rows": null,
            "grid_column": null,
            "grid_gap": null,
            "grid_row": null,
            "grid_template_areas": null,
            "grid_template_columns": null,
            "grid_template_rows": null,
            "height": null,
            "justify_content": null,
            "justify_items": null,
            "left": null,
            "margin": null,
            "max_height": null,
            "max_width": null,
            "min_height": null,
            "min_width": null,
            "object_fit": null,
            "object_position": null,
            "order": null,
            "overflow": null,
            "overflow_x": null,
            "overflow_y": null,
            "padding": null,
            "right": null,
            "top": null,
            "visibility": null,
            "width": null
          }
        },
        "fcc935ac61f3419d8dfe9b57c21eac6a": {
          "model_module": "@jupyter-widgets/base",
          "model_name": "LayoutModel",
          "model_module_version": "1.2.0",
          "state": {
            "_model_module": "@jupyter-widgets/base",
            "_model_module_version": "1.2.0",
            "_model_name": "LayoutModel",
            "_view_count": null,
            "_view_module": "@jupyter-widgets/base",
            "_view_module_version": "1.2.0",
            "_view_name": "LayoutView",
            "align_content": null,
            "align_items": null,
            "align_self": null,
            "border": null,
            "bottom": null,
            "display": null,
            "flex": null,
            "flex_flow": null,
            "grid_area": null,
            "grid_auto_columns": null,
            "grid_auto_flow": null,
            "grid_auto_rows": null,
            "grid_column": null,
            "grid_gap": null,
            "grid_row": null,
            "grid_template_areas": null,
            "grid_template_columns": null,
            "grid_template_rows": null,
            "height": null,
            "justify_content": null,
            "justify_items": null,
            "left": null,
            "margin": null,
            "max_height": null,
            "max_width": null,
            "min_height": null,
            "min_width": null,
            "object_fit": null,
            "object_position": null,
            "order": null,
            "overflow": null,
            "overflow_x": null,
            "overflow_y": null,
            "padding": null,
            "right": null,
            "top": null,
            "visibility": null,
            "width": null
          }
        },
        "40dc4800b6424865b00a298841f53be8": {
          "model_module": "@jupyter-widgets/controls",
          "model_name": "SliderStyleModel",
          "model_module_version": "1.5.0",
          "state": {
            "_model_module": "@jupyter-widgets/controls",
            "_model_module_version": "1.5.0",
            "_model_name": "SliderStyleModel",
            "_view_count": null,
            "_view_module": "@jupyter-widgets/base",
            "_view_module_version": "1.2.0",
            "_view_name": "StyleView",
            "description_width": "",
            "handle_color": null
          }
        },
        "329dd602babf48cdb7c68fc533279d33": {
          "model_module": "@jupyter-widgets/base",
          "model_name": "LayoutModel",
          "model_module_version": "1.2.0",
          "state": {
            "_model_module": "@jupyter-widgets/base",
            "_model_module_version": "1.2.0",
            "_model_name": "LayoutModel",
            "_view_count": null,
            "_view_module": "@jupyter-widgets/base",
            "_view_module_version": "1.2.0",
            "_view_name": "LayoutView",
            "align_content": null,
            "align_items": null,
            "align_self": null,
            "border": null,
            "bottom": null,
            "display": null,
            "flex": null,
            "flex_flow": null,
            "grid_area": null,
            "grid_auto_columns": null,
            "grid_auto_flow": null,
            "grid_auto_rows": null,
            "grid_column": null,
            "grid_gap": null,
            "grid_row": null,
            "grid_template_areas": null,
            "grid_template_columns": null,
            "grid_template_rows": null,
            "height": null,
            "justify_content": null,
            "justify_items": null,
            "left": null,
            "margin": null,
            "max_height": null,
            "max_width": null,
            "min_height": null,
            "min_width": null,
            "object_fit": null,
            "object_position": null,
            "order": null,
            "overflow": null,
            "overflow_x": null,
            "overflow_y": null,
            "padding": null,
            "right": null,
            "top": null,
            "visibility": null,
            "width": null
          }
        },
        "a22696241e114a5b869b79505f9adee3": {
          "model_module": "@jupyter-widgets/controls",
          "model_name": "SliderStyleModel",
          "model_module_version": "1.5.0",
          "state": {
            "_model_module": "@jupyter-widgets/controls",
            "_model_module_version": "1.5.0",
            "_model_name": "SliderStyleModel",
            "_view_count": null,
            "_view_module": "@jupyter-widgets/base",
            "_view_module_version": "1.2.0",
            "_view_name": "StyleView",
            "description_width": "",
            "handle_color": null
          }
        },
        "141c62ea5e1743d7b1a0347bf6b05b80": {
          "model_module": "@jupyter-widgets/base",
          "model_name": "LayoutModel",
          "model_module_version": "1.2.0",
          "state": {
            "_model_module": "@jupyter-widgets/base",
            "_model_module_version": "1.2.0",
            "_model_name": "LayoutModel",
            "_view_count": null,
            "_view_module": "@jupyter-widgets/base",
            "_view_module_version": "1.2.0",
            "_view_name": "LayoutView",
            "align_content": null,
            "align_items": null,
            "align_self": null,
            "border": null,
            "bottom": null,
            "display": null,
            "flex": null,
            "flex_flow": null,
            "grid_area": null,
            "grid_auto_columns": null,
            "grid_auto_flow": null,
            "grid_auto_rows": null,
            "grid_column": null,
            "grid_gap": null,
            "grid_row": null,
            "grid_template_areas": null,
            "grid_template_columns": null,
            "grid_template_rows": null,
            "height": null,
            "justify_content": null,
            "justify_items": null,
            "left": null,
            "margin": null,
            "max_height": null,
            "max_width": null,
            "min_height": null,
            "min_width": null,
            "object_fit": null,
            "object_position": null,
            "order": null,
            "overflow": null,
            "overflow_x": null,
            "overflow_y": null,
            "padding": null,
            "right": null,
            "top": null,
            "visibility": null,
            "width": null
          }
        },
        "ac9de6b36db24e9daf879c9b4ae514e3": {
          "model_module": "@jupyter-widgets/controls",
          "model_name": "VBoxModel",
          "model_module_version": "1.5.0",
          "state": {
            "_dom_classes": [
              "widget-interact"
            ],
            "_model_module": "@jupyter-widgets/controls",
            "_model_module_version": "1.5.0",
            "_model_name": "VBoxModel",
            "_view_count": null,
            "_view_module": "@jupyter-widgets/controls",
            "_view_module_version": "1.5.0",
            "_view_name": "VBoxView",
            "box_style": "",
            "children": [
              "IPY_MODEL_0ef99d7b34d542f0aea085ee1aa02b74",
              "IPY_MODEL_6dbefacc57a14d05b5bafd6faf793c96",
              "IPY_MODEL_0120707eb8324abd920ef06ab10310a7",
              "IPY_MODEL_08f1a7ccd0f049abbe4471259b1b73d7"
            ],
            "layout": "IPY_MODEL_64a4e5f0268b4faaa5462c33e991c85b"
          }
        },
        "0ef99d7b34d542f0aea085ee1aa02b74": {
          "model_module": "@jupyter-widgets/controls",
          "model_name": "FloatSliderModel",
          "model_module_version": "1.5.0",
          "state": {
            "_dom_classes": [],
            "_model_module": "@jupyter-widgets/controls",
            "_model_module_version": "1.5.0",
            "_model_name": "FloatSliderModel",
            "_view_count": null,
            "_view_module": "@jupyter-widgets/controls",
            "_view_module_version": "1.5.0",
            "_view_name": "FloatSliderView",
            "continuous_update": true,
            "description": "Height (Hartrees)",
            "description_tooltip": null,
            "disabled": false,
            "layout": "IPY_MODEL_86f60d72c4a04e85a8275d026dc66833",
            "max": 10,
            "min": -10,
            "orientation": "horizontal",
            "readout": true,
            "readout_format": ".2f",
            "step": 0.1,
            "style": "IPY_MODEL_ebaa37ff0b8e458e8cf998ee77307d83",
            "value": 2
          }
        },
        "6dbefacc57a14d05b5bafd6faf793c96": {
          "model_module": "@jupyter-widgets/controls",
          "model_name": "FloatSliderModel",
          "model_module_version": "1.5.0",
          "state": {
            "_dom_classes": [],
            "_model_module": "@jupyter-widgets/controls",
            "_model_module_version": "1.5.0",
            "_model_name": "FloatSliderModel",
            "_view_count": null,
            "_view_module": "@jupyter-widgets/controls",
            "_view_module_version": "1.5.0",
            "_view_name": "FloatSliderView",
            "continuous_update": true,
            "description": "Width (as fraction of range)",
            "description_tooltip": null,
            "disabled": false,
            "layout": "IPY_MODEL_042de38e87814cb6b69093b86d0f987e",
            "max": 1,
            "min": 0,
            "orientation": "horizontal",
            "readout": true,
            "readout_format": ".2f",
            "step": 0.1,
            "style": "IPY_MODEL_a8d05d00f0e74b299bdb850478f465e0",
            "value": 0.1
          }
        },
        "0120707eb8324abd920ef06ab10310a7": {
          "model_module": "@jupyter-widgets/controls",
          "model_name": "FloatSliderModel",
          "model_module_version": "1.5.0",
          "state": {
            "_dom_classes": [],
            "_model_module": "@jupyter-widgets/controls",
            "_model_module_version": "1.5.0",
            "_model_name": "FloatSliderModel",
            "_view_count": null,
            "_view_module": "@jupyter-widgets/controls",
            "_view_module_version": "1.5.0",
            "_view_name": "FloatSliderView",
            "continuous_update": true,
            "description": "Center (as fraction of range)",
            "description_tooltip": null,
            "disabled": false,
            "layout": "IPY_MODEL_16aa3736f14243949aa27d1c9837c20e",
            "max": 1,
            "min": -1,
            "orientation": "horizontal",
            "readout": true,
            "readout_format": ".2f",
            "step": 0.1,
            "style": "IPY_MODEL_0dbfcae067604928b822da44cf6f15bb",
            "value": 0
          }
        },
        "08f1a7ccd0f049abbe4471259b1b73d7": {
          "model_module": "@jupyter-widgets/output",
          "model_name": "OutputModel",
          "model_module_version": "1.0.0",
          "state": {
            "_dom_classes": [],
            "_model_module": "@jupyter-widgets/output",
            "_model_module_version": "1.0.0",
            "_model_name": "OutputModel",
            "_view_count": null,
            "_view_module": "@jupyter-widgets/output",
            "_view_module_version": "1.0.0",
            "_view_name": "OutputView",
            "layout": "IPY_MODEL_edea0221e0b044a99c9d2d30de0f4ba4",
            "msg_id": "",
            "outputs": [
              {
                "output_type": "display_data",
                "data": {
                  "text/plain": "<Figure size 1200x300 with 3 Axes>",
                  "image/png": "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\n"
                },
                "metadata": {}
              },
              {
                "output_type": "stream",
                "name": "stdout",
                "text": [
                  "Energies (Hartrees):  2.245e-01, 6.734e-01, 1.122e+00, 1.571e+00, 2.020e+00, 2.469e+00\n",
                  "Hamiltonian matrix elements (Hartrees):\n",
                  "+1.528e+00, +0.000e+00, -6.814e-01, +0.000e+00, +3.233e-01, +0.000e+00\n",
                  "+0.000e+00, +0.000e+00, +0.000e+00, +0.000e+00, +0.000e+00, +0.000e+00\n",
                  "-6.814e-01, +0.000e+00, +3.924e-01, +0.000e+00, -2.745e-01, +0.000e+00\n",
                  "+0.000e+00, +0.000e+00, +0.000e+00, +0.000e+00, +0.000e+00, +0.000e+00\n",
                  "+3.233e-01, +0.000e+00, -2.745e-01, +0.000e+00, +2.607e-01, +0.000e+00\n",
                  "+0.000e+00, +0.000e+00, +0.000e+00, +0.000e+00, +0.000e+00, +0.000e+00\n",
                  "Coefficients       :  1.0000000, -0.0000000, 0.7588936, -0.0000000, -0.1800212, -0.0000000\n"
                ]
              }
            ]
          }
        },
        "64a4e5f0268b4faaa5462c33e991c85b": {
          "model_module": "@jupyter-widgets/base",
          "model_name": "LayoutModel",
          "model_module_version": "1.2.0",
          "state": {
            "_model_module": "@jupyter-widgets/base",
            "_model_module_version": "1.2.0",
            "_model_name": "LayoutModel",
            "_view_count": null,
            "_view_module": "@jupyter-widgets/base",
            "_view_module_version": "1.2.0",
            "_view_name": "LayoutView",
            "align_content": null,
            "align_items": null,
            "align_self": null,
            "border": null,
            "bottom": null,
            "display": null,
            "flex": null,
            "flex_flow": null,
            "grid_area": null,
            "grid_auto_columns": null,
            "grid_auto_flow": null,
            "grid_auto_rows": null,
            "grid_column": null,
            "grid_gap": null,
            "grid_row": null,
            "grid_template_areas": null,
            "grid_template_columns": null,
            "grid_template_rows": null,
            "height": null,
            "justify_content": null,
            "justify_items": null,
            "left": null,
            "margin": null,
            "max_height": null,
            "max_width": null,
            "min_height": null,
            "min_width": null,
            "object_fit": null,
            "object_position": null,
            "order": null,
            "overflow": null,
            "overflow_x": null,
            "overflow_y": null,
            "padding": null,
            "right": null,
            "top": null,
            "visibility": null,
            "width": null
          }
        },
        "86f60d72c4a04e85a8275d026dc66833": {
          "model_module": "@jupyter-widgets/base",
          "model_name": "LayoutModel",
          "model_module_version": "1.2.0",
          "state": {
            "_model_module": "@jupyter-widgets/base",
            "_model_module_version": "1.2.0",
            "_model_name": "LayoutModel",
            "_view_count": null,
            "_view_module": "@jupyter-widgets/base",
            "_view_module_version": "1.2.0",
            "_view_name": "LayoutView",
            "align_content": null,
            "align_items": null,
            "align_self": null,
            "border": null,
            "bottom": null,
            "display": null,
            "flex": null,
            "flex_flow": null,
            "grid_area": null,
            "grid_auto_columns": null,
            "grid_auto_flow": null,
            "grid_auto_rows": null,
            "grid_column": null,
            "grid_gap": null,
            "grid_row": null,
            "grid_template_areas": null,
            "grid_template_columns": null,
            "grid_template_rows": null,
            "height": null,
            "justify_content": null,
            "justify_items": null,
            "left": null,
            "margin": null,
            "max_height": null,
            "max_width": null,
            "min_height": null,
            "min_width": null,
            "object_fit": null,
            "object_position": null,
            "order": null,
            "overflow": null,
            "overflow_x": null,
            "overflow_y": null,
            "padding": null,
            "right": null,
            "top": null,
            "visibility": null,
            "width": null
          }
        },
        "ebaa37ff0b8e458e8cf998ee77307d83": {
          "model_module": "@jupyter-widgets/controls",
          "model_name": "SliderStyleModel",
          "model_module_version": "1.5.0",
          "state": {
            "_model_module": "@jupyter-widgets/controls",
            "_model_module_version": "1.5.0",
            "_model_name": "SliderStyleModel",
            "_view_count": null,
            "_view_module": "@jupyter-widgets/base",
            "_view_module_version": "1.2.0",
            "_view_name": "StyleView",
            "description_width": "",
            "handle_color": null
          }
        },
        "042de38e87814cb6b69093b86d0f987e": {
          "model_module": "@jupyter-widgets/base",
          "model_name": "LayoutModel",
          "model_module_version": "1.2.0",
          "state": {
            "_model_module": "@jupyter-widgets/base",
            "_model_module_version": "1.2.0",
            "_model_name": "LayoutModel",
            "_view_count": null,
            "_view_module": "@jupyter-widgets/base",
            "_view_module_version": "1.2.0",
            "_view_name": "LayoutView",
            "align_content": null,
            "align_items": null,
            "align_self": null,
            "border": null,
            "bottom": null,
            "display": null,
            "flex": null,
            "flex_flow": null,
            "grid_area": null,
            "grid_auto_columns": null,
            "grid_auto_flow": null,
            "grid_auto_rows": null,
            "grid_column": null,
            "grid_gap": null,
            "grid_row": null,
            "grid_template_areas": null,
            "grid_template_columns": null,
            "grid_template_rows": null,
            "height": null,
            "justify_content": null,
            "justify_items": null,
            "left": null,
            "margin": null,
            "max_height": null,
            "max_width": null,
            "min_height": null,
            "min_width": null,
            "object_fit": null,
            "object_position": null,
            "order": null,
            "overflow": null,
            "overflow_x": null,
            "overflow_y": null,
            "padding": null,
            "right": null,
            "top": null,
            "visibility": null,
            "width": null
          }
        },
        "a8d05d00f0e74b299bdb850478f465e0": {
          "model_module": "@jupyter-widgets/controls",
          "model_name": "SliderStyleModel",
          "model_module_version": "1.5.0",
          "state": {
            "_model_module": "@jupyter-widgets/controls",
            "_model_module_version": "1.5.0",
            "_model_name": "SliderStyleModel",
            "_view_count": null,
            "_view_module": "@jupyter-widgets/base",
            "_view_module_version": "1.2.0",
            "_view_name": "StyleView",
            "description_width": "",
            "handle_color": null
          }
        },
        "16aa3736f14243949aa27d1c9837c20e": {
          "model_module": "@jupyter-widgets/base",
          "model_name": "LayoutModel",
          "model_module_version": "1.2.0",
          "state": {
            "_model_module": "@jupyter-widgets/base",
            "_model_module_version": "1.2.0",
            "_model_name": "LayoutModel",
            "_view_count": null,
            "_view_module": "@jupyter-widgets/base",
            "_view_module_version": "1.2.0",
            "_view_name": "LayoutView",
            "align_content": null,
            "align_items": null,
            "align_self": null,
            "border": null,
            "bottom": null,
            "display": null,
            "flex": null,
            "flex_flow": null,
            "grid_area": null,
            "grid_auto_columns": null,
            "grid_auto_flow": null,
            "grid_auto_rows": null,
            "grid_column": null,
            "grid_gap": null,
            "grid_row": null,
            "grid_template_areas": null,
            "grid_template_columns": null,
            "grid_template_rows": null,
            "height": null,
            "justify_content": null,
            "justify_items": null,
            "left": null,
            "margin": null,
            "max_height": null,
            "max_width": null,
            "min_height": null,
            "min_width": null,
            "object_fit": null,
            "object_position": null,
            "order": null,
            "overflow": null,
            "overflow_x": null,
            "overflow_y": null,
            "padding": null,
            "right": null,
            "top": null,
            "visibility": null,
            "width": null
          }
        },
        "0dbfcae067604928b822da44cf6f15bb": {
          "model_module": "@jupyter-widgets/controls",
          "model_name": "SliderStyleModel",
          "model_module_version": "1.5.0",
          "state": {
            "_model_module": "@jupyter-widgets/controls",
            "_model_module_version": "1.5.0",
            "_model_name": "SliderStyleModel",
            "_view_count": null,
            "_view_module": "@jupyter-widgets/base",
            "_view_module_version": "1.2.0",
            "_view_name": "StyleView",
            "description_width": "",
            "handle_color": null
          }
        },
        "edea0221e0b044a99c9d2d30de0f4ba4": {
          "model_module": "@jupyter-widgets/base",
          "model_name": "LayoutModel",
          "model_module_version": "1.2.0",
          "state": {
            "_model_module": "@jupyter-widgets/base",
            "_model_module_version": "1.2.0",
            "_model_name": "LayoutModel",
            "_view_count": null,
            "_view_module": "@jupyter-widgets/base",
            "_view_module_version": "1.2.0",
            "_view_name": "LayoutView",
            "align_content": null,
            "align_items": null,
            "align_self": null,
            "border": null,
            "bottom": null,
            "display": null,
            "flex": null,
            "flex_flow": null,
            "grid_area": null,
            "grid_auto_columns": null,
            "grid_auto_flow": null,
            "grid_auto_rows": null,
            "grid_column": null,
            "grid_gap": null,
            "grid_row": null,
            "grid_template_areas": null,
            "grid_template_columns": null,
            "grid_template_rows": null,
            "height": null,
            "justify_content": null,
            "justify_items": null,
            "left": null,
            "margin": null,
            "max_height": null,
            "max_width": null,
            "min_height": null,
            "min_width": null,
            "object_fit": null,
            "object_position": null,
            "order": null,
            "overflow": null,
            "overflow_x": null,
            "overflow_y": null,
            "padding": null,
            "right": null,
            "top": null,
            "visibility": null,
            "width": null
          }
        },
        "aeb80d7086d34c098110144fac3974d1": {
          "model_module": "@jupyter-widgets/controls",
          "model_name": "VBoxModel",
          "model_module_version": "1.5.0",
          "state": {
            "_dom_classes": [
              "widget-interact"
            ],
            "_model_module": "@jupyter-widgets/controls",
            "_model_module_version": "1.5.0",
            "_model_name": "VBoxModel",
            "_view_count": null,
            "_view_module": "@jupyter-widgets/controls",
            "_view_module_version": "1.5.0",
            "_view_name": "VBoxView",
            "box_style": "",
            "children": [
              "IPY_MODEL_3da5a8a8f95a4cbd9452954479e6242b",
              "IPY_MODEL_f5152ea61e46445496372b12ca8f98ab"
            ],
            "layout": "IPY_MODEL_53f6d3d6ec584ac88d40efbb5bd1c50d"
          }
        },
        "3da5a8a8f95a4cbd9452954479e6242b": {
          "model_module": "@jupyter-widgets/controls",
          "model_name": "FloatSliderModel",
          "model_module_version": "1.5.0",
          "state": {
            "_dom_classes": [],
            "_model_module": "@jupyter-widgets/controls",
            "_model_module_version": "1.5.0",
            "_model_name": "FloatSliderModel",
            "_view_count": null,
            "_view_module": "@jupyter-widgets/controls",
            "_view_module_version": "1.5.0",
            "_view_name": "FloatSliderView",
            "continuous_update": true,
            "description": "α",
            "description_tooltip": null,
            "disabled": false,
            "layout": "IPY_MODEL_ba2d1523b9a84952a80fa79a1c80096f",
            "max": 3,
            "min": 0.1,
            "orientation": "horizontal",
            "readout": true,
            "readout_format": ".2f",
            "step": 0.1,
            "style": "IPY_MODEL_4c6f20f3697a4daa82a0199571ea4958",
            "value": 1.9
          }
        },
        "f5152ea61e46445496372b12ca8f98ab": {
          "model_module": "@jupyter-widgets/output",
          "model_name": "OutputModel",
          "model_module_version": "1.0.0",
          "state": {
            "_dom_classes": [],
            "_model_module": "@jupyter-widgets/output",
            "_model_module_version": "1.0.0",
            "_model_name": "OutputModel",
            "_view_count": null,
            "_view_module": "@jupyter-widgets/output",
            "_view_module_version": "1.0.0",
            "_view_name": "OutputView",
            "layout": "IPY_MODEL_4d5ff78334ad4bf2a3632139ab1556be",
            "msg_id": "",
            "outputs": [
              {
                "output_type": "display_data",
                "data": {
                  "text/plain": "<Figure size 640x480 with 1 Axes>",
                  "image/png": "iVBORw0KGgoAAAANSUhEUgAAAkIAAAGvCAYAAAC3lbrBAAAAOXRFWHRTb2Z0d2FyZQBNYXRwbG90bGliIHZlcnNpb24zLjcuMSwgaHR0cHM6Ly9tYXRwbG90bGliLm9yZy/bCgiHAAAACXBIWXMAAA9hAAAPYQGoP6dpAABgzUlEQVR4nO3deXwTdf4/8NckbdIzaUtvaEsBuW+QWgUU6VLYroq3wAoieCC4IB7IrlyrX0FYFFAOdRU8VgX2J+gCgrVcKuUqlJvKUShH03K0SQ965vP7I83Q0FJamnaS5vV8POaRZOaTmXeylbx25vP5jCSEECAiIiJyQSqlCyAiIiJSCoMQERERuSwGISIiInJZDEJERETkshiEiIiIyGUxCBEREZHLYhAiIiIil8UgRERERC7LTekCHJnZbMbFixfh6+sLSZKULoeIiIhqQQiBvLw8hIeHQ6Wq+ZwPg1ANLl68iIiICKXLICIiottw7tw5tGjRosY2DEI18PX1BWD5InU6ncLVEBERUW2YTCZERETIv+M1YRCqgfVymE6nYxAiIiJyMrXp1sLO0kREROSyGISIiIjIZfHSGBERORSz2YySkhKlyyAHp9FobjkirDYYhIiIyGGUlJQgPT0dZrNZ6VLIwalUKkRHR0Oj0dRrPwxCRETkEIQQyMzMhFqtRkREhF3+3z41TdZ5/jIzMxEZGVmvuf4YhIiIyCGUlZWhsLAQ4eHh8PLyUroccnBBQUG4ePEiysrK4O7uftv7YdwmIiKHUF5eDgD1vtRBrsH6d2L9u7ldDEJERORQeEsjqg17/Z0wCBEREZHLYhAiIiIil8UgRERE5KJmzpyJ7t27K12GohiElCIEUMYJw4iImgKDwYCJEyeiTZs28PDwQEhICO655x4sXboUhYWFSpfXIM6cOQNJkpCamlrn90qShLVr19q9ptvB4fNKKLgM/Pg3wCcIeGCh0tUQEVE9nD59Gvfccw/8/Pzw7rvvokuXLtBqtTh06BA++eQTNG/eHA8++GC17y0tLa3X0G+qP54RUkL2USBtPZCyAji+QelqiIgckhAChSVliixCiFrX+dJLL8HNzQ179+7FE088gQ4dOqBVq1Z46KGHsH79ejzwwANyW0mSsHTpUjz44IPw9vbG//3f/wEAli5ditatW0Oj0aBdu3b46quv5PdUd+YlNzcXkiRh69atAICtW7dCkiQkJSWhd+/e8PLywt133420tDSbWufMmYOQkBD4+vpizJgxKCoqqvGz5eTkYMSIEQgKCoKnpyfuuOMOLF++HAAQHR0NAOjRowckScJ9990HANizZw/+9Kc/ITAwEHq9Hvfeey/27dsn77Nly5YAgIcffhiSJMmvAeCHH35Az5494eHhgVatWmHWrFkoKyu79f8I9cAzQkqI7g/ETgCSPwJ+nAA0TwZ8Q5SuiojIoVwrLUfH6ZsUOfbRf8bDS3Prn8grV67g559/xrvvvgtvb+9q29w4zHvmzJmYM2cOFixYADc3N6xZswYTJ07EggULEBcXh3Xr1mH06NFo0aIFBgwYUKe6//GPf2D+/PkICgrCiy++iGeffRa///47AGDVqlWYOXMmFi9ejL59++Krr77CokWL0KpVq5vub9q0aTh69Ch++uknBAYG4uTJk7h27RoAYPfu3ejTpw9++eUXdOrUSZ7XJy8vD6NGjcKHH34IIQTmz5+PP//5zzhx4gR8fX2xZ88eBAcHY/ny5Rg8eDDUajUA4Ndff8XIkSOxaNEi9OvXD6dOncLzzz8PAJgxY0advoe6YBBSysDpwOltQNYh4IeXgBH/BTh3BhGRUzl58iSEEGjXrp3N+sDAQPlsy/jx4/Hee+/J24YPH47Ro0fLr4cNG4ZnnnkGL730EgBg8uTJ2LlzJ/71r3/VOQj93//9H+69914AwJtvvomEhAQUFRXBw8MDCxYswJgxYzBmzBgAwDvvvINffvmlxrNCGRkZ6NGjB3r37g0ANmdvgoKCAADNmjVDaGiovP7++++32ccnn3wCPz8/bNu2DX/5y1/k9/n5+dm8b9asWXjzzTcxatQoAECrVq3w9ttv44033nCcIDR79mx8//33OH78ODw9PXH33Xfjvffes/kDKCoqwquvvorvvvsOxcXFiI+Px5IlSxAScv2MR0ZGBsaNG4ctW7bAx8cHo0aNwuzZs+Hmdr2crVu3YvLkyThy5AgiIiLw1ltv4ZlnnrGpZ/HixZg3bx4MBgO6deuGDz/8EH369KlTLYpx0wKPfgp8fC9w8hdgz7+BPs8pXRURkcPwdFfj6D/jFTt2fezevRtmsxkjRoxAcXGxzTZrqLA6duyYfObD6p577sHChXXvQ9q1a1f5eVhYGAAgOzsbkZGROHbsGF588UWb9rGxsdiyZctN9zdu3Dg8+uij2LdvHwYNGoShQ4fi7rvvrrGGrKwsvPXWW9i6dSuys7NRXl6OwsJCZGRk1Pi+AwcO4Pfff5cvFwKWWaOLiopQWFjYYLddqVMfoW3btmH8+PHYuXMnEhMTUVpaikGDBqGgoEBu88orr+B///sfVq9ejW3btuHixYt45JFH5O3l5eVISEhASUkJduzYgS+++AIrVqzA9OnT5Tbp6elISEjAgAEDkJqaikmTJmHs2LHYtOn6KdKVK1di8uTJmDFjBvbt24du3bohPj4e2dnZta5FccEdgD/90/L857eA7OPK1kNE5EAkSYKXxk2RpbazFrdp0waSJFXpi9OqVSu0adMGnp6eVd5zs0toN2O9+WzlfkulpaXVtq3c8dr6Gcxmc52OV9mQIUNw9uxZvPLKK7h48SIGDhyI1157rcb3jBo1CqmpqVi4cCF27NiB1NRUNGvWDCUlNY+Uzs/Px6xZs5Camiovhw4dwokTJ+Dh4XHbn+GWRD1kZ2cLAGLbtm1CCCFyc3OFu7u7WL16tdzm2LFjAoBITk4WQgixYcMGoVKphMFgkNssXbpU6HQ6UVxcLIQQ4o033hCdOnWyOdaTTz4p4uPj5dd9+vQR48ePl1+Xl5eL8PBwMXv27FrXcitGo1EAEEajsVbtb4vZLMSXDwsxQyfE0nuEKC1quGMRETmwa9euiaNHj4pr164pXUqdDBo0SDRv3lzk5+dX2XbvvfeKiRMnyq8BiDVr1ti0ufvuu8Vzzz1ns+7xxx8XCQkJQgghCgsLBQCxfv16efvPP/8sAIgtW7YIIYTYsmWLACBycnLkNvv37xcARHp6uhBCiNjYWPHSSy/ZHOeuu+4S3bp1q/VnXbZsmfD19RVCCHHhwgUBQOzdu9emjY+Pj/jyyy/l1xkZGQKA+OCDD+R17u7u4r///W+V7+HZZ5+tdS01/b3U5fe7XqPGjEYjACAgIAAAkJKSgtLSUsTFxclt2rdvj8jISCQnJwMAkpOT0aVLF5vLU/Hx8TCZTDhy5IjcpvI+rG2s+ygpKUFKSopNG5VKhbi4OLlNbWq5UXFxMUwmk83S4CQJGLoE8GoGGA5ZRpIREZHTWLJkCcrKytC7d2+sXLkSx44dQ1paGr7++mscP35c7gx8M6+//jpWrFiBpUuX4sSJE3j//ffx/fffy2dePD09cdddd2HOnDk4duwYtm3bhrfeeqvOdU6cOBGff/45li9fjj/++AMzZsyQf3dvZvr06fjhhx9w8uRJHDlyBOvWrUOHDh0AAMHBwfD09MTGjRuRlZUlZ4I77rgDX331FY4dO4Zdu3ZhxIgRVc6MtWzZEklJSTAYDMjJyZGP9eWXX2LWrFk4cuQIjh07hu++++62Pmtd3HYQMpvNmDRpEu655x507twZgGVCKY1GAz8/P5u2ISEhMBgMcpsb++hYX9+qjclkwrVr13D58mWUl5dX26byPm5Vy41mz54NvV4vLxEREbX8NurJNxS4Z6Ll+anNjXNMIiKyi9atW2P//v2Ii4vD1KlT0a1bN/Tu3RsffvghXnvtNbz99ts1vn/o0KFYuHAh/vWvf6FTp074+OOPsXz5cnk4OgB8/vnnKCsrQ69evTBp0iS88847da7zySefxLRp0/DGG2+gV69eOHv2LMaNG1fjezQaDaZOnYquXbuif//+UKvV+O677wAAbm5uWLRoET7++GOEh4fjoYceAgB89tlnyMnJQc+ePfH000/jb3/7G4KDg232O3/+fCQmJiIiIgI9evQAYDnhsW7dOvz888+48847cdddd+GDDz5AVFRUnT9rXdz2qLHx48fj8OHD+O233+xZj6KmTp2KyZMny69NJlPjhaGW/SyPZ5MBczmgql9HPSIiajxhYWH48MMP8eGHH9bYTtxkfqJx48bVGEo6dOiAHTt23HRf9913X5V9d+/evcq6v//97/j73/9us67yiLYbvfXWWzWekRk7dizGjh1rs65Hjx7Ys2ePzbrHHnvM5vUDDzxgM7+SVXx8POLjG7eD/G2dEZowYQLWrVuHLVu2oEWLFvL60NBQlJSUIDc316Z9VlaWPEQuNDQUWVlZVbZbt9XURqfTwdPTE4GBgVCr1dW2qbyPW9VyI61WC51OZ7M0mtCugMYXKDYCWYcb77hEREQurE5BSAiBCRMmYM2aNdi8ebM8q6RVr1694O7ujqSkJHldWloaMjIyEBsbC8AyVO/QoUM2o7sSExOh0+nQsWNHuU3lfVjbWPeh0WjQq1cvmzZmsxlJSUlym9rU4lDUbkDkXZbnZ3fU3JaIiIjso9bds4UQ48aNE3q9XmzdulVkZmbKS2FhodzmxRdfFJGRkWLz5s1i7969IjY2VsTGxsrby8rKROfOncWgQYNEamqq2LhxowgKChJTp06V25w+fVp4eXmJ119/XRw7dkwsXrxYqNVqsXHjRrnNd999J7RarVixYoU4evSoeP7554Wfn5/NaLRb1XIrjTJqrLLt8y2jx74d3jjHIyJyIM46aoyUYa9RY3UKQgCqXZYvX25T2EsvvST8/f2Fl5eXePjhh0VmZqbNfs6cOSOGDBkiPD09RWBgoHj11VdFaWmpTZstW7aI7t27C41GI1q1amVzDKsPP/xQREZGCo1GI/r06SN27txps702tdSk0YNQxi5LEJrT0jKsnojIhTAIUV3YKwhJQtThznIuxmQyQa/Xw2g0Nk5/obISYE4kUHYNeGmnZcJFIiIXUVRUhPT0dERHRzfsBHrUJNT091KX32/efV4hOQUlOJGVZ7vSTQNEVNwi5EzTGY1HRETkqBiEFLAvIwc93k7EM8v3VN3Ysq/lkR2miYiIGhyDkAKim1nuM3Mh9xqKSsttN0ZV3Mzu7O8Ar1oSERE1KAYhBfh7a6D3tNwY78yVAtuNzXsDai2QnwVcPa1AdURERK6DQUgh0YGWs0Lpl24IQu4eQIvelufsJ0RERNSgGIQU0qoiCJ2+XFB1Y+XLY0RE5NC2bt0KSZJw5swZm9fWOxvcuJ0cC4OQQuQzQtUGoXssj+wwTURE1KAYhBQSHVRDEIroA6jcAOM5IOdsI1dGRER1IUkSgJvfUNW63tqOHMtt332e6qfGM0IabyC8B3B+j+WskH9UI1dHROQAhABKC5U5trsXUMvg4uvrCwDIzMyscg9OALh48SIANO6NvKnWGIQU0rJiCP3VghIYC0uh93K3bRB1T0UQ+g3oPkyBComIFFZaCLwbrsyx/37R8n9Ka6Fdu3Zwd3fHvn37cPfdd1fZnpKSgubNm8Pf3x8AcPr0aRw+fBgPPvigXUum28NLYwrx1rohVGeZEjz9xiH0APsJERE5CW9vbzz22GOYO3cu8vJs7xhw9uxZfPzxxxg9erS87qeffsLRo0cbu0y6CZ4RUlDLQC8YTEVIv5yP7hF+thsjYyyPV08DhVcBr4BGr4+ISFHuXpYzM0oduw4++OADxMbGol+/fhg8eDAAYMWKFZg/fz66dOmCf/zjHwCAbdu2Ydq0aWjWrBlWrlyJ3377Dd7etTvzRA2DZ4QUFB3oA6CauYQAwEMP6CMszy+lNWJVREQOQpIsl6eUWOrYsTkkJATJycno1asXVqxYAQBYtGgRhg0bhqSkJPmmoPfeey+6du2KxMRE7N+/nyHIAfCMkIJqnEsIAALbWkaOXf4DiIptxMqIiKiuQkJC8Nlnn2Hr1q0YMGAA9u3bBz8/vyrtMjIy0LJly0avj6rHM0IKqnHkGGAJQoAlCBERkdM7f/48wsMV6gBO1eIZIQVVnktICFF1jokgBiEiImdz33333XROobNnzyIsLKyRK6Ka8IyQgiL8vaBWSSgsKUd2XnHVBoHtLI/sI0RE1CR07twZp0+fRpcuXThyzEHwjJCCNG4qRPh74syVQpy+VICQiuH0MuulsdwMoPQa4O7Z+EUSEZHd6PV6pKSkKF0GVcIzQgqrsZ+QdyDg6Q9AAFdONm5hRERELoBBSGEtK4LQmeomVZSk62eFeHmMiIjI7hiEFCYPoa9uLiGAI8eIiIgaEIOQwuRJFS/nV9+AQYiIiKjBMAgpzDqEPuNqIcrKzVUbBFlHjjEIEZFruNnQc6LK7PV3wiCksDCdB7RuKpSWC1zIvVa1gfWM0JWTgLm8cYsjImpEarUaAFBSUqJwJeQMrH8n1r+b28Xh8wpTqSREB3rjuCEPpy8XIKrZDfed8YsE1FqgvBjIPQsEtFKmUCKiBubm5gYvLy9cunQJ7u7uUKn4/9WpemazGZcuXYKXlxfc3OoXZRiEHIA1CKVfKsCAdjdsVKmBwDuArMOWy2MMQkTUREmShLCwMKSnp+Ps2bNKl0MOTqVSITIysupdGeqIQcgBtLzlPccqgtDlP4B2gxuxMiKixqXRaHDHHXfw8hjdkkajsctZQwYhBxBd01xCwPVbbVzmXEJE1PSpVCp4eHjcuiGRHfACrAO49VxCd1geL59opIqIiIhcA4OQA7CeEbpovIai0mpGhgVVuvkqh5USERHZTZ2D0Pbt2/HAAw8gPDwckiRh7dq1NtslSap2mTdvntymZcuWVbbPmTPHZj8HDx5Ev3794OHhgYiICMydO7dKLatXr0b79u3h4eGBLl26YMOGDTbbhRCYPn06wsLC4Onpibi4OJw44XhnVQK8NdB5uEEI4OyVwqoNmrUBIAFFuUDBpcYuj4iIqMmqcxAqKChAt27dsHjx4mq3Z2Zm2iyff/45JEnCo48+atPun//8p027l19+Wd5mMpkwaNAgREVFISUlBfPmzcPMmTPxySefyG127NiBYcOGYcyYMdi/fz+GDh2KoUOH4vDhw3KbuXPnYtGiRVi2bBl27doFb29vxMfHo6ioqK4fu0FJkoTooBpmmHb3tAyjBzjDNBERkR3VubP0kCFDMGTIkJtuDw0NtXn9ww8/YMCAAWjVynbYt6+vb5W2Vv/5z39QUlKCzz//HBqNBp06dUJqairef/99PP/88wCAhQsXYvDgwXj99dcBAG+//TYSExPx0UcfYdmyZRBCYMGCBXjrrbfw0EMPAQC+/PJLhISEYO3atXjqqafq+tEbVKtAbxw4l4tTN+snFNTOMo/QpTSgZd/GLY6IiKiJatA+QllZWVi/fj3GjBlTZducOXPQrFkz9OjRA/PmzUNZWZm8LTk5Gf3794dGo5HXxcfHIy0tDTk5OXKbuLg4m33Gx8cjOTkZAJCeng6DwWDTRq/XIyYmRm5zo+LiYphMJpulsbSuuNXGqWzec4yIiKixNOjw+S+++AK+vr545JFHbNb/7W9/Q8+ePREQEIAdO3Zg6tSpyMzMxPvvvw8AMBgMiI6OtnlPSEiIvM3f3x8Gg0FeV7mNwWCQ21V+X3VtbjR79mzMmjXrNj9t/bQJ9gUAnGAQIiIiajQNGoQ+//xzjBgxosp8EJMnT5afd+3aFRqNBi+88AJmz54NrVbbkCXVaOrUqTa1mUwmRERENMqx7wix9BE6dSkfZrOASnXDTJnWIMSbrxIREdlNg10a+/XXX5GWloaxY8fesm1MTAzKyspw5swZAJZ+RllZWTZtrK+t/Ypu1qby9srvq67NjbRaLXQ6nc3SWKICvOCullBYUo6LxmpuvmodQm86DxTf5KwRERER1UmDBaHPPvsMvXr1Qrdu3W7ZNjU1FSqVCsHBwQCA2NhYbN++HaWlpXKbxMREtGvXDv7+/nKbpKQkm/0kJiYiNjYWABAdHY3Q0FCbNiaTCbt27ZLbOBI3tQqtAi1nhaq9POYVAHgFWp5fcbwpAIiIiJxRnYNQfn4+UlNTkZqaCsDSKTk1NRUZGRlyG5PJhNWrV1d7Nig5ORkLFizAgQMHcPr0afznP//BK6+8gr/+9a9yyBk+fDg0Gg3GjBmDI0eOYOXKlVi4cKHNZauJEydi48aNmD9/Po4fP46ZM2di7969mDBhAgDLkPRJkybhnXfewY8//ohDhw5h5MiRCA8Px9ChQ+v6sRtFm4rLYyezbtFPiJfHiIiI7EPU0ZYtWwSAKsuoUaPkNh9//LHw9PQUubm5Vd6fkpIiYmJihF6vFx4eHqJDhw7i3XffFUVFRTbtDhw4IPr27Su0Wq1o3ry5mDNnTpV9rVq1SrRt21ZoNBrRqVMnsX79epvtZrNZTJs2TYSEhAitVisGDhwo0tLSav1ZjUajACCMRmOt31MfHySmiagp68Trq1Orb/Dj34SYoRPil1mNUg8REZEzqsvvtyQE79lwMyaTCXq9HkajsVH6C60/mInx3+xDj0g/rHnpnqoNdnwI/PwW0OkR4PHlDV4PERGRM6rL7zfvNeZA2gRfvzRWbT71i7I85p5txKqIiIiaLgYhB9Iy0AtqlYS84jJkmYqrNvCvCEI5DEJERET2wCDkQLRuakQ18wIAnMjOq9rAer+xwstAyU1uxUFERES1xiDkYO6ouDx2orqRY57+gFZveZ6bUXU7ERER1QmDkIO5o+JWGycv3WQIvfWsEIMQERFRvTEIOZg7bjWXEPsJERER2Q2DkIOxjhz7IzvvJiPHrGeEGISIiIjqi0HIwbQO8oEkAbmFpbhSUFK1AYfQExER2Q2DkIPxcFcjMqBi5Fh1l8esl8bYR4iIiKjeGIQckHXk2MmahtCzjxAREVG9MQg5oDYVI8eqvQu9NQgV5QJFxsYrioiIqAliEHJANc4lpPUFPAMsz3l5jIiIqF4YhByQdQh9tWeEAPYTIiIishMGIQfUOsgShC7nFyO3sLqRY+wnREREZA8MQg7IW+uG5n6eAICT1fYT4hB6IiIie2AQclDWiRWrvTzGS2NERER2wSDkoGrsMO3H22wQERHZA4OQg7reYbq6uYQqnRGq7jYcREREVCsMQg7KOpdQ9X2EIiyPJXnAtZxGrIqIiKhpYRByUNY+QpnGIpiKSm03unsCPiGW5+wwTUREdNsYhByU3tMd4XoPAECaoYbLY+wnREREdNsYhBxYhzAdAOB4pqnqRutcQhw5RkREdNsYhBxY+zBLP6GjmdWcEfLnXEJERET1xSDkwNqHVpwRMvCMEBERUUNgEHJg1ktjaYY8mM03DJNnHyEiIqJ6YxByYC2beUHrpkJhSTkyrhbabqx8RohzCREREd0WBiEH5qZWoW2IpZ9Qlctj+ggAElB2DSi41PjFERERNQEMQg6uw806TLtpAF1zy3NeHiMiIrotDEIOTu4wXeMQegYhIiKi28Eg5ODkuYSqm1SRQ+iJiIjqpc5BaPv27XjggQcQHh4OSZKwdu1am+3PPPMMJEmyWQYPHmzT5urVqxgxYgR0Oh38/PwwZswY5Ofb3lPr4MGD6NevHzw8PBAREYG5c+dWqWX16tVo3749PDw80KVLF2zYsMFmuxAC06dPR1hYGDw9PREXF4cTJ07U9SMrqn2o5dJYxtVC5N14qw0OoSciIqqXOgehgoICdOvWDYsXL75pm8GDByMzM1Nevv32W5vtI0aMwJEjR5CYmIh169Zh+/bteP755+XtJpMJgwYNQlRUFFJSUjBv3jzMnDkTn3zyidxmx44dGDZsGMaMGYP9+/dj6NChGDp0KA4fPiy3mTt3LhYtWoRly5Zh165d8Pb2Rnx8PIqKiur6sRXj761BqM5yq40/sm44K8Qh9ERERPUj6gGAWLNmjc26UaNGiYceeuim7zl69KgAIPbs2SOv++mnn4QkSeLChQtCCCGWLFki/P39RXFxsdxmypQpol27dvLrJ554QiQkJNjsOyYmRrzwwgtCCCHMZrMIDQ0V8+bNk7fn5uYKrVYrvv3221p9PqPRKAAIo9FYq/YN5ZnPd4moKevEV8lnbDec3i7EDJ0QC3soUxgREZEDqsvvd4P0Edq6dSuCg4PRrl07jBs3DleuXJG3JScnw8/PD71795bXxcXFQaVSYdeuXXKb/v37Q6PRyG3i4+ORlpaGnJwcuU1cXJzNcePj45GcnAwASE9Ph8FgsGmj1+sRExMjt7lRcXExTCaTzeII2lf0Ezp2Y4dpax8h4znAbG7kqoiIiJyf3YPQ4MGD8eWXXyIpKQnvvfcetm3bhiFDhqC8vBwAYDAYEBwcbPMeNzc3BAQEwGAwyG1CQkJs2lhf36pN5e2V31ddmxvNnj0ber1eXiIiIur8+RuCtZ9QlQ7TvuGAyg0oLwHyMhWojIiIyLm52XuHTz31lPy8S5cu6Nq1K1q3bo2tW7di4MCB9j6cXU2dOhWTJ0+WX5tMJocIQx1vuNWGSiVZNqjdAF24pbO08Tygb65glURERM6nwYfPt2rVCoGBgTh58iQAIDQ0FNnZ2TZtysrKcPXqVYSGhsptsrKybNpYX9+qTeXtld9XXZsbabVa6HQ6m8URRAd6Q+OmQn5xGc7nXLPdqGtheTSdb/zCiIiInFyDB6Hz58/jypUrCAsLAwDExsYiNzcXKSkpcpvNmzfDbDYjJiZGbrN9+3aUll4fLp6YmIh27drB399fbpOUlGRzrMTERMTGxgIAoqOjERoaatPGZDJh165dchtnYbnVhg8A4FiVW21UBCEjgxAREVFd1TkI5efnIzU1FampqQAsnZJTU1ORkZGB/Px8vP7669i5cyfOnDmDpKQkPPTQQ2jTpg3i4+MBAB06dMDgwYPx3HPPYffu3fj9998xYcIEPPXUUwgPDwcADB8+HBqNBmPGjMGRI0ewcuVKLFy40Oay1cSJE7Fx40bMnz8fx48fx8yZM7F3715MmDABACBJEiZNmoR33nkHP/74Iw4dOoSRI0ciPDwcQ4cOrefX1viuzzB9Qz8hOQhdaOSKiIiImoC6DknbsmWLAFBlGTVqlCgsLBSDBg0SQUFBwt3dXURFRYnnnntOGAwGm31cuXJFDBs2TPj4+AidTidGjx4t8vLybNocOHBA9O3bV2i1WtG8eXMxZ86cKrWsWrVKtG3bVmg0GtGpUyexfv16m+1ms1lMmzZNhISECK1WKwYOHCjS0tJq/VkdZfi8EEJ8uv2UiJqyTrzw5V7bDbs/tQyh/2aYMoURERE5mLr8fktCCKFgDnNoJpMJer0eRqNR8f5CO05exvB/70LLZl7Y+vqA6xv+2AR88wQQ1g14YbtyBRIRETmIuvx+815jTqJdxRD6s1cLUVBcdn2D9Q707CNERERUZwxCTqKZjxbBvloIAaRVvtWGtY9Q4RWgpFCZ4oiIiJwUg5ATke9EX7nDtIce0FhGlMF0UYGqiIiInBeDkBNpH2a5PHY003h9pSRVGjl2ToGqiIiInBeDkBPpFK4HABy+cJO5hEwcQk9ERFQXDEJOpGtzSxA6lmlCaXmlm6yywzQREdFtYRByIlHNvODr4YbiMjNOZOVf36CvuB8agxAREVGdMAg5EUmS0Fm+PFapn5CeZ4SIiIhuB4OQk+nawhKEDtkEIfYRIiIiuh0MQk6mc0U/oYOVg1DlPkKcKJyIiKjWGIScTJfqOkxbg1BpIXAtR6HKiIiInA+DkJOxdpguqdxh2t0D8A6yPGc/ISIiolpjEHIykiTJZ4UOV9dPiEGIiIio1hiEnFAXuZ9Q7vWV7DBNRERUZwxCTsjaYfpQ5RmmdbzNBhERUV0xCDmhajtMy5fGeEaIiIiothiEnFC1HaY5qSIREVGdMQg5ocodpg9Z+wlZb7PBPkJERES1xiDkpK4HoYqRY9a5hEwXgfIyhaoiIiJyLgxCTqpLixs6TPuEACp3QJQD+QYFKyMiInIeDEJOqkqHaZUK0IVbNrLDNBERUa0wCDmpyAAv6Co6TP+RlWdZqecQeiIiorpgEHJSkiTJ8wnJM0xzUkUiIqI6YRByYtf7Cd3QYZpD6ImIiGqFQciJySPHzt9wRoh9hIiIiGqFQciJyR2mDXmWDtPsI0RERFQnDEJOLDLAC3pPd5SUmZFmyGMfISIiojpiEHJikiShe4QfAGBfRs71PkKFV4CSQuUKIyIichIMQk6uR6QfAGB/Ri7goQc0vpYNpouK1UREROQsGIScXM9IfwAVZ4Qkif2EiIiI6qDOQWj79u144IEHEB4eDkmSsHbtWnlbaWkppkyZgi5dusDb2xvh4eEYOXIkLl60PTvRsmVLSJJks8yZM8emzcGDB9GvXz94eHggIiICc+fOrVLL6tWr0b59e3h4eKBLly7YsGGDzXYhBKZPn46wsDB4enoiLi4OJ06cqOtHdmjdI/0gScDZK4W4nF/Mu9ATERHVQZ2DUEFBAbp164bFixdX2VZYWIh9+/Zh2rRp2LdvH77//nukpaXhwQcfrNL2n//8JzIzM+Xl5ZdflreZTCYMGjQIUVFRSElJwbx58zBz5kx88skncpsdO3Zg2LBhGDNmDPbv34+hQ4di6NChOHz4sNxm7ty5WLRoEZYtW4Zdu3bB29sb8fHxKCoqquvHdlg6D3e0CfIBUHF5jB2miYiIak/UAwCxZs2aGtvs3r1bABBnz56V10VFRYkPPvjgpu9ZsmSJ8Pf3F8XFxfK6KVOmiHbt2smvn3jiCZGQkGDzvpiYGPHCCy8IIYQwm80iNDRUzJs3T96em5srtFqt+Pbbb2vz8YTRaBQAhNForFV7pbyx+oCImrJOvPfTMSG2zhVihk6ItS8pXRYREZEi6vL73eB9hIxGIyRJgp+fn836OXPmoFmzZujRowfmzZuHsrIyeVtycjL69+8PjUYjr4uPj0daWhpycnLkNnFxcTb7jI+PR3JyMgAgPT0dBoPBpo1er0dMTIzc5kbFxcUwmUw2izPoGeUHoKKfkNxHiJfGiIiIbsWtIXdeVFSEKVOmYNiwYdDpdPL6v/3tb+jZsycCAgKwY8cOTJ06FZmZmXj//fcBAAaDAdHR0Tb7CgkJkbf5+/vDYDDI6yq3MRgMcrvK76uuzY1mz56NWbNm1eMTK8PaYfrAOSPKB4ZDDXB2aSIiolposCBUWlqKJ554AkIILF261Gbb5MmT5eddu3aFRqPBCy+8gNmzZ0Or1TZUSbc0depUm9pMJhMiIiIUq6e2Wgf5wNfDDXlFZThV7Ie2gKWPkBCWkWRERERUrQa5NGYNQWfPnkViYqLN2aDqxMTEoKysDGfOnAEAhIaGIisry6aN9XVoaGiNbSpvr/y+6trcSKvVQqfT2SzOQKW6PrHinhxPy8rSQuBajnJFEREROQG7ByFrCDpx4gR++eUXNGvW7JbvSU1NhUqlQnBwMAAgNjYW27dvR2lpqdwmMTER7dq1g7+/v9wmKSnJZj+JiYmIjY0FAERHRyM0NNSmjclkwq5du+Q2TYn18ljK+ULAO8iykv2EiIiIalTnS2P5+fk4efKk/Do9PR2pqakICAhAWFgYHnvsMezbtw/r1q1DeXm53B8nICAAGo0GycnJ2LVrFwYMGABfX18kJyfjlVdewV//+lc55AwfPhyzZs3CmDFjMGXKFBw+fBgLFy7EBx98IB934sSJuPfeezF//nwkJCTgu+++w969e+Uh9pIkYdKkSXjnnXdwxx13IDo6GtOmTUN4eDiGDh1an+/MIfWMqjSxoq45UHDJcnksrKvClRERETmwug5J27JliwBQZRk1apRIT0+vdhsAsWXLFiGEECkpKSImJkbo9Xrh4eEhOnToIN59911RVFRkc5wDBw6Ivn37Cq1WK5o3by7mzJlTpZZVq1aJtm3bCo1GIzp16iTWr19vs91sNotp06aJkJAQodVqxcCBA0VaWlqtP6uzDJ8XQojcghIRNWWdiJqyThR9/ZRlCP2uT5Qui4iIqNHV5fdbEkIIRRKYEzCZTNDr9TAajU7RXyju/W04mZ2PX7tsRMSJL4F7JgF/cr5RcERERPVRl99v3musCelZcQPWUyV6ywrOLk1ERFQjBqEmRJ5PyFRxB3rOJURERFQjBqEmpEdFENp5pWIIPUeNERER1YhBqAm5I9gHvlo3pJf4WVbkXQTM5YrWRERE5MgYhJoQlUpC90g/ZMMfZkkNmMuA/GylyyIiInJYDEJNTI8IP5ihQq460LKCl8eIiIhuikGoienVMgAAcN5s6S8EE4MQERHRzTAINTG9ovyhVklIL7UEIo4cIyIiujkGoSbGR+uGzuE6ZIqKe7zx0hgREdFNMQg1QTGtmuGiqDgjxEtjREREN8Ug1ATFRAfgorB2lualMSIiopthEGqCercMQCYsl8bKc88pXA0REZHjYhBqgvSe7vANigIAqAsvAWXFCldERETkmBiEmqgOrVvimtBYXpguKlsMERGRg2IQaqJiWgXiIkeOERER1YhBqInqEx2AzIqRY3nZZ5QthoiIyEExCDVRAd4a5HuEAgAyM04qXA0REZFjYhBqwrQBkQAAU9YZZQshIiJyUAxCTVhAeDQAwJzLPkJERETVYRBqwqJatQMA6EqyYCwsVbgaIiIix8Mg1IT5hVrOCIVLV7D7zFWFqyEiInI8DEJNma655UEqROrJDIWLISIicjwMQk2Z1gcl7joAwJnTfyhcDBERkeNhEGriJH0LAEBB9lnkFbGfEBERUWUMQk2ce8UQ+lDpCvawnxAREZENBqGmrqKfULh0Gb+euKxwMURERI6FQaip01uD0FX8xiBERERkg0GoqdNHAADCpCs4kZ2PTOM1hQsiIiJyHAxCTV3FpbFotxwA4FkhIiKiShiEmrqKS2NB4goAgd9OMggRERFZ1TkIbd++HQ888ADCw8MhSRLWrl1rs10IgenTpyMsLAyenp6Ii4vDiRMnbNpcvXoVI0aMgE6ng5+fH8aMGYP8/HybNgcPHkS/fv3g4eGBiIgIzJ07t0otq1evRvv27eHh4YEuXbpgw4YNda6lyfMNByDBXRQjAHn47cRlmM1C6aqIiIgcQp2DUEFBAbp164bFixdXu33u3LlYtGgRli1bhl27dsHb2xvx8fEoKiqS24wYMQJHjhxBYmIi1q1bh+3bt+P555+Xt5tMJgwaNAhRUVFISUnBvHnzMHPmTHzyySdymx07dmDYsGEYM2YM9u/fj6FDh2Lo0KE4fPhwnWpp8tw0gE8IAKCVJgdXCkpwzGBSuCgiIiIHIeoBgFizZo382mw2i9DQUDFv3jx5XW5urtBqteLbb78VQghx9OhRAUDs2bNHbvPTTz8JSZLEhQsXhBBCLFmyRPj7+4vi4mK5zZQpU0S7du3k10888YRISEiwqScmJka88MILta7lVoxGowAgjEZjrdo7rE/uF2KGTnz40fsiaso6sXTrSaUrIiIiajB1+f22ax+h9PR0GAwGxMXFyev0ej1iYmKQnJwMAEhOToafnx969+4tt4mLi4NKpcKuXbvkNv3794dGo5HbxMfHIy0tDTk5OXKbysextrEepza1uAw/y8ix3v6Wy4/sME1ERGThZs+dGQwGAEBISIjN+pCQEHmbwWBAcHCwbRFubggICLBpEx0dXWUf1m3+/v4wGAy3PM6tarlRcXExiouL5dcmUxO5hFQxhL69hyVE7j5zFUWl5fBwVytZFRERkeI4aqyS2bNnQ6/Xy0tERITSJdmHn+U2G/oSA0J1HigpM2N3Om+3QUREZNcgFBoaCgDIysqyWZ+VlSVvCw0NRXZ2ts32srIyXL161aZNdfuofIybtam8/Va13Gjq1KkwGo3ycu7cuVp8aidQEYSk3HPod0cgAHAYPREREewchKKjoxEaGoqkpCR5nclkwq5duxAbGwsAiI2NRW5uLlJSUuQ2mzdvhtlsRkxMjNxm+/btKC29frf0xMREtGvXDv7+/nKbysextrEepza13Eir1UKn09ksTULFpTHkZqBvRRDa/sclBQsiIiJyDHUOQvn5+UhNTUVqaioAS6fk1NRUZGRkQJIkTJo0Ce+88w5+/PFHHDp0CCNHjkR4eDiGDh0KAOjQoQMGDx6M5557Drt378bvv/+OCRMm4KmnnkJ4eDgAYPjw4dBoNBgzZgyOHDmClStXYuHChZg8ebJcx8SJE7Fx40bMnz8fx48fx8yZM7F3715MmDABAGpVi8uo6CyNolz0jfQAABw35CE7z4WmESAiIqpOXYekbdmyRQCosowaNUoIYRm2Pm3aNBESEiK0Wq0YOHCgSEtLs9nHlStXxLBhw4SPj4/Q6XRi9OjRIi8vz6bNgQMHRN++fYVWqxXNmzcXc+bMqVLLqlWrRNu2bYVGoxGdOnUS69evt9lem1pq0mSGzwshxJwoIWbohDAcEX9euF1ETVknvt93TumqiIiI7K4uv9+SEILTDN+EyWSCXq+H0Wh0/stky/oBhoPAsJWYc7ollm07hUd6Nsf7T3RXujIiIiK7qsvvN0eNuYqKDtMwnkP/Sv2EeLsNIiJyZQxCrsIahHIz0LtlAHy1bricX4ID53MVLYuIiEhJDEKuwjpyzHgOGjcV+rcNAgAkHcuu4U1ERERNG4OQq/C7PoQeAAZ2sMzunXScQYiIiFwXg5CrkC+NWSaJvK9dMFQScCzThAu51xQsjIiISDkMQq7CemmsIBsovYYAbw16Rlomp9x8LKuGNxIRETVdDEKuwtMf0PhYnhvPAwAGdrDckPYX9hMiIiIXxSDkKiTJ5lYbABBX0U8o+dQVFBSXKVUZERGRYhiEXEmluYQAoE2wDyIDvFBSbsavJ3gTViIicj0MQq7khpFjkiTh/vaWs0Kbj7OfEBERuR4GIVciXxo7J6+Kq+gntPk4Z5kmIiLXwyDkSm64NAYAfaKts0wXc5ZpIiJyOQxCrqTSbTasOMs0ERG5MgYhV2K9NJaXCZSXyquts0z/wvmEiIjIxTAIuRLvIECtBYQZMF2QV1tnmT5uyOMs00RE5FIYhFyJSlVl5BgAm1mmE48YlKiMiIhIEQxCrqaakWMAMLhzKABgwyEGISIich0MQq7GekbIaBuEhnQJAwDsOXsV2aaixq6KiIhIEQxCruaGu9BbNffzRI9IPwgB/HSYZ4WIiMg1MAi5Gr01CJ2tsimh4qzQ+kOZjVkRERGRYhiEXM1NLo0BlS6PneHlMSIicg0MQq7G2lnaeAEwl9tsau7nie4RlstjGzl6jIiIXACDkKvxDQNUboC5FMirGnasl8c28PIYERG5AAYhV6N2A3ThlufVXh6zDKPfnX4Vl/KKG7MyIiKiRscg5Ir01Y8cA4AW/l7oFuEHMy+PERGRC2AQckV+Nx85BgAJFWeFNhzk5TEiImraGIRcUQ0jxwBgSGdLP6Fd6VdwOZ+Xx4iIqOliEHJFN7nNhlVEgBe6tdBbLo9xckUiImrCGIRc0S0ujQHAnzl6jIiIXACDkCsKiLY85pytMpeQlTUI7Tx9BQYjJ1ckIqKmiUHIFemaA2qNZS4h4/lqm0QEeKFPywCYBfBD6oVGLpCIiKhx2D0ItWzZEpIkVVnGjx8PALjvvvuqbHvxxRdt9pGRkYGEhAR4eXkhODgYr7/+OsrKymzabN26FT179oRWq0WbNm2wYsWKKrUsXrwYLVu2hIeHB2JiYrB79257f1znpFIDflGW5znpN232SM/mAID/t+88hBCNURkREVGjsnsQ2rNnDzIzM+UlMTERAPD444/LbZ577jmbNnPnzpW3lZeXIyEhASUlJdixYwe++OILrFixAtOnT5fbpKenIyEhAQMGDEBqaiomTZqEsWPHYtOmTXKblStXYvLkyZgxYwb27duHbt26IT4+HtnZ2fb+yM4poJXl8erpmzb5c9cwaNxU+CMrH0cumhqpMCIiosZj9yAUFBSE0NBQeVm3bh1at26Ne++9V27j5eVl00an08nbfv75Zxw9ehRff/01unfvjiFDhuDtt9/G4sWLUVJSAgBYtmwZoqOjMX/+fHTo0AETJkzAY489hg8++EDez/vvv4/nnnsOo0ePRseOHbFs2TJ4eXnh888/t/dHdk5yELr5GSGdhzsGdQwBAHy/j5fHiIio6WnQPkIlJSX4+uuv8eyzz0KSJHn9f/7zHwQGBqJz586YOnUqCgsL5W3Jycno0qULQkJC5HXx8fEwmUw4cuSI3CYuLs7mWPHx8UhOTpaPm5KSYtNGpVIhLi5OblOd4uJimEwmm6XJsnaYruGMEAA82rMFAODHAxdQWm5u6KqIiIgalVtD7nzt2rXIzc3FM888I68bPnw4oqKiEB4ejoMHD2LKlClIS0vD999/DwAwGAw2IQiA/NpgMNTYxmQy4dq1a8jJyUF5eXm1bY4fP37TemfPno1Zs2bd9ud1KrU4IwQA/e4IRKCPBpfzS/DriUu4v31Ije2JiIicSYMGoc8++wxDhgxBeHi4vO7555+Xn3fp0gVhYWEYOHAgTp06hdatWzdkObc0depUTJ48WX5tMpkQERGhYEUNyN86hD4dEAKodMauMje1Cg91b47PfkvH/9t3gUGIiIialAa7NHb27Fn88ssvGDt2bI3tYmJiAAAnT54EAISGhiIrK8umjfV1aGhojW10Oh08PT0RGBgItVpdbRvrPqqj1Wqh0+lslibLLxKQVEBpIZCfVWNT6+ixxKNZMBaWNkZ1REREjaLBgtDy5csRHByMhISEGtulpqYCAMLCLBP4xcbG4tChQzajuxITE6HT6dCxY0e5TVJSks1+EhMTERsbCwDQaDTo1auXTRuz2YykpCS5jctz0wB6S/+fW10e6ximQ/tQX5SUmbGeM00TEVET0iBByGw2Y/ny5Rg1ahTc3K5ffTt16hTefvttpKSk4MyZM/jxxx8xcuRI9O/fH127dgUADBo0CB07dsTTTz+NAwcOYNOmTXjrrbcwfvx4aLVaAMCLL76I06dP44033sDx48exZMkSrFq1Cq+88op8rMmTJ+PTTz/FF198gWPHjmHcuHEoKCjA6NGjG+IjO6daDKEHAEmS5LNC3++rfgJGIiIiZ9QgQeiXX35BRkYGnn32WZv1Go0Gv/zyCwYNGoT27dvj1VdfxaOPPor//e9/chu1Wo1169ZBrVYjNjYWf/3rXzFy5Ej885//lNtER0dj/fr1SExMRLdu3TB//nz8+9//Rnx8vNzmySefxL/+9S9Mnz4d3bt3R2pqKjZu3FilA7VLq9xP6BYe6t4cKgnYezYHZ68UNHBhREREjUMSnDL4pkwmE/R6PYxGY9PsL/T7IiBxGtD5UeCxW8+vNPLz3dj+xyW8fH8bvDqoXSMUSEREVHd1+f3mvcZcWS2H0Fs92dsygm7lnnOcU4iIiJoEBiFXVstJFa3+1DEEgT5aZOcVI+lYzSPNiIiInAGDkCvzb2l5LMoFCq/esrnGTYUn77SMNPvProyGq4uIiKiRMAi5Mo034FMxr1ItOkwDwFN3RkKSgF9PXMaZy+w0TUREzo1ByNXVsZ9QRIAX7msbBAD4djfPChERkXNjEHJ1cj+h2gUhABgREwUAWLX3HIpKyxuiKiIiokbBIOTq6thhGgAGtA9GuN4DOYWl2HjY0ECFERERNTwGIVdnvTRWyz5CAKBWSXiqTyQA4D+7zjZEVURERI2CQcjV+df9jBAAPHlnBNQqCXvO5CDNkNcAhRERETU8BiFXZ700lp8FlNR+FFiIzgN/6mC5Xck3PCtEREROikHI1Xn6WxagTh2mAWDEXZbLY9/vu4D84jJ7V0ZERNTgGISo1nehv9E9rQPRKtAbecVlWLXnXAMURkRE1LAYhKhOd6GvTKWS8Gxfy3s//z0dZbz/GBERORkGIbrtM0IA8GjPFvD3csf5nGvYdIT3HyMiIufCIER1nl26Mk+NGk/fZZlg8dNfT0MIYc/KiIiIGhSDEN3W7NKVPR3bEho3FVLP5SLlbI4dCyMiImpYDEJ0/YyQ6TxQVlzntwf5avFw9+YALGeFiIiInAWDEAHeQYC7NyDMQO7t3Uh1bD/LWaWfj2bxrvREROQ0GIQIkKR6dZgGgDtCfHFfuyAIYRlBRkRE5AwYhMiiWUUQunzitnfxXD/LPlbvPY/cwhJ7VEVERNSgGITIIqi95fHS8dvexd2tm6FDmA7XSsvxVTJvu0FERI6PQYgs7BCEJEnCi/dazgp99ns6b7tBREQOj0GILII7WB4vpQH1mAvoL13D0SrQG7mFpfgy+Yx9aiMiImogDEJkEdAaULkBxSbAdOG2d6NWSZhwfxsAwKfbT6OAZ4WIiMiBMQiRhZvGEoaAel0eA4AHu4WjZTMv5BSW4kv2FSIiIgfGIETXBVf0E8quXxByU6vw8v13ALBMsMizQkRE5KgYhOi6IGs/oWP13tVD3S1nha4WlOCrnTwrREREjolBiK4Lamd5rOcZIcByVmj8gOt9hQpLeFaIiIgcD4MQXWenkWNWD/dojqhmXrhSUIKveVaIiIgcEIMQXWcdOVaSV6+RY1aVzwp9vI19hYiIyPHYPQjNnDkTkiTZLO3bt5e3FxUVYfz48WjWrBl8fHzw6KOPIisry2YfGRkZSEhIgJeXF4KDg/H666+jrMz2R3Tr1q3o2bMntFot2rRpgxUrVlSpZfHixWjZsiU8PDwQExOD3bt32/vjNi1uGqCZJbjY4/IYYHtWiHemJyIiR9MgZ4Q6deqEzMxMefntt9/kba+88gr+97//YfXq1di2bRsuXryIRx55RN5eXl6OhIQElJSUYMeOHfjiiy+wYsUKTJ8+XW6Tnp6OhIQEDBgwAKmpqZg0aRLGjh2LTZs2yW1WrlyJyZMnY8aMGdi3bx+6deuG+Ph4ZGdnN8RHbjqs/YTqOYTeyl2twmuDLPv8ZPtpZOcV2WW/REREdiHsbMaMGaJbt27VbsvNzRXu7u5i9erV8rpjx44JACI5OVkIIcSGDRuESqUSBoNBbrN06VKh0+lEcXGxEEKIN954Q3Tq1Mlm308++aSIj4+XX/fp00eMHz9efl1eXi7Cw8PF7Nmza/1ZjEajACCMRmOt3+P0Nr8rxAydEGtfstsuzWazePCj30TUlHVi6vcH7bZfIiKi6tTl97tBzgidOHEC4eHhaNWqFUaMGIGMjAwAQEpKCkpLSxEXFye3bd++PSIjI5GcnAwASE5ORpcuXRASEiK3iY+Ph8lkwpEjR+Q2lfdhbWPdR0lJCVJSUmzaqFQqxMXFyW2qU1xcDJPJZLO4HDvNJVSZJEn4x58tHbFX7jmHk9l5dts3ERFRfdg9CMXExGDFihXYuHEjli5divT0dPTr1w95eXkwGAzQaDTw8/OzeU9ISAgMBgMAwGAw2IQg63brtpramEwmXLt2DZcvX0Z5eXm1baz7qM7s2bOh1+vlJSIi4ra+A6cm33zVPiPHrPpEB+BPHUNQbhaY85P9QhYREVF92D0IDRkyBI8//ji6du2K+Ph4bNiwAbm5uVi1apW9D2V3U6dOhdFolJdz584pXVLjs/PIscreHNIeapWEX45lY+fpK3bdNxER0e1o8OHzfn5+aNu2LU6ePInQ0FCUlJQgNzfXpk1WVhZCQ0MBAKGhoVVGkVlf36qNTqeDp6cnAgMDoVarq21j3Ud1tFotdDqdzeJyGmDkmFXrIB8M62M5yzZ7wzGYzfY740RERHQ7GjwI5efn49SpUwgLC0OvXr3g7u6OpKQkeXtaWhoyMjIQGxsLAIiNjcWhQ4dsRnclJiZCp9OhY8eOcpvK+7C2se5Do9GgV69eNm3MZjOSkpLkNlQD+fJY/W+1caOJA9vCW6PGgfNGrDuUaff9ExER1YXdg9Brr72Gbdu24cyZM9ixYwcefvhhqNVqDBs2DHq9HmPGjMHkyZOxZcsWpKSkYPTo0YiNjcVdd90FABg0aBA6duyIp59+GgcOHMCmTZvw1ltvYfz48dBqtQCAF198EadPn8Ybb7yB48ePY8mSJVi1ahVeeeUVuY7Jkyfj008/xRdffIFjx45h3LhxKCgowOjRo+39kZueIPt3mJZ37avFi/da7nI/e8MxTrJIRESKcrP3Ds+fP49hw4bhypUrCAoKQt++fbFz504EBQUBAD744AOoVCo8+uijKC4uRnx8PJYsWSK/X61WY926dRg3bhxiY2Ph7e2NUaNG4Z///KfcJjo6GuvXr8crr7yChQsXokWLFvj3v/+N+Ph4uc2TTz6JS5cuYfr06TAYDOjevTs2btxYpQM1VcM6csxOcwnd6Ln+rbAq5RzOXb2GRZtPYOqQDg1yHCIioluRhLDj0KAmxmQyQa/Xw2g0ulZ/oezjwJIYQOMLTD0HSJLdD7H5eBaeXbEXbioJGyb2Q9sQX7sfg4iIXFNdfr95rzGqqlmlkWPG8w1yiPvbh2BQxxCUmQXeWnsYzONERKQEBiGqSu1+feTYpbQGO8z0BzrC012N3elXsWa/fYfqExER1QaDEFWvAUeOWbXw98LLAy2B690Nx2C8VtpgxyIiIqoOgxBVL7iiA3MDjByrbGzfVmgd5I3L+SWY/3PDnX0iIiKqDoMQVU++C33DnRECAI2bCm8P7QwA+GrnWezPyGnQ4xEREVXGIETVC7ZMXons44C5vEEPdXfrQDzSozmEAF5bfQBFpQ17PCIiIisGIapeszaAxgcoLWjQDtNW0x/oiGBfLU5dKuAlMiIiajQMQlQ9lRoI72F5fiGlwQ/n56XB7Ee6AAD+/Vs69p652uDHJCIiYhCim2vey/J4YW+jHG5ghxA81quFfImssIS33yAioobFIEQ3Jwehhj8jZDXtLx0RpvfAmSuFmLuRl8iIiKhhMQjRzVmDUNZRoKSwUQ6p93THnEe7AgBW7DiDnaevNMpxiYjINTEI0c3pwgGfUECUA4aDjXbYe9sGYVifCADAq6sOILewpNGOTUREroVBiG5OkhS5PAYA/0joiKhmXriQew2vrT7Ie5EREVGDYBCimjXvaXls5CDko3XD4uE9oVGr8MuxLCz//UyjHp+IiFwDgxDVzHpG6HzjjByrrHNzPf6RYLnVx+yfjuHAudxGr4GIiJo2BiGqmfWMUO5ZoOByox9+ZGwUBncKRWm5wIRv9/HGrEREZFcMQlQzDz0Q2Nby/MK+Rj+8JEl477GuaOHviXNXr2Hq9+wvRERE9sMgRLemUIdpK72nOz4a3hNuKgkbDhnw2W/pitRBRERND4MQ3ZrCQQgAukf4yf2F3t1wDNv+uKRYLURE1HQwCNGtVR45puBlqWfuboknereAWQATvtmHU5fyFauFiIiaBgYhurWQzoBaA1y7CuScUawMSZLw9tDO6B3lj7yiMoz9Yi+Mhew8TUREt49BiG7NTQuEWu4Mr+TlMQDQuqmx7OleaO7nifTLBZjw7T6UlZsVrYmIiJwXgxDVTvPelkeFgxAABPpo8cnIXvB0V+PXE5fxzvpjHElGRES3hUGIascBOkxX1ilcjw+e7AbAcnPWZdtOK1wRERE5IwYhqh1rEMo8AJQ7Rr+cwZ3D8FbFSLL3Nh7Hqr3nFK6IiIicDYMQ1U5AK8vkimVFQPZRpauRje3XCi/c2woAMPX7Q0g8mqVwRURE5EwYhKh2VCogvGIY/fk9ytZygzcHt8djvVqg3Cww4Zt92J1+VemSiIjISTAIUe1FxloeT29Tto4bSJKEOY90wcD2wSguM2PMF3tw9KJJ6bKIiMgJMAhR7bWJszye3uow/YSs3NQqfDS8pzzH0PB/78SRi0alyyIiIgfHIES1F94d8AwAik3A+b1KV1OFp0aNz0ffiW4RfsgtLMXwT3fh8AWGISIiujm7B6HZs2fjzjvvhK+vL4KDgzF06FCkpaXZtLnvvvsgSZLN8uKLL9q0ycjIQEJCAry8vBAcHIzXX38dZWVlNm22bt2Knj17QqvVok2bNlixYkWVehYvXoyWLVvCw8MDMTEx2L17t70/sutQqYHW91uen/xF2VpuQufhjq/G9EH3CD8Yr5VixL934dB5hiEiIqqe3YPQtm3bMH78eOzcuROJiYkoLS3FoEGDUFBQYNPuueeeQ2ZmprzMnTtX3lZeXo6EhASUlJRgx44d+OKLL7BixQpMnz5dbpOeno6EhAQMGDAAqampmDRpEsaOHYtNmzbJbVauXInJkydjxowZ2LdvH7p164b4+HhkZ2fb+2O7DuvlMQcNQsD1MNQz0hqGduLg+VylyyIiIgckiQaekvfSpUsIDg7Gtm3b0L9/fwCWM0Ldu3fHggULqn3PTz/9hL/85S+4ePEiQkJCAADLli3DlClTcOnSJWg0GkyZMgXr16/H4cOH5fc99dRTyM3NxcaNGwEAMTExuPPOO/HRRx8BAMxmMyIiIvDyyy/jzTffvGXtJpMJer0eRqMROp2uPl9D05GXBcxva3n+2knAJ0jZemqQV1SKZ5bvQcrZHPhq3fDxyF64u3Wg0mUREVEDq8vvd4P3ETIaLZclAgICbNb/5z//QWBgIDp37oypU6eisLBQ3pacnIwuXbrIIQgA4uPjYTKZcOTIEblNXFyczT7j4+ORnJwMACgpKUFKSopNG5VKhbi4OLnNjYqLi2EymWwWuoFvCBDa1fL81GZla7kFXw93fPFsH/SJDkBecRme+XwP1h28qHRZRETkQBo0CJnNZkyaNAn33HMPOnfuLK8fPnw4vv76a2zZsgVTp07FV199hb/+9a/ydoPBYBOCAMivDQZDjW1MJhOuXbuGy5cvo7y8vNo21n3caPbs2dDr9fISERFx+x++KbvjT5ZHB748ZuWjdcOXz/bBkM6hKCk34+Vv92P57+lKl0VERA6iQYPQ+PHjcfjwYXz33Xc2659//nnEx8ejS5cuGDFiBL788kusWbMGp06dashybmnq1KkwGo3ycu4cb9lQLWs/oVNJgNnx7/zu4a7GR8N7YmRsFIQAZv3vKOb8dJw3aiUiooYLQhMmTMC6deuwZcsWtGjRosa2MTExAICTJ08CAEJDQ5GVZXurBOvr0NDQGtvodDp4enoiMDAQarW62jbWfdxIq9VCp9PZLFSNFncCWh1QeAXI3K90NbWiVkmY9WAnvB7fDgCwbNspTPh2PwpLym7xTiIiasrsHoSEEJgwYQLWrFmDzZs3Izo6+pbvSU1NBQCEhYUBAGJjY3Ho0CGb0V2JiYnQ6XTo2LGj3CYpKclmP4mJiYiNtcx+rNFo0KtXL5s2ZrMZSUlJchu6TWp3oNW9lucnk2pu60AkScL4AW0w77GucFNJWH8wE48uTca5q4W3fjMRETVJdg9C48ePx9dff41vvvkGvr6+MBgMMBgMuHbtGgDg1KlTePvtt5GSkoIzZ87gxx9/xMiRI9G/f3907WrphDto0CB07NgRTz/9NA4cOIBNmzbhrbfewvjx46HVagEAL774Ik6fPo033ngDx48fx5IlS7Bq1Sq88sorci2TJ0/Gp59+ii+++ALHjh3DuHHjUFBQgNGjR9v7Y7seJxhGfzOP947At8/fhUAfDY5lmvDQ4t+RfOqK0mUREZEShJ0BqHZZvny5EEKIjIwM0b9/fxEQECC0Wq1o06aNeP3114XRaLTZz5kzZ8SQIUOEp6enCAwMFK+++qooLS21abNlyxbRvXt3odFoRKtWreRjVPbhhx+KyMhIodFoRJ8+fcTOnTtr/VmMRqMAUKU2EkLkZAgxQyfETD8hCq8qXc1tuZBTKBIWbRdRU9aJVlPXi+W/nRZms1npsoiIqJ7q8vvd4PMIOTPOI3QLi2OAS8eBx1cAnR5WuprbUlRajin/7yB+SLUMqx/SORRzHukKvZe7wpUREdHtcqh5hKgJc+LLY1Ye7moseLI73kroADeVhJ8OG/DnRb8i5exVpUsjIqJGwCBEt08OQs4xjP5mJEnC2H6t8P/G3Y3IAC9cyL2GJz7eicVbTqLczBOmRERNGYMQ3b6ouy3D6PMygTO/Kl1NvXWL8MP6v/XFQ93DUW4WmLcpDcM+2Ykzlwtu/WYiInJKDEJ0+9y0QJfHLM/3falsLXbi6+GOBU92x7zHusJLo8buM1cxeOF2fPZbOs8OERE1QQxCVD89R1kej/0IFDaNfjWSJOHx3hHYNKk/7m7dDEWlZry97iie+DgZpy7lK10eERHZEYMQ1U94d8tNWMtLgAPf3bK5M4kI8MJ/xsbg3Ye7wFujRsrZHAxZ+Cs+SPwDRaXlSpdHRER2wCBE9der4qzQvi+AJjYbgyRJGB4TiU2v9Ee/OwJRUmbGwqQT+NMH2/DL0axb74CIiBwagxDVX5fHAXcvy5xC5/coXU2DaOHvhS+f7YPFw3siVOeBc1evYeyXe/Hsij3sTE1E5MQYhKj+PPTXJ1RM+ULZWhqQJElI6BqGpFfvxYv3toa7WsLm49mIe38bpv9wGJfzi5UukYiI6ohBiOyj50jL45HvgSKTsrU0MG+tG94c0h4/TeyPe9sGocws8GXyWdw7dwsW/PIHCop5R3siImfBIET2EREDBLYDSguBw/9VuppG0SbYB1882wffjI1B1xZ6FJSUY8EvJ3DvvC34ZPspBiIiIifAIET2IUnXO0034ctj1bm7TSDWvnQPPhreA1HNvHA5vwTvbjiOvu9txuItJ5FXVKp0iUREdBO86WoNeNPVOiq4Arzf3jKU/oXtQFg3pStqdKXlZqzZdwGLt57E2SuFAAC9pztGxUbh6diWCPLVKlwhEVHTV5ffbwahGjAI3YbVoy39hLo+CTzyidLVKKas3IwfD1zER1tO4vQly6gyjVqFB7uHY0zfaHQI498TEVFDYRCyEwah23BhH/DpAMvzsZuBFr2UrUdh5WaBjYcN+Pdvp7E/I1def3frZnj6rijEdQyBu5pXqImI7IlByE4YhG7TmnHAgW+AFncCYxIt/YcI+zJy8Nlv6dh42CDftyzQR4snerfAsD6RiAjwUrhCIqKmgUHIThiEbpMpE/iwF1BaADzyKdD1CaUrcijncwrxza4MrNp73mbuob5tAvFwj+aI7xwKH62bghUSETk3BiE7YRCqh+3/Aja/DfiGAy/vBTTeSlfkcErLzfjlaBa+2Z2BX09cltd7uKsQ3ykUQ3s0R982gbx0RkRURwxCdsIgVA+lRcDiO4HcDKD/G8D9/1C6Iod27moh1uy/gLX7L+B0pVt26D3dMahjCIZ0CcU9bQKhdVMrWCURkXNgELITBqF6OvoDsGok4OYBTNgD+EUqXZHDE0Lg4Hkj1uy/gHUHL+Jyfom8zVfrhvs7BOP+9sG4t20Q/Lw0ClZKROS4GITshEGonoQAVvwFOPub5V5kj69QuiKnUm4W2HPmKn46lImNRwzIMl3vT6RWSegV6Y8BFaGofagvVCp2SiciAhiE7IZByA4yDwKf3AsIM/DAouuzT1OdmM0C+8/l4Jdj2dh8LBtpWXk225t5a3B3m0D0axOIu9s0Qwt/jkAjItfFIGQnDEJ2suVdYNt7gKQGhq8E7viT0hU5vfM5hdhyPBtb0i5h5+krKCwpt9ne3M8TfaID0Cc6AHe2DEDrIG9InMaAiFwEg5CdMAjZiRDA2nHAgW8Bd29g9HogvIfSVTUZJWVmpJ7LxW8nL+O3E5dw4LxRnqfIyt/LHd0j/NAj0h89Iv3QtYUf9J7uClVMRNSwGITshEHIjspKgG8eB05vBbyDgbG/AP5RSlfVJBUUl2F/Ri52p1/BrvSr2H8uFyVl5irtWjbzQqfmenQO16NLcz06husQ4M0O2ETk/BiE7IRByM6KjMDyPwNZh4HAtsCzmwCvAKWravKKy8pxLDMPqRk52H8uF/szcpFxtbDatkG+WrQP9UWHMB3ahfjijhAftA7ygTcneCQiJ8IgZCcMQg3AdBH4dxxgugA0a2OZebp5T6Wrcjk5BSU4fNGIwxdMOHzBiEMXjDcNRwAQrvdA62BLKIoO9EbLQG+0CvRGuJ8n1BytRkQOhkHIThiEGkjWUeDrR4G8i4DKDRjwD+CeiYCKkwUqKb+4DH9k5eF4Zh7SDCYcN+Th1KV8m7mMbqRRq9Dc3xMRAV6IDPBEZIAXWvh7obmfJ8L9PBHoo2EnbSJqdAxCdsIg1IAKrwLrJlkmXQSAqL7Aw8sAvwhFy6KqcgtLcDI7Hyez83H6cgHSLxfgzOUCnL1SiJLyqn2PKtO6qdDczxOheg+E6jwsj3oPhOg8EOyrRbDOA0E+WmjceBsRIrIfBiE7YRBqYEIAqd8AG1633KBV4wv0+CvQ5zmgWWulq6NbKDcLXMy9hnM5hTh3tRDnrl5DxtVCnM8pxMXcImTlFaG2/7r4e7kj0EeLQB8tmvloLI/eGgT4aBDgpYG/twbNvDXw89JA7+nO4ERENWIQusHixYsxb948GAwGdOvWDR9++CH69Olzy/cxCDWSK6eA758HLuy9vq5NHNDnBcujij96zqikzIwsUxHO51xDlqkIBlMRDMYiZBqvIctUjEt5xcjOK0Jped3/CfLRukHv6Q4/L3foPS2LzsMdei93+Grd4OvhBl8Pd5tHH60bvCu2ad1UvGRH1IQxCFWycuVKjBw5EsuWLUNMTAwWLFiA1atXIy0tDcHBwTW+l0GoEZnNwKnNwO5PgBM/A6j4s/TwA6LuBqLusTyGdgXUHMHUVAghkFtYiuy8YlzOtyxX8kvkx6uFJcgpKMHVghJcKSiBqai01meZaqJWSfDSqOGjdYOXRg1vrRs83dXw0qjhpXGDp8by3NNdDY+K9Z4aNTzc1NC6q+BRsd7DTQWtuxpaN5VlqXiuqXitUTNwESmBQaiSmJgY3Hnnnfjoo48AAGazGREREXj55Zfx5ptv1vheBiGFXDkF7P0c2P+VZch9ZW6eQEA04N8S8K949A0FPP0rLX6WdjyT1OSUmwVM10qRe60UuYUlyC0shamoFKZrpTBWLHlFZcgrKoOpqFR+LCguQ35RGQpumIG7MWgqApHGTQV3tSS/dpfXWda7q68/d1Or4K6qeFRLcFOpoFZJ8jY3lWWdm1qCm0qCWnX9Ua1SVXp+fVFJ19uoVBLUkgSVClBJ17erK623rlNJqHi0bJcqvVZJgHRDG6linxIqHiXI77Fdx4BIDYdBqEJJSQm8vLzw3//+F0OHDpXXjxo1Crm5ufjhhx9s2hcXF6O4+PqNLU0mEyIiIhiElFJearlX2dnfK5ZkoNh46/dZqbWAu4clFLlpAJW7ZZSa2t0yQk1SWW77IakqFgmAdMNjBZt/tG/4B5z/oDsNIYByIVBurrRUvDZXPLc8wua1WVhCmFlULNZ1QkAIVFpveU61Y/OfWKX/rmzXw+Y/OemGZ9X953fjqpuFLummL6ruw/ZYt/5vvtoWtThGXVR/jNusTUHXPEMR88p3dt1nXYJQk77GcPnyZZSXlyMkJMRmfUhICI4fP16l/ezZszFr1qzGKo9uRe0OtOhlWe75G2AuB66mAzlngBzr4xmg4BJwLef6Yi6zvL+82LKgDuGJmjQJln/0GuwfPp6EbHy1yZ3Mpg4to6y5osdv0kGorqZOnYrJkyfLr61nhMhBqNRAYBvLcjNCACUFQFkRUHrNspRds5xdKi+1hCRzKVBeBkAAwnzDIirWVzxa91nT8YhcnMD1M2MAYL3VnYDl7JmwvIDA9TZCWPqIVWyyLJXXCcv7IQDrJA2i0o6uT9wgKtpWblP5P00h7x9V2olKe7n+pHJd1W2v0h5V21uOUfXfhxv3U50bP0v1bW79b0/17xe1aHNr9syfbp46RN5eGXbRpINQYGAg1Go1srKybNZnZWUhNDS0SnutVgutVttY5VFDkCRA62NZiKhRVFxM5gkxckpN+u9Wo9GgV69eSEpKkteZzWYkJSUhNjZWwcqIiIjIETTpM0IAMHnyZIwaNQq9e/dGnz59sGDBAhQUFGD06NFKl0ZEREQKa/JB6Mknn8SlS5cwffp0GAwGdO/eHRs3bqzSgZqIiIhcT5MePl9fnEeIiIjI+dTl97tJ9xEiIiIiqgmDEBEREbksBiEiIiJyWQxCRERE5LIYhIiIiMhlMQgRERGRy2IQIiIiIpfFIEREREQui0GIiIiIXFaTv8VGfVgn3TaZTApXQkRERLVl/d2uzc0zGIRqkJeXBwCIiIhQuBIiIiKqq7y8POj1+hrb8F5jNTCbzbh48SJ8fX0hSZJd920ymRAREYFz587xPmZ2wu/U/vidNgx+r/bH79T+nPk7FUIgLy8P4eHhUKlq7gXEM0I1UKlUaNGiRYMeQ6fTOd0fmKPjd2p//E4bBr9X++N3an/O+p3e6kyQFTtLExERkctiECIiIiKXxSCkEK1WixkzZkCr1SpdSpPB79T++J02DH6v9sfv1P5c5TtlZ2kiIiJyWTwjRERERC6LQYiIiIhcFoMQERERuSwGISIiInJZDEIKWLx4MVq2bAkPDw/ExMRg9+7dSpfk1LZv344HHngA4eHhkCQJa9euVbokpzd79mzceeed8PX1RXBwMIYOHYq0tDSly3JqS5cuRdeuXeXJ6WJjY/HTTz8pXVaTMmfOHEiShEmTJildilObOXMmJEmyWdq3b690WQ2GQaiRrVy5EpMnT8aMGTOwb98+dOvWDfHx8cjOzla6NKdVUFCAbt26YfHixUqX0mRs27YN48ePx86dO5GYmIjS0lIMGjQIBQUFSpfmtFq0aIE5c+YgJSUFe/fuxf3334+HHnoIR44cUbq0JmHPnj34+OOP0bVrV6VLaRI6deqEzMxMefntt9+ULqnBcPh8I4uJicGdd96Jjz76CIDlfmYRERF4+eWX8eabbypcnfOTJAlr1qzB0KFDlS6lSbl06RKCg4Oxbds29O/fX+lymoyAgADMmzcPY8aMUboUp5afn4+ePXtiyZIleOedd9C9e3csWLBA6bKc1syZM7F27VqkpqYqXUqj4BmhRlRSUoKUlBTExcXJ61QqFeLi4pCcnKxgZUQ1MxqNACw/3FR/5eXl+O6771BQUIDY2Fily3F648ePR0JCgs2/rVQ/J06cQHh4OFq1aoURI0YgIyND6ZIaDG+62oguX76M8vJyhISE2KwPCQnB8ePHFaqKqGZmsxmTJk3CPffcg86dOytdjlM7dOgQYmNjUVRUBB8fH6xZswYdO3ZUuiyn9t1332Hfvn3Ys2eP0qU0GTExMVixYgXatWuHzMxMzJo1C/369cPhw4fh6+urdHl2xyBERDUaP348Dh8+3KT7CDSWdu3aITU1FUajEf/9738xatQobNu2jWHoNp07dw4TJ05EYmIiPDw8lC6nyRgyZIj8vGvXroiJiUFUVBRWrVrVJC/jMgg1osDAQKjVamRlZdmsz8rKQmhoqEJVEd3chAkTsG7dOmzfvh0tWrRQuhynp9Fo0KZNGwBAr169sGfPHixcuBAff/yxwpU5p5SUFGRnZ6Nnz57yuvLycmzfvh0fffQRiouLoVarFaywafDz80Pbtm1x8uRJpUtpEOwj1Ig0Gg169eqFpKQkeZ3ZbEZSUhL7CZBDEUJgwoQJWLNmDTZv3ozo6GilS2qSzGYziouLlS7DaQ0cOBCHDh1CamqqvPTu3RsjRoxAamoqQ5Cd5Ofn49SpUwgLC1O6lAbBM0KNbPLkyRg1ahR69+6NPn36YMGCBSgoKMDo0aOVLs1p5efn2/w/lfT0dKSmpiIgIACRkZEKVua8xo8fj2+++QY//PADfH19YTAYAAB6vR6enp4KV+ecpk6diiFDhiAyMhJ5eXn45ptvsHXrVmzatEnp0pyWr69vlX5r3t7eaNasGfuz1cNrr72GBx54AFFRUbh48SJmzJgBtVqNYcOGKV1ag2AQamRPPvkkLl26hOnTp8NgMKB79+7YuHFjlQ7UVHt79+7FgAED5NeTJ08GAIwaNQorVqxQqCrntnTpUgDAfffdZ7N++fLleOaZZxq/oCYgOzsbI0eORGZmJvR6Pbp27YpNmzbhT3/6k9KlEdk4f/48hg0bhitXriAoKAh9+/bFzp07ERQUpHRpDYLzCBEREZHLYh8hIiIiclkMQkREROSyGISIiIjIZTEIERERkctiECIiIiKXxSBERERELotBiIiIiFwWgxARERHVaPv27XjggQcQHh4OSZKwdu1axY8nhMD06dMRFhYGT09PxMXF4cSJE3U+FoMQERER1aigoADdunXD4sWLHeZ4c+fOxaJFi7Bs2TLs2rUL3t7eiI+PR1FRUZ2OxZmliYiIqNYkScKaNWswdOhQeV1xcTH+8Y9/4Ntvv0Vubi46d+6M9957r8pteux1PCEEwsPD8eqrr+K1114DABiNRoSEhGDFihV46qmnar1/nhEiIiKiepkwYQKSk5Px3Xff4eDBg3j88ccxePDg27pUVRvp6ekwGAyIi4uT1+n1esTExCA5OblO+2IQIiIiotuWkZGB5cuXY/Xq1ejXrx9at26N1157DX379sXy5csb5JgGgwEAqtywPCQkRN5WWwxCREREdNsOHTqE8vJytG3bFj4+PvKybds2nDp1CgBw/PhxSJJU4/Lmm28qUr+bIkclIiKiJiE/Px9qtRopKSlQq9U223x8fAAArVq1wrFjx2rcT7NmzWp9zNDQUABAVlYWwsLC5PVZWVno3r17rfcDMAgRERFRPfTo0QPl5eXIzs5Gv379qm2j0WjQvn17ux0zOjoaoaGhSEpKkoOPyWTCrl27MG7cuDrti0GIiIiIapSfn4+TJ0/Kr9PT05GamoqAgAC0bdsWI0aMwMiRIzF//nz06NEDly5dQlJSErp27YqEhAS7Hi8yMhKSJGHSpEl45513cMcddyA6OhrTpk1DeHi4zeiy2uDweSIiIqrR1q1bMWDAgCrrR40ahRUrVqC0tBTvvPMOvvzyS1y4cAGBgYG46667MGvWLHTp0sXuxwMsQ+hnzJiBTz75BLm5uejbty+WLFmCtm3b1ulYDEJERETksjhqjIiIiFwWgxARERG5LAYhIiIiclkMQkREROSyGISIiIjIZTEIERERkctiECIiIiKXxSBERERELotBiIiIiFwWgxARERG5LAYhIiIiclkMQkREROSy/j+2xZKuD1IDugAAAABJRU5ErkJggg==\n"
                },
                "metadata": {}
              }
            ]
          }
        },
        "53f6d3d6ec584ac88d40efbb5bd1c50d": {
          "model_module": "@jupyter-widgets/base",
          "model_name": "LayoutModel",
          "model_module_version": "1.2.0",
          "state": {
            "_model_module": "@jupyter-widgets/base",
            "_model_module_version": "1.2.0",
            "_model_name": "LayoutModel",
            "_view_count": null,
            "_view_module": "@jupyter-widgets/base",
            "_view_module_version": "1.2.0",
            "_view_name": "LayoutView",
            "align_content": null,
            "align_items": null,
            "align_self": null,
            "border": null,
            "bottom": null,
            "display": null,
            "flex": null,
            "flex_flow": null,
            "grid_area": null,
            "grid_auto_columns": null,
            "grid_auto_flow": null,
            "grid_auto_rows": null,
            "grid_column": null,
            "grid_gap": null,
            "grid_row": null,
            "grid_template_areas": null,
            "grid_template_columns": null,
            "grid_template_rows": null,
            "height": null,
            "justify_content": null,
            "justify_items": null,
            "left": null,
            "margin": null,
            "max_height": null,
            "max_width": null,
            "min_height": null,
            "min_width": null,
            "object_fit": null,
            "object_position": null,
            "order": null,
            "overflow": null,
            "overflow_x": null,
            "overflow_y": null,
            "padding": null,
            "right": null,
            "top": null,
            "visibility": null,
            "width": null
          }
        },
        "ba2d1523b9a84952a80fa79a1c80096f": {
          "model_module": "@jupyter-widgets/base",
          "model_name": "LayoutModel",
          "model_module_version": "1.2.0",
          "state": {
            "_model_module": "@jupyter-widgets/base",
            "_model_module_version": "1.2.0",
            "_model_name": "LayoutModel",
            "_view_count": null,
            "_view_module": "@jupyter-widgets/base",
            "_view_module_version": "1.2.0",
            "_view_name": "LayoutView",
            "align_content": null,
            "align_items": null,
            "align_self": null,
            "border": null,
            "bottom": null,
            "display": null,
            "flex": null,
            "flex_flow": null,
            "grid_area": null,
            "grid_auto_columns": null,
            "grid_auto_flow": null,
            "grid_auto_rows": null,
            "grid_column": null,
            "grid_gap": null,
            "grid_row": null,
            "grid_template_areas": null,
            "grid_template_columns": null,
            "grid_template_rows": null,
            "height": null,
            "justify_content": null,
            "justify_items": null,
            "left": null,
            "margin": null,
            "max_height": null,
            "max_width": null,
            "min_height": null,
            "min_width": null,
            "object_fit": null,
            "object_position": null,
            "order": null,
            "overflow": null,
            "overflow_x": null,
            "overflow_y": null,
            "padding": null,
            "right": null,
            "top": null,
            "visibility": null,
            "width": null
          }
        },
        "4c6f20f3697a4daa82a0199571ea4958": {
          "model_module": "@jupyter-widgets/controls",
          "model_name": "SliderStyleModel",
          "model_module_version": "1.5.0",
          "state": {
            "_model_module": "@jupyter-widgets/controls",
            "_model_module_version": "1.5.0",
            "_model_name": "SliderStyleModel",
            "_view_count": null,
            "_view_module": "@jupyter-widgets/base",
            "_view_module_version": "1.2.0",
            "_view_name": "StyleView",
            "description_width": "",
            "handle_color": null
          }
        },
        "4d5ff78334ad4bf2a3632139ab1556be": {
          "model_module": "@jupyter-widgets/base",
          "model_name": "LayoutModel",
          "model_module_version": "1.2.0",
          "state": {
            "_model_module": "@jupyter-widgets/base",
            "_model_module_version": "1.2.0",
            "_model_name": "LayoutModel",
            "_view_count": null,
            "_view_module": "@jupyter-widgets/base",
            "_view_module_version": "1.2.0",
            "_view_name": "LayoutView",
            "align_content": null,
            "align_items": null,
            "align_self": null,
            "border": null,
            "bottom": null,
            "display": null,
            "flex": null,
            "flex_flow": null,
            "grid_area": null,
            "grid_auto_columns": null,
            "grid_auto_flow": null,
            "grid_auto_rows": null,
            "grid_column": null,
            "grid_gap": null,
            "grid_row": null,
            "grid_template_areas": null,
            "grid_template_columns": null,
            "grid_template_rows": null,
            "height": null,
            "justify_content": null,
            "justify_items": null,
            "left": null,
            "margin": null,
            "max_height": null,
            "max_width": null,
            "min_height": null,
            "min_width": null,
            "object_fit": null,
            "object_position": null,
            "order": null,
            "overflow": null,
            "overflow_x": null,
            "overflow_y": null,
            "padding": null,
            "right": null,
            "top": null,
            "visibility": null,
            "width": null
          }
        },
        "1f3c5844129947729f495eb66eb205a7": {
          "model_module": "@jupyter-widgets/controls",
          "model_name": "VBoxModel",
          "model_module_version": "1.5.0",
          "state": {
            "_dom_classes": [
              "widget-interact"
            ],
            "_model_module": "@jupyter-widgets/controls",
            "_model_module_version": "1.5.0",
            "_model_name": "VBoxModel",
            "_view_count": null,
            "_view_module": "@jupyter-widgets/controls",
            "_view_module_version": "1.5.0",
            "_view_name": "VBoxView",
            "box_style": "",
            "children": [
              "IPY_MODEL_ad91b58893c94f038d0999b61bd7d360",
              "IPY_MODEL_1b58ab1e7f3646ec849b2144efed89e3"
            ],
            "layout": "IPY_MODEL_d4b099e3af1847228844272858485fd7"
          }
        },
        "ad91b58893c94f038d0999b61bd7d360": {
          "model_module": "@jupyter-widgets/controls",
          "model_name": "FloatSliderModel",
          "model_module_version": "1.5.0",
          "state": {
            "_dom_classes": [],
            "_model_module": "@jupyter-widgets/controls",
            "_model_module_version": "1.5.0",
            "_model_name": "FloatSliderModel",
            "_view_count": null,
            "_view_module": "@jupyter-widgets/controls",
            "_view_module_version": "1.5.0",
            "_view_name": "FloatSliderView",
            "continuous_update": true,
            "description": "c_1",
            "description_tooltip": null,
            "disabled": false,
            "layout": "IPY_MODEL_89f39fc2fcd44e65b73a07db4cecdd62",
            "max": 5.477225575051661,
            "min": 0,
            "orientation": "horizontal",
            "readout": true,
            "readout_format": ".2f",
            "step": 0.1,
            "style": "IPY_MODEL_f1894aaceb254d839adee79d401e8835",
            "value": 1.1
          }
        },
        "1b58ab1e7f3646ec849b2144efed89e3": {
          "model_module": "@jupyter-widgets/output",
          "model_name": "OutputModel",
          "model_module_version": "1.0.0",
          "state": {
            "_dom_classes": [],
            "_model_module": "@jupyter-widgets/output",
            "_model_module_version": "1.0.0",
            "_model_name": "OutputModel",
            "_view_count": null,
            "_view_module": "@jupyter-widgets/output",
            "_view_module_version": "1.0.0",
            "_view_name": "OutputView",
            "layout": "IPY_MODEL_8c405ef3f57b4b9d93f2e748a07bb992",
            "msg_id": "",
            "outputs": [
              {
                "output_type": "display_data",
                "data": {
                  "text/plain": "<Figure size 640x480 with 1 Axes>",
                  "image/png": "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\n"
                },
                "metadata": {}
              },
              {
                "output_type": "stream",
                "name": "stdout",
                "text": [
                  "c_2: \t20.132\n",
                  "E: \t5.53757 hbar**2/m\n",
                  "E_o: \t4.93480 hbar**2/m\n"
                ]
              }
            ]
          }
        },
        "d4b099e3af1847228844272858485fd7": {
          "model_module": "@jupyter-widgets/base",
          "model_name": "LayoutModel",
          "model_module_version": "1.2.0",
          "state": {
            "_model_module": "@jupyter-widgets/base",
            "_model_module_version": "1.2.0",
            "_model_name": "LayoutModel",
            "_view_count": null,
            "_view_module": "@jupyter-widgets/base",
            "_view_module_version": "1.2.0",
            "_view_name": "LayoutView",
            "align_content": null,
            "align_items": null,
            "align_self": null,
            "border": null,
            "bottom": null,
            "display": null,
            "flex": null,
            "flex_flow": null,
            "grid_area": null,
            "grid_auto_columns": null,
            "grid_auto_flow": null,
            "grid_auto_rows": null,
            "grid_column": null,
            "grid_gap": null,
            "grid_row": null,
            "grid_template_areas": null,
            "grid_template_columns": null,
            "grid_template_rows": null,
            "height": null,
            "justify_content": null,
            "justify_items": null,
            "left": null,
            "margin": null,
            "max_height": null,
            "max_width": null,
            "min_height": null,
            "min_width": null,
            "object_fit": null,
            "object_position": null,
            "order": null,
            "overflow": null,
            "overflow_x": null,
            "overflow_y": null,
            "padding": null,
            "right": null,
            "top": null,
            "visibility": null,
            "width": null
          }
        },
        "89f39fc2fcd44e65b73a07db4cecdd62": {
          "model_module": "@jupyter-widgets/base",
          "model_name": "LayoutModel",
          "model_module_version": "1.2.0",
          "state": {
            "_model_module": "@jupyter-widgets/base",
            "_model_module_version": "1.2.0",
            "_model_name": "LayoutModel",
            "_view_count": null,
            "_view_module": "@jupyter-widgets/base",
            "_view_module_version": "1.2.0",
            "_view_name": "LayoutView",
            "align_content": null,
            "align_items": null,
            "align_self": null,
            "border": null,
            "bottom": null,
            "display": null,
            "flex": null,
            "flex_flow": null,
            "grid_area": null,
            "grid_auto_columns": null,
            "grid_auto_flow": null,
            "grid_auto_rows": null,
            "grid_column": null,
            "grid_gap": null,
            "grid_row": null,
            "grid_template_areas": null,
            "grid_template_columns": null,
            "grid_template_rows": null,
            "height": null,
            "justify_content": null,
            "justify_items": null,
            "left": null,
            "margin": null,
            "max_height": null,
            "max_width": null,
            "min_height": null,
            "min_width": null,
            "object_fit": null,
            "object_position": null,
            "order": null,
            "overflow": null,
            "overflow_x": null,
            "overflow_y": null,
            "padding": null,
            "right": null,
            "top": null,
            "visibility": null,
            "width": null
          }
        },
        "f1894aaceb254d839adee79d401e8835": {
          "model_module": "@jupyter-widgets/controls",
          "model_name": "SliderStyleModel",
          "model_module_version": "1.5.0",
          "state": {
            "_model_module": "@jupyter-widgets/controls",
            "_model_module_version": "1.5.0",
            "_model_name": "SliderStyleModel",
            "_view_count": null,
            "_view_module": "@jupyter-widgets/base",
            "_view_module_version": "1.2.0",
            "_view_name": "StyleView",
            "description_width": "",
            "handle_color": null
          }
        },
        "8c405ef3f57b4b9d93f2e748a07bb992": {
          "model_module": "@jupyter-widgets/base",
          "model_name": "LayoutModel",
          "model_module_version": "1.2.0",
          "state": {
            "_model_module": "@jupyter-widgets/base",
            "_model_module_version": "1.2.0",
            "_model_name": "LayoutModel",
            "_view_count": null,
            "_view_module": "@jupyter-widgets/base",
            "_view_module_version": "1.2.0",
            "_view_name": "LayoutView",
            "align_content": null,
            "align_items": null,
            "align_self": null,
            "border": null,
            "bottom": null,
            "display": null,
            "flex": null,
            "flex_flow": null,
            "grid_area": null,
            "grid_auto_columns": null,
            "grid_auto_flow": null,
            "grid_auto_rows": null,
            "grid_column": null,
            "grid_gap": null,
            "grid_row": null,
            "grid_template_areas": null,
            "grid_template_columns": null,
            "grid_template_rows": null,
            "height": null,
            "justify_content": null,
            "justify_items": null,
            "left": null,
            "margin": null,
            "max_height": null,
            "max_width": null,
            "min_height": null,
            "min_width": null,
            "object_fit": null,
            "object_position": null,
            "order": null,
            "overflow": null,
            "overflow_x": null,
            "overflow_y": null,
            "padding": null,
            "right": null,
            "top": null,
            "visibility": null,
            "width": null
          }
        }
      }
    }
  },
  "nbformat": 4,
  "nbformat_minor": 0
}