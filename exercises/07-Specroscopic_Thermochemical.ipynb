{
  "cells": [
    {
      "cell_type": "markdown",
      "metadata": {
        "id": "cI7nGHSKkBOK"
      },
      "source": [
        "# Computing Spectroscopic and Thermochemical Properties\n",
        "\n",
        "This exercise is based on Lab 7 of [Computational Chemistry for Chemistry Educators](http://www.computationalscience.org/ccce/about/labs/labs.php). We will use computational quantum chemistry to calculate infrared spectra and also a reaction enthalpy and Gibbs energy. It is also possible to calculate UV/Vis and NMR spectra, but we will not work on those."
      ]
    },
    {
      "cell_type": "markdown",
      "metadata": {
        "id": "gGuaQW5-RKND"
      },
      "source": [
        "# Part 0 - Setting up the appropriate software"
      ]
    },
    {
      "cell_type": "code",
      "execution_count": null,
      "metadata": {
        "cellView": "form",
        "id": "WNVelFW1aGkr"
      },
      "outputs": [],
      "source": [
        "#@title Install packages with pip\n",
        "#@markdown pyscf (Python-based Simulations of Chemistry Framework), for QM electronic structure calculation \\\\\n",
        "#@markdown jsme_notebook, to sketch structures \\\\\n",
        "#@markdown pyberny, for optimization \\\\\n",
        "#@markdown geometric, for optimization \\\\\n",
        "#@markdown condacolab, to install other packages \\\\\n",
        "#@markdown\n",
        "#@markdown Installing condacolab will restart the kernel and you can continue with the next cell.\n",
        "\n",
        "!pip install pyscf\n",
        "!pip install git+https://github.com/pyscf/properties\n",
        "!pip install -U pyberny\n",
        "!pip install geometric\n",
        "!pip install jsme_notebook\n",
        "\n",
        "try:\n",
        "    import google.colab\n",
        "    !pip install condacolab\n",
        "    import condacolab\n",
        "    condacolab.install_mambaforge()\n",
        "except ModuleNotFoundError:\n",
        "    pass"
      ]
    },
    {
      "cell_type": "code",
      "execution_count": null,
      "metadata": {
        "cellView": "form",
        "id": "65Gne_t9aPu2"
      },
      "outputs": [],
      "source": [
        "#@title Install packages with conda\n",
        "#@markdown rdkit, to generate initial structures from SMILES strings \\\\\n",
        "#@markdown py3Dmol, for visualization of structures \\\\\n",
        "\n",
        "try:\n",
        "    import condacolab\n",
        "    condacolab.check()\n",
        "    !mamba install --yes -c conda-forge rdkit py3Dmol\n",
        "except ModuleNotFoundError:\n",
        "    on_colab = False\n",
        "else:\n",
        "    #check if installation was succesful\n",
        "    try:\n",
        "        import rdkit\n",
        "        on_colab = True\n",
        "        from IPython.display import clear_output\n",
        "        clear_output()  # clear the excessive installation outputs\n",
        "        print(\"Dependencies successfully installed!\")\n",
        "    except ModuleNotFoundError:\n",
        "        print(\"Error while installing dependencies!\")"
      ]
    },
    {
      "cell_type": "markdown",
      "source": [
        "## Import packages"
      ],
      "metadata": {
        "id": "BO3tNeC7LZJv"
      }
    },
    {
      "cell_type": "code",
      "source": [
        "from rdkit import Chem\n",
        "from rdkit.Chem import AllChem\n",
        "\n",
        "from pyscf import gto, scf, dft\n",
        "from pyscf.geomopt.berny_solver import optimize\n",
        "from pyscf import hessian\n",
        "from pyscf.hessian import thermo\n",
        "from pyscf.prop import infrared\n",
        "\n",
        "import py3Dmol\n",
        "\n",
        "import ipywidgets as widgets\n",
        "from ipywidgets import interact"
      ],
      "metadata": {
        "id": "bgF1RI6LG4pc"
      },
      "execution_count": null,
      "outputs": []
    },
    {
      "cell_type": "markdown",
      "source": [
        "# SMILES string tool"
      ],
      "metadata": {
        "id": "Qhn7f0Y33YjG"
      }
    },
    {
      "cell_type": "code",
      "source": [
        "#@title You may use this widget to draw a molecule to get the SMILES string\n",
        "from jsme_notebook import JSMENotebook\n",
        "smiles = 'CCO'\n",
        "jsme = JSMENotebook(smiles)"
      ],
      "metadata": {
        "id": "g_14A2DRMoMK",
        "cellView": "form"
      },
      "execution_count": null,
      "outputs": []
    },
    {
      "cell_type": "code",
      "source": [
        "#@title Run cell to generate SMILES code from cell above\n",
        "jsme.smiles"
      ],
      "metadata": {
        "id": "i4EP3exWOTc3",
        "cellView": "form"
      },
      "execution_count": null,
      "outputs": []
    },
    {
      "cell_type": "markdown",
      "metadata": {
        "id": "kJ_NBQ6jKooY"
      },
      "source": [
        "# Part 1 - Infrared Spectrum of Formaldehyde\n",
        "\n",
        "In this part, we will calculate an infrared spectrum of formaldehyde. A clear introduction to the theory of infrared spectroscopy is on [libretexts](https://chem.libretexts.org/Bookshelves/Physical_and_Theoretical_Chemistry_Textbook_Maps/Supplemental_Modules_(Physical_and_Theoretical_Chemistry)/Spectroscopy/Vibrational_Spectroscopy/Infrared_Spectroscopy/Infrared_Spectroscopy)."
      ]
    },
    {
      "cell_type": "markdown",
      "source": [
        "## Building and minimizing the molecule\n",
        "\n",
        "--> In the following cell, write code that will use rkdit and PySCF to build and minimize a model of formaldehyde and print out its energy. Use the restricted-shell Hartree-Fock level of theory and STO-3G or 6-31G* basis set. You may copy code and edit from other exercises. At the end of the cell, you should have (at least) two variables defined: `gto_mol_min: pyscf.gto.mole.Mole` and `mf_min: pyscf.scf.hf.RHF`."
      ],
      "metadata": {
        "id": "Zav635utLTkS"
      }
    },
    {
      "cell_type": "markdown",
      "source": [
        "The following code will take `gto_min_mol` and `mf` and perform an additional minimization with DFT. Only run this cell block if you actually want to run DFT."
      ],
      "metadata": {
        "id": "cwH4YNPRGn47"
      }
    },
    {
      "cell_type": "code",
      "source": [
        "mf = dft.RKS(gto_mol_min)\n",
        "mf.xc = 'b3lyp'\n",
        "gto_mol_min = optimize(mf)\n",
        "mf_min = scf.RHF(gto_mol_min).run()\n",
        "print(f'DFT energy: {mf_min.e_tot} Hartrees')"
      ],
      "metadata": {
        "id": "65FxplgdBJ-2"
      },
      "execution_count": null,
      "outputs": []
    },
    {
      "cell_type": "markdown",
      "source": [
        "## Harmonic analysis\n",
        "\n",
        "The prediction of peaks in infrared spectra is based on assuming that the energy landscape is harmonic around the minumum. The Hessian is a matrix of second derivatives that leads to a set of spring constants for the *normal modes*. The following code calculates the normal modes and shows results.\n",
        "\n",
        "Some sources with more detail are the [Guassian manual](https://gaussian.com/vib/) and [echem book](https://kthpanor.github.io/echem/docs/mol_struct/vibrations.html).\n"
      ],
      "metadata": {
        "id": "ns29RwPr8tNi"
      }
    },
    {
      "cell_type": "code",
      "source": [
        "hess = hessian.RHF(mf_min).kernel()\n",
        "harmonic_analysis_results = thermo.harmonic_analysis(gto_mol_min, hess)\n",
        "thermo.dump_normal_mode(gto_mol_min, harmonic_analysis_results)"
      ],
      "metadata": {
        "id": "t9ZnkwS29s_L"
      },
      "execution_count": null,
      "outputs": []
    },
    {
      "cell_type": "markdown",
      "source": [
        "The following code visualizes each normal mode."
      ],
      "metadata": {
        "id": "m_wKJqmjAYvn"
      }
    },
    {
      "cell_type": "code",
      "source": [
        "harmonic_analysis_results = thermo.harmonic_analysis(gto_mol_min, hess)\n",
        "\n",
        "def draw_normal_mode(mode=0):\n",
        "  lines = [f\"{xyz}{dxyz[0]:15.5f}{dxyz[1]:15.5f}{dxyz[2]:15.5f}\" \\\n",
        "    for (xyz, dxyz) in zip(gto_mol_min.tostring('raw').split('\\n'), \\\n",
        "                           harmonic_analysis_results['norm_mode'][mode])]\n",
        "  xyz = f'{len(lines)}\\nXYZ from PySCF\\n' + '\\n'.join(lines)\n",
        "\n",
        "  print(f\"Frequency: {harmonic_analysis_results['freq_wavenumber'][mode]:.2f} cm^{-1}\")\n",
        "\n",
        "  v = py3Dmol.view()\n",
        "  v.addModel(xyz, \"xyz\", {'vibrate': {'frames':15,'amplitude':1}})\n",
        "  v.setStyle({'stick':{}})\n",
        "  v.animate({'loop': 'backAndForth'})\n",
        "  v.zoomTo()\n",
        "  v.show()\n",
        "\n",
        "interact(draw_normal_mode, \\\n",
        "  mode = widgets.IntSlider(min=0, max=len(harmonic_analysis_results['norm_mode'])-1, \\\n",
        "                           value=0, description='Mode'));"
      ],
      "metadata": {
        "id": "y6VUpXjUBdvd"
      },
      "execution_count": null,
      "outputs": []
    },
    {
      "cell_type": "markdown",
      "source": [
        "--> Which mode number (0-5) is best described as a symmetric stretch of the H atoms?"
      ],
      "metadata": {
        "id": "i1e5T9JmIZrq"
      }
    },
    {
      "cell_type": "markdown",
      "source": [
        "IR spectra have peaks, intensities, and broadening. Peaks from harmonic analysis [may be empirically scaled](https://cccbdb.nist.gov/vibnotesx.asp) due to approximation in the theoretical method and basis set and due to anharmonicity. The intensity of IR peaks is computed based on the change in dipole moment as a result of the vibration that occurs when IR radiation is absorbed. Rotational energies provide broadening. The code below will compute complete spectra."
      ],
      "metadata": {
        "id": "00N0DaQIQ0sj"
      }
    },
    {
      "cell_type": "code",
      "source": [
        "mf_ir = infrared.rhf.Infrared(mf_min).run()\n",
        "\n",
        "fig, ax, ax2 = mf_ir.plot_ir(w=100, scale=1)\n",
        "ax.set_title(r\"Calculated Infrared Spectra\")\n",
        "fig.tight_layout()\n",
        "fig.show()\n",
        "\n",
        "mf_ir.summary()"
      ],
      "metadata": {
        "id": "u3-JqYGVOACy"
      },
      "execution_count": null,
      "outputs": []
    },
    {
      "cell_type": "markdown",
      "source": [
        "--> Complete the table below.\n",
        "\n",
        "| HF STO-3G  | HF 6-31G* | DFT B3LYP 6-31G* | Reported |\n",
        "| ---------- | --------- | ---------------- | -------- |\n",
        "|            |           |                  | 1167     |\n",
        "|            |           |                  | 1249     |\n",
        "|            |           |                  | 1500     |\n",
        "|            |           |                  | 1746     |\n",
        "|            |           |                  | 2782     |\n",
        "|            |           |                  | 2843     |"
      ],
      "metadata": {
        "id": "_wariYUfJztA"
      }
    },
    {
      "cell_type": "markdown",
      "source": [
        "# Part 2 - Thermodynamic Properties of an Isodesmic Reaction\n",
        "\n",
        "We will compute the enthalpy and Gibbs free energy of this isodesmic reaction:\n",
        "![image.png](data:image/png;base64,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).\n",
        "\n",
        "An isodesmic reaction is one in which the total number of each type of chemical bond is the same in both reactants and products. Because of this equality in bond type, results of calculations using such a reaction should benefit from cancellation of errors."
      ],
      "metadata": {
        "id": "1pIcWERlMNxq"
      }
    },
    {
      "cell_type": "markdown",
      "source": [
        "## Building and minimizing the molecule\n",
        "\n",
        "--> In the following cell, write code that will use rkdit and PySCF to build and minimize a model of acetone (`CC(=O)C`), methane (`C`), acetaldehyde (`CC=O`), or ethane (`CC`) and print out its energy. Use the restricted-shell Hartree-Fock level of theory and STO-3G or 6-31G* basis set. You may copy code and edit from other exercises. At the end of the cell, you should have (at least) two variables defined: `gto_mol_min: pyscf.gto.mole.Mole` and `mf_min: pyscf.scf.hf.RHF`."
      ],
      "metadata": {
        "id": "YQ6ULllcNmIG"
      }
    },
    {
      "cell_type": "markdown",
      "source": [
        "The following code will take `gto_min_mol` and `mf` and perform an additional minimization with DFT. Only run this cell block if you actually want to run DFT."
      ],
      "metadata": {
        "id": "1iANevypNem9"
      }
    },
    {
      "cell_type": "code",
      "source": [
        "mf = dft.RKS(gto_mol_min)\n",
        "mf.xc = 'b3lyp'\n",
        "gto_mol_min = optimize(mf)\n",
        "mf_min = scf.RHF(gto_mol_min).run()\n",
        "print(f'DFT energy: {mf_min.e_tot} Hartrees')"
      ],
      "metadata": {
        "id": "u41w0ltxNem9"
      },
      "execution_count": null,
      "outputs": []
    },
    {
      "cell_type": "markdown",
      "source": [
        "## Harmonic analysis\n",
        "\n",
        "Besides predicting the normal modes and peaks in infrared spectra, harmonic analysis can also be used to estimate thermodynamic properties."
      ],
      "metadata": {
        "id": "c2HWmrqoNem9"
      }
    },
    {
      "cell_type": "code",
      "source": [
        "hess = hessian.RHF(mf_min).kernel()\n",
        "harmonic_analysis_results = thermo.harmonic_analysis(gto_mol_min, hess)\n",
        "thermo_results = thermo.thermo(mf_min, harmonic_analysis_results['freq_au'], 298.15, 101325)\n",
        "thermo.dump_thermo(gto_mol_min, thermo_results)"
      ],
      "metadata": {
        "id": "4kdX0AfqNem9"
      },
      "execution_count": null,
      "outputs": []
    },
    {
      "cell_type": "markdown",
      "source": [
        "--> Complete the table below for the enthalpy (in kJ/mol). For DFT B3LYP use the 6-31G* basis set.\n",
        "\n",
        " |              | HF 6-31G* | DFT B3LYP |\n",
        " | ------------ | --------- | --------- |\n",
        " | Acetone      |           |           |\n",
        " | Methane      |           |           |\n",
        " | Acetaldehyde |           |           |\n",
        " | Ethane       |           |           |\n",
        " | $\\Delta H_r$ |           |           |\n",
        "\n",
        "--> Complete the table below for the Gibbs free energy (in kJ/mol). For DFT B3LYP use the 6-31G* basis set.\n",
        "\n",
        " |              | HF 6-31G* | DFT B3LYP |\n",
        " | ------------ | --------- | --------- |\n",
        " | Acetone      |           |           |\n",
        " | Methane      |           |           |\n",
        " | Acetaldehyde |           |           |\n",
        " | Ethane       |           |           |\n",
        " | $\\Delta G_r$ |           |           |\n",
        "\n",
        "--> Is the reaction predicted to be spontaneous?"
      ],
      "metadata": {
        "id": "ZViwDrCOQ9hX"
      }
    }
  ],
  "metadata": {
    "colab": {
      "toc_visible": true,
      "provenance": []
    },
    "kernelspec": {
      "display_name": "Python 3",
      "name": "python3"
    },
    "language_info": {
      "name": "python"
    }
  },
  "nbformat": 4,
  "nbformat_minor": 0
}