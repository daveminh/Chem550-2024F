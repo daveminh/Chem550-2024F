{
  "cells": [
    {
      "cell_type": "code",
      "source": [
        "import numpy as np\n",
        "import scipy\n",
        "\n",
        "import matplotlib.pyplot as plt\n",
        "import matplotlib as mpl\n",
        "\n",
        "from ipywidgets import interact, interactive, fixed, interact_manual\n",
        "\n",
        "## Numerical derivatives and Hamiltonian\n",
        "h = 1E-7\n",
        "dfdx = lambda f, x: (f(x + h) - f(x - h))/(2*h)\n",
        "d2fdx2 = lambda f, x: (f(x + h) - 2*f(x) + f(x - h))/(h*h)"
      ],
      "metadata": {
        "id": "BErnZSxCcGt8"
      },
      "execution_count": 1,
      "outputs": []
    },
    {
      "cell_type": "markdown",
      "source": [
        "# Variation Theory Demonstration"
      ],
      "metadata": {
        "id": "Q-SZexJA9w2B"
      }
    },
    {
      "cell_type": "code",
      "source": [
        "# Wavefunctions\n",
        "Ψ_g = lambda ρ: np.exp(-ρ/2)\n",
        "Ψ_t = lambda ρ, α: np.exp(-α*ρ*ρ)\n",
        "\n",
        "R = 10\n",
        "ρ = np.linspace(0,R,100)\n",
        "\n",
        "S_g = scipy.integrate.quad(lambda x:Ψ_g(x)*Ψ_g(x), 0, R)[0]\n",
        "\n",
        "def render(α):\n",
        "  S_t = scipy.integrate.quad(lambda x:Ψ_t(x, α)*Ψ_t(x, α), 0, R)[0]\n",
        "\n",
        "  plt.figure(1)\n",
        "  plt.plot(ρ, Ψ_g(ρ)/np.sqrt(S_g))\n",
        "  plt.plot(ρ, Ψ_t(ρ, α)/np.sqrt(S_t))\n",
        "  plt.legend(['Ground state', 'Ψ$_t$'])\n",
        "  plt.show()\n",
        "\n",
        "interactive(render, α=(0.1, 1))"
      ],
      "metadata": {
        "colab": {
          "base_uri": "https://localhost:8080/",
          "height": 462,
          "referenced_widgets": [
            "fa635610798a40099e02f3e27dbda143",
            "b9077a9e3cd748279947c2ba9bc11aa2",
            "52b170e7dae24d0f8300e6c0fd0eacce",
            "f51e8c07e3bc4cd0ae6f1f43aaae56dd",
            "2aa8cdfc96e4497fb945049a0e9e7694",
            "1a3cd7c08ab74f99815599369b674740",
            "6a602365105c4e048ce752ce16d82915"
          ]
        },
        "id": "UgEDswLf90Vo",
        "outputId": "4461e565-3a2f-4566-f515-ce59c7692c57"
      },
      "execution_count": 13,
      "outputs": [
        {
          "output_type": "display_data",
          "data": {
            "text/plain": [
              "interactive(children=(FloatSlider(value=0.55, description='α', max=1.0, min=0.1), Output()), _dom_classes=('wi…"
            ],
            "application/vnd.jupyter.widget-view+json": {
              "version_major": 2,
              "version_minor": 0,
              "model_id": "fa635610798a40099e02f3e27dbda143"
            }
          },
          "metadata": {}
        }
      ]
    },
    {
      "cell_type": "markdown",
      "source": [
        "# Rayleigh-Ritz Demonstration"
      ],
      "metadata": {
        "id": "neurhoux1AGV"
      }
    },
    {
      "cell_type": "markdown",
      "source": [
        "We will approximate the ground state of a particle in a box using a test wavefunction that is the linear combination of two arbitrary functions. First, manually adjust the coefficient that the wavefunctions are multiplied by."
      ],
      "metadata": {
        "id": "y0Nw8Nvs8d6-"
      }
    },
    {
      "cell_type": "code",
      "source": [
        "# Constants\n",
        "# n = 1\n",
        "# hbar = 1.05457160E-34 # J.s\n",
        "# m = 9.10938E-31 kg, for an electron\n",
        "# E_o = n**2*np.pi**2*hbar**2/(2*m*L**2)\n",
        "L = 1 # m\n",
        "\n",
        "E_o = np.pi**2/2\n",
        "\n",
        "# Wavefunctions\n",
        "Ψ_g = lambda x: np.sqrt(2/L)*np.sin(np.pi*x/L)\n",
        "Ψ_1 = lambda x: x*(1-x)\n",
        "Ψ_2 = lambda x: x**2*(1-x)**2\n",
        "\n",
        "# Matrix elements\n",
        "## Overlap integrals\n",
        "S_11 = scipy.integrate.quad(lambda x:Ψ_1(x)*Ψ_1(x), 0, L)[0]\n",
        "S_12 = scipy.integrate.quad(lambda x:Ψ_1(x)*Ψ_2(x), 0, L)[0]\n",
        "S_22 = scipy.integrate.quad(lambda x:Ψ_2(x)*Ψ_2(x), 0, L)[0]\n",
        "\n",
        "## Hamiltonian\n",
        "H = lambda f, x: -d2fdx2(f, x)/2\n",
        "H_11 = scipy.integrate.quad(lambda x:Ψ_1(x)*H(Ψ_1,x), 0, L, full_output=True)[0]\n",
        "H_12 = scipy.integrate.quad(lambda x:Ψ_1(x)*H(Ψ_2,x), 0, L, full_output=True)[0]\n",
        "H_22 = scipy.integrate.quad(lambda x:Ψ_2(x)*H(Ψ_2,x), 0, L, full_output=True)[0]\n",
        "\n",
        "x = np.linspace(0,L,100)\n",
        "\n",
        "def render(c_1):\n",
        "  # Solve for c_2 that normalizes the wavefunction\n",
        "  # S_22*c_2*c_2 + 2*c_1*S_12*c_2 + (c_1*c_1*S_11 - 1) = 0\n",
        "  a = S_22\n",
        "  b = 2*c_1*S_12\n",
        "  c = (c_1*c_1*S_11 - 1)\n",
        "  c_2 = (-b + np.sqrt(np.square(b) - 4*a*c))/(2*a)\n",
        "\n",
        "  E = c_1*c_1*H_11 + 2*c_1*c_2*H_12 + c_2*c_2*H_22\n",
        "\n",
        "  print(f'c_2: {c_2:.3f}')\n",
        "  print(f'E: {E:.5f} hbar**2/m')\n",
        "  print(f'E_o: {E_o:.5f} hbar**2/m')\n",
        "\n",
        "  plt.figure(1)\n",
        "  plt.plot(x, Ψ_g(x))\n",
        "  plt.plot(x, c_1*Ψ_1(x),'--')\n",
        "  plt.plot(x, c_2*Ψ_2(x),'--')\n",
        "  plt.plot(x, (c_1*Ψ_1(x) + c_2*Ψ_2(x)))\n",
        "  plt.legend(['Ground state', 'c$_1$*Ψ$_1$', 'c$_2$*Ψ$_2$', 'Ψ$_t$'])\n",
        "  plt.show()\n",
        "\n",
        "interactive(render, c_1=(0., np.sqrt(1/S_11)))"
      ],
      "metadata": {
        "colab": {
          "base_uri": "https://localhost:8080/",
          "height": 514,
          "referenced_widgets": [
            "2fbba3e06d5b4b06bbbd54079730c8ab",
            "52cb3879881046b8a2cabadb8f7eb11a",
            "250412f299ed4cdb8fa6a61a33788267",
            "33e57d4810fe4a4fb3afe63b392471bf",
            "d674298dcc324612a6dea32efb026877",
            "79ee5b247a8e4ea6b441da43c994d704",
            "5528e5aebee0472cbc09c35d9cbb729f"
          ]
        },
        "id": "-DKBdFr6axxB",
        "outputId": "3e395b29-fdfd-47c7-9d90-e52514fbd66d"
      },
      "execution_count": 2,
      "outputs": [
        {
          "output_type": "display_data",
          "data": {
            "text/plain": [
              "interactive(children=(FloatSlider(value=2.7386127875258306, description='c_1', max=5.477225575051661), Output(…"
            ],
            "application/vnd.jupyter.widget-view+json": {
              "version_major": 2,
              "version_minor": 0,
              "model_id": "2fbba3e06d5b4b06bbbd54079730c8ab"
            }
          },
          "metadata": {}
        }
      ]
    },
    {
      "cell_type": "markdown",
      "source": [
        "The code below finds and plots the optimal solution."
      ],
      "metadata": {
        "id": "H3rBIVzy89xz"
      }
    },
    {
      "cell_type": "code",
      "source": [
        "# det|H - ES|\n",
        "# = (H_11 - E*S_11)(H_22 - E*S_22) - (H_12 - E*S_12)**2\n",
        "#   H_11*H_22 - (H_22*S_11 + H_11*S_22)*E + S_12*S_22*E**2\n",
        "# -(H_12**2   - 2*H_12*S_12*E             + S_12*S_12*E**2)\n",
        "a = S_11*S_22 - S_12*S_12\n",
        "b = -H_22*S_11 - H_11*S_22 + 2*H_12*S_12\n",
        "c = H_11*H_22 - H_12*H_12\n",
        "E = (-b - np.sqrt(np.square(b) - 4*a*c))/(2*a)\n",
        "c2_over_c1 = -(H_11 - E*S_11)/(H_12 - E*S_12)\n",
        "c_1 = 1/np.sqrt((S_22*c2_over_c1*c2_over_c1 + 2*S_12*c2_over_c1 + S_11))\n",
        "c_2 = c2_over_c1*c_1\n",
        "\n",
        "print(f'E_o: {E_o:.5f} hbar**2/m')\n",
        "print(f'Optimal E: {E:0.5f} hbar**2/m')\n",
        "print(f'Optimal c_1: {c_1:0.5f}; c_2: {c_2:0.5f}')\n",
        "\n",
        "plt.plot(x, Ψ_g(x))\n",
        "plt.plot(x, (c_1*Ψ_1(x) + c_2*Ψ_2(x)))\n",
        "plt.legend(['Ground state', 'Ψ$_t$']);"
      ],
      "metadata": {
        "colab": {
          "base_uri": "https://localhost:8080/",
          "height": 482
        },
        "id": "2Evws-k01Oym",
        "outputId": "e8231294-6be2-4fd4-8d80-3633d93db10c"
      },
      "execution_count": 4,
      "outputs": [
        {
          "output_type": "stream",
          "name": "stdout",
          "text": [
            "E_o: 4.93480 hbar**2/m\n",
            "Optimal E: 4.93450 hbar**2/m\n",
            "Optimal c_1: 4.40227; c_2: 4.99835\n"
          ]
        },
        {
          "output_type": "display_data",
          "data": {
            "text/plain": [
              "<Figure size 640x480 with 1 Axes>"
            ],
            "image/png": "[encoded data removed]"
          },
          "metadata": {}
        }
      ]
    }
  ],
  "metadata": {
    "colab": {
      "provenance": []
    },
    "kernelspec": {
      "display_name": "Python 3",
      "name": "python3"
    },
    "widgets": {
      "application/vnd.jupyter.widget-state+json": {
        "fa635610798a40099e02f3e27dbda143": {
          "model_module": "@jupyter-widgets/controls",
          "model_name": "VBoxModel",
          "model_module_version": "1.5.0",
          "state": {
            "_dom_classes": [
              "widget-interact"
            ],
            "_model_module": "@jupyter-widgets/controls",
            "_model_module_version": "1.5.0",
            "_model_name": "VBoxModel",
            "_view_count": null,
            "_view_module": "@jupyter-widgets/controls",
            "_view_module_version": "1.5.0",
            "_view_name": "VBoxView",
            "box_style": "",
            "children": [
              "IPY_MODEL_b9077a9e3cd748279947c2ba9bc11aa2",
              "IPY_MODEL_52b170e7dae24d0f8300e6c0fd0eacce"
            ],
            "layout": "IPY_MODEL_f51e8c07e3bc4cd0ae6f1f43aaae56dd"
          }
        },
        "b9077a9e3cd748279947c2ba9bc11aa2": {
          "model_module": "@jupyter-widgets/controls",
          "model_name": "FloatSliderModel",
          "model_module_version": "1.5.0",
          "state": {
            "_dom_classes": [],
            "_model_module": "@jupyter-widgets/controls",
            "_model_module_version": "1.5.0",
            "_model_name": "FloatSliderModel",
            "_view_count": null,
            "_view_module": "@jupyter-widgets/controls",
            "_view_module_version": "1.5.0",
            "_view_name": "FloatSliderView",
            "continuous_update": true,
            "description": "α",
            "description_tooltip": null,
            "disabled": false,
            "layout": "IPY_MODEL_2aa8cdfc96e4497fb945049a0e9e7694",
            "max": 1,
            "min": 0.1,
            "orientation": "horizontal",
            "readout": true,
            "readout_format": ".2f",
            "step": 0.1,
            "style": "IPY_MODEL_1a3cd7c08ab74f99815599369b674740",
            "value": 0.1
          }
        },
        "52b170e7dae24d0f8300e6c0fd0eacce": {
          "model_module": "@jupyter-widgets/output",
          "model_name": "OutputModel",
          "model_module_version": "1.0.0",
          "state": {
            "_dom_classes": [],
            "_model_module": "@jupyter-widgets/output",
            "_model_module_version": "1.0.0",
            "_model_name": "OutputModel",
            "_view_count": null,
            "_view_module": "@jupyter-widgets/output",
            "_view_module_version": "1.0.0",
            "_view_name": "OutputView",
            "layout": "IPY_MODEL_6a602365105c4e048ce752ce16d82915",
            "msg_id": "",
            "outputs": [
              {
                "output_type": "display_data",
                "data": {
                  "text/plain": "<Figure size 640x480 with 1 Axes>",
                  "image/png": "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\n"
                },
                "metadata": {}
              }
            ]
          }
        },
        "f51e8c07e3bc4cd0ae6f1f43aaae56dd": {
          "model_module": "@jupyter-widgets/base",
          "model_name": "LayoutModel",
          "model_module_version": "1.2.0",
          "state": {
            "_model_module": "@jupyter-widgets/base",
            "_model_module_version": "1.2.0",
            "_model_name": "LayoutModel",
            "_view_count": null,
            "_view_module": "@jupyter-widgets/base",
            "_view_module_version": "1.2.0",
            "_view_name": "LayoutView",
            "align_content": null,
            "align_items": null,
            "align_self": null,
            "border": null,
            "bottom": null,
            "display": null,
            "flex": null,
            "flex_flow": null,
            "grid_area": null,
            "grid_auto_columns": null,
            "grid_auto_flow": null,
            "grid_auto_rows": null,
            "grid_column": null,
            "grid_gap": null,
            "grid_row": null,
            "grid_template_areas": null,
            "grid_template_columns": null,
            "grid_template_rows": null,
            "height": null,
            "justify_content": null,
            "justify_items": null,
            "left": null,
            "margin": null,
            "max_height": null,
            "max_width": null,
            "min_height": null,
            "min_width": null,
            "object_fit": null,
            "object_position": null,
            "order": null,
            "overflow": null,
            "overflow_x": null,
            "overflow_y": null,
            "padding": null,
            "right": null,
            "top": null,
            "visibility": null,
            "width": null
          }
        },
        "2aa8cdfc96e4497fb945049a0e9e7694": {
          "model_module": "@jupyter-widgets/base",
          "model_name": "LayoutModel",
          "model_module_version": "1.2.0",
          "state": {
            "_model_module": "@jupyter-widgets/base",
            "_model_module_version": "1.2.0",
            "_model_name": "LayoutModel",
            "_view_count": null,
            "_view_module": "@jupyter-widgets/base",
            "_view_module_version": "1.2.0",
            "_view_name": "LayoutView",
            "align_content": null,
            "align_items": null,
            "align_self": null,
            "border": null,
            "bottom": null,
            "display": null,
            "flex": null,
            "flex_flow": null,
            "grid_area": null,
            "grid_auto_columns": null,
            "grid_auto_flow": null,
            "grid_auto_rows": null,
            "grid_column": null,
            "grid_gap": null,
            "grid_row": null,
            "grid_template_areas": null,
            "grid_template_columns": null,
            "grid_template_rows": null,
            "height": null,
            "justify_content": null,
            "justify_items": null,
            "left": null,
            "margin": null,
            "max_height": null,
            "max_width": null,
            "min_height": null,
            "min_width": null,
            "object_fit": null,
            "object_position": null,
            "order": null,
            "overflow": null,
            "overflow_x": null,
            "overflow_y": null,
            "padding": null,
            "right": null,
            "top": null,
            "visibility": null,
            "width": null
          }
        },
        "1a3cd7c08ab74f99815599369b674740": {
          "model_module": "@jupyter-widgets/controls",
          "model_name": "SliderStyleModel",
          "model_module_version": "1.5.0",
          "state": {
            "_model_module": "@jupyter-widgets/controls",
            "_model_module_version": "1.5.0",
            "_model_name": "SliderStyleModel",
            "_view_count": null,
            "_view_module": "@jupyter-widgets/base",
            "_view_module_version": "1.2.0",
            "_view_name": "StyleView",
            "description_width": "",
            "handle_color": null
          }
        },
        "6a602365105c4e048ce752ce16d82915": {
          "model_module": "@jupyter-widgets/base",
          "model_name": "LayoutModel",
          "model_module_version": "1.2.0",
          "state": {
            "_model_module": "@jupyter-widgets/base",
            "_model_module_version": "1.2.0",
            "_model_name": "LayoutModel",
            "_view_count": null,
            "_view_module": "@jupyter-widgets/base",
            "_view_module_version": "1.2.0",
            "_view_name": "LayoutView",
            "align_content": null,
            "align_items": null,
            "align_self": null,
            "border": null,
            "bottom": null,
            "display": null,
            "flex": null,
            "flex_flow": null,
            "grid_area": null,
            "grid_auto_columns": null,
            "grid_auto_flow": null,
            "grid_auto_rows": null,
            "grid_column": null,
            "grid_gap": null,
            "grid_row": null,
            "grid_template_areas": null,
            "grid_template_columns": null,
            "grid_template_rows": null,
            "height": null,
            "justify_content": null,
            "justify_items": null,
            "left": null,
            "margin": null,
            "max_height": null,
            "max_width": null,
            "min_height": null,
            "min_width": null,
            "object_fit": null,
            "object_position": null,
            "order": null,
            "overflow": null,
            "overflow_x": null,
            "overflow_y": null,
            "padding": null,
            "right": null,
            "top": null,
            "visibility": null,
            "width": null
          }
        },
        "2fbba3e06d5b4b06bbbd54079730c8ab": {
          "model_module": "@jupyter-widgets/controls",
          "model_name": "VBoxModel",
          "model_module_version": "1.5.0",
          "state": {
            "_dom_classes": [
              "widget-interact"
            ],
            "_model_module": "@jupyter-widgets/controls",
            "_model_module_version": "1.5.0",
            "_model_name": "VBoxModel",
            "_view_count": null,
            "_view_module": "@jupyter-widgets/controls",
            "_view_module_version": "1.5.0",
            "_view_name": "VBoxView",
            "box_style": "",
            "children": [
              "IPY_MODEL_52cb3879881046b8a2cabadb8f7eb11a",
              "IPY_MODEL_250412f299ed4cdb8fa6a61a33788267"
            ],
            "layout": "IPY_MODEL_33e57d4810fe4a4fb3afe63b392471bf"
          }
        },
        "52cb3879881046b8a2cabadb8f7eb11a": {
          "model_module": "@jupyter-widgets/controls",
          "model_name": "FloatSliderModel",
          "model_module_version": "1.5.0",
          "state": {
            "_dom_classes": [],
            "_model_module": "@jupyter-widgets/controls",
            "_model_module_version": "1.5.0",
            "_model_name": "FloatSliderModel",
            "_view_count": null,
            "_view_module": "@jupyter-widgets/controls",
            "_view_module_version": "1.5.0",
            "_view_name": "FloatSliderView",
            "continuous_update": true,
            "description": "c_1",
            "description_tooltip": null,
            "disabled": false,
            "layout": "IPY_MODEL_d674298dcc324612a6dea32efb026877",
            "max": 5.477225575051661,
            "min": 0,
            "orientation": "horizontal",
            "readout": true,
            "readout_format": ".2f",
            "step": 0.1,
            "style": "IPY_MODEL_79ee5b247a8e4ea6b441da43c994d704",
            "value": 2.7386127875258306
          }
        },
        "250412f299ed4cdb8fa6a61a33788267": {
          "model_module": "@jupyter-widgets/output",
          "model_name": "OutputModel",
          "model_module_version": "1.0.0",
          "state": {
            "_dom_classes": [],
            "_model_module": "@jupyter-widgets/output",
            "_model_module_version": "1.0.0",
            "_model_name": "OutputModel",
            "_view_count": null,
            "_view_module": "@jupyter-widgets/output",
            "_view_module_version": "1.0.0",
            "_view_name": "OutputView",
            "layout": "IPY_MODEL_5528e5aebee0472cbc09c35d9cbb729f",
            "msg_id": "",
            "outputs": [
              {
                "output_type": "stream",
                "name": "stdout",
                "text": [
                  "c_2: 12.664\n",
                  "E: 5.08890 hbar**2/m\n",
                  "E_o: 4.93480 hbar**2/m\n"
                ]
              },
              {
                "output_type": "display_data",
                "data": {
                  "text/plain": "<Figure size 640x480 with 1 Axes>",
                  "image/png": "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\n"
                },
                "metadata": {}
              }
            ]
          }
        },
        "33e57d4810fe4a4fb3afe63b392471bf": {
          "model_module": "@jupyter-widgets/base",
          "model_name": "LayoutModel",
          "model_module_version": "1.2.0",
          "state": {
            "_model_module": "@jupyter-widgets/base",
            "_model_module_version": "1.2.0",
            "_model_name": "LayoutModel",
            "_view_count": null,
            "_view_module": "@jupyter-widgets/base",
            "_view_module_version": "1.2.0",
            "_view_name": "LayoutView",
            "align_content": null,
            "align_items": null,
            "align_self": null,
            "border": null,
            "bottom": null,
            "display": null,
            "flex": null,
            "flex_flow": null,
            "grid_area": null,
            "grid_auto_columns": null,
            "grid_auto_flow": null,
            "grid_auto_rows": null,
            "grid_column": null,
            "grid_gap": null,
            "grid_row": null,
            "grid_template_areas": null,
            "grid_template_columns": null,
            "grid_template_rows": null,
            "height": null,
            "justify_content": null,
            "justify_items": null,
            "left": null,
            "margin": null,
            "max_height": null,
            "max_width": null,
            "min_height": null,
            "min_width": null,
            "object_fit": null,
            "object_position": null,
            "order": null,
            "overflow": null,
            "overflow_x": null,
            "overflow_y": null,
            "padding": null,
            "right": null,
            "top": null,
            "visibility": null,
            "width": null
          }
        },
        "d674298dcc324612a6dea32efb026877": {
          "model_module": "@jupyter-widgets/base",
          "model_name": "LayoutModel",
          "model_module_version": "1.2.0",
          "state": {
            "_model_module": "@jupyter-widgets/base",
            "_model_module_version": "1.2.0",
            "_model_name": "LayoutModel",
            "_view_count": null,
            "_view_module": "@jupyter-widgets/base",
            "_view_module_version": "1.2.0",
            "_view_name": "LayoutView",
            "align_content": null,
            "align_items": null,
            "align_self": null,
            "border": null,
            "bottom": null,
            "display": null,
            "flex": null,
            "flex_flow": null,
            "grid_area": null,
            "grid_auto_columns": null,
            "grid_auto_flow": null,
            "grid_auto_rows": null,
            "grid_column": null,
            "grid_gap": null,
            "grid_row": null,
            "grid_template_areas": null,
            "grid_template_columns": null,
            "grid_template_rows": null,
            "height": null,
            "justify_content": null,
            "justify_items": null,
            "left": null,
            "margin": null,
            "max_height": null,
            "max_width": null,
            "min_height": null,
            "min_width": null,
            "object_fit": null,
            "object_position": null,
            "order": null,
            "overflow": null,
            "overflow_x": null,
            "overflow_y": null,
            "padding": null,
            "right": null,
            "top": null,
            "visibility": null,
            "width": null
          }
        },
        "79ee5b247a8e4ea6b441da43c994d704": {
          "model_module": "@jupyter-widgets/controls",
          "model_name": "SliderStyleModel",
          "model_module_version": "1.5.0",
          "state": {
            "_model_module": "@jupyter-widgets/controls",
            "_model_module_version": "1.5.0",
            "_model_name": "SliderStyleModel",
            "_view_count": null,
            "_view_module": "@jupyter-widgets/base",
            "_view_module_version": "1.2.0",
            "_view_name": "StyleView",
            "description_width": "",
            "handle_color": null
          }
        },
        "5528e5aebee0472cbc09c35d9cbb729f": {
          "model_module": "@jupyter-widgets/base",
          "model_name": "LayoutModel",
          "model_module_version": "1.2.0",
          "state": {
            "_model_module": "@jupyter-widgets/base",
            "_model_module_version": "1.2.0",
            "_model_name": "LayoutModel",
            "_view_count": null,
            "_view_module": "@jupyter-widgets/base",
            "_view_module_version": "1.2.0",
            "_view_name": "LayoutView",
            "align_content": null,
            "align_items": null,
            "align_self": null,
            "border": null,
            "bottom": null,
            "display": null,
            "flex": null,
            "flex_flow": null,
            "grid_area": null,
            "grid_auto_columns": null,
            "grid_auto_flow": null,
            "grid_auto_rows": null,
            "grid_column": null,
            "grid_gap": null,
            "grid_row": null,
            "grid_template_areas": null,
            "grid_template_columns": null,
            "grid_template_rows": null,
            "height": null,
            "justify_content": null,
            "justify_items": null,
            "left": null,
            "margin": null,
            "max_height": null,
            "max_width": null,
            "min_height": null,
            "min_width": null,
            "object_fit": null,
            "object_position": null,
            "order": null,
            "overflow": null,
            "overflow_x": null,
            "overflow_y": null,
            "padding": null,
            "right": null,
            "top": null,
            "visibility": null,
            "width": null
          }
        }
      }
    }
  },
  "nbformat": 4,
  "nbformat_minor": 0
}